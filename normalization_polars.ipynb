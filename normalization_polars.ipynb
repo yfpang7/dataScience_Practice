{
 "cells": [
  {
   "cell_type": "code",
   "id": "initial_id",
   "metadata": {
    "collapsed": true,
    "id": "initial_id",
    "executionInfo": {
     "status": "ok",
     "timestamp": 1747409127877,
     "user_tz": -60,
     "elapsed": 21797,
     "user": {
      "displayName": "Yoke Fei Pang",
      "userId": "01227211428198676453"
     }
    },
    "ExecuteTime": {
     "end_time": "2025-05-17T20:21:51.586480Z",
     "start_time": "2025-05-17T20:21:51.583939Z"
    }
   },
   "source": [
    "from locale import currency\n",
    "\n",
    "import torch\n",
    "import torch.nn as nn\n",
    "import torch.nn.functional as F\n",
    "from torch.utils.data import TensorDataset, DataLoader\n",
    "from sklearn.model_selection import train_test_split\n",
    "import polars as pl\n",
    "import polars.selectors as cs\n",
    "import numpy as np\n",
    "import plotly.express as px"
   ],
   "outputs": [],
   "execution_count": 178
  },
  {
   "metadata": {
    "id": "aec2d9b799c20885",
    "executionInfo": {
     "status": "ok",
     "timestamp": 1747409129143,
     "user_tz": -60,
     "elapsed": 1244,
     "user": {
      "displayName": "Yoke Fei Pang",
      "userId": "01227211428198676453"
     }
    },
    "ExecuteTime": {
     "end_time": "2025-05-17T20:21:51.685273Z",
     "start_time": "2025-05-17T20:21:51.602408Z"
    }
   },
   "cell_type": "code",
   "source": [
    "# read in the data MNIST data\n",
    "raw_df = pl.read_csv('mnist_train_small.csv')\n",
    "\n",
    "\n",
    "# if using colab\n",
    "# raw_df = pl.read_csv('/content/sample_data/mnist_train_small.csv')\n",
    "\n"
   ],
   "id": "aec2d9b799c20885",
   "outputs": [],
   "execution_count": 179
  },
  {
   "metadata": {
    "colab": {
     "base_uri": "https://localhost:8080/",
     "height": 275
    },
    "id": "d67e162178eb7630",
    "executionInfo": {
     "status": "ok",
     "timestamp": 1747409129201,
     "user_tz": -60,
     "elapsed": 72,
     "user": {
      "displayName": "Yoke Fei Pang",
      "userId": "01227211428198676453"
     }
    },
    "outputId": "fe940fa6-5ffb-4fd2-9276-ad8f816b921a",
    "ExecuteTime": {
     "end_time": "2025-05-17T20:21:51.698469Z",
     "start_time": "2025-05-17T20:21:51.694871Z"
    }
   },
   "cell_type": "code",
   "source": [
    "raw_df.head()"
   ],
   "id": "d67e162178eb7630",
   "outputs": [
    {
     "data": {
      "text/plain": [
       "shape: (5, 785)\n",
       "┌─────┬─────┬─────────────┬─────────────┬───┬─────────────┬─────────────┬─────────────┬────────────┐\n",
       "│ 6   ┆ 0   ┆ 0_duplicate ┆ 0_duplicate ┆ … ┆ 0_duplicate ┆ 0_duplicate ┆ 0_duplicate ┆ 0_duplicat │\n",
       "│ --- ┆ --- ┆ d_0         ┆ d_1         ┆   ┆ d_586       ┆ d_587       ┆ d_588       ┆ ed_589     │\n",
       "│ i64 ┆ i64 ┆ ---         ┆ ---         ┆   ┆ ---         ┆ ---         ┆ ---         ┆ ---        │\n",
       "│     ┆     ┆ i64         ┆ i64         ┆   ┆ i64         ┆ i64         ┆ i64         ┆ i64        │\n",
       "╞═════╪═════╪═════════════╪═════════════╪═══╪═════════════╪═════════════╪═════════════╪════════════╡\n",
       "│ 5   ┆ 0   ┆ 0           ┆ 0           ┆ … ┆ 0           ┆ 0           ┆ 0           ┆ 0          │\n",
       "│ 7   ┆ 0   ┆ 0           ┆ 0           ┆ … ┆ 0           ┆ 0           ┆ 0           ┆ 0          │\n",
       "│ 9   ┆ 0   ┆ 0           ┆ 0           ┆ … ┆ 0           ┆ 0           ┆ 0           ┆ 0          │\n",
       "│ 5   ┆ 0   ┆ 0           ┆ 0           ┆ … ┆ 0           ┆ 0           ┆ 0           ┆ 0          │\n",
       "│ 2   ┆ 0   ┆ 0           ┆ 0           ┆ … ┆ 0           ┆ 0           ┆ 0           ┆ 0          │\n",
       "└─────┴─────┴─────────────┴─────────────┴───┴─────────────┴─────────────┴─────────────┴────────────┘"
      ],
      "text/html": [
       "<div><style>\n",
       ".dataframe > thead > tr,\n",
       ".dataframe > tbody > tr {\n",
       "  text-align: right;\n",
       "  white-space: pre-wrap;\n",
       "}\n",
       "</style>\n",
       "<small>shape: (5, 785)</small><table border=\"1\" class=\"dataframe\"><thead><tr><th>6</th><th>0</th><th>0_duplicated_0</th><th>0_duplicated_1</th><th>0_duplicated_2</th><th>0_duplicated_3</th><th>0_duplicated_4</th><th>0_duplicated_5</th><th>0_duplicated_6</th><th>0_duplicated_7</th><th>0_duplicated_8</th><th>0_duplicated_9</th><th>0_duplicated_10</th><th>0_duplicated_11</th><th>0_duplicated_12</th><th>0_duplicated_13</th><th>0_duplicated_14</th><th>0_duplicated_15</th><th>0_duplicated_16</th><th>0_duplicated_17</th><th>0_duplicated_18</th><th>0_duplicated_19</th><th>0_duplicated_20</th><th>0_duplicated_21</th><th>0_duplicated_22</th><th>0_duplicated_23</th><th>0_duplicated_24</th><th>0_duplicated_25</th><th>0_duplicated_26</th><th>0_duplicated_27</th><th>0_duplicated_28</th><th>0_duplicated_29</th><th>0_duplicated_30</th><th>0_duplicated_31</th><th>0_duplicated_32</th><th>0_duplicated_33</th><th>0_duplicated_34</th><th>&hellip;</th><th>0_duplicated_553</th><th>0_duplicated_554</th><th>0_duplicated_555</th><th>0_duplicated_556</th><th>0_duplicated_557</th><th>0_duplicated_558</th><th>0_duplicated_559</th><th>0_duplicated_560</th><th>0_duplicated_561</th><th>0_duplicated_562</th><th>0_duplicated_563</th><th>0_duplicated_564</th><th>0_duplicated_565</th><th>0_duplicated_566</th><th>0_duplicated_567</th><th>0_duplicated_568</th><th>0_duplicated_569</th><th>0_duplicated_570</th><th>0_duplicated_571</th><th>0_duplicated_572</th><th>0_duplicated_573</th><th>0_duplicated_574</th><th>0_duplicated_575</th><th>0_duplicated_576</th><th>0_duplicated_577</th><th>0_duplicated_578</th><th>0_duplicated_579</th><th>0_duplicated_580</th><th>0_duplicated_581</th><th>0_duplicated_582</th><th>0_duplicated_583</th><th>0_duplicated_584</th><th>0_duplicated_585</th><th>0_duplicated_586</th><th>0_duplicated_587</th><th>0_duplicated_588</th><th>0_duplicated_589</th></tr><tr><td>i64</td><td>i64</td><td>i64</td><td>i64</td><td>i64</td><td>i64</td><td>i64</td><td>i64</td><td>i64</td><td>i64</td><td>i64</td><td>i64</td><td>i64</td><td>i64</td><td>i64</td><td>i64</td><td>i64</td><td>i64</td><td>i64</td><td>i64</td><td>i64</td><td>i64</td><td>i64</td><td>i64</td><td>i64</td><td>i64</td><td>i64</td><td>i64</td><td>i64</td><td>i64</td><td>i64</td><td>i64</td><td>i64</td><td>i64</td><td>i64</td><td>i64</td><td>i64</td><td>&hellip;</td><td>i64</td><td>i64</td><td>i64</td><td>i64</td><td>i64</td><td>i64</td><td>i64</td><td>i64</td><td>i64</td><td>i64</td><td>i64</td><td>i64</td><td>i64</td><td>i64</td><td>i64</td><td>i64</td><td>i64</td><td>i64</td><td>i64</td><td>i64</td><td>i64</td><td>i64</td><td>i64</td><td>i64</td><td>i64</td><td>i64</td><td>i64</td><td>i64</td><td>i64</td><td>i64</td><td>i64</td><td>i64</td><td>i64</td><td>i64</td><td>i64</td><td>i64</td><td>i64</td></tr></thead><tbody><tr><td>5</td><td>0</td><td>0</td><td>0</td><td>0</td><td>0</td><td>0</td><td>0</td><td>0</td><td>0</td><td>0</td><td>0</td><td>0</td><td>0</td><td>0</td><td>0</td><td>0</td><td>0</td><td>0</td><td>0</td><td>0</td><td>0</td><td>0</td><td>0</td><td>0</td><td>0</td><td>0</td><td>0</td><td>0</td><td>0</td><td>0</td><td>0</td><td>0</td><td>0</td><td>0</td><td>0</td><td>0</td><td>&hellip;</td><td>0</td><td>0</td><td>0</td><td>0</td><td>0</td><td>0</td><td>0</td><td>0</td><td>0</td><td>0</td><td>0</td><td>0</td><td>0</td><td>0</td><td>0</td><td>0</td><td>0</td><td>0</td><td>0</td><td>0</td><td>0</td><td>0</td><td>0</td><td>0</td><td>0</td><td>0</td><td>0</td><td>0</td><td>0</td><td>0</td><td>0</td><td>0</td><td>0</td><td>0</td><td>0</td><td>0</td><td>0</td></tr><tr><td>7</td><td>0</td><td>0</td><td>0</td><td>0</td><td>0</td><td>0</td><td>0</td><td>0</td><td>0</td><td>0</td><td>0</td><td>0</td><td>0</td><td>0</td><td>0</td><td>0</td><td>0</td><td>0</td><td>0</td><td>0</td><td>0</td><td>0</td><td>0</td><td>0</td><td>0</td><td>0</td><td>0</td><td>0</td><td>0</td><td>0</td><td>0</td><td>0</td><td>0</td><td>0</td><td>0</td><td>0</td><td>&hellip;</td><td>0</td><td>0</td><td>0</td><td>0</td><td>0</td><td>0</td><td>0</td><td>0</td><td>0</td><td>0</td><td>0</td><td>0</td><td>0</td><td>0</td><td>0</td><td>0</td><td>0</td><td>0</td><td>0</td><td>0</td><td>0</td><td>0</td><td>0</td><td>0</td><td>0</td><td>0</td><td>0</td><td>0</td><td>0</td><td>0</td><td>0</td><td>0</td><td>0</td><td>0</td><td>0</td><td>0</td><td>0</td></tr><tr><td>9</td><td>0</td><td>0</td><td>0</td><td>0</td><td>0</td><td>0</td><td>0</td><td>0</td><td>0</td><td>0</td><td>0</td><td>0</td><td>0</td><td>0</td><td>0</td><td>0</td><td>0</td><td>0</td><td>0</td><td>0</td><td>0</td><td>0</td><td>0</td><td>0</td><td>0</td><td>0</td><td>0</td><td>0</td><td>0</td><td>0</td><td>0</td><td>0</td><td>0</td><td>0</td><td>0</td><td>0</td><td>&hellip;</td><td>0</td><td>0</td><td>0</td><td>0</td><td>0</td><td>0</td><td>0</td><td>0</td><td>0</td><td>0</td><td>0</td><td>0</td><td>0</td><td>0</td><td>0</td><td>0</td><td>0</td><td>0</td><td>0</td><td>0</td><td>0</td><td>0</td><td>0</td><td>0</td><td>0</td><td>0</td><td>0</td><td>0</td><td>0</td><td>0</td><td>0</td><td>0</td><td>0</td><td>0</td><td>0</td><td>0</td><td>0</td></tr><tr><td>5</td><td>0</td><td>0</td><td>0</td><td>0</td><td>0</td><td>0</td><td>0</td><td>0</td><td>0</td><td>0</td><td>0</td><td>0</td><td>0</td><td>0</td><td>0</td><td>0</td><td>0</td><td>0</td><td>0</td><td>0</td><td>0</td><td>0</td><td>0</td><td>0</td><td>0</td><td>0</td><td>0</td><td>0</td><td>0</td><td>0</td><td>0</td><td>0</td><td>0</td><td>0</td><td>0</td><td>0</td><td>&hellip;</td><td>0</td><td>0</td><td>0</td><td>0</td><td>0</td><td>0</td><td>0</td><td>0</td><td>0</td><td>0</td><td>0</td><td>0</td><td>0</td><td>0</td><td>0</td><td>0</td><td>0</td><td>0</td><td>0</td><td>0</td><td>0</td><td>0</td><td>0</td><td>0</td><td>0</td><td>0</td><td>0</td><td>0</td><td>0</td><td>0</td><td>0</td><td>0</td><td>0</td><td>0</td><td>0</td><td>0</td><td>0</td></tr><tr><td>2</td><td>0</td><td>0</td><td>0</td><td>0</td><td>0</td><td>0</td><td>0</td><td>0</td><td>0</td><td>0</td><td>0</td><td>0</td><td>0</td><td>0</td><td>0</td><td>0</td><td>0</td><td>0</td><td>0</td><td>0</td><td>0</td><td>0</td><td>0</td><td>0</td><td>0</td><td>0</td><td>0</td><td>0</td><td>0</td><td>0</td><td>0</td><td>0</td><td>0</td><td>0</td><td>0</td><td>0</td><td>&hellip;</td><td>0</td><td>0</td><td>0</td><td>0</td><td>0</td><td>0</td><td>0</td><td>0</td><td>0</td><td>0</td><td>0</td><td>0</td><td>0</td><td>0</td><td>0</td><td>0</td><td>0</td><td>0</td><td>0</td><td>0</td><td>0</td><td>0</td><td>0</td><td>0</td><td>0</td><td>0</td><td>0</td><td>0</td><td>0</td><td>0</td><td>0</td><td>0</td><td>0</td><td>0</td><td>0</td><td>0</td><td>0</td></tr></tbody></table></div>"
      ]
     },
     "execution_count": 180,
     "metadata": {},
     "output_type": "execute_result"
    }
   ],
   "execution_count": 180
  },
  {
   "cell_type": "code",
   "source": [
    "# select the data\n",
    "labels = raw_df[:, 0]\n",
    "data = raw_df[:, 1:]"
   ],
   "metadata": {
    "id": "dxA2XvoMCSUE",
    "executionInfo": {
     "status": "ok",
     "timestamp": 1747409129250,
     "user_tz": -60,
     "elapsed": 46,
     "user": {
      "displayName": "Yoke Fei Pang",
      "userId": "01227211428198676453"
     }
    },
    "ExecuteTime": {
     "end_time": "2025-05-17T20:21:51.744836Z",
     "start_time": "2025-05-17T20:21:51.731150Z"
    }
   },
   "id": "dxA2XvoMCSUE",
   "outputs": [],
   "execution_count": 181
  },
  {
   "cell_type": "code",
   "source": [
    "# conver to tensor data\n",
    "dataT = torch.tensor(data.to_numpy()).float()\n",
    "labelsT = torch.tensor(labels.to_numpy()).long()"
   ],
   "metadata": {
    "id": "okb0OtqtFr-X",
    "executionInfo": {
     "status": "ok",
     "timestamp": 1747409129650,
     "user_tz": -60,
     "elapsed": 441,
     "user": {
      "displayName": "Yoke Fei Pang",
      "userId": "01227211428198676453"
     }
    },
    "ExecuteTime": {
     "end_time": "2025-05-17T20:21:51.857104Z",
     "start_time": "2025-05-17T20:21:51.788057Z"
    }
   },
   "id": "okb0OtqtFr-X",
   "outputs": [],
   "execution_count": 182
  },
  {
   "cell_type": "code",
   "source": [
    "# split the data for training\n",
    "X_train, X_test, y_train, y_test = train_test_split(dataT, labelsT, test_size=0.3, random_state=42)"
   ],
   "metadata": {
    "id": "CaHjctB_GDy6",
    "executionInfo": {
     "status": "ok",
     "timestamp": 1747409129969,
     "user_tz": -60,
     "elapsed": 324,
     "user": {
      "displayName": "Yoke Fei Pang",
      "userId": "01227211428198676453"
     }
    },
    "ExecuteTime": {
     "end_time": "2025-05-17T20:21:52.165790Z",
     "start_time": "2025-05-17T20:21:52.134914Z"
    }
   },
   "id": "CaHjctB_GDy6",
   "outputs": [],
   "execution_count": 183
  },
  {
   "cell_type": "code",
   "source": [],
   "metadata": {
    "id": "eAgwv1B4GD1R",
    "executionInfo": {
     "status": "ok",
     "timestamp": 1747409129974,
     "user_tz": -60,
     "elapsed": 6,
     "user": {
      "displayName": "Yoke Fei Pang",
      "userId": "01227211428198676453"
     }
    },
    "ExecuteTime": {
     "end_time": "2025-05-17T20:21:52.188809Z",
     "start_time": "2025-05-17T20:21:52.187660Z"
    }
   },
   "id": "eAgwv1B4GD1R",
   "outputs": [],
   "execution_count": null
  },
  {
   "cell_type": "code",
   "source": [
    "# transform the data using FunctionTransformer\n",
    "from sklearn.preprocessing import FunctionTransformer\n",
    "\n",
    "# case 1 train 0, 1 with test 0, 255\n",
    "X_train_norm_case1 = FunctionTransformer(lambda x: x / torch.max(X_train), validate=True)\n",
    "X_test_norm_case1 = FunctionTransformer(lambda x: (x / torch.max(X_test)) * 255, validate=True)\n",
    "\n",
    "\n",
    "# fit and transform the norm\n",
    "X_train_transformed_01= X_train_norm_case1.fit_transform(X_train)\n",
    "X_test_transformed_01 = X_test_norm_case1.fit_transform(X_test)\n",
    "\n",
    "# create dataset\n",
    "train_dataset_case1 =TensorDataset(X_train_transformed_01, y_train)\n",
    "test_dataset_case1 = TensorDataset(X_test_transformed_01, y_test)\n",
    "\n",
    "# create dataloader\n",
    "batchSize = 32\n",
    "train_loader_case1 = DataLoader(train_dataset_case1, batch_size=batchSize, shuffle=True, drop_last=True)\n",
    "test_loader_case1 = DataLoader(test_dataset_case1, batch_size=test_dataset_case1.tensors[0].shape[0])"
   ],
   "metadata": {
    "id": "5GvZ02QkClJb",
    "executionInfo": {
     "status": "ok",
     "timestamp": 1747409440275,
     "user_tz": -60,
     "elapsed": 61,
     "user": {
      "displayName": "Yoke Fei Pang",
      "userId": "01227211428198676453"
     }
    },
    "ExecuteTime": {
     "end_time": "2025-05-17T20:21:52.233389Z",
     "start_time": "2025-05-17T20:21:52.215688Z"
    }
   },
   "id": "5GvZ02QkClJb",
   "outputs": [],
   "execution_count": 184
  },
  {
   "cell_type": "code",
   "source": [
    "# test the normalization\n",
    "# max should be 1\n",
    "print(torch.tensor(X_train_transformed_01).float().max())\n",
    "\n",
    "# max should be 255 for the test\n",
    "print(torch.tensor(X_test_transformed_01).float().max())"
   ],
   "metadata": {
    "colab": {
     "base_uri": "https://localhost:8080/"
    },
    "id": "4FmtGXDaClL2",
    "executionInfo": {
     "status": "ok",
     "timestamp": 1747409130228,
     "user_tz": -60,
     "elapsed": 124,
     "user": {
      "displayName": "Yoke Fei Pang",
      "userId": "01227211428198676453"
     }
    },
    "outputId": "0920b31a-c4c1-4639-db27-f47e20f7440c",
    "ExecuteTime": {
     "end_time": "2025-05-17T20:21:52.254472Z",
     "start_time": "2025-05-17T20:21:52.244956Z"
    }
   },
   "id": "4FmtGXDaClL2",
   "outputs": [
    {
     "name": "stdout",
     "output_type": "stream",
     "text": [
      "tensor(1.)\n",
      "tensor(255.)\n"
     ]
    },
    {
     "name": "stderr",
     "output_type": "stream",
     "text": [
      "/var/folders/f8/vcqysvdd39j1b3z4bt0ttjt40000gn/T/ipykernel_24968/3595036055.py:3: UserWarning: To copy construct from a tensor, it is recommended to use sourceTensor.clone().detach() or sourceTensor.clone().detach().requires_grad_(True), rather than torch.tensor(sourceTensor).\n",
      "  print(torch.tensor(X_train_transformed_01).float().max())\n",
      "/var/folders/f8/vcqysvdd39j1b3z4bt0ttjt40000gn/T/ipykernel_24968/3595036055.py:6: UserWarning: To copy construct from a tensor, it is recommended to use sourceTensor.clone().detach() or sourceTensor.clone().detach().requires_grad_(True), rather than torch.tensor(sourceTensor).\n",
      "  print(torch.tensor(X_test_transformed_01).float().max())\n"
     ]
    }
   ],
   "execution_count": 185
  },
  {
   "cell_type": "code",
   "source": [
    "# case 2: Train 0, 255; Test 0, 1\n",
    "X_train_norm_case2 = FunctionTransformer(lambda x: (x / torch.max(X_train)) * 255, validate=True)\n",
    "X_test_norm_case2 = FunctionTransformer(lambda x: (x / torch.max(X_test)), validate=True)\n",
    "\n",
    "# fit and tranform the data\n",
    "X_train_transformed_02 = X_train_norm_case2.fit_transform(X_train)\n",
    "X_test_transformed_02 = X_test_norm_case2.fit_transform(X_test)\n",
    "\n",
    "# crate dataset\n",
    "train_dataset_case2 = TensorDataset(X_train_transformed_02, y_train)\n",
    "test_dataset_case2 = TensorDataset(X_test_transformed_02, y_test)\n",
    "\n",
    "# create dataloader\n",
    "batchSize = 32\n",
    "train_loader_case2 = DataLoader(train_dataset_case2, batch_size=batchSize, shuffle=True, drop_last=True)\n",
    "test_loader_case2 = DataLoader(test_dataset_case2, batch_size=test_dataset_case2.tensors[0].shape[0])"
   ],
   "metadata": {
    "id": "gPSaOt_9ClOO",
    "executionInfo": {
     "status": "ok",
     "timestamp": 1747409130373,
     "user_tz": -60,
     "elapsed": 141,
     "user": {
      "displayName": "Yoke Fei Pang",
      "userId": "01227211428198676453"
     }
    },
    "ExecuteTime": {
     "end_time": "2025-05-17T20:21:52.288846Z",
     "start_time": "2025-05-17T20:21:52.266172Z"
    }
   },
   "id": "gPSaOt_9ClOO",
   "outputs": [],
   "execution_count": 186
  },
  {
   "metadata": {
    "ExecuteTime": {
     "end_time": "2025-05-17T20:21:52.330402Z",
     "start_time": "2025-05-17T20:21:52.311570Z"
    }
   },
   "cell_type": "code",
   "source": [
    "# case 3: Train 0, 1; Test 0, 1\n",
    "X_train_norm_case3 = FunctionTransformer(lambda x: (x / torch.max(X_train)), validate=True)\n",
    "X_test_norm_case3 = FunctionTransformer(lambda x: (x / torch.max(X_test)), validate=True)\n",
    "\n",
    "# fit and tranform the data\n",
    "X_train_transformed_03 = X_train_norm_case3.fit_transform(X_train)\n",
    "X_test_transformed_03 = X_test_norm_case3.fit_transform(X_test)\n",
    "\n",
    "# crate dataset\n",
    "train_dataset_case3 = TensorDataset(X_train_transformed_03, y_train)\n",
    "test_dataset_case3 = TensorDataset(X_test_transformed_03, y_test)\n",
    "\n",
    "# create dataloader\n",
    "batchSize = 32\n",
    "train_loader_case3 = DataLoader(train_dataset_case3, batch_size=batchSize, shuffle=True, drop_last=True)\n",
    "test_loader_case3 = DataLoader(test_dataset_case3, batch_size=test_dataset_case3.tensors[0].shape[0])"
   ],
   "id": "a3e0663355f45618",
   "outputs": [],
   "execution_count": 187
  },
  {
   "cell_type": "code",
   "source": [
    "# test the normalization\n",
    "# max should be 1\n",
    "print(torch.tensor(X_train_transformed_02).float().max())\n",
    "\n",
    "# max should be 255 for the test\n",
    "print(torch.tensor(X_test_transformed_02).float().max())"
   ],
   "metadata": {
    "colab": {
     "base_uri": "https://localhost:8080/"
    },
    "id": "ItDkYsGRQwBu",
    "executionInfo": {
     "status": "ok",
     "timestamp": 1747409130430,
     "user_tz": -60,
     "elapsed": 62,
     "user": {
      "displayName": "Yoke Fei Pang",
      "userId": "01227211428198676453"
     }
    },
    "outputId": "9d3d8609-4beb-4f27-a6c2-11ec068f041b",
    "ExecuteTime": {
     "end_time": "2025-05-17T20:21:52.353066Z",
     "start_time": "2025-05-17T20:21:52.342056Z"
    }
   },
   "id": "ItDkYsGRQwBu",
   "outputs": [
    {
     "name": "stdout",
     "output_type": "stream",
     "text": [
      "tensor(255.)\n",
      "tensor(1.)\n"
     ]
    },
    {
     "name": "stderr",
     "output_type": "stream",
     "text": [
      "/var/folders/f8/vcqysvdd39j1b3z4bt0ttjt40000gn/T/ipykernel_24968/2740165416.py:3: UserWarning: To copy construct from a tensor, it is recommended to use sourceTensor.clone().detach() or sourceTensor.clone().detach().requires_grad_(True), rather than torch.tensor(sourceTensor).\n",
      "  print(torch.tensor(X_train_transformed_02).float().max())\n",
      "/var/folders/f8/vcqysvdd39j1b3z4bt0ttjt40000gn/T/ipykernel_24968/2740165416.py:6: UserWarning: To copy construct from a tensor, it is recommended to use sourceTensor.clone().detach() or sourceTensor.clone().detach().requires_grad_(True), rather than torch.tensor(sourceTensor).\n",
      "  print(torch.tensor(X_test_transformed_02).float().max())\n"
     ]
    }
   ],
   "execution_count": 188
  },
  {
   "metadata": {
    "id": "b31f3987f476beb6",
    "executionInfo": {
     "status": "ok",
     "timestamp": 1747409130435,
     "user_tz": -60,
     "elapsed": 3,
     "user": {
      "displayName": "Yoke Fei Pang",
      "userId": "01227211428198676453"
     }
    },
    "ExecuteTime": {
     "end_time": "2025-05-17T20:21:52.369133Z",
     "start_time": "2025-05-17T20:21:52.367254Z"
    }
   },
   "cell_type": "code",
   "source": [
    "# define a class\n",
    "class ANN(nn.Module):\n",
    "    def __init__(self):\n",
    "        super().__init__()\n",
    "\n",
    "        self.input = nn.Linear(784, 64)\n",
    "        self.hidden1 = nn.Linear(64, 64)\n",
    "        self.hidden2 = nn.Linear(64, 32)\n",
    "        self.output = nn.Linear(32, 10)\n",
    "\n",
    "    def forward(self, x):\n",
    "        x = F.relu( self.input(x) )\n",
    "        x = F.relu( self.hidden1(x) )\n",
    "        x = F.relu( self.hidden2(x) )\n",
    "\n",
    "        return torch.log_softmax(self.output(x), axis=1)\n"
   ],
   "id": "b31f3987f476beb6",
   "outputs": [],
   "execution_count": 189
  },
  {
   "metadata": {
    "id": "cbf68176c3dc9a57",
    "executionInfo": {
     "status": "ok",
     "timestamp": 1747409130474,
     "user_tz": -60,
     "elapsed": 5,
     "user": {
      "displayName": "Yoke Fei Pang",
      "userId": "01227211428198676453"
     }
    },
    "ExecuteTime": {
     "end_time": "2025-05-17T20:21:52.386505Z",
     "start_time": "2025-05-17T20:21:52.384385Z"
    }
   },
   "cell_type": "code",
   "source": [
    "# create model componenets\n",
    "def createANNnet(learningRate=0.01, epochStep=10, gamma=1/2):\n",
    "    model = ANN()\n",
    "    lossfunc = nn.NLLLoss()\n",
    "    optimizer = torch.optim.Adam(model.parameters(), lr=learningRate)\n",
    "\n",
    "    step_size = len(train_loader) * epochStep\n",
    "    schedular = torch.optim.lr_scheduler.StepLR(optimizer, step_size=step_size, gamma=gamma)\n",
    "\n",
    "    return model, lossfunc, optimizer, schedular"
   ],
   "id": "cbf68176c3dc9a57",
   "outputs": [],
   "execution_count": 190
  },
  {
   "metadata": {
    "id": "1647b8f7f8038375",
    "executionInfo": {
     "status": "ok",
     "timestamp": 1747409130518,
     "user_tz": -60,
     "elapsed": 40,
     "user": {
      "displayName": "Yoke Fei Pang",
      "userId": "01227211428198676453"
     }
    },
    "ExecuteTime": {
     "end_time": "2025-05-17T20:21:52.405586Z",
     "start_time": "2025-05-17T20:21:52.401619Z"
    }
   },
   "cell_type": "code",
   "source": [
    "# train the model\n",
    "def trainModel(train_loader, test_loader, numepochs=100, toggleDynamic=True):\n",
    "    # define an empty list\n",
    "    training_progress = pl.DataFrame(\n",
    "        schema=[\n",
    "            ('iteration', pl.Int64),\n",
    "            ('epoch', pl.Int64),\n",
    "            ('train_loss', pl.Float64),\n",
    "            ('train_acc', pl.Float64),\n",
    "            ('test_loss', pl.Float64),\n",
    "            ('test_acc', pl.Float64),\n",
    "            ('learning_rate', pl.Float64)\n",
    "        ]\n",
    "    )\n",
    "    iteration = 0\n",
    "\n",
    "    # create the ann Model\n",
    "    model, lossfunc, optimizer, schedular = createANNnet(learningRate=0.01, epochStep=10, gamma=1/2)\n",
    "\n",
    "    # get test data once (since we are using a test_loader that loads all data at once)\n",
    "    X_testTL, y_testTL = next(iter(test_loader))\n",
    "\n",
    "    # training looop\n",
    "    for epoch in range(numepochs):\n",
    "        model.train()\n",
    "\n",
    "        epoch_train_loss = 0\n",
    "        epoch_train_acc = 0\n",
    "        num_batches = 0\n",
    "\n",
    "        # iterate through the training batches\n",
    "        for X_trainTL, y_trainTL in train_loader:\n",
    "            yhat_train = model(X_trainTL)\n",
    "            train_loss = lossfunc(yhat_train, y_trainTL)\n",
    "\n",
    "            optimizer.zero_grad()\n",
    "            train_loss.backward()\n",
    "            optimizer.step()\n",
    "\n",
    "            if toggleDynamic:\n",
    "                schedular.step()\n",
    "                current_lrs = schedular.get_last_lr()[0]\n",
    "            else:\n",
    "                current_lrs = optimizer.param_groups[0]['lr']\n",
    "\n",
    "            # get accuracy\n",
    "            train_matches = (torch.argmax(yhat_train, axis=1) == y_trainTL).float()\n",
    "            train_acc = 100 * torch.mean(train_matches)\n",
    "\n",
    "            # number of batches - a counter for how many batches were processed in this epoch\n",
    "            # epoch_train_loss = this is a running of the total of the trainin gloss for all the batches in the current epoch\n",
    "            # epoch_train_loss / num_batches  computes the average t raining loss per batch during the epoch\n",
    "            epoch_train_loss += train_loss.item()\n",
    "            epoch_train_acc += train_acc.item()\n",
    "\n",
    "            num_batches += 1\n",
    "\n",
    "        # end of epoch: evaluate test Once\n",
    "        model.eval()\n",
    "        with torch.no_grad():\n",
    "            yhat_test = model(X_testTL)\n",
    "            test_loss = lossfunc(yhat_test, y_testTL)\n",
    "            test_matches = (torch.argmax(yhat_test, axis=1) ==y_testTL).float()\n",
    "            test_acc = 100 * torch.mean(test_matches)\n",
    "\n",
    "        # log single row per epoch\n",
    "        new_row = pl.DataFrame([{\n",
    "            'iteration':iteration,\n",
    "            'epoch':epoch,\n",
    "            'train_loss': epoch_train_loss / num_batches,\n",
    "            'train_acc' : epoch_train_acc / num_batches,\n",
    "            'test_loss' : test_loss.item(),\n",
    "            'test_acc' : test_acc.item(),\n",
    "            'learning_rate' : current_lrs\n",
    "        }])\n",
    "\n",
    "        # add row to the dataframe\n",
    "        training_progress = pl.concat([training_progress, new_row])\n",
    "        iteration += 1\n",
    "\n",
    "        # this matches withe the epoch step\n",
    "        if epoch % 10 == 0 or epoch == numepochs -1 :\n",
    "            print(\n",
    "                f\"Epoch {epoch+1}/{numepochs} - \"\n",
    "                f\"Training: Loss={epoch_train_loss / num_batches:.4f}, \"\n",
    "                f\"Accuracy={epoch_train_acc / num_batches:.2f}% | \"\n",
    "                f\"Testing: Loss={test_loss.item():.4f}, \"\n",
    "                f\"Accuracy={test_acc.item():.2f}% | \"\n",
    "                f\"Learning Rate: {current_lrs:.6f}\"\n",
    "            )\n",
    "    return training_progress, model"
   ],
   "id": "1647b8f7f8038375",
   "outputs": [],
   "execution_count": 191
  },
  {
   "cell_type": "code",
   "source": [
    "# train the model for test case 1\n",
    "# case 1 train 0, 1 with test 0, 255\n",
    "training_progress_case1, model_case1 = trainModel(train_loader_case1, test_loader_case1, numepochs=60, toggleDynamic=True)"
   ],
   "metadata": {
    "id": "FvmvWZHjCQB1",
    "executionInfo": {
     "status": "ok",
     "timestamp": 1747409130520,
     "user_tz": -60,
     "elapsed": 17,
     "user": {
      "displayName": "Yoke Fei Pang",
      "userId": "01227211428198676453"
     }
    },
    "ExecuteTime": {
     "end_time": "2025-05-17T20:22:01.405262Z",
     "start_time": "2025-05-17T20:21:52.419923Z"
    }
   },
   "id": "FvmvWZHjCQB1",
   "outputs": [
    {
     "name": "stdout",
     "output_type": "stream",
     "text": [
      "Epoch 1/60 - Training: Loss=0.4688, Accuracy=85.23% | Testing: Loss=61.9680, Accuracy=90.32% | Learning Rate: 0.010000\n",
      "Epoch 11/60 - Training: Loss=0.0490, Accuracy=98.62% | Testing: Loss=58.0784, Accuracy=94.52% | Learning Rate: 0.005000\n",
      "Epoch 21/60 - Training: Loss=0.0114, Accuracy=99.69% | Testing: Loss=73.3864, Accuracy=95.52% | Learning Rate: 0.002500\n",
      "Epoch 31/60 - Training: Loss=0.0018, Accuracy=99.94% | Testing: Loss=103.5430, Accuracy=95.88% | Learning Rate: 0.001250\n",
      "Epoch 41/60 - Training: Loss=0.0003, Accuracy=99.99% | Testing: Loss=123.2712, Accuracy=95.78% | Learning Rate: 0.000625\n",
      "Epoch 51/60 - Training: Loss=0.0001, Accuracy=100.00% | Testing: Loss=144.8969, Accuracy=95.87% | Learning Rate: 0.000313\n",
      "Epoch 60/60 - Training: Loss=0.0000, Accuracy=100.00% | Testing: Loss=160.8086, Accuracy=95.88% | Learning Rate: 0.000156\n"
     ]
    }
   ],
   "execution_count": 192
  },
  {
   "cell_type": "code",
   "source": [
    "# train the model for test case 2\n",
    "# case 2: Train 0, 255; Test 0, 1\n",
    "training_progress_case2, model_case2 = trainModel(train_loader_case2, test_loader_case2, numepochs=60, toggleDynamic=True)"
   ],
   "metadata": {
    "id": "H1zemoo3CQEO",
    "executionInfo": {
     "status": "ok",
     "timestamp": 1747409130522,
     "user_tz": -60,
     "elapsed": 13,
     "user": {
      "displayName": "Yoke Fei Pang",
      "userId": "01227211428198676453"
     }
    },
    "ExecuteTime": {
     "end_time": "2025-05-17T20:22:10.895578Z",
     "start_time": "2025-05-17T20:22:01.415798Z"
    }
   },
   "id": "H1zemoo3CQEO",
   "outputs": [
    {
     "name": "stdout",
     "output_type": "stream",
     "text": [
      "Epoch 1/60 - Training: Loss=0.9403, Accuracy=72.26% | Testing: Loss=2.2846, Accuracy=15.18% | Learning Rate: 0.010000\n",
      "Epoch 11/60 - Training: Loss=0.6620, Accuracy=77.97% | Testing: Loss=2.1588, Accuracy=23.82% | Learning Rate: 0.005000\n",
      "Epoch 21/60 - Training: Loss=0.3613, Accuracy=90.80% | Testing: Loss=2.5366, Accuracy=27.43% | Learning Rate: 0.002500\n",
      "Epoch 31/60 - Training: Loss=0.2541, Accuracy=93.42% | Testing: Loss=2.6031, Accuracy=27.25% | Learning Rate: 0.001250\n",
      "Epoch 41/60 - Training: Loss=0.2016, Accuracy=95.02% | Testing: Loss=2.7279, Accuracy=28.63% | Learning Rate: 0.000625\n",
      "Epoch 51/60 - Training: Loss=0.1816, Accuracy=95.48% | Testing: Loss=2.7952, Accuracy=28.60% | Learning Rate: 0.000313\n",
      "Epoch 60/60 - Training: Loss=0.1687, Accuracy=95.78% | Testing: Loss=2.8807, Accuracy=28.65% | Learning Rate: 0.000156\n"
     ]
    }
   ],
   "execution_count": 193
  },
  {
   "metadata": {
    "ExecuteTime": {
     "end_time": "2025-05-17T20:22:20.505166Z",
     "start_time": "2025-05-17T20:22:10.908764Z"
    }
   },
   "cell_type": "code",
   "source": [
    "# train the model for test case 3\n",
    "# case 2: Train 0, 1; Test 0, 1\n",
    "training_progress_case3, model_case3 = trainModel(train_loader_case3, test_loader_case3, numepochs=60, toggleDynamic=True)"
   ],
   "id": "a997c7fe3bd5eef0",
   "outputs": [
    {
     "name": "stdout",
     "output_type": "stream",
     "text": [
      "Epoch 1/60 - Training: Loss=0.4802, Accuracy=85.06% | Testing: Loss=0.2728, Accuracy=92.18% | Learning Rate: 0.010000\n",
      "Epoch 11/60 - Training: Loss=0.0565, Accuracy=98.41% | Testing: Loss=0.2035, Accuracy=95.65% | Learning Rate: 0.005000\n",
      "Epoch 21/60 - Training: Loss=0.0120, Accuracy=99.61% | Testing: Loss=0.3013, Accuracy=96.07% | Learning Rate: 0.002500\n",
      "Epoch 31/60 - Training: Loss=0.0024, Accuracy=99.93% | Testing: Loss=0.4056, Accuracy=96.20% | Learning Rate: 0.001250\n",
      "Epoch 41/60 - Training: Loss=0.0002, Accuracy=100.00% | Testing: Loss=0.4823, Accuracy=96.10% | Learning Rate: 0.000625\n",
      "Epoch 51/60 - Training: Loss=0.0001, Accuracy=100.00% | Testing: Loss=0.5382, Accuracy=96.07% | Learning Rate: 0.000313\n",
      "Epoch 60/60 - Training: Loss=0.0000, Accuracy=100.00% | Testing: Loss=0.5912, Accuracy=95.98% | Learning Rate: 0.000156\n"
     ]
    }
   ],
   "execution_count": 194
  },
  {
   "cell_type": "code",
   "source": [
    "# create new columns for each dataframe and concat them together\n",
    "training_progress_case1 = (\n",
    "    training_progress_case1\n",
    "    .with_columns(\n",
    "        test_case=pl.lit('test_case1')\n",
    "    )\n",
    ")\n",
    "\n",
    "training_progress_case2 = (\n",
    "    training_progress_case2\n",
    "    .with_columns(\n",
    "        test_case=pl.lit('test_case2')\n",
    "    )\n",
    ")\n",
    "\n",
    "training_progress_case3 = (\n",
    "    training_progress_case3\n",
    "    .with_columns(\n",
    "        test_case=pl.lit('test_case3')\n",
    "    )\n",
    ")\n",
    "final_training_progress = pl.concat([training_progress_case1, training_progress_case2, training_progress_case3])"
   ],
   "metadata": {
    "id": "Omb_Mk1vCQGZ",
    "executionInfo": {
     "status": "ok",
     "timestamp": 1747409130562,
     "user_tz": -60,
     "elapsed": 49,
     "user": {
      "displayName": "Yoke Fei Pang",
      "userId": "01227211428198676453"
     }
    },
    "ExecuteTime": {
     "end_time": "2025-05-17T20:22:20.523609Z",
     "start_time": "2025-05-17T20:22:20.519730Z"
    }
   },
   "id": "Omb_Mk1vCQGZ",
   "outputs": [],
   "execution_count": 195
  },
  {
   "cell_type": "code",
   "source": [
    "# groupby analysis\n",
    "group_epoch_performance_metrics = (\n",
    "    final_training_progress\n",
    "    .group_by('test_case','epoch')\n",
    "    .agg(\n",
    "        cs.numeric().mean().name.prefix('mean_')\n",
    "    )\n",
    "    .sort('epoch', descending=False)\n",
    ")"
   ],
   "metadata": {
    "id": "neaNNsQBCQIi",
    "executionInfo": {
     "status": "ok",
     "timestamp": 1747409130567,
     "user_tz": -60,
     "elapsed": 11,
     "user": {
      "displayName": "Yoke Fei Pang",
      "userId": "01227211428198676453"
     }
    },
    "ExecuteTime": {
     "end_time": "2025-05-17T20:22:20.539449Z",
     "start_time": "2025-05-17T20:22:20.537095Z"
    }
   },
   "id": "neaNNsQBCQIi",
   "outputs": [],
   "execution_count": 196
  },
  {
   "metadata": {
    "ExecuteTime": {
     "end_time": "2025-05-17T20:22:20.554878Z",
     "start_time": "2025-05-17T20:22:20.552007Z"
    }
   },
   "cell_type": "code",
   "source": "group_epoch_performance_metrics.head()",
   "id": "d6685a1f9aa84c87",
   "outputs": [
    {
     "data": {
      "text/plain": [
       "shape: (5, 8)\n",
       "┌────────────┬───────┬────────────┬────────────┬────────────┬────────────┬────────────┬────────────┐\n",
       "│ test_case  ┆ epoch ┆ mean_itera ┆ mean_train ┆ mean_train ┆ mean_test_ ┆ mean_test_ ┆ mean_learn │\n",
       "│ ---        ┆ ---   ┆ tion       ┆ _loss      ┆ _acc       ┆ loss       ┆ acc        ┆ ing_rate   │\n",
       "│ str        ┆ i64   ┆ ---        ┆ ---        ┆ ---        ┆ ---        ┆ ---        ┆ ---        │\n",
       "│            ┆       ┆ f64        ┆ f64        ┆ f64        ┆ f64        ┆ f64        ┆ f64        │\n",
       "╞════════════╪═══════╪════════════╪════════════╪════════════╪════════════╪════════════╪════════════╡\n",
       "│ test_case3 ┆ 0     ┆ 0.0        ┆ 0.480189   ┆ 85.061499  ┆ 0.272836   ┆ 92.183334  ┆ 0.01       │\n",
       "│ test_case2 ┆ 0     ┆ 0.0        ┆ 0.940335   ┆ 72.261156  ┆ 2.28459    ┆ 15.183334  ┆ 0.01       │\n",
       "│ test_case1 ┆ 0     ┆ 0.0        ┆ 0.468791   ┆ 85.233124  ┆ 61.968033  ┆ 90.316666  ┆ 0.01       │\n",
       "│ test_case1 ┆ 1     ┆ 1.0        ┆ 0.254907   ┆ 92.57008   ┆ 39.369793  ┆ 93.266663  ┆ 0.01       │\n",
       "│ test_case2 ┆ 1     ┆ 1.0        ┆ 0.543821   ┆ 85.326087  ┆ 2.26256    ┆ 14.849999  ┆ 0.01       │\n",
       "└────────────┴───────┴────────────┴────────────┴────────────┴────────────┴────────────┴────────────┘"
      ],
      "text/html": [
       "<div><style>\n",
       ".dataframe > thead > tr,\n",
       ".dataframe > tbody > tr {\n",
       "  text-align: right;\n",
       "  white-space: pre-wrap;\n",
       "}\n",
       "</style>\n",
       "<small>shape: (5, 8)</small><table border=\"1\" class=\"dataframe\"><thead><tr><th>test_case</th><th>epoch</th><th>mean_iteration</th><th>mean_train_loss</th><th>mean_train_acc</th><th>mean_test_loss</th><th>mean_test_acc</th><th>mean_learning_rate</th></tr><tr><td>str</td><td>i64</td><td>f64</td><td>f64</td><td>f64</td><td>f64</td><td>f64</td><td>f64</td></tr></thead><tbody><tr><td>&quot;test_case3&quot;</td><td>0</td><td>0.0</td><td>0.480189</td><td>85.061499</td><td>0.272836</td><td>92.183334</td><td>0.01</td></tr><tr><td>&quot;test_case2&quot;</td><td>0</td><td>0.0</td><td>0.940335</td><td>72.261156</td><td>2.28459</td><td>15.183334</td><td>0.01</td></tr><tr><td>&quot;test_case1&quot;</td><td>0</td><td>0.0</td><td>0.468791</td><td>85.233124</td><td>61.968033</td><td>90.316666</td><td>0.01</td></tr><tr><td>&quot;test_case1&quot;</td><td>1</td><td>1.0</td><td>0.254907</td><td>92.57008</td><td>39.369793</td><td>93.266663</td><td>0.01</td></tr><tr><td>&quot;test_case2&quot;</td><td>1</td><td>1.0</td><td>0.543821</td><td>85.326087</td><td>2.26256</td><td>14.849999</td><td>0.01</td></tr></tbody></table></div>"
      ]
     },
     "execution_count": 197,
     "metadata": {},
     "output_type": "execute_result"
    }
   ],
   "execution_count": 197
  },
  {
   "metadata": {
    "ExecuteTime": {
     "end_time": "2025-05-17T20:22:20.733916Z",
     "start_time": "2025-05-17T20:22:20.582564Z"
    }
   },
   "cell_type": "code",
   "source": [
    "# inspect the loss\n",
    "import matplotlib.pyplot as plt\n",
    "\n",
    "fig, ax = plt.subplots(1, 3, figsize=(15,5))\n",
    "\n",
    "ax[0].plot(group_epoch_performance_metrics.filter(pl.col('test_case').eq('test_case1')).select('mean_train_loss'), 'r--')\n",
    "ax[0].plot(group_epoch_performance_metrics.filter(pl.col('test_case').eq('test_case2')).select('mean_train_loss'), 'b--')\n",
    "ax[0].plot(group_epoch_performance_metrics.filter(pl.col('test_case').eq('test_case3')).select('mean_train_loss'), 'g--')\n",
    "ax[0].legend(['Train 0, 1; Test 0, 255', 'Train 0, 255; Test 0, 1', 'Train 0, 1; Test 0, 1'])\n",
    "ax[0].set_title('Loss')\n",
    "ax[0].set_xlabel('Epoch')\n",
    "ax[0].set_ylabel('Model Loss')\n",
    "\n",
    "ax[1].plot(group_epoch_performance_metrics.filter(pl.col('test_case').eq('test_case1')).select('mean_train_acc'), 'r--')\n",
    "ax[1].plot(group_epoch_performance_metrics.filter(pl.col('test_case').eq('test_case2')).select('mean_train_acc'), 'b--')\n",
    "ax[1].plot(group_epoch_performance_metrics.filter(pl.col('test_case').eq('test_case3')).select('mean_train_acc'), 'g--')\n",
    "ax[1].legend(['Train 0, 1; Test 0, 255', 'Train 0, 255; Test 0, 1', 'Train 0, 1; Test 0, 1'])\n",
    "ax[1].set_title('Training Accuracy')\n",
    "ax[1].set_xlabel('Epoch')\n",
    "ax[1].set_ylabel('Model Accuracy')\n",
    "\n",
    "ax[2].plot(group_epoch_performance_metrics.filter(pl.col('test_case').eq('test_case1')).select('mean_test_acc'), 'r--')\n",
    "ax[2].plot(group_epoch_performance_metrics.filter(pl.col('test_case').eq('test_case2')).select('mean_test_acc'), 'b--')\n",
    "ax[2].plot(group_epoch_performance_metrics.filter(pl.col('test_case').eq('test_case3')).select('mean_test_acc'), 'g--')\n",
    "ax[2].legend(['Train 0, 1; Test 0, 255', 'Train 0, 255; Test 0, 1', 'Train 0, 1; Test 0, 1'])\n",
    "ax[2].set_title('Test Accuracy')\n",
    "ax[2].set_xlabel('Epoch')\n",
    "ax[2].set_ylabel('Model Accuracy')"
   ],
   "id": "687d2075e053733d",
   "outputs": [
    {
     "data": {
      "text/plain": [
       "Text(0, 0.5, 'Model Accuracy')"
      ]
     },
     "execution_count": 198,
     "metadata": {},
     "output_type": "execute_result"
    },
    {
     "data": {
      "text/plain": [
       "<Figure size 1500x500 with 3 Axes>"
      ],
      "image/png": "[encoded data removed]"
     },
     "metadata": {},
     "output_type": "display_data"
    }
   ],
   "execution_count": 198
  },
  {
   "metadata": {},
   "cell_type": "markdown",
   "source": [
    "## Interpretation:\n",
    "* losses are scale dependent\n",
    "* DL models find patterns in data; numerical range may not be important\n",
    "* Losses show whether the model is still learning; accuracy is the metric that is important\n",
    "* Why Training on not normalize data and test on normalized data is an issue\n",
    "    *the model learns patterns based on the original scale and distribution of the training data, but during testing, it sees inputs that are transformed differently—this leads to mismatched data distributions and usually results in poor performance."
   ],
   "id": "e272f67f70bbea57"
  }
 ],
 "metadata": {
  "kernelspec": {
   "display_name": "Python 3",
   "language": "python",
   "name": "python3"
  },
  "language_info": {
   "codemirror_mode": {
    "name": "ipython",
    "version": 2
   },
   "file_extension": ".py",
   "mimetype": "text/x-python",
   "name": "python",
   "nbconvert_exporter": "python",
   "pygments_lexer": "ipython2",
   "version": "2.7.6"
  },
  "colab": {
   "provenance": []
  }
 },
 "nbformat": 4,
 "nbformat_minor": 5
}
