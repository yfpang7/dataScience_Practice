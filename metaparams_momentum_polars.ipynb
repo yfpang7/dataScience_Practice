{
 "cells": [
  {
   "cell_type": "code",
   "id": "initial_id",
   "metadata": {
    "collapsed": true,
    "ExecuteTime": {
     "end_time": "2025-05-05T17:08:17.886894Z",
     "start_time": "2025-05-05T17:08:17.876916Z"
    }
   },
   "source": [
    "import torch\n",
    "import torch.nn as nn\n",
    "import torch.nn.functional as F\n",
    "\n",
    "from torch.utils.data import DataLoader, TensorDataset\n",
    "from sklearn.model_selection import train_test_split\n",
    "import numpy as np\n",
    "import polars as pl\n",
    "\n",
    "import plotly.io as pio"
   ],
   "outputs": [],
   "execution_count": 196
  },
  {
   "metadata": {},
   "cell_type": "code",
   "outputs": [],
   "execution_count": null,
   "source": "## This notebook is a small experiment to test out different momentum settings using parametric experiment",
   "id": "f531a50d0a804ebc"
  },
  {
   "metadata": {
    "ExecuteTime": {
     "end_time": "2025-05-05T15:16:03.854420Z",
     "start_time": "2025-05-05T15:16:03.851168Z"
    }
   },
   "cell_type": "code",
   "source": [
    "nPerClust = 300\n",
    "blur = 1\n",
    "\n",
    "A = [1, 1]\n",
    "B = [5, 1]\n",
    "C = [4, 4]\n",
    "\n",
    "# Generate data using Polars\n",
    "# Create DataFrames for each cluster\n",
    "a_df = pl.DataFrame({\n",
    "    'x': A[0] + np.random.randn(nPerClust) * blur,\n",
    "    'y': A[1] + np.random.randn(nPerClust) * blur,\n",
    "    'label': [0] * nPerClust\n",
    "})\n",
    "\n",
    "b_df = pl.DataFrame({\n",
    "    'x': B[0] + np.random.randn(nPerClust) * blur,\n",
    "    'y': B[1] + np.random.randn(nPerClust) * blur,\n",
    "    'label': [1] * nPerClust\n",
    "})\n",
    "\n",
    "c_df = pl.DataFrame({\n",
    "    'x': C[0] + np.random.randn(nPerClust) * blur,\n",
    "    'y': C[1] + np.random.randn(nPerClust) * blur,\n",
    "    'label': [2] * nPerClust\n",
    "})\n",
    "\n",
    "# Concatenate into a single DataFrame\n",
    "all_data = pl.concat([a_df, b_df, c_df])"
   ],
   "id": "e5a78dbcad91aada",
   "outputs": [],
   "execution_count": 154
  },
  {
   "metadata": {
    "ExecuteTime": {
     "end_time": "2025-05-05T15:16:03.968081Z",
     "start_time": "2025-05-05T15:16:03.966117Z"
    }
   },
   "cell_type": "code",
   "source": [
    "# inspect the data\n",
    "print(all_data)"
   ],
   "id": "2d3fd3f4c41c5fa3",
   "outputs": [
    {
     "name": "stdout",
     "output_type": "stream",
     "text": [
      "shape: (900, 3)\n",
      "┌───────────┬───────────┬───────┐\n",
      "│ x         ┆ y         ┆ label │\n",
      "│ ---       ┆ ---       ┆ ---   │\n",
      "│ f64       ┆ f64       ┆ i64   │\n",
      "╞═══════════╪═══════════╪═══════╡\n",
      "│ -0.811585 ┆ 0.787128  ┆ 0     │\n",
      "│ 3.147399  ┆ -0.274099 ┆ 0     │\n",
      "│ 1.722471  ┆ 1.143158  ┆ 0     │\n",
      "│ 1.262746  ┆ 0.237306  ┆ 0     │\n",
      "│ 4.62133   ┆ 1.016236  ┆ 0     │\n",
      "│ …         ┆ …         ┆ …     │\n",
      "│ 3.621568  ┆ 5.666419  ┆ 2     │\n",
      "│ 4.525747  ┆ 3.827036  ┆ 2     │\n",
      "│ 3.74326   ┆ 5.055655  ┆ 2     │\n",
      "│ 3.412779  ┆ 4.84776   ┆ 2     │\n",
      "│ 4.720874  ┆ 2.315833  ┆ 2     │\n",
      "└───────────┴───────────┴───────┘\n"
     ]
    }
   ],
   "execution_count": 155
  },
  {
   "metadata": {
    "ExecuteTime": {
     "end_time": "2025-05-05T15:16:03.997974Z",
     "start_time": "2025-05-05T15:16:03.995054Z"
    }
   },
   "cell_type": "code",
   "source": [
    "# create the class model\n",
    "class ANN(nn.Module):\n",
    "    def __init__(self):\n",
    "        super().__init__()\n",
    "\n",
    "        self.input = nn.Linear(2, 8)\n",
    "        self.hidden1 = nn.Linear(8, 8)\n",
    "        self.output = nn.Linear(8, 3)\n",
    "\n",
    "    def forward(self, x):\n",
    "        x = F.relu(self.input(x))\n",
    "        x = F.relu(self.hidden1(x))\n",
    "        return self.output(x)"
   ],
   "id": "1787e39cbecca53a",
   "outputs": [],
   "execution_count": 156
  },
  {
   "metadata": {
    "ExecuteTime": {
     "end_time": "2025-05-05T15:16:04.020911Z",
     "start_time": "2025-05-05T15:16:04.017178Z"
    }
   },
   "cell_type": "code",
   "source": [
    "model = ANN()\n",
    "\n",
    "# confirm that the optimizer has momentum\n",
    "torch.optim.SGD(model.parameters(), lr=0.01, momentum=0.9)"
   ],
   "id": "e86eb442f6cce8ee",
   "outputs": [
    {
     "data": {
      "text/plain": [
       "SGD (\n",
       "Parameter Group 0\n",
       "    dampening: 0\n",
       "    differentiable: False\n",
       "    foreach: None\n",
       "    fused: None\n",
       "    lr: 0.01\n",
       "    maximize: False\n",
       "    momentum: 0.9\n",
       "    nesterov: False\n",
       "    weight_decay: 0\n",
       ")"
      ]
     },
     "execution_count": 157,
     "metadata": {},
     "output_type": "execute_result"
    }
   ],
   "execution_count": 157
  },
  {
   "metadata": {
    "ExecuteTime": {
     "end_time": "2025-05-05T15:16:04.037643Z",
     "start_time": "2025-05-05T15:16:04.034493Z"
    }
   },
   "cell_type": "code",
   "source": [
    "# training the model\n",
    "def trainModel(train_loader, test_loader, momentum, numepochs=200, learning_rate=0.01):\n",
    "    # define the dataframe\n",
    "    training_progress = pl.DataFrame(\n",
    "        schema={\n",
    "            'iteration' : pl.Int64,\n",
    "            'epoch' : pl.Int64,\n",
    "            'train_loss' : pl.Float64,\n",
    "            'test_loss' : pl.Float64,\n",
    "            'train_acc' : pl.Float64,\n",
    "            'test_acc' : pl.Float64\n",
    "        }\n",
    "    )\n",
    "\n",
    "\n",
    "    # create a new model\n",
    "    model = ANN()\n",
    "    # create the other componenets\n",
    "    optimizer = torch.optim.SGD(model.parameters(), lr=learning_rate, momentum=momentum)\n",
    "    lossfunc = nn.CrossEntropyLoss()\n",
    "    iteration = 0\n",
    "\n",
    "    for epoch in range(numepochs):\n",
    "        model.train()\n",
    "        for X, y in train_loader:\n",
    "            yhat_train = model(X)\n",
    "            loss_train = lossfunc(yhat_train, y)\n",
    "\n",
    "            optimizer.zero_grad()\n",
    "            loss_train.backward()\n",
    "            optimizer.step()\n",
    "\n",
    "            # get the accuracy\n",
    "            matches = torch.argmax(yhat_train, axis=1) == y\n",
    "            matchesNumeric = matches.float()\n",
    "            acc_train = 100 * torch.mean(matchesNumeric)\n",
    "\n",
    "            # switch to evaluation\n",
    "            model.eval()\n",
    "            X_test, y_test= next(iter(test_loader))\n",
    "            with torch.no_grad():\n",
    "                yhat_test = model(X_test)\n",
    "                loss_test = lossfunc(yhat_test, y_test)\n",
    "\n",
    "            # get the test accuracy\n",
    "            acc_test = 100 * torch.mean((torch.argmax(yhat_test, axis=1) == y_test).float())\n",
    "\n",
    "            # switch back model training\n",
    "            model.train()\n",
    "\n",
    "            # add into a value\n",
    "            new_row = pl.DataFrame([{\n",
    "                'iteration' : iteration,\n",
    "                'epoch' : epoch,\n",
    "                'train_loss' : loss_train.item(),\n",
    "                'test_loss' : loss_test.item(),\n",
    "                'train_acc' : acc_train.item(),\n",
    "                'test_acc' : acc_test.item()\n",
    "            }])\n",
    "\n",
    "            training_progress = pl.concat([training_progress, new_row])\n",
    "\n",
    "            # move the iteration count up\n",
    "            iteration += 1\n",
    "    return  training_progress\n"
   ],
   "id": "c7ad1f648302f4d5",
   "outputs": [],
   "execution_count": 158
  },
  {
   "metadata": {
    "ExecuteTime": {
     "end_time": "2025-05-05T15:16:04.052808Z",
     "start_time": "2025-05-05T15:16:04.050646Z"
    }
   },
   "cell_type": "code",
   "source": [
    "# Prepare the data\n",
    "## convert to tensor data\n",
    "dataT = torch.tensor(all_data.select('x', 'y').to_numpy()).float()\n",
    "labelT = torch.tensor(all_data['label'].to_numpy()).long()\n"
   ],
   "id": "1553747db1d711dd",
   "outputs": [],
   "execution_count": 159
  },
  {
   "metadata": {
    "ExecuteTime": {
     "end_time": "2025-05-05T15:16:04.067420Z",
     "start_time": "2025-05-05T15:16:04.064766Z"
    }
   },
   "cell_type": "code",
   "source": [
    "# train test split\n",
    "X_train, X_test, y_train, y_test = train_test_split(dataT, labelT)\n",
    "\n",
    "# convert to Pytorch DataSet\n",
    "train_dataset = TensorDataset(X_train, y_train)\n",
    "test_dataset = TensorDataset(X_test, y_test)\n",
    "\n",
    "# load into dataloader\n",
    "batchSize = 16\n",
    "train_loader = DataLoader(train_dataset, batch_size=batchSize, shuffle=True, drop_last=True)\n",
    "test_loader = DataLoader(test_dataset, batch_size=test_dataset.tensors[0].shape[0])"
   ],
   "id": "95ffdb930db7177d",
   "outputs": [],
   "execution_count": 160
  },
  {
   "metadata": {
    "ExecuteTime": {
     "end_time": "2025-05-05T15:17:23.014440Z",
     "start_time": "2025-05-05T15:16:04.079969Z"
    }
   },
   "cell_type": "code",
   "source": [
    "momenta = [0, 0.5, 0.9, 0.95, 0.999]\n",
    "all_results = []\n",
    "for idx, mom in enumerate(momenta):\n",
    "    print(f'Training with momentum = {mom}')\n",
    "    training_progress = trainModel(momentum=mom, train_loader=train_loader, test_loader=test_loader, )\n",
    "    # annotate the momenta used\n",
    "    training_progress = training_progress.with_columns(momentum=pl.lit(mom).cast(pl.Float64))\n",
    "\n",
    "    all_results.append(training_progress)\n",
    "\n",
    "combined_results = pl.concat(all_results)"
   ],
   "id": "673a602aa3f1e996",
   "outputs": [
    {
     "name": "stdout",
     "output_type": "stream",
     "text": [
      "Training with momentum = 0\n",
      "Training with momentum = 0.5\n",
      "Training with momentum = 0.9\n",
      "Training with momentum = 0.95\n",
      "Training with momentum = 0.999\n"
     ]
    }
   ],
   "execution_count": 161
  },
  {
   "metadata": {
    "ExecuteTime": {
     "end_time": "2025-05-05T15:17:23.040375Z",
     "start_time": "2025-05-05T15:17:23.027798Z"
    }
   },
   "cell_type": "code",
   "source": "combined_results.select(pl.col('momentum').n_unique())",
   "id": "a588573a177d4076",
   "outputs": [
    {
     "data": {
      "text/plain": [
       "shape: (1, 1)\n",
       "┌──────────┐\n",
       "│ momentum │\n",
       "│ ---      │\n",
       "│ u32      │\n",
       "╞══════════╡\n",
       "│ 5        │\n",
       "└──────────┘"
      ],
      "text/html": [
       "<div><style>\n",
       ".dataframe > thead > tr,\n",
       ".dataframe > tbody > tr {\n",
       "  text-align: right;\n",
       "  white-space: pre-wrap;\n",
       "}\n",
       "</style>\n",
       "<small>shape: (1, 1)</small><table border=\"1\" class=\"dataframe\"><thead><tr><th>momentum</th></tr><tr><td>u32</td></tr></thead><tbody><tr><td>5</td></tr></tbody></table></div>"
      ]
     },
     "execution_count": 162,
     "metadata": {},
     "output_type": "execute_result"
    }
   ],
   "execution_count": 162
  },
  {
   "metadata": {
    "ExecuteTime": {
     "end_time": "2025-05-05T15:18:34.273915Z",
     "start_time": "2025-05-05T15:18:34.269242Z"
    }
   },
   "cell_type": "code",
   "source": "combined_results",
   "id": "3b9a63d9179ee00c",
   "outputs": [
    {
     "data": {
      "text/plain": [
       "shape: (42_000, 7)\n",
       "┌───────────┬───────┬────────────┬───────────┬───────────┬───────────┬──────────┐\n",
       "│ iteration ┆ epoch ┆ train_loss ┆ test_loss ┆ train_acc ┆ test_acc  ┆ momentum │\n",
       "│ ---       ┆ ---   ┆ ---        ┆ ---       ┆ ---       ┆ ---       ┆ ---      │\n",
       "│ i64       ┆ i64   ┆ f64        ┆ f64       ┆ f64       ┆ f64       ┆ f64      │\n",
       "╞═══════════╪═══════╪════════════╪═══════════╪═══════════╪═══════════╪══════════╡\n",
       "│ 0         ┆ 0     ┆ 1.15184    ┆ 1.140896  ┆ 37.5      ┆ 29.333332 ┆ 0.0      │\n",
       "│ 1         ┆ 0     ┆ 1.175146   ┆ 1.136537  ┆ 25.0      ┆ 29.333332 ┆ 0.0      │\n",
       "│ 2         ┆ 0     ┆ 1.123524   ┆ 1.133411  ┆ 31.25     ┆ 29.333332 ┆ 0.0      │\n",
       "│ 3         ┆ 0     ┆ 1.100474   ┆ 1.130658  ┆ 37.5      ┆ 29.333332 ┆ 0.0      │\n",
       "│ 4         ┆ 0     ┆ 1.101426   ┆ 1.128295  ┆ 43.75     ┆ 29.333332 ┆ 0.0      │\n",
       "│ …         ┆ …     ┆ …          ┆ …         ┆ …         ┆ …         ┆ …        │\n",
       "│ 8395      ┆ 199   ┆ 1.140493   ┆ 1.086021  ┆ 25.0      ┆ 31.111113 ┆ 0.999    │\n",
       "│ 8396      ┆ 199   ┆ 1.060921   ┆ 1.084869  ┆ 25.0      ┆ 31.111113 ┆ 0.999    │\n",
       "│ 8397      ┆ 199   ┆ 1.163269   ┆ 1.083323  ┆ 18.75     ┆ 31.111113 ┆ 0.999    │\n",
       "│ 8398      ┆ 199   ┆ 1.03189    ┆ 1.081734  ┆ 37.5      ┆ 31.111113 ┆ 0.999    │\n",
       "│ 8399      ┆ 199   ┆ 1.026845   ┆ 1.080156  ┆ 43.75     ┆ 31.111113 ┆ 0.999    │\n",
       "└───────────┴───────┴────────────┴───────────┴───────────┴───────────┴──────────┘"
      ],
      "text/html": [
       "<div><style>\n",
       ".dataframe > thead > tr,\n",
       ".dataframe > tbody > tr {\n",
       "  text-align: right;\n",
       "  white-space: pre-wrap;\n",
       "}\n",
       "</style>\n",
       "<small>shape: (42_000, 7)</small><table border=\"1\" class=\"dataframe\"><thead><tr><th>iteration</th><th>epoch</th><th>train_loss</th><th>test_loss</th><th>train_acc</th><th>test_acc</th><th>momentum</th></tr><tr><td>i64</td><td>i64</td><td>f64</td><td>f64</td><td>f64</td><td>f64</td><td>f64</td></tr></thead><tbody><tr><td>0</td><td>0</td><td>1.15184</td><td>1.140896</td><td>37.5</td><td>29.333332</td><td>0.0</td></tr><tr><td>1</td><td>0</td><td>1.175146</td><td>1.136537</td><td>25.0</td><td>29.333332</td><td>0.0</td></tr><tr><td>2</td><td>0</td><td>1.123524</td><td>1.133411</td><td>31.25</td><td>29.333332</td><td>0.0</td></tr><tr><td>3</td><td>0</td><td>1.100474</td><td>1.130658</td><td>37.5</td><td>29.333332</td><td>0.0</td></tr><tr><td>4</td><td>0</td><td>1.101426</td><td>1.128295</td><td>43.75</td><td>29.333332</td><td>0.0</td></tr><tr><td>&hellip;</td><td>&hellip;</td><td>&hellip;</td><td>&hellip;</td><td>&hellip;</td><td>&hellip;</td><td>&hellip;</td></tr><tr><td>8395</td><td>199</td><td>1.140493</td><td>1.086021</td><td>25.0</td><td>31.111113</td><td>0.999</td></tr><tr><td>8396</td><td>199</td><td>1.060921</td><td>1.084869</td><td>25.0</td><td>31.111113</td><td>0.999</td></tr><tr><td>8397</td><td>199</td><td>1.163269</td><td>1.083323</td><td>18.75</td><td>31.111113</td><td>0.999</td></tr><tr><td>8398</td><td>199</td><td>1.03189</td><td>1.081734</td><td>37.5</td><td>31.111113</td><td>0.999</td></tr><tr><td>8399</td><td>199</td><td>1.026845</td><td>1.080156</td><td>43.75</td><td>31.111113</td><td>0.999</td></tr></tbody></table></div>"
      ]
     },
     "execution_count": 167,
     "metadata": {},
     "output_type": "execute_result"
    }
   ],
   "execution_count": 167
  },
  {
   "metadata": {
    "ExecuteTime": {
     "end_time": "2025-05-05T15:18:53.699389Z",
     "start_time": "2025-05-05T15:18:53.680027Z"
    }
   },
   "cell_type": "code",
   "source": [
    "# groupby analysis by epoch and momenta\n",
    "grouped_results = (\n",
    "    combined_results\n",
    "    .group_by('momentum', 'epoch')\n",
    "    .agg(\n",
    "    pl.all().exclude(['momentum', 'epoch']).mean().name.suffix('_mean')\n",
    "    )\n",
    "    .sort(['momentum', 'epoch'], descending=True)\n",
    "    .with_columns(\n",
    "        pl.col('momentum').cast(pl.Float64)\n",
    "    )\n",
    ")\n"
   ],
   "id": "60ee81eed0adb9b5",
   "outputs": [],
   "execution_count": 168
  },
  {
   "metadata": {
    "ExecuteTime": {
     "end_time": "2025-05-05T15:19:43.828598Z",
     "start_time": "2025-05-05T15:19:43.825452Z"
    }
   },
   "cell_type": "code",
   "source": "grouped_results.select(pl.all())",
   "id": "2b3a950eeccad9b",
   "outputs": [
    {
     "data": {
      "text/plain": [
       "shape: (1_000, 7)\n",
       "┌──────────┬───────┬───────────────┬───────────────┬───────────────┬───────────────┬───────────────┐\n",
       "│ momentum ┆ epoch ┆ iteration_mea ┆ train_loss_me ┆ test_loss_mea ┆ train_acc_mea ┆ test_acc_mean │\n",
       "│ ---      ┆ ---   ┆ n             ┆ an            ┆ n             ┆ n             ┆ ---           │\n",
       "│ f64      ┆ i64   ┆ ---           ┆ ---           ┆ ---           ┆ ---           ┆ f64           │\n",
       "│          ┆       ┆ f64           ┆ f64           ┆ f64           ┆ f64           ┆               │\n",
       "╞══════════╪═══════╪═══════════════╪═══════════════╪═══════════════╪═══════════════╪═══════════════╡\n",
       "│ 0.999    ┆ 199   ┆ 8378.5        ┆ 1.077831      ┆ 1.073168      ┆ 34.672619     ┆ 33.777778     │\n",
       "│ 0.999    ┆ 198   ┆ 8336.5        ┆ 1.073318      ┆ 1.049905      ┆ 36.160714     ┆ 39.132276     │\n",
       "│ 0.999    ┆ 197   ┆ 8294.5        ┆ 1.068606      ┆ 1.060226      ┆ 34.22619      ┆ 33.523811     │\n",
       "│ 0.999    ┆ 196   ┆ 8252.5        ┆ 1.067153      ┆ 1.061814      ┆ 36.160714     ┆ 35.999999     │\n",
       "│ 0.999    ┆ 195   ┆ 8210.5        ┆ 1.072519      ┆ 1.052187      ┆ 36.458333     ┆ 39.291007     │\n",
       "│ …        ┆ …     ┆ …             ┆ …             ┆ …             ┆ …             ┆ …             │\n",
       "│ 0.0      ┆ 4     ┆ 188.5         ┆ 0.919164      ┆ 0.893894      ┆ 63.095238     ┆ 59.703704     │\n",
       "│ 0.0      ┆ 3     ┆ 146.5         ┆ 0.94553       ┆ 0.92244       ┆ 61.755952     ┆ 60.116402     │\n",
       "│ 0.0      ┆ 2     ┆ 104.5         ┆ 0.976928      ┆ 0.956084      ┆ 50.892857     ┆ 52.88889      │\n",
       "│ 0.0      ┆ 1     ┆ 62.5          ┆ 1.030468      ┆ 1.020944      ┆ 55.952381     ┆ 58.201058     │\n",
       "│ 0.0      ┆ 0     ┆ 20.5          ┆ 1.108754      ┆ 1.110608      ┆ 32.589286     ┆ 30.190475     │\n",
       "└──────────┴───────┴───────────────┴───────────────┴───────────────┴───────────────┴───────────────┘"
      ],
      "text/html": [
       "<div><style>\n",
       ".dataframe > thead > tr,\n",
       ".dataframe > tbody > tr {\n",
       "  text-align: right;\n",
       "  white-space: pre-wrap;\n",
       "}\n",
       "</style>\n",
       "<small>shape: (1_000, 7)</small><table border=\"1\" class=\"dataframe\"><thead><tr><th>momentum</th><th>epoch</th><th>iteration_mean</th><th>train_loss_mean</th><th>test_loss_mean</th><th>train_acc_mean</th><th>test_acc_mean</th></tr><tr><td>f64</td><td>i64</td><td>f64</td><td>f64</td><td>f64</td><td>f64</td><td>f64</td></tr></thead><tbody><tr><td>0.999</td><td>199</td><td>8378.5</td><td>1.077831</td><td>1.073168</td><td>34.672619</td><td>33.777778</td></tr><tr><td>0.999</td><td>198</td><td>8336.5</td><td>1.073318</td><td>1.049905</td><td>36.160714</td><td>39.132276</td></tr><tr><td>0.999</td><td>197</td><td>8294.5</td><td>1.068606</td><td>1.060226</td><td>34.22619</td><td>33.523811</td></tr><tr><td>0.999</td><td>196</td><td>8252.5</td><td>1.067153</td><td>1.061814</td><td>36.160714</td><td>35.999999</td></tr><tr><td>0.999</td><td>195</td><td>8210.5</td><td>1.072519</td><td>1.052187</td><td>36.458333</td><td>39.291007</td></tr><tr><td>&hellip;</td><td>&hellip;</td><td>&hellip;</td><td>&hellip;</td><td>&hellip;</td><td>&hellip;</td><td>&hellip;</td></tr><tr><td>0.0</td><td>4</td><td>188.5</td><td>0.919164</td><td>0.893894</td><td>63.095238</td><td>59.703704</td></tr><tr><td>0.0</td><td>3</td><td>146.5</td><td>0.94553</td><td>0.92244</td><td>61.755952</td><td>60.116402</td></tr><tr><td>0.0</td><td>2</td><td>104.5</td><td>0.976928</td><td>0.956084</td><td>50.892857</td><td>52.88889</td></tr><tr><td>0.0</td><td>1</td><td>62.5</td><td>1.030468</td><td>1.020944</td><td>55.952381</td><td>58.201058</td></tr><tr><td>0.0</td><td>0</td><td>20.5</td><td>1.108754</td><td>1.110608</td><td>32.589286</td><td>30.190475</td></tr></tbody></table></div>"
      ]
     },
     "execution_count": 173,
     "metadata": {},
     "output_type": "execute_result"
    }
   ],
   "execution_count": 173
  },
  {
   "metadata": {
    "ExecuteTime": {
     "end_time": "2025-05-05T15:23:28.650061Z",
     "start_time": "2025-05-05T15:23:28.644712Z"
    }
   },
   "cell_type": "code",
   "source": "grouped_results.select(pl.col('momentum').cast(pl.String)).to_series()",
   "id": "d1fc7422382e450",
   "outputs": [
    {
     "data": {
      "text/plain": [
       "shape: (1_000,)\n",
       "Series: 'momentum' [str]\n",
       "[\n",
       "\t\"0.999\"\n",
       "\t\"0.999\"\n",
       "\t\"0.999\"\n",
       "\t\"0.999\"\n",
       "\t\"0.999\"\n",
       "\t…\n",
       "\t\"0.0\"\n",
       "\t\"0.0\"\n",
       "\t\"0.0\"\n",
       "\t\"0.0\"\n",
       "\t\"0.0\"\n",
       "]"
      ],
      "text/html": [
       "<div><style>\n",
       ".dataframe > thead > tr,\n",
       ".dataframe > tbody > tr {\n",
       "  text-align: right;\n",
       "  white-space: pre-wrap;\n",
       "}\n",
       "</style>\n",
       "<small>shape: (1_000,)</small><table border=\"1\" class=\"dataframe\"><thead><tr><th>momentum</th></tr><tr><td>str</td></tr></thead><tbody><tr><td>&quot;0.999&quot;</td></tr><tr><td>&quot;0.999&quot;</td></tr><tr><td>&quot;0.999&quot;</td></tr><tr><td>&quot;0.999&quot;</td></tr><tr><td>&quot;0.999&quot;</td></tr><tr><td>&hellip;</td></tr><tr><td>&quot;0.0&quot;</td></tr><tr><td>&quot;0.0&quot;</td></tr><tr><td>&quot;0.0&quot;</td></tr><tr><td>&quot;0.0&quot;</td></tr><tr><td>&quot;0.0&quot;</td></tr></tbody></table></div>"
      ]
     },
     "execution_count": 179,
     "metadata": {},
     "output_type": "execute_result"
    }
   ],
   "execution_count": 179
  },
  {
   "metadata": {
    "ExecuteTime": {
     "end_time": "2025-05-05T17:08:42.390392Z",
     "start_time": "2025-05-05T17:08:40.346492Z"
    }
   },
   "cell_type": "code",
   "source": [
    "import plotly.express as px\n",
    "fig = px.line(\n",
    "    grouped_results.filter(pl.col('epoch') < 50),\n",
    "    x='epoch',\n",
    "    y=['train_loss_mean', 'test_loss_mean'],\n",
    "    color=grouped_results.filter(pl.col('epoch') < 50).select(pl.col('momentum').cast(pl.String)).to_series(),\n",
    "    title='Losses'\n",
    ")\n",
    "\n",
    "fig.update_layout(template='ggplot2', width=600)\n",
    "fig.show(renderer='svg')"
   ],
   "id": "4e9bb1cd9527341",
   "outputs": [
    {
     "data": {
      "image/svg+xml": "<svg class=\"main-svg\" xmlns=\"http://www.w3.org/2000/svg\" xmlns:xlink=\"http://www.w3.org/1999/xlink\" width=\"600\" height=\"500\" style=\"\" viewBox=\"0 0 600 500\"><rect x=\"0\" y=\"0\" width=\"600\" height=\"500\" style=\"fill: rgb(255, 255, 255); fill-opacity: 1;\"/><defs id=\"defs-9d18fd\"><g class=\"clips\"><clipPath id=\"clip9d18fdxyplot\" class=\"plotclip\"><rect width=\"420\" height=\"320\"/></clipPath><clipPath class=\"axesclip\" id=\"clip9d18fdx\"><rect x=\"80\" y=\"0\" width=\"420\" height=\"500\"/></clipPath><clipPath class=\"axesclip\" id=\"clip9d18fdy\"><rect x=\"0\" y=\"100\" width=\"600\" height=\"320\"/></clipPath><clipPath class=\"axesclip\" id=\"clip9d18fdxy\"><rect x=\"80\" y=\"100\" width=\"420\" height=\"320\"/></clipPath></g><g class=\"gradients\"/><g class=\"patterns\"/></defs><g class=\"bglayer\"><rect class=\"bg\" x=\"80\" y=\"100\" width=\"420\" height=\"320\" style=\"fill: rgb(237, 237, 237); fill-opacity: 1; stroke-width: 0;\"/></g><g class=\"layer-below\"><g class=\"imagelayer\"/><g class=\"shapelayer\"/></g><g class=\"cartesianlayer\"><g class=\"subplot xy\"><g class=\"layer-subplot\"><g class=\"shapelayer\"/><g class=\"imagelayer\"/></g><g class=\"minor-gridlayer\"><g class=\"x\"/><g class=\"y\"/></g><g class=\"gridlayer\"><g class=\"x\"><path class=\"xgrid crisp\" transform=\"translate(165.70999999999998,0)\" d=\"M0,100v320\" style=\"stroke: rgb(255, 255, 255); stroke-opacity: 1; stroke-width: 1px;\"/><path class=\"xgrid crisp\" transform=\"translate(251.43,0)\" d=\"M0,100v320\" style=\"stroke: rgb(255, 255, 255); stroke-opacity: 1; stroke-width: 1px;\"/><path class=\"xgrid crisp\" transform=\"translate(337.14,0)\" d=\"M0,100v320\" style=\"stroke: rgb(255, 255, 255); stroke-opacity: 1; stroke-width: 1px;\"/><path class=\"xgrid crisp\" transform=\"translate(422.86,0)\" d=\"M0,100v320\" style=\"stroke: rgb(255, 255, 255); stroke-opacity: 1; stroke-width: 1px;\"/></g><g class=\"y\"><path class=\"ygrid crisp\" transform=\"translate(0,372.35)\" d=\"M80,0h420\" style=\"stroke: rgb(255, 255, 255); stroke-opacity: 1; stroke-width: 1px;\"/><path class=\"ygrid crisp\" transform=\"translate(0,324.32)\" d=\"M80,0h420\" style=\"stroke: rgb(255, 255, 255); stroke-opacity: 1; stroke-width: 1px;\"/><path class=\"ygrid crisp\" transform=\"translate(0,276.28999999999996)\" d=\"M80,0h420\" style=\"stroke: rgb(255, 255, 255); stroke-opacity: 1; stroke-width: 1px;\"/><path class=\"ygrid crisp\" transform=\"translate(0,228.26)\" d=\"M80,0h420\" style=\"stroke: rgb(255, 255, 255); stroke-opacity: 1; stroke-width: 1px;\"/><path class=\"ygrid crisp\" transform=\"translate(0,180.23000000000002)\" d=\"M80,0h420\" style=\"stroke: rgb(255, 255, 255); stroke-opacity: 1; stroke-width: 1px;\"/><path class=\"ygrid crisp\" transform=\"translate(0,132.2)\" d=\"M80,0h420\" style=\"stroke: rgb(255, 255, 255); stroke-opacity: 1; stroke-width: 1px;\"/></g></g><g class=\"zerolinelayer\"><path class=\"xzl zl crisp\" transform=\"translate(80,0)\" d=\"M0,100v320\" style=\"stroke: rgb(255, 255, 255); stroke-opacity: 1; stroke-width: 1px;\"/></g><g class=\"layer-between\"><g class=\"shapelayer\"/><g class=\"imagelayer\"/></g><path class=\"xlines-below\"/><path class=\"ylines-below\"/><g class=\"overlines-below\"/><g class=\"xaxislayer-below\"/><g class=\"yaxislayer-below\"/><g class=\"overaxes-below\"/><g class=\"overplot\"><g class=\"xy\" transform=\"translate(80,100)\" clip-path=\"url(#clip9d18fdxyplot)\"><g class=\"scatterlayer mlayer\"><g class=\"trace scatter trace403298\" style=\"stroke-miterlimit: 2; opacity: 1;\"><g class=\"fills\"/><g class=\"errorbars\"/><g class=\"lines\"><path class=\"js-line\" d=\"M420,201.2L411.43,194.83L402.86,203.21L394.29,197.69L385.71,194.48L377.14,200.88L368.57,191.91L360,192.37L351.43,193.95L342.86,193.11L334.29,194.46L325.71,198.47L317.14,192.57L308.57,191.55L300,193.82L291.43,182.9L282.86,194.97L274.29,188.06L265.71,176.7L257.14,184.66L248.57,178.11L240,178.23L231.43,185.25L222.86,169.74L214.29,188.01L205.71,166.75L197.14,185.42L188.57,171.82L180,174.02L171.43,184.85L162.86,173.21L154.29,179.85L145.71,176.79L137.14,172.41L128.57,177.16L120,166.04L111.43,164.92L102.86,167.91L94.29,157.73L85.71,175.3L77.14,154.49L68.57,166.65L60,147.19L51.43,170.8L42.86,129.63L34.29,123.14L25.71,46.1L17.14,39.14L8.57,287.48L0,246.78\" style=\"vector-effect: none; fill: none; stroke: rgb(99, 110, 250); stroke-opacity: 1; stroke-width: 2px; opacity: 1;\"/></g><g class=\"points\"/><g class=\"text\"/></g><g class=\"trace scatter trace1f19fb\" style=\"stroke-miterlimit: 2; opacity: 1;\"><g class=\"fills\"/><g class=\"errorbars\"/><g class=\"lines\"><path class=\"js-line\" d=\"M420,201.1L411.43,197.97L402.86,201.68L394.29,201.12L385.71,194.82L377.14,200.12L368.57,200.36L360,190.85L351.43,195.2L342.86,199.09L334.29,193.04L325.71,197.68L317.14,198.26L308.57,188.79L300,195.79L291.43,186.92L282.86,188.96L274.29,191L265.71,178.21L257.14,186.32L248.57,184.96L240,180.72L231.43,179.96L222.86,180.85L214.29,185.11L205.71,161.13L197.14,189.18L188.57,168.5L180,175.99L171.43,191.83L162.86,170.18L154.29,186.97L145.71,187L137.14,166.64L128.57,181.73L120,174.73L111.43,162.62L102.86,163.77L94.29,166.19L85.71,170.81L77.14,155.79L68.57,171.39L60,144.94L51.43,175.9L42.86,133.96L34.29,93.73L25.71,78.73L17.14,16L8.57,275.62L0,249.9\" style=\"vector-effect: none; fill: none; stroke: rgb(99, 110, 250); stroke-opacity: 1; stroke-width: 2px; opacity: 1;\"/></g><g class=\"points\"/><g class=\"text\"/></g><g class=\"trace scatter trace9fc504\" style=\"stroke-miterlimit: 2; opacity: 1;\"><g class=\"fills\"/><g class=\"errorbars\"/><g class=\"lines\"><path class=\"js-line\" d=\"M420,301.38L411.43,303.89L402.86,303.96L394.29,302.7L385.71,304L377.14,303.32L368.57,299.37L360,299.44L351.43,302.86L334.29,303.18L325.71,302.78L308.57,303.34L300,301.17L291.43,302.73L282.86,302.53L274.29,301.43L265.71,298.64L257.14,303.94L248.57,301.49L240,300.15L231.43,303.47L222.86,301.22L214.29,303.23L205.71,301.86L197.14,303L188.57,300.79L180,302.07L171.43,301.62L162.86,303.66L154.29,303.56L145.71,301.77L137.14,302.39L128.57,301.66L120,302.54L111.43,301.83L94.29,301.22L85.71,302.3L77.14,300L68.57,301.73L60,299.72L51.43,299.31L42.86,298.02L34.29,299.04L25.71,299.3L17.14,295.98L8.57,279.75L0,241.87\" style=\"vector-effect: none; fill: none; stroke: rgb(239, 85, 59); stroke-opacity: 1; stroke-width: 2px; opacity: 1;\"/></g><g class=\"points\"/><g class=\"text\"/></g><g class=\"trace scatter trace265a40\" style=\"stroke-miterlimit: 2; opacity: 1;\"><g class=\"fills\"/><g class=\"errorbars\"/><g class=\"lines\"><path class=\"js-line\" d=\"M420,300.07L402.86,301.49L394.29,299.83L385.71,302.84L377.14,299.87L360,294.8L351.43,299.24L342.86,296.7L334.29,300.61L325.71,302.12L317.14,300.23L308.57,301.24L300,301.23L291.43,300.25L282.86,301.15L274.29,296.96L265.71,300.62L257.14,298.44L248.57,299.82L240,295.88L231.43,300.53L222.86,296.09L214.29,299.11L205.71,300.16L197.14,300.33L188.57,298.72L180,300.03L171.43,299.92L162.86,301.7L154.29,300.46L145.71,301.47L137.14,299.79L128.57,300.81L120,302.21L111.43,298.94L102.86,299.2L94.29,301.53L85.71,300.16L77.14,300.22L60,297.76L51.43,300.25L42.86,297.53L34.29,299.01L25.71,298.14L17.14,288.24L8.57,279.72L0,243.1\" style=\"vector-effect: none; fill: none; stroke: rgb(239, 85, 59); stroke-opacity: 1; stroke-width: 2px; opacity: 1;\"/></g><g class=\"points\"/><g class=\"text\"/></g><g class=\"trace scatter tracec168d2\" style=\"stroke-miterlimit: 2; opacity: 1;\"><g class=\"fills\"/><g class=\"errorbars\"/><g class=\"lines\"><path class=\"js-line\" d=\"M420,302.89L411.43,303.64L402.86,302.64L385.71,302.41L377.14,302.19L368.57,303.51L360,303.38L342.86,303.99L334.29,303.32L317.14,302.94L308.57,302.12L300,302.69L291.43,302.5L282.86,301.04L274.29,302.53L265.71,302.09L257.14,299.69L248.57,302.94L240,302.68L222.86,301.89L214.29,302.74L205.71,302.48L197.14,303.01L188.57,302.65L180,303.27L171.43,302.02L162.86,303.06L145.71,303.46L137.14,302.4L128.57,303.09L120,302.19L111.43,300.93L102.86,301.97L85.71,301.18L77.14,303.59L68.57,301.48L60,301.19L51.43,301.03L42.86,298.87L34.29,300.76L25.71,300.72L17.14,297.13L8.57,272.4L0,231.97\" style=\"vector-effect: none; fill: none; stroke: rgb(0, 204, 150); stroke-opacity: 1; stroke-width: 2px; opacity: 1;\"/></g><g class=\"points\"/><g class=\"text\"/></g><g class=\"trace scatter trace8793d6\" style=\"stroke-miterlimit: 2; opacity: 1;\"><g class=\"fills\"/><g class=\"errorbars\"/><g class=\"lines\"><path class=\"js-line\" d=\"M420,300.52L411.43,301.25L402.86,300.86L377.14,300.01L368.57,300.79L351.43,301.54L342.86,300.68L334.29,300.86L325.71,301.88L317.14,299.99L308.57,299.51L274.29,301.12L265.71,300.18L257.14,299.58L248.57,299.82L231.43,300.14L222.86,298.08L214.29,300.6L205.71,300.69L197.14,302.07L188.57,301.53L180,301.82L171.43,300.47L162.86,301.27L154.29,300.93L145.71,299.85L137.14,301.61L128.57,300.58L120,301.82L111.43,300.01L102.86,300.7L94.29,299.46L85.71,300.11L77.14,301.18L68.57,299.58L60,300.64L51.43,298.3L42.86,300.13L34.29,300.24L17.14,295.88L8.57,275.11L0,235.27\" style=\"vector-effect: none; fill: none; stroke: rgb(0, 204, 150); stroke-opacity: 1; stroke-width: 2px; opacity: 1;\"/></g><g class=\"points\"/><g class=\"text\"/></g><g class=\"trace scatter trace1e1401\" style=\"stroke-miterlimit: 2; opacity: 1;\"><g class=\"fills\"/><g class=\"errorbars\"/><g class=\"lines\"><path class=\"js-line\" d=\"M420,303.21L411.43,303.86L402.86,303.06L385.71,303.35L377.14,303.72L342.86,302.88L334.29,302.48L325.71,303.01L317.14,302.7L308.57,302.87L300,302.24L274.29,302.56L265.71,302.39L257.14,301.87L248.57,302.57L222.86,301.39L214.29,300.96L205.71,301.68L197.14,300.47L154.29,298.72L145.71,297.82L137.14,297.68L128.57,296.19L111.43,294.16L102.86,292.54L85.71,289.17L77.14,287.15L68.57,284.85L60,281.7L51.43,277.68L42.86,272.51L34.29,264.62L25.71,253.15L17.14,239.93L8.57,228.4L0,216.64\" style=\"vector-effect: none; fill: none; stroke: rgb(171, 99, 250); stroke-opacity: 1; stroke-width: 2px; opacity: 1;\"/></g><g class=\"points\"/><g class=\"text\"/></g><g class=\"trace scatter trace1746ee\" style=\"stroke-miterlimit: 2; opacity: 1;\"><g class=\"fills\"/><g class=\"errorbars\"/><g class=\"lines\"><path class=\"js-line\" d=\"M420,301.44L394.29,301.56L385.71,301.14L351.43,301.39L342.86,300.6L334.29,301.38L325.71,301.4L257.14,301.07L248.57,300.6L240,300.85L231.43,300.21L222.86,300.69L214.29,299.22L205.71,299.62L197.14,299.13L180,299.01L171.43,297.89L145.71,296.94L137.14,296.37L111.43,293.32L102.86,291.83L77.14,287.16L68.57,284.86L51.43,278.45L42.86,273.77L34.29,266.7L25.71,255.71L17.14,242.79L8.57,231.38L0,219.07\" style=\"vector-effect: none; fill: none; stroke: rgb(171, 99, 250); stroke-opacity: 1; stroke-width: 2px; opacity: 1;\"/></g><g class=\"points\"/><g class=\"text\"/></g><g class=\"trace scatter tracef20cf7\" style=\"stroke-miterlimit: 2; opacity: 1;\"><g class=\"fills\"/><g class=\"errorbars\"/><g class=\"lines\"><path class=\"js-line\" d=\"M420,297.26L402.86,296.25L394.29,296.26L342.86,294.99L334.29,294.29L325.71,294.79L317.14,294.17L308.57,294.32L300,293.17L282.86,292.56L274.29,291.99L222.86,288.7L214.29,287.73L180,283.74L171.43,282.56L145.71,277.08L137.14,274.4L128.57,271.47L120,267.65L94.29,254.34L85.71,249.94L68.57,242.77L60,239.72L34.29,232.08L25.71,229.55L17.14,226.53L8.57,221.39L0,213.87\" style=\"vector-effect: none; fill: none; stroke: rgb(255, 161, 90); stroke-opacity: 1; stroke-width: 2px; opacity: 1;\"/></g><g class=\"points\"/><g class=\"text\"/></g><g class=\"trace scatter trace8ab0d9\" style=\"stroke-miterlimit: 2; opacity: 1;\"><g class=\"fills\"/><g class=\"errorbars\"/><g class=\"lines\"><path class=\"js-line\" d=\"M420,297.21L402.86,297.37L394.29,297.07L300,294.5L291.43,293.82L265.71,293.07L257.14,292.3L248.57,292.12L240,290.83L231.43,291.21L222.86,290.11L188.57,287.01L180,285.99L154.29,281.74L145.71,279.66L128.57,274.04L120,270.5L94.29,257.19L85.71,252.6L68.57,245.27L60,242.39L17.14,228.54L8.57,222.3L0,213.69\" style=\"vector-effect: none; fill: none; stroke: rgb(255, 161, 90); stroke-opacity: 1; stroke-width: 2px; opacity: 1;\"/></g><g class=\"points\"/><g class=\"text\"/></g></g></g></g><path class=\"xlines-above crisp\" d=\"\" style=\"fill: none; stroke-width: 1px; stroke: rgb(0, 0, 0); stroke-opacity: 0;\"/><path class=\"ylines-above crisp\" d=\"\" style=\"fill: none; stroke-width: 1px; stroke: rgb(0, 0, 0); stroke-opacity: 0;\"/><g class=\"overlines-above\"/><g class=\"xaxislayer-above\"><path class=\"xtick ticks crisp\" d=\"M0,421v5\" transform=\"translate(80,0)\" style=\"stroke: rgb(51, 51, 51); stroke-opacity: 1; stroke-width: 1px;\"/><path class=\"xtick ticks crisp\" d=\"M0,421v5\" transform=\"translate(165.70999999999998,0)\" style=\"stroke: rgb(51, 51, 51); stroke-opacity: 1; stroke-width: 1px;\"/><path class=\"xtick ticks crisp\" d=\"M0,421v5\" transform=\"translate(251.43,0)\" style=\"stroke: rgb(51, 51, 51); stroke-opacity: 1; stroke-width: 1px;\"/><path class=\"xtick ticks crisp\" d=\"M0,421v5\" transform=\"translate(337.14,0)\" style=\"stroke: rgb(51, 51, 51); stroke-opacity: 1; stroke-width: 1px;\"/><path class=\"xtick ticks crisp\" d=\"M0,421v5\" transform=\"translate(422.86,0)\" style=\"stroke: rgb(51, 51, 51); stroke-opacity: 1; stroke-width: 1px;\"/><g class=\"xtick\"><text text-anchor=\"middle\" x=\"0\" y=\"440.4\" transform=\"translate(80,0)\" style=\"font-family: 'Open Sans', verdana, arial, sans-serif; font-size: 12px; fill: rgb(51, 51, 51); fill-opacity: 1; white-space: pre; opacity: 1;\">0</text></g><g class=\"xtick\"><text text-anchor=\"middle\" x=\"0\" y=\"440.4\" style=\"font-family: 'Open Sans', verdana, arial, sans-serif; font-size: 12px; fill: rgb(51, 51, 51); fill-opacity: 1; white-space: pre; opacity: 1;\" transform=\"translate(165.70999999999998,0)\">10</text></g><g class=\"xtick\"><text text-anchor=\"middle\" x=\"0\" y=\"440.4\" style=\"font-family: 'Open Sans', verdana, arial, sans-serif; font-size: 12px; fill: rgb(51, 51, 51); fill-opacity: 1; white-space: pre; opacity: 1;\" transform=\"translate(251.43,0)\">20</text></g><g class=\"xtick\"><text text-anchor=\"middle\" x=\"0\" y=\"440.4\" style=\"font-family: 'Open Sans', verdana, arial, sans-serif; font-size: 12px; fill: rgb(51, 51, 51); fill-opacity: 1; white-space: pre; opacity: 1;\" transform=\"translate(337.14,0)\">30</text></g><g class=\"xtick\"><text text-anchor=\"middle\" x=\"0\" y=\"440.4\" style=\"font-family: 'Open Sans', verdana, arial, sans-serif; font-size: 12px; fill: rgb(51, 51, 51); fill-opacity: 1; white-space: pre; opacity: 1;\" transform=\"translate(422.86,0)\">40</text></g></g><g class=\"yaxislayer-above\"><path class=\"ytick ticks crisp\" d=\"M79,0h-5\" transform=\"translate(0,372.35)\" style=\"stroke: rgb(51, 51, 51); stroke-opacity: 1; stroke-width: 1px;\"/><path class=\"ytick ticks crisp\" d=\"M79,0h-5\" transform=\"translate(0,324.32)\" style=\"stroke: rgb(51, 51, 51); stroke-opacity: 1; stroke-width: 1px;\"/><path class=\"ytick ticks crisp\" d=\"M79,0h-5\" transform=\"translate(0,276.28999999999996)\" style=\"stroke: rgb(51, 51, 51); stroke-opacity: 1; stroke-width: 1px;\"/><path class=\"ytick ticks crisp\" d=\"M79,0h-5\" transform=\"translate(0,228.26)\" style=\"stroke: rgb(51, 51, 51); stroke-opacity: 1; stroke-width: 1px;\"/><path class=\"ytick ticks crisp\" d=\"M79,0h-5\" transform=\"translate(0,180.23000000000002)\" style=\"stroke: rgb(51, 51, 51); stroke-opacity: 1; stroke-width: 1px;\"/><path class=\"ytick ticks crisp\" d=\"M79,0h-5\" transform=\"translate(0,132.2)\" style=\"stroke: rgb(51, 51, 51); stroke-opacity: 1; stroke-width: 1px;\"/><g class=\"ytick\"><text text-anchor=\"end\" x=\"71.6\" y=\"4.199999999999999\" transform=\"translate(0,372.35)\" style=\"font-family: 'Open Sans', verdana, arial, sans-serif; font-size: 12px; fill: rgb(51, 51, 51); fill-opacity: 1; white-space: pre; opacity: 1;\">0.5</text></g><g class=\"ytick\"><text text-anchor=\"end\" x=\"71.6\" y=\"4.199999999999999\" style=\"font-family: 'Open Sans', verdana, arial, sans-serif; font-size: 12px; fill: rgb(51, 51, 51); fill-opacity: 1; white-space: pre; opacity: 1;\" transform=\"translate(0,324.32)\">1</text></g><g class=\"ytick\"><text text-anchor=\"end\" x=\"71.6\" y=\"4.199999999999999\" style=\"font-family: 'Open Sans', verdana, arial, sans-serif; font-size: 12px; fill: rgb(51, 51, 51); fill-opacity: 1; white-space: pre; opacity: 1;\" transform=\"translate(0,276.28999999999996)\">1.5</text></g><g class=\"ytick\"><text text-anchor=\"end\" x=\"71.6\" y=\"4.199999999999999\" style=\"font-family: 'Open Sans', verdana, arial, sans-serif; font-size: 12px; fill: rgb(51, 51, 51); fill-opacity: 1; white-space: pre; opacity: 1;\" transform=\"translate(0,228.26)\">2</text></g><g class=\"ytick\"><text text-anchor=\"end\" x=\"71.6\" y=\"4.199999999999999\" style=\"font-family: 'Open Sans', verdana, arial, sans-serif; font-size: 12px; fill: rgb(51, 51, 51); fill-opacity: 1; white-space: pre; opacity: 1;\" transform=\"translate(0,180.23000000000002)\">2.5</text></g><g class=\"ytick\"><text text-anchor=\"end\" x=\"71.6\" y=\"4.199999999999999\" style=\"font-family: 'Open Sans', verdana, arial, sans-serif; font-size: 12px; fill: rgb(51, 51, 51); fill-opacity: 1; white-space: pre; opacity: 1;\" transform=\"translate(0,132.2)\">3</text></g></g><g class=\"overaxes-above\"/></g></g><g class=\"polarlayer\"/><g class=\"smithlayer\"/><g class=\"ternarylayer\"/><g class=\"geolayer\"/><g class=\"funnelarealayer\"/><g class=\"pielayer\"/><g class=\"iciclelayer\"/><g class=\"treemaplayer\"/><g class=\"sunburstlayer\"/><g class=\"glimages\"/><defs id=\"topdefs-9d18fd\"><g class=\"clips\"/><clipPath id=\"legend9d18fd\"><rect width=\"80\" height=\"124\" x=\"0\" y=\"0\"/></clipPath></defs><g class=\"layer-above\"><g class=\"imagelayer\"/><g class=\"shapelayer\"/></g><g class=\"infolayer\"><g class=\"legend\" pointer-events=\"all\" transform=\"translate(508.40000000000003,100)\"><rect class=\"bg\" shape-rendering=\"crispEdges\" style=\"stroke: rgb(68, 68, 68); stroke-opacity: 1; fill: rgb(255, 255, 255); fill-opacity: 1; stroke-width: 0px;\" width=\"80\" height=\"124\" x=\"0\" y=\"0\"/><g class=\"scrollbox\" transform=\"\" clip-path=\"url(#legend9d18fd)\"><text class=\"legendtitletext\" text-anchor=\"start\" x=\"2\" y=\"18.2\" style=\"font-family: 'Open Sans', verdana, arial, sans-serif; font-size: 14px; fill: rgb(51, 51, 51); fill-opacity: 1; white-space: pre;\">color</text><g class=\"groups\" transform=\"\"><g class=\"traces\" transform=\"translate(0,32.7)\" style=\"opacity: 1;\"><text class=\"legendtext\" text-anchor=\"start\" x=\"40\" y=\"4.680000000000001\" style=\"font-family: 'Open Sans', verdana, arial, sans-serif; font-size: 12px; fill: rgb(51, 51, 51); fill-opacity: 1; white-space: pre;\">0.999</text><g class=\"layers\" style=\"opacity: 1;\"><g class=\"legendfill\"/><g class=\"legendlines\"><path class=\"js-line\" d=\"M5,0h30\" style=\"fill: none; stroke: rgb(99, 110, 250); stroke-opacity: 1; stroke-width: 2px;\"/></g><g class=\"legendsymbols\"><g class=\"legendpoints\"/></g></g><rect class=\"legendtoggle\" x=\"0\" y=\"-9.5\" width=\"74.890625\" height=\"19\" style=\"fill: rgb(0, 0, 0); fill-opacity: 0;\"/></g></g><g class=\"groups\" transform=\"\"><g class=\"traces\" transform=\"translate(0,51.7)\" style=\"opacity: 1;\"><text class=\"legendtext\" text-anchor=\"start\" x=\"40\" y=\"4.680000000000001\" style=\"font-family: 'Open Sans', verdana, arial, sans-serif; font-size: 12px; fill: rgb(51, 51, 51); fill-opacity: 1; white-space: pre;\">0.95</text><g class=\"layers\" style=\"opacity: 1;\"><g class=\"legendfill\"/><g class=\"legendlines\"><path class=\"js-line\" d=\"M5,0h30\" style=\"fill: none; stroke: rgb(239, 85, 59); stroke-opacity: 1; stroke-width: 2px;\"/></g><g class=\"legendsymbols\"><g class=\"legendpoints\"/></g></g><rect class=\"legendtoggle\" x=\"0\" y=\"-9.5\" width=\"74.890625\" height=\"19\" style=\"fill: rgb(0, 0, 0); fill-opacity: 0;\"/></g></g><g class=\"groups\" transform=\"\"><g class=\"traces\" transform=\"translate(0,70.7)\" style=\"opacity: 1;\"><text class=\"legendtext\" text-anchor=\"start\" x=\"40\" y=\"4.680000000000001\" style=\"font-family: 'Open Sans', verdana, arial, sans-serif; font-size: 12px; fill: rgb(51, 51, 51); fill-opacity: 1; white-space: pre;\">0.9</text><g class=\"layers\" style=\"opacity: 1;\"><g class=\"legendfill\"/><g class=\"legendlines\"><path class=\"js-line\" d=\"M5,0h30\" style=\"fill: none; stroke: rgb(0, 204, 150); stroke-opacity: 1; stroke-width: 2px;\"/></g><g class=\"legendsymbols\"><g class=\"legendpoints\"/></g></g><rect class=\"legendtoggle\" x=\"0\" y=\"-9.5\" width=\"74.890625\" height=\"19\" style=\"fill: rgb(0, 0, 0); fill-opacity: 0;\"/></g></g><g class=\"groups\" transform=\"\"><g class=\"traces\" transform=\"translate(0,89.7)\" style=\"opacity: 1;\"><text class=\"legendtext\" text-anchor=\"start\" x=\"40\" y=\"4.680000000000001\" style=\"font-family: 'Open Sans', verdana, arial, sans-serif; font-size: 12px; fill: rgb(51, 51, 51); fill-opacity: 1; white-space: pre;\">0.5</text><g class=\"layers\" style=\"opacity: 1;\"><g class=\"legendfill\"/><g class=\"legendlines\"><path class=\"js-line\" d=\"M5,0h30\" style=\"fill: none; stroke: rgb(171, 99, 250); stroke-opacity: 1; stroke-width: 2px;\"/></g><g class=\"legendsymbols\"><g class=\"legendpoints\"/></g></g><rect class=\"legendtoggle\" x=\"0\" y=\"-9.5\" width=\"74.890625\" height=\"19\" style=\"fill: rgb(0, 0, 0); fill-opacity: 0;\"/></g></g><g class=\"groups\" transform=\"\"><g class=\"traces\" transform=\"translate(0,108.7)\" style=\"opacity: 1;\"><text class=\"legendtext\" text-anchor=\"start\" x=\"40\" y=\"4.680000000000001\" style=\"font-family: 'Open Sans', verdana, arial, sans-serif; font-size: 12px; fill: rgb(51, 51, 51); fill-opacity: 1; white-space: pre;\">0.0</text><g class=\"layers\" style=\"opacity: 1;\"><g class=\"legendfill\"/><g class=\"legendlines\"><path class=\"js-line\" d=\"M5,0h30\" style=\"fill: none; stroke: rgb(255, 161, 90); stroke-opacity: 1; stroke-width: 2px;\"/></g><g class=\"legendsymbols\"><g class=\"legendpoints\"/></g></g><rect class=\"legendtoggle\" x=\"0\" y=\"-9.5\" width=\"74.890625\" height=\"19\" style=\"fill: rgb(0, 0, 0); fill-opacity: 0;\"/></g></g></g><rect class=\"scrollbar\" rx=\"20\" ry=\"3\" width=\"0\" height=\"0\" style=\"fill: rgb(128, 139, 164); fill-opacity: 1;\" x=\"0\" y=\"0\"/></g><g class=\"g-gtitle\"><text class=\"gtitle\" x=\"300\" y=\"50\" text-anchor=\"middle\" dy=\"0em\" style=\"opacity: 1; font-family: 'Open Sans', verdana, arial, sans-serif; font-size: 17px; fill: rgb(51, 51, 51); fill-opacity: 1; white-space: pre;\">Losses</text></g><g class=\"g-xtitle\"><text class=\"xtitle\" x=\"290\" y=\"467.20625\" text-anchor=\"middle\" style=\"opacity: 1; font-family: 'Open Sans', verdana, arial, sans-serif; font-size: 14px; fill: rgb(51, 51, 51); fill-opacity: 1; white-space: pre;\">epoch</text></g><g class=\"g-ytitle\"><text class=\"ytitle\" transform=\"rotate(-90,32.56875,260)\" x=\"32.56875\" y=\"260\" text-anchor=\"middle\" style=\"opacity: 1; font-family: 'Open Sans', verdana, arial, sans-serif; font-size: 14px; fill: rgb(51, 51, 51); fill-opacity: 1; white-space: pre;\">value</text></g></g></svg>"
     },
     "metadata": {},
     "output_type": "display_data"
    }
   ],
   "execution_count": 197
  },
  {
   "metadata": {
    "ExecuteTime": {
     "end_time": "2025-05-05T17:08:50.868667Z",
     "start_time": "2025-05-05T17:08:50.808379Z"
    }
   },
   "cell_type": "code",
   "source": [
    "fig = px.line(\n",
    "    grouped_results,\n",
    "    x='epoch',\n",
    "    y=['train_acc_mean', ],\n",
    "    color=grouped_results.select(pl.col('momentum').cast(pl.String)).to_series(),\n",
    "    title='Train Accuracy'\n",
    ")\n",
    "\n",
    "fig.update_layout(template='ggplot2', width=600)\n",
    "fig.show(renderer='svg')"
   ],
   "id": "5698c8e7713e30a6",
   "outputs": [
    {
     "data": {
      "image/svg+xml": "<svg class=\"main-svg\" xmlns=\"http://www.w3.org/2000/svg\" xmlns:xlink=\"http://www.w3.org/1999/xlink\" width=\"600\" height=\"500\" style=\"\" viewBox=\"0 0 600 500\"><rect x=\"0\" y=\"0\" width=\"600\" height=\"500\" style=\"fill: rgb(255, 255, 255); fill-opacity: 1;\"/><defs id=\"defs-0b8a50\"><g class=\"clips\"><clipPath id=\"clip0b8a50xyplot\" class=\"plotclip\"><rect width=\"420\" height=\"320\"/></clipPath><clipPath class=\"axesclip\" id=\"clip0b8a50x\"><rect x=\"80\" y=\"0\" width=\"420\" height=\"500\"/></clipPath><clipPath class=\"axesclip\" id=\"clip0b8a50y\"><rect x=\"0\" y=\"100\" width=\"600\" height=\"320\"/></clipPath><clipPath class=\"axesclip\" id=\"clip0b8a50xy\"><rect x=\"80\" y=\"100\" width=\"420\" height=\"320\"/></clipPath></g><g class=\"gradients\"/><g class=\"patterns\"/></defs><g class=\"bglayer\"><rect class=\"bg\" x=\"80\" y=\"100\" width=\"420\" height=\"320\" style=\"fill: rgb(237, 237, 237); fill-opacity: 1; stroke-width: 0;\"/></g><g class=\"layer-below\"><g class=\"imagelayer\"/><g class=\"shapelayer\"/></g><g class=\"cartesianlayer\"><g class=\"subplot xy\"><g class=\"layer-subplot\"><g class=\"shapelayer\"/><g class=\"imagelayer\"/></g><g class=\"minor-gridlayer\"><g class=\"x\"/><g class=\"y\"/></g><g class=\"gridlayer\"><g class=\"x\"><path class=\"xgrid crisp\" transform=\"translate(185.53,0)\" d=\"M0,100v320\" style=\"stroke: rgb(255, 255, 255); stroke-opacity: 1; stroke-width: 1px;\"/><path class=\"xgrid crisp\" transform=\"translate(291.06,0)\" d=\"M0,100v320\" style=\"stroke: rgb(255, 255, 255); stroke-opacity: 1; stroke-width: 1px;\"/><path class=\"xgrid crisp\" transform=\"translate(396.58,0)\" d=\"M0,100v320\" style=\"stroke: rgb(255, 255, 255); stroke-opacity: 1; stroke-width: 1px;\"/></g><g class=\"y\"><path class=\"ygrid crisp\" transform=\"translate(0,411.71)\" d=\"M80,0h420\" style=\"stroke: rgb(255, 255, 255); stroke-opacity: 1; stroke-width: 1px;\"/><path class=\"ygrid crisp\" transform=\"translate(0,366.28)\" d=\"M80,0h420\" style=\"stroke: rgb(255, 255, 255); stroke-opacity: 1; stroke-width: 1px;\"/><path class=\"ygrid crisp\" transform=\"translate(0,320.85)\" d=\"M80,0h420\" style=\"stroke: rgb(255, 255, 255); stroke-opacity: 1; stroke-width: 1px;\"/><path class=\"ygrid crisp\" transform=\"translate(0,275.40999999999997)\" d=\"M80,0h420\" style=\"stroke: rgb(255, 255, 255); stroke-opacity: 1; stroke-width: 1px;\"/><path class=\"ygrid crisp\" transform=\"translate(0,229.98)\" d=\"M80,0h420\" style=\"stroke: rgb(255, 255, 255); stroke-opacity: 1; stroke-width: 1px;\"/><path class=\"ygrid crisp\" transform=\"translate(0,184.55)\" d=\"M80,0h420\" style=\"stroke: rgb(255, 255, 255); stroke-opacity: 1; stroke-width: 1px;\"/><path class=\"ygrid crisp\" transform=\"translate(0,139.12)\" d=\"M80,0h420\" style=\"stroke: rgb(255, 255, 255); stroke-opacity: 1; stroke-width: 1px;\"/></g></g><g class=\"zerolinelayer\"><path class=\"xzl zl crisp\" transform=\"translate(80,0)\" d=\"M0,100v320\" style=\"stroke: rgb(255, 255, 255); stroke-opacity: 1; stroke-width: 1px;\"/></g><g class=\"layer-between\"><g class=\"shapelayer\"/><g class=\"imagelayer\"/></g><path class=\"xlines-below\"/><path class=\"ylines-below\"/><g class=\"overlines-below\"/><g class=\"xaxislayer-below\"/><g class=\"yaxislayer-below\"/><g class=\"overaxes-below\"/><g class=\"overplot\"><g class=\"xy\" transform=\"translate(80,100)\" clip-path=\"url(#clip0b8a50xyplot)\"><g class=\"scatterlayer mlayer\"><g class=\"trace scatter traceee6a97\" style=\"stroke-miterlimit: 2; opacity: 1;\"><g class=\"fills\"/><g class=\"errorbars\"/><g class=\"lines\"><path class=\"js-line\" d=\"M420,290.48L417.89,283.72L415.78,292.51L413.67,283.72L411.56,282.37L409.45,283.04L407.34,298.59L403.12,287.77L401.01,287.77L398.89,279.66L396.78,287.77L394.67,285.07L392.56,283.72L390.45,295.89L388.34,284.39L386.23,299.94L384.12,294.54L382.01,285.07L379.9,288.45L377.79,288.45L375.68,284.39L373.57,289.8L371.46,275.61L369.35,287.77L367.24,289.13L365.13,278.99L363.02,287.1L360.9,304L358.79,289.8L356.68,277.63L354.57,282.37L352.46,294.54L350.35,295.21L348.24,283.72L346.13,302.65L344.02,281.69L341.91,292.51L339.8,295.89L337.69,291.83L335.58,293.86L333.47,290.48L331.36,297.24L329.25,293.18L327.14,283.72L325.03,278.31L322.91,287.1L320.8,285.75L318.69,279.66L316.58,288.45L314.47,276.28L312.36,283.04L310.25,287.77L308.14,281.01L306.03,285.75L303.92,298.59L297.59,285.75L295.48,304L293.37,286.42L291.26,284.39L289.15,276.96L287.04,288.45L284.92,293.86L282.81,288.45L280.7,279.66L278.59,298.59L276.48,282.37L274.37,289.8L272.26,283.04L270.15,298.59L268.04,284.39L265.93,278.99L261.71,289.13L259.6,285.07L257.49,290.48L255.38,282.37L253.27,297.92L251.16,295.21L249.05,283.04L246.93,292.51L242.71,283.04L240.6,297.24L238.49,274.93L236.38,295.89L232.16,297.92L230.05,294.54L227.94,291.15L225.83,291.15L221.61,288.45L219.5,294.54L217.39,283.04L215.28,297.24L213.17,288.45L211.06,293.86L208.94,285.75L206.83,290.48L204.72,292.51L202.61,285.07L200.5,283.72L198.39,295.89L196.28,276.28L194.17,288.45L192.06,291.83L189.95,287.1L187.84,285.07L185.73,291.15L183.62,281.69L181.51,294.54L179.4,280.34L177.29,285.07L175.18,292.51L173.07,293.18L170.95,285.75L168.84,289.8L166.73,283.04L164.62,286.42L162.51,291.15L160.4,285.07L158.29,298.59L156.18,287.77L154.07,281.01L151.96,292.51L149.85,284.39L147.74,269.52L145.63,297.24L143.52,282.37L141.41,288.45L139.3,287.77L137.19,292.51L135.08,281.01L132.96,289.13L130.85,289.13L128.74,292.51L126.63,282.37L124.52,287.1L122.41,283.04L120.3,280.34L118.19,281.69L116.08,284.39L113.97,296.56L109.75,281.69L107.64,287.1L105.53,289.8L103.42,283.04L101.31,288.45L99.2,287.1L97.09,283.72L94.97,286.42L92.86,286.42L90.75,301.97L88.64,284.39L86.53,288.45L84.42,280.34L82.31,282.37L80.2,281.69L78.09,289.13L75.98,290.48L73.87,285.07L71.76,292.51L69.65,283.72L67.54,283.04L65.43,289.8L63.32,295.89L61.21,283.72L59.1,297.92L56.98,280.34L54.87,293.86L52.76,286.42L50.65,280.34L48.54,283.04L46.43,290.48L44.32,286.42L42.21,292.51L40.1,295.21L37.99,291.15L35.88,295.89L31.66,287.77L29.55,289.13L27.44,297.92L25.33,287.1L21.11,292.51L18.99,287.77L16.88,293.18L14.77,292.51L12.66,251.94L10.55,182.99L8.44,177.58L6.33,286.42L2.11,33.58L0,166.08\" style=\"vector-effect: none; fill: none; stroke: rgb(99, 110, 250); stroke-opacity: 1; stroke-width: 2px; opacity: 1;\"/></g><g class=\"points\"/><g class=\"text\"/></g><g class=\"trace scatter trace5ce41d\" style=\"stroke-miterlimit: 2; opacity: 1;\"><g class=\"fills\"/><g class=\"errorbars\"/><g class=\"lines\"><path class=\"js-line\" d=\"M420,21.41L417.89,22.08L415.78,24.11L413.67,24.11L411.56,26.14L409.45,22.76L407.34,24.11L403.12,24.79L401.01,22.76L398.89,22.08L396.78,22.76L394.67,26.82L392.56,23.44L390.45,29.52L388.34,32.23L386.23,28.17L384.12,28.85L382.01,24.11L379.9,24.11L377.79,25.46L375.68,24.79L369.35,20.73L367.24,24.11L365.13,22.08L363.02,26.14L360.9,22.76L358.79,24.79L356.68,24.79L354.57,26.14L352.46,28.17L350.35,26.14L348.24,24.79L346.13,22.08L344.02,24.79L341.91,24.11L339.8,19.38L337.69,23.44L335.58,24.11L333.47,26.82L331.36,26.14L329.25,23.44L327.14,21.41L325.03,25.46L322.91,24.79L320.8,26.14L318.69,21.41L316.58,22.76L314.47,27.49L312.36,23.44L310.25,22.08L308.14,24.79L306.03,23.44L303.92,24.79L301.81,22.08L299.7,21.41L295.48,22.08L293.37,26.82L291.26,26.82L289.15,23.44L287.04,28.85L284.92,28.17L282.81,25.46L280.7,25.46L278.59,24.79L276.48,26.82L272.26,28.85L270.15,30.2L268.04,28.17L265.93,22.76L261.71,26.14L259.6,30.2L257.49,26.82L255.38,28.17L253.27,33.58L251.16,20.06L249.05,20.06L246.93,22.76L244.82,22.08L242.71,23.44L240.6,26.14L238.49,22.08L236.38,22.08L234.27,26.14L232.16,25.46L230.05,27.49L227.94,22.76L225.83,23.44L223.72,23.44L221.61,20.73L219.5,24.11L217.39,30.87L213.17,22.76L211.06,24.11L208.94,28.17L206.83,24.79L204.72,24.11L202.61,22.08L200.5,23.44L198.39,23.44L196.28,22.76L194.17,24.79L189.95,20.73L187.84,25.46L185.73,25.46L183.62,24.11L181.51,24.11L179.4,21.41L175.18,22.76L173.07,27.49L170.95,26.82L168.84,24.11L166.73,22.08L164.62,24.79L162.51,20.73L160.4,24.79L158.29,25.46L156.18,23.44L154.07,24.11L151.96,18.03L149.85,23.44L147.74,25.46L145.63,23.44L143.52,26.82L141.41,30.87L139.3,30.87L137.19,31.55L135.08,22.08L132.96,25.46L130.85,30.87L128.74,25.46L126.63,29.52L124.52,28.17L122.41,22.76L120.3,18.03L118.19,24.11L116.08,20.73L113.97,22.76L109.75,24.11L107.64,26.14L105.53,24.79L103.42,28.17L99.2,22.08L97.09,24.11L94.97,22.76L92.86,26.82L88.64,35.61L86.53,22.08L82.31,28.17L80.2,24.79L78.09,22.76L75.98,22.08L73.87,28.17L71.76,26.14L69.65,30.2L67.54,30.2L65.43,34.25L63.32,23.44L61.21,26.14L59.1,30.2L56.98,21.41L54.87,31.55L52.76,24.79L50.65,26.82L48.54,24.11L46.43,28.85L42.21,28.85L40.1,23.44L35.88,25.46L33.77,22.76L31.66,28.85L29.55,26.14L27.44,30.87L25.33,28.17L23.22,26.14L21.11,26.14L18.99,29.52L16.88,25.46L12.66,31.55L10.55,32.23L8.44,28.17L6.33,28.85L4.22,32.9L2.11,63.32L0,162.7\" style=\"vector-effect: none; fill: none; stroke: rgb(239, 85, 59); stroke-opacity: 1; stroke-width: 2px; opacity: 1;\"/></g><g class=\"points\"/><g class=\"text\"/></g><g class=\"trace scatter trace83ee2f\" style=\"stroke-miterlimit: 2; opacity: 1;\"><g class=\"fills\"/><g class=\"errorbars\"/><g class=\"lines\"><path class=\"js-line\" d=\"M420,24.11L417.89,28.17L415.78,24.11L413.67,20.73L411.56,24.11L407.34,24.79L405.23,23.44L403.12,24.11L401.01,22.76L396.78,24.79L394.67,18.7L392.56,23.44L390.45,24.79L386.23,21.41L384.12,24.79L382.01,27.49L379.9,24.11L377.79,22.76L375.68,25.46L373.57,26.14L371.46,23.44L369.35,25.46L367.24,22.08L365.13,16L363.02,24.11L360.9,20.73L358.79,24.11L356.68,24.11L354.57,22.76L352.46,23.44L350.35,22.08L348.24,18.03L346.13,22.76L344.02,24.11L341.91,22.08L339.8,24.79L337.69,26.14L335.58,20.06L333.47,25.46L331.36,23.44L329.25,24.79L327.14,26.14L325.03,22.76L322.91,23.44L320.8,21.41L318.69,20.06L316.58,23.44L314.47,28.85L312.36,27.49L310.25,21.41L308.14,28.17L306.03,22.76L303.92,22.76L301.81,21.41L299.7,22.08L297.59,24.11L295.48,28.17L293.37,24.79L291.26,24.11L289.15,25.46L287.04,23.44L282.81,26.82L280.7,22.08L278.59,22.76L276.48,25.46L272.26,22.08L270.15,25.46L268.04,22.08L265.93,24.11L263.82,25.46L261.71,23.44L259.6,22.76L257.49,23.44L255.38,28.17L253.27,27.49L251.16,24.11L249.05,24.79L246.93,21.41L244.82,25.46L242.71,28.17L240.6,21.41L238.49,21.41L236.38,24.11L234.27,28.85L232.16,22.76L230.05,26.14L227.94,21.41L225.83,20.06L223.72,24.79L221.61,22.76L219.5,22.76L217.39,26.82L215.28,20.06L213.17,23.44L211.06,19.38L208.94,23.44L206.83,24.11L204.72,22.08L202.61,22.08L200.5,28.17L198.39,20.06L196.28,22.76L194.17,22.08L192.06,26.14L189.95,24.11L187.84,22.76L185.73,22.76L183.62,24.79L181.51,21.41L179.4,21.41L177.29,24.11L175.18,24.79L173.07,20.73L170.95,24.11L168.84,22.08L166.73,22.08L164.62,24.79L162.51,28.85L160.4,20.73L158.29,22.08L156.18,24.79L154.07,25.46L151.96,24.11L147.74,24.11L145.63,22.76L141.41,21.41L139.3,28.17L137.19,29.52L135.08,25.46L130.85,22.76L128.74,26.14L126.63,26.14L124.52,28.85L122.41,24.79L120.3,23.44L118.19,26.82L116.08,23.44L113.97,23.44L111.86,22.08L109.75,22.08L107.64,25.46L105.53,26.82L103.42,24.79L101.31,19.38L99.2,25.46L97.09,26.82L94.97,25.46L92.86,26.82L90.75,24.11L88.64,25.46L86.53,21.41L84.42,24.79L82.31,25.46L80.2,22.76L78.09,24.11L75.98,24.11L73.87,28.17L71.76,28.17L69.65,30.87L67.54,26.82L65.43,27.49L63.32,34.93L61.21,24.79L56.98,24.11L54.87,28.85L52.76,21.41L50.65,25.46L48.54,27.49L46.43,22.76L44.32,23.44L42.21,25.46L40.1,25.46L37.99,24.11L33.77,22.08L31.66,26.82L29.55,25.46L27.44,28.17L25.33,22.08L23.22,24.79L21.11,24.79L18.99,20.73L14.77,25.46L12.66,31.55L10.55,30.87L8.44,27.49L6.33,28.17L4.22,20.06L2.11,39.66L0,189.07\" style=\"vector-effect: none; fill: none; stroke: rgb(0, 204, 150); stroke-opacity: 1; stroke-width: 2px; opacity: 1;\"/></g><g class=\"points\"/><g class=\"text\"/></g><g class=\"trace scatter trace03a212\" style=\"stroke-miterlimit: 2; opacity: 1;\"><g class=\"fills\"/><g class=\"errorbars\"/><g class=\"lines\"><path class=\"js-line\" d=\"M420,22.08L417.89,21.41L415.78,22.08L411.56,22.08L409.45,24.79L407.34,24.11L405.23,25.46L403.12,22.08L401.01,23.44L396.78,24.11L394.67,22.08L392.56,22.08L390.45,24.11L388.34,22.76L386.23,20.06L384.12,22.08L382.01,22.08L379.9,23.44L377.79,23.44L375.68,22.76L373.57,20.73L371.46,20.06L369.35,25.46L363.02,22.08L360.9,22.76L358.79,20.06L356.68,22.08L354.57,24.79L352.46,20.73L350.35,21.41L348.24,23.44L346.13,22.76L344.02,23.44L341.91,22.08L339.8,22.76L333.47,22.08L331.36,24.11L329.25,24.11L327.14,20.06L325.03,24.11L322.91,24.11L320.8,22.08L318.69,22.08L316.58,24.79L314.47,20.73L312.36,24.11L310.25,20.06L306.03,24.79L303.92,22.08L301.81,20.73L299.7,24.79L295.48,25.46L293.37,22.08L291.26,23.44L289.15,23.44L287.04,21.41L284.92,26.14L280.7,24.11L278.59,21.41L276.48,24.11L274.37,20.73L270.15,22.76L268.04,21.41L265.93,24.79L263.82,22.08L261.71,25.46L259.6,22.08L257.49,23.44L255.38,22.08L253.27,21.41L251.16,26.14L249.05,22.08L246.93,24.11L244.82,21.41L242.71,22.76L240.6,20.06L238.49,21.41L234.27,26.14L232.16,23.44L230.05,21.41L227.94,20.73L225.83,24.79L223.72,24.79L221.61,22.08L219.5,24.79L217.39,22.76L215.28,25.46L213.17,24.11L211.06,20.73L208.94,22.76L206.83,23.44L204.72,22.76L202.61,27.49L200.5,22.08L198.39,22.76L196.28,22.08L194.17,24.11L189.95,20.73L187.84,22.08L185.73,20.73L183.62,23.44L181.51,22.76L179.4,23.44L175.18,24.11L173.07,22.08L170.95,24.11L168.84,24.11L166.73,24.11L164.62,21.41L162.51,23.44L160.4,22.76L158.29,21.41L156.18,22.08L149.85,22.76L147.74,21.41L145.63,20.73L143.52,24.11L139.3,23.44L137.19,25.46L135.08,21.41L132.96,23.44L128.74,20.73L126.63,24.79L122.41,24.79L120.3,23.44L118.19,20.73L116.08,21.41L113.97,24.11L111.86,22.76L109.75,24.79L107.64,23.44L103.42,21.41L101.31,21.41L99.2,22.08L97.09,24.79L94.97,24.79L92.86,22.76L90.75,24.79L88.64,24.79L86.53,18.03L84.42,21.41L82.31,22.76L80.2,22.08L78.09,21.41L75.98,24.79L73.87,22.08L71.76,22.76L69.65,25.46L67.54,18.7L63.32,24.79L61.21,26.14L59.1,24.79L56.98,22.08L54.87,24.79L52.76,20.73L50.65,24.79L48.54,24.11L46.43,26.14L44.32,24.11L42.21,26.82L40.1,28.17L37.99,26.14L35.88,26.14L33.77,25.46L31.66,26.82L29.55,27.49L27.44,30.87L25.33,28.85L23.22,32.23L21.11,34.25L18.99,41.01L16.88,42.37L14.77,45.75L10.55,57.92L8.44,69.41L6.33,82.93L4.22,132.96L2.11,248.56L0,295.89\" style=\"vector-effect: none; fill: none; stroke: rgb(171, 99, 250); stroke-opacity: 1; stroke-width: 2px; opacity: 1;\"/></g><g class=\"points\"/><g class=\"text\"/></g><g class=\"trace scatter traceebd12c\" style=\"stroke-miterlimit: 2; opacity: 1;\"><g class=\"fills\"/><g class=\"errorbars\"/><g class=\"lines\"><path class=\"js-line\" d=\"M420,24.79L413.67,23.44L411.56,24.11L409.45,22.76L407.34,24.79L403.12,24.79L401.01,26.82L398.89,23.44L396.78,26.14L394.67,23.44L392.56,24.79L390.45,26.14L388.34,26.14L384.12,23.44L382.01,24.11L377.79,26.14L375.68,21.41L373.57,25.46L371.46,24.11L369.35,25.46L367.24,25.46L365.13,24.79L363.02,26.82L360.9,24.11L358.79,24.79L354.57,25.46L352.46,23.44L350.35,24.11L348.24,28.17L344.02,23.44L341.91,24.11L339.8,27.49L337.69,24.79L335.58,24.79L333.47,23.44L331.36,23.44L329.25,25.46L327.14,26.14L325.03,25.46L320.8,25.46L318.69,22.76L312.36,26.14L310.25,25.46L308.14,24.11L306.03,24.11L303.92,26.82L301.81,25.46L295.48,25.46L293.37,23.44L291.26,25.46L289.15,25.46L287.04,20.73L284.92,23.44L282.81,26.14L280.7,26.14L278.59,24.11L276.48,25.46L274.37,23.44L272.26,24.11L270.15,23.44L268.04,24.11L265.93,28.17L263.82,27.49L259.6,25.46L257.49,24.79L255.38,21.41L253.27,26.14L246.93,24.11L244.82,26.14L240.6,24.11L238.49,26.82L234.27,24.79L232.16,24.11L230.05,24.11L227.94,25.46L223.72,25.46L221.61,24.11L219.5,23.44L217.39,24.79L215.28,23.44L213.17,26.82L208.94,28.17L206.83,24.79L204.72,26.82L202.61,26.82L200.5,22.76L198.39,24.79L196.28,26.82L194.17,25.46L192.06,26.14L189.95,25.46L187.84,27.49L185.73,24.79L183.62,26.82L181.51,25.46L179.4,28.17L177.29,26.82L173.07,24.79L170.95,28.85L168.84,26.14L166.73,26.14L164.62,27.49L162.51,27.49L160.4,25.46L158.29,29.52L154.07,26.14L151.96,21.41L149.85,23.44L147.74,26.82L145.63,26.82L143.52,29.52L141.41,24.79L139.3,28.85L137.19,27.49L135.08,28.85L130.85,27.49L128.74,28.17L126.63,24.79L124.52,29.52L122.41,28.85L120.3,26.14L118.19,28.85L116.08,25.46L113.97,28.17L111.86,26.14L107.64,29.52L105.53,29.52L103.42,27.49L101.31,28.85L99.2,27.49L97.09,28.85L94.97,28.85L92.86,26.82L90.75,27.49L88.64,26.14L86.53,29.52L84.42,25.46L80.2,30.87L78.09,28.17L75.98,27.49L73.87,30.2L71.76,29.52L69.65,30.87L65.43,30.2L63.32,29.52L61.21,31.55L59.1,30.87L54.87,34.25L52.76,32.9L50.65,31.55L48.54,33.58L44.32,39.66L42.21,39.66L40.1,41.69L37.99,41.01L33.77,46.42L31.66,45.07L29.55,47.77L27.44,47.1L23.22,48.45L21.11,54.54L18.99,56.56L16.88,89.01L14.77,80.9L12.66,125.52L8.44,161.35L6.33,167.44L4.22,216.79L2.11,193.8L0,299.94\" style=\"vector-effect: none; fill: none; stroke: rgb(255, 161, 90); stroke-opacity: 1; stroke-width: 2px; opacity: 1;\"/></g><g class=\"points\"/><g class=\"text\"/></g></g></g></g><path class=\"xlines-above crisp\" d=\"\" style=\"fill: none; stroke-width: 1px; stroke: rgb(0, 0, 0); stroke-opacity: 0;\"/><path class=\"ylines-above crisp\" d=\"\" style=\"fill: none; stroke-width: 1px; stroke: rgb(0, 0, 0); stroke-opacity: 0;\"/><g class=\"overlines-above\"/><g class=\"xaxislayer-above\"><path class=\"xtick ticks crisp\" d=\"M0,421v5\" transform=\"translate(80,0)\" style=\"stroke: rgb(51, 51, 51); stroke-opacity: 1; stroke-width: 1px;\"/><path class=\"xtick ticks crisp\" d=\"M0,421v5\" transform=\"translate(185.53,0)\" style=\"stroke: rgb(51, 51, 51); stroke-opacity: 1; stroke-width: 1px;\"/><path class=\"xtick ticks crisp\" d=\"M0,421v5\" transform=\"translate(291.06,0)\" style=\"stroke: rgb(51, 51, 51); stroke-opacity: 1; stroke-width: 1px;\"/><path class=\"xtick ticks crisp\" d=\"M0,421v5\" transform=\"translate(396.58,0)\" style=\"stroke: rgb(51, 51, 51); stroke-opacity: 1; stroke-width: 1px;\"/><g class=\"xtick\"><text text-anchor=\"middle\" x=\"0\" y=\"440.4\" transform=\"translate(80,0)\" style=\"font-family: 'Open Sans', verdana, arial, sans-serif; font-size: 12px; fill: rgb(51, 51, 51); fill-opacity: 1; white-space: pre; opacity: 1;\">0</text></g><g class=\"xtick\"><text text-anchor=\"middle\" x=\"0\" y=\"440.4\" style=\"font-family: 'Open Sans', verdana, arial, sans-serif; font-size: 12px; fill: rgb(51, 51, 51); fill-opacity: 1; white-space: pre; opacity: 1;\" transform=\"translate(185.53,0)\">50</text></g><g class=\"xtick\"><text text-anchor=\"middle\" x=\"0\" y=\"440.4\" style=\"font-family: 'Open Sans', verdana, arial, sans-serif; font-size: 12px; fill: rgb(51, 51, 51); fill-opacity: 1; white-space: pre; opacity: 1;\" transform=\"translate(291.06,0)\">100</text></g><g class=\"xtick\"><text text-anchor=\"middle\" x=\"0\" y=\"440.4\" style=\"font-family: 'Open Sans', verdana, arial, sans-serif; font-size: 12px; fill: rgb(51, 51, 51); fill-opacity: 1; white-space: pre; opacity: 1;\" transform=\"translate(396.58,0)\">150</text></g></g><g class=\"yaxislayer-above\"><path class=\"ytick ticks crisp\" d=\"M79,0h-5\" transform=\"translate(0,411.71)\" style=\"stroke: rgb(51, 51, 51); stroke-opacity: 1; stroke-width: 1px;\"/><path class=\"ytick ticks crisp\" d=\"M79,0h-5\" transform=\"translate(0,366.28)\" style=\"stroke: rgb(51, 51, 51); stroke-opacity: 1; stroke-width: 1px;\"/><path class=\"ytick ticks crisp\" d=\"M79,0h-5\" transform=\"translate(0,320.85)\" style=\"stroke: rgb(51, 51, 51); stroke-opacity: 1; stroke-width: 1px;\"/><path class=\"ytick ticks crisp\" d=\"M79,0h-5\" transform=\"translate(0,275.40999999999997)\" style=\"stroke: rgb(51, 51, 51); stroke-opacity: 1; stroke-width: 1px;\"/><path class=\"ytick ticks crisp\" d=\"M79,0h-5\" transform=\"translate(0,229.98)\" style=\"stroke: rgb(51, 51, 51); stroke-opacity: 1; stroke-width: 1px;\"/><path class=\"ytick ticks crisp\" d=\"M79,0h-5\" transform=\"translate(0,184.55)\" style=\"stroke: rgb(51, 51, 51); stroke-opacity: 1; stroke-width: 1px;\"/><path class=\"ytick ticks crisp\" d=\"M79,0h-5\" transform=\"translate(0,139.12)\" style=\"stroke: rgb(51, 51, 51); stroke-opacity: 1; stroke-width: 1px;\"/><g class=\"ytick\"><text text-anchor=\"end\" x=\"71.6\" y=\"4.199999999999999\" transform=\"translate(0,411.71)\" style=\"font-family: 'Open Sans', verdana, arial, sans-serif; font-size: 12px; fill: rgb(51, 51, 51); fill-opacity: 1; white-space: pre; opacity: 1;\">30</text></g><g class=\"ytick\"><text text-anchor=\"end\" x=\"71.6\" y=\"4.199999999999999\" style=\"font-family: 'Open Sans', verdana, arial, sans-serif; font-size: 12px; fill: rgb(51, 51, 51); fill-opacity: 1; white-space: pre; opacity: 1;\" transform=\"translate(0,366.28)\">40</text></g><g class=\"ytick\"><text text-anchor=\"end\" x=\"71.6\" y=\"4.199999999999999\" style=\"font-family: 'Open Sans', verdana, arial, sans-serif; font-size: 12px; fill: rgb(51, 51, 51); fill-opacity: 1; white-space: pre; opacity: 1;\" transform=\"translate(0,320.85)\">50</text></g><g class=\"ytick\"><text text-anchor=\"end\" x=\"71.6\" y=\"4.199999999999999\" style=\"font-family: 'Open Sans', verdana, arial, sans-serif; font-size: 12px; fill: rgb(51, 51, 51); fill-opacity: 1; white-space: pre; opacity: 1;\" transform=\"translate(0,275.40999999999997)\">60</text></g><g class=\"ytick\"><text text-anchor=\"end\" x=\"71.6\" y=\"4.199999999999999\" style=\"font-family: 'Open Sans', verdana, arial, sans-serif; font-size: 12px; fill: rgb(51, 51, 51); fill-opacity: 1; white-space: pre; opacity: 1;\" transform=\"translate(0,229.98)\">70</text></g><g class=\"ytick\"><text text-anchor=\"end\" x=\"71.6\" y=\"4.199999999999999\" style=\"font-family: 'Open Sans', verdana, arial, sans-serif; font-size: 12px; fill: rgb(51, 51, 51); fill-opacity: 1; white-space: pre; opacity: 1;\" transform=\"translate(0,184.55)\">80</text></g><g class=\"ytick\"><text text-anchor=\"end\" x=\"71.6\" y=\"4.199999999999999\" style=\"font-family: 'Open Sans', verdana, arial, sans-serif; font-size: 12px; fill: rgb(51, 51, 51); fill-opacity: 1; white-space: pre; opacity: 1;\" transform=\"translate(0,139.12)\">90</text></g></g><g class=\"overaxes-above\"/></g></g><g class=\"polarlayer\"/><g class=\"smithlayer\"/><g class=\"ternarylayer\"/><g class=\"geolayer\"/><g class=\"funnelarealayer\"/><g class=\"pielayer\"/><g class=\"iciclelayer\"/><g class=\"treemaplayer\"/><g class=\"sunburstlayer\"/><g class=\"glimages\"/><defs id=\"topdefs-0b8a50\"><g class=\"clips\"/><clipPath id=\"legend0b8a50\"><rect width=\"80\" height=\"124\" x=\"0\" y=\"0\"/></clipPath></defs><g class=\"layer-above\"><g class=\"imagelayer\"/><g class=\"shapelayer\"/></g><g class=\"infolayer\"><g class=\"legend\" pointer-events=\"all\" transform=\"translate(508.40000000000003,100)\"><rect class=\"bg\" shape-rendering=\"crispEdges\" width=\"80\" height=\"124\" x=\"0\" y=\"0\" style=\"stroke: rgb(68, 68, 68); stroke-opacity: 1; fill: rgb(255, 255, 255); fill-opacity: 1; stroke-width: 0px;\"/><g class=\"scrollbox\" transform=\"\" clip-path=\"url(#legend0b8a50)\"><text class=\"legendtitletext\" text-anchor=\"start\" x=\"2\" y=\"18.2\" style=\"font-family: 'Open Sans', verdana, arial, sans-serif; font-size: 14px; fill: rgb(51, 51, 51); fill-opacity: 1; white-space: pre;\">color</text><g class=\"groups\" transform=\"\"><g class=\"traces\" transform=\"translate(0,32.7)\" style=\"opacity: 1;\"><text class=\"legendtext\" text-anchor=\"start\" x=\"40\" y=\"4.680000000000001\" style=\"font-family: 'Open Sans', verdana, arial, sans-serif; font-size: 12px; fill: rgb(51, 51, 51); fill-opacity: 1; white-space: pre;\">0.999</text><g class=\"layers\" style=\"opacity: 1;\"><g class=\"legendfill\"/><g class=\"legendlines\"><path class=\"js-line\" d=\"M5,0h30\" style=\"fill: none; stroke: rgb(99, 110, 250); stroke-opacity: 1; stroke-width: 2px;\"/></g><g class=\"legendsymbols\"><g class=\"legendpoints\"/></g></g><rect class=\"legendtoggle\" x=\"0\" y=\"-9.5\" width=\"74.890625\" height=\"19\" style=\"fill: rgb(0, 0, 0); fill-opacity: 0;\"/></g></g><g class=\"groups\" transform=\"\"><g class=\"traces\" transform=\"translate(0,51.7)\" style=\"opacity: 1;\"><text class=\"legendtext\" text-anchor=\"start\" x=\"40\" y=\"4.680000000000001\" style=\"font-family: 'Open Sans', verdana, arial, sans-serif; font-size: 12px; fill: rgb(51, 51, 51); fill-opacity: 1; white-space: pre;\">0.95</text><g class=\"layers\" style=\"opacity: 1;\"><g class=\"legendfill\"/><g class=\"legendlines\"><path class=\"js-line\" d=\"M5,0h30\" style=\"fill: none; stroke: rgb(239, 85, 59); stroke-opacity: 1; stroke-width: 2px;\"/></g><g class=\"legendsymbols\"><g class=\"legendpoints\"/></g></g><rect class=\"legendtoggle\" x=\"0\" y=\"-9.5\" width=\"74.890625\" height=\"19\" style=\"fill: rgb(0, 0, 0); fill-opacity: 0;\"/></g></g><g class=\"groups\" transform=\"\"><g class=\"traces\" transform=\"translate(0,70.7)\" style=\"opacity: 1;\"><text class=\"legendtext\" text-anchor=\"start\" x=\"40\" y=\"4.680000000000001\" style=\"font-family: 'Open Sans', verdana, arial, sans-serif; font-size: 12px; fill: rgb(51, 51, 51); fill-opacity: 1; white-space: pre;\">0.9</text><g class=\"layers\" style=\"opacity: 1;\"><g class=\"legendfill\"/><g class=\"legendlines\"><path class=\"js-line\" d=\"M5,0h30\" style=\"fill: none; stroke: rgb(0, 204, 150); stroke-opacity: 1; stroke-width: 2px;\"/></g><g class=\"legendsymbols\"><g class=\"legendpoints\"/></g></g><rect class=\"legendtoggle\" x=\"0\" y=\"-9.5\" width=\"74.890625\" height=\"19\" style=\"fill: rgb(0, 0, 0); fill-opacity: 0;\"/></g></g><g class=\"groups\" transform=\"\"><g class=\"traces\" transform=\"translate(0,89.7)\" style=\"opacity: 1;\"><text class=\"legendtext\" text-anchor=\"start\" x=\"40\" y=\"4.680000000000001\" style=\"font-family: 'Open Sans', verdana, arial, sans-serif; font-size: 12px; fill: rgb(51, 51, 51); fill-opacity: 1; white-space: pre;\">0.5</text><g class=\"layers\" style=\"opacity: 1;\"><g class=\"legendfill\"/><g class=\"legendlines\"><path class=\"js-line\" d=\"M5,0h30\" style=\"fill: none; stroke: rgb(171, 99, 250); stroke-opacity: 1; stroke-width: 2px;\"/></g><g class=\"legendsymbols\"><g class=\"legendpoints\"/></g></g><rect class=\"legendtoggle\" x=\"0\" y=\"-9.5\" width=\"74.890625\" height=\"19\" style=\"fill: rgb(0, 0, 0); fill-opacity: 0;\"/></g></g><g class=\"groups\" transform=\"\"><g class=\"traces\" transform=\"translate(0,108.7)\" style=\"opacity: 1;\"><text class=\"legendtext\" text-anchor=\"start\" x=\"40\" y=\"4.680000000000001\" style=\"font-family: 'Open Sans', verdana, arial, sans-serif; font-size: 12px; fill: rgb(51, 51, 51); fill-opacity: 1; white-space: pre;\">0.0</text><g class=\"layers\" style=\"opacity: 1;\"><g class=\"legendfill\"/><g class=\"legendlines\"><path class=\"js-line\" d=\"M5,0h30\" style=\"fill: none; stroke: rgb(255, 161, 90); stroke-opacity: 1; stroke-width: 2px;\"/></g><g class=\"legendsymbols\"><g class=\"legendpoints\"/></g></g><rect class=\"legendtoggle\" x=\"0\" y=\"-9.5\" width=\"74.890625\" height=\"19\" style=\"fill: rgb(0, 0, 0); fill-opacity: 0;\"/></g></g></g><rect class=\"scrollbar\" rx=\"20\" ry=\"3\" width=\"0\" height=\"0\" x=\"0\" y=\"0\" style=\"fill: rgb(128, 139, 164); fill-opacity: 1;\"/></g><g class=\"g-gtitle\"><text class=\"gtitle\" x=\"300\" y=\"50\" text-anchor=\"middle\" dy=\"0em\" style=\"opacity: 1; font-family: 'Open Sans', verdana, arial, sans-serif; font-size: 17px; fill: rgb(51, 51, 51); fill-opacity: 1; white-space: pre;\">Train Accuracy</text></g><g class=\"g-xtitle\"><text class=\"xtitle\" x=\"290\" y=\"467.20625\" text-anchor=\"middle\" style=\"opacity: 1; font-family: 'Open Sans', verdana, arial, sans-serif; font-size: 14px; fill: rgb(51, 51, 51); fill-opacity: 1; white-space: pre;\">epoch</text></g><g class=\"g-ytitle\"><text class=\"ytitle\" transform=\"rotate(-90,36.928125,260)\" x=\"36.928125\" y=\"260\" text-anchor=\"middle\" style=\"opacity: 1; font-family: 'Open Sans', verdana, arial, sans-serif; font-size: 14px; fill: rgb(51, 51, 51); fill-opacity: 1; white-space: pre;\">value</text></g></g></svg>"
     },
     "metadata": {},
     "output_type": "display_data"
    }
   ],
   "execution_count": 198
  },
  {
   "metadata": {
    "ExecuteTime": {
     "end_time": "2025-05-05T17:08:55.086921Z",
     "start_time": "2025-05-05T17:08:55.036740Z"
    }
   },
   "cell_type": "code",
   "source": [
    "fig = px.line(\n",
    "    grouped_results,\n",
    "    x='epoch',\n",
    "    y=['test_acc_mean'],\n",
    "    color=grouped_results.select(pl.col('momentum').cast(pl.String)).to_series(),\n",
    "    title='Test Accuracy'\n",
    ")\n",
    "\n",
    "fig.update_layout(template='ggplot2', width=600)\n",
    "fig.show(renderer='svg')"
   ],
   "id": "494253083ced2b77",
   "outputs": [
    {
     "data": {
      "image/svg+xml": "<svg class=\"main-svg\" xmlns=\"http://www.w3.org/2000/svg\" xmlns:xlink=\"http://www.w3.org/1999/xlink\" width=\"600\" height=\"500\" style=\"\" viewBox=\"0 0 600 500\"><rect x=\"0\" y=\"0\" width=\"600\" height=\"500\" style=\"fill: rgb(255, 255, 255); fill-opacity: 1;\"/><defs id=\"defs-2723ff\"><g class=\"clips\"><clipPath id=\"clip2723ffxyplot\" class=\"plotclip\"><rect width=\"420\" height=\"320\"/></clipPath><clipPath class=\"axesclip\" id=\"clip2723ffx\"><rect x=\"80\" y=\"0\" width=\"420\" height=\"500\"/></clipPath><clipPath class=\"axesclip\" id=\"clip2723ffy\"><rect x=\"0\" y=\"100\" width=\"600\" height=\"320\"/></clipPath><clipPath class=\"axesclip\" id=\"clip2723ffxy\"><rect x=\"80\" y=\"100\" width=\"420\" height=\"320\"/></clipPath></g><g class=\"gradients\"/><g class=\"patterns\"/></defs><g class=\"bglayer\"><rect class=\"bg\" x=\"80\" y=\"100\" width=\"420\" height=\"320\" style=\"fill: rgb(237, 237, 237); fill-opacity: 1; stroke-width: 0;\"/></g><g class=\"layer-below\"><g class=\"imagelayer\"/><g class=\"shapelayer\"/></g><g class=\"cartesianlayer\"><g class=\"subplot xy\"><g class=\"layer-subplot\"><g class=\"shapelayer\"/><g class=\"imagelayer\"/></g><g class=\"minor-gridlayer\"><g class=\"x\"/><g class=\"y\"/></g><g class=\"gridlayer\"><g class=\"x\"><path class=\"xgrid crisp\" transform=\"translate(185.53,0)\" d=\"M0,100v320\" style=\"stroke: rgb(255, 255, 255); stroke-opacity: 1; stroke-width: 1px;\"/><path class=\"xgrid crisp\" transform=\"translate(291.06,0)\" d=\"M0,100v320\" style=\"stroke: rgb(255, 255, 255); stroke-opacity: 1; stroke-width: 1px;\"/><path class=\"xgrid crisp\" transform=\"translate(396.58,0)\" d=\"M0,100v320\" style=\"stroke: rgb(255, 255, 255); stroke-opacity: 1; stroke-width: 1px;\"/></g><g class=\"y\"><path class=\"ygrid crisp\" transform=\"translate(0,404.87)\" d=\"M80,0h420\" style=\"stroke: rgb(255, 255, 255); stroke-opacity: 1; stroke-width: 1px;\"/><path class=\"ygrid crisp\" transform=\"translate(0,359.39)\" d=\"M80,0h420\" style=\"stroke: rgb(255, 255, 255); stroke-opacity: 1; stroke-width: 1px;\"/><path class=\"ygrid crisp\" transform=\"translate(0,313.91999999999996)\" d=\"M80,0h420\" style=\"stroke: rgb(255, 255, 255); stroke-opacity: 1; stroke-width: 1px;\"/><path class=\"ygrid crisp\" transform=\"translate(0,268.45)\" d=\"M80,0h420\" style=\"stroke: rgb(255, 255, 255); stroke-opacity: 1; stroke-width: 1px;\"/><path class=\"ygrid crisp\" transform=\"translate(0,222.97)\" d=\"M80,0h420\" style=\"stroke: rgb(255, 255, 255); stroke-opacity: 1; stroke-width: 1px;\"/><path class=\"ygrid crisp\" transform=\"translate(0,177.5)\" d=\"M80,0h420\" style=\"stroke: rgb(255, 255, 255); stroke-opacity: 1; stroke-width: 1px;\"/><path class=\"ygrid crisp\" transform=\"translate(0,132.02)\" d=\"M80,0h420\" style=\"stroke: rgb(255, 255, 255); stroke-opacity: 1; stroke-width: 1px;\"/></g></g><g class=\"zerolinelayer\"><path class=\"xzl zl crisp\" transform=\"translate(80,0)\" d=\"M0,100v320\" style=\"stroke: rgb(255, 255, 255); stroke-opacity: 1; stroke-width: 1px;\"/></g><g class=\"layer-between\"><g class=\"shapelayer\"/><g class=\"imagelayer\"/></g><path class=\"xlines-below\"/><path class=\"ylines-below\"/><g class=\"overlines-below\"/><g class=\"xaxislayer-below\"/><g class=\"yaxislayer-below\"/><g class=\"overaxes-below\"/><g class=\"overplot\"><g class=\"xy\" transform=\"translate(80,100)\" clip-path=\"url(#clip2723ffxyplot)\"><g class=\"scatterlayer mlayer\"><g class=\"trace scatter trace2c3ca9\" style=\"stroke-miterlimit: 2; opacity: 1;\"><g class=\"fills\"/><g class=\"errorbars\"/><g class=\"lines\"><path class=\"js-line\" d=\"M420,287.69L417.89,263.34L415.78,288.84L411.56,262.62L409.45,267.43L407.34,288.07L405.23,264.3L403.12,279.6L401.01,286.1L398.89,270.56L396.78,289.71L394.67,278.69L392.56,272.87L390.45,299.81L388.34,267.91L384.12,295.1L382.01,270.32L379.9,281.53L377.79,285.67L375.68,265.98L373.57,288.84L369.35,263.1L367.24,295.29L365.13,270.8L363.02,272.38L360.9,285.67L358.79,265.98L356.68,282.68L354.57,271.52L352.46,266.27L350.35,287.01L348.24,267.91L346.13,283.36L344.02,271.52L341.91,281.91L339.8,284.32L337.69,266.23L335.58,284.13L333.47,269.35L331.36,267.81L329.25,278.93L327.14,263.58L325.03,271.04L320.8,266.9L318.69,285.67L316.58,267.19L314.47,279.7L312.36,283.65L310.25,264.06L308.14,287.93L306.03,271.86L303.92,265.74L301.81,296.45L299.7,275.9L297.59,279.55L295.48,291.73L293.37,266.71L291.26,287.93L289.15,282.3L287.04,274.21L284.92,294.33L282.81,269.83L280.7,286.34L278.59,272.19L276.48,271.52L274.37,275.85L272.26,265.26L270.15,282.97L268.04,265.07L265.93,269.35L263.82,293.03L261.71,264.78L259.6,280.28L257.49,285.18L255.38,269.11L253.27,291.73L251.16,275.9L249.05,272.19L246.93,299.81L244.82,269.21L242.71,280.28L240.6,294.33L238.49,268.39L236.38,285.67L234.27,290.29L232.16,268.87L230.05,285.18L227.94,287.69L225.83,262.62L223.72,291.73L221.61,282.88L219.5,263.1L217.39,295.1L213.17,264.06L211.06,297.12L208.94,273.4L206.83,268.54L204.72,299.81L202.61,265.36L198.39,291.58L196.28,266.71L194.17,286.34L192.06,282.44L189.95,269.83L187.84,293.75L185.73,276.81L183.62,271.52L181.51,299.14L179.4,269.83L177.29,277.58L175.18,292.5L173.07,268.15L170.95,277.44L168.84,296.16L166.73,271.04L164.62,271.37L162.51,295.1L160.4,271.52L158.29,276.96L156.18,287.69L154.07,268.39L151.96,291.58L149.85,278.93L147.74,266.85L145.63,299.81L143.52,271.52L141.41,275.42L139.3,291.73L137.19,268.39L135.08,282.44L132.96,284.32L130.85,264.3L128.74,293.41L126.63,271.42L124.52,266.9L122.41,292.4L120.3,267.91L118.19,273.3L116.08,282.97L113.97,265.5L111.86,283.36L107.64,262.86L105.53,288.02L103.42,270.8L101.31,265.07L99.2,289.71L97.09,268.87L92.86,285.67L90.75,266.47L88.64,287.01L86.53,279.6L84.42,263.58L82.31,294.33L80.2,273.06L78.09,262.33L75.98,294.42L73.87,269.35L71.76,269.64L69.65,289.03L67.54,268.39L65.43,277.87L63.32,286.34L61.21,266.95L59.1,284.22L56.98,284.8L54.87,266.8L52.76,286.82L50.65,280.42L48.54,266.32L46.43,287.69L44.32,277.92L42.21,266.08L40.1,296.35L37.99,276.67L35.88,264.64L33.77,298.95L31.66,274.98L29.55,265.46L27.44,297.26L25.33,275.32L23.22,265.46L21.11,293.41L18.99,275.56L16.88,268.39L14.77,299.81L10.55,174.51L8.44,189.38L6.33,267.43L4.22,153.58L2.11,29.57L0,147.22\" style=\"vector-effect: none; fill: none; stroke: rgb(99, 110, 250); stroke-opacity: 1; stroke-width: 2px; opacity: 1;\"/></g><g class=\"points\"/><g class=\"text\"/></g><g class=\"trace scatter trace9d91b9\" style=\"stroke-miterlimit: 2; opacity: 1;\"><g class=\"fills\"/><g class=\"errorbars\"/><g class=\"lines\"><path class=\"js-line\" d=\"M420,21.87L417.89,21.68L415.78,22.74L413.67,22.26L411.56,22.98L409.45,24.08L407.34,20.96L405.23,18.36L403.12,23.8L401.01,26.11L398.89,22.5L396.78,21.97L394.67,22.64L392.56,21.82L390.45,26.25L388.34,26.25L386.23,21.92L384.12,23.07L382.01,22.88L379.9,21.77L377.79,18.65L375.68,22.3L373.57,19.61L371.46,21.49L369.35,18.07L365.13,20.33L363.02,20.14L360.9,21.15L358.79,24.66L356.68,24.71L354.57,21.25L352.46,20.86L350.35,19.32L348.24,20.62L346.13,19.95L344.02,21.25L341.91,20.14L339.8,21.39L337.69,19.9L335.58,18.12L333.47,21.44L331.36,23.07L329.25,25.96L327.14,21.29L325.03,21.34L322.91,22.98L320.8,20.43L318.69,21.82L316.58,21.44L314.47,23.6L312.36,19.95L310.25,21.73L308.14,20.81L306.03,21.82L303.92,21.25L301.81,20.19L299.7,20.14L297.59,20.86L295.48,23.03L293.37,19.75L291.26,18.89L289.15,22.64L287.04,21.97L284.92,29.52L282.81,20.91L280.7,23.65L278.59,22.78L276.48,24.13L274.37,21.44L270.15,23.17L268.04,21L265.93,23.27L263.82,19.75L261.71,20.96L259.6,23.36L257.49,24.42L255.38,22.02L253.27,25.29L251.16,22.4L249.05,23.51L246.93,20.09L244.82,21.05L242.71,26.78L240.6,23.75L238.49,27.12L236.38,21.29L234.27,22.93L227.94,19.18L225.83,19.32L221.61,21.39L219.5,22.59L217.39,23.84L215.28,20.81L213.17,19.27L211.06,20.72L208.94,20.96L206.83,22.54L204.72,19.37L202.61,21.1L200.5,22.78L198.39,20.57L196.28,23.46L194.17,21.53L192.06,19.9L189.95,23.03L187.84,28.66L185.73,22.16L183.62,22.54L181.51,18.69L177.29,19.46L175.18,22.3L173.07,20.38L170.95,22.5L164.62,21.29L162.51,21.2L160.4,17.92L158.29,19.75L156.18,24.23L154.07,19.18L151.96,20.38L149.85,19.95L147.74,20.76L145.63,20.62L141.41,24.61L139.3,25.86L135.08,20.23L132.96,25.72L130.85,23.65L128.74,18.07L126.63,23.22L124.52,24.95L122.41,20.52L120.3,21.2L118.19,18.5L116.08,19.08L113.97,20.81L111.86,25.72L109.75,22.5L107.64,21.73L105.53,24.18L103.42,22.5L99.2,19.99L97.09,19.51L94.97,19.95L92.86,19.42L90.75,27.5L88.64,28.7L86.53,19.22L84.42,26.2L82.31,21.29L80.2,20.91L78.09,18.69L75.98,20.28L73.87,22.69L71.76,20.67L69.65,22.26L67.54,26.88L65.43,23.12L63.32,22.64L61.21,21.34L59.1,25.82L56.98,20.48L54.87,26.11L50.65,21.49L48.54,21.05L46.43,24.18L44.32,22.3L42.21,23.94L40.1,22.06L37.99,20.28L35.88,22.02L33.77,22.88L31.66,21.39L29.55,21.15L27.44,23.75L25.33,23.41L23.22,22.16L21.11,25.58L18.99,23.12L14.77,24.76L12.66,25.86L10.55,28.27L8.44,23.6L6.33,24.85L4.22,32.55L2.11,46.7L0,149.92\" style=\"vector-effect: none; fill: none; stroke: rgb(239, 85, 59); stroke-opacity: 1; stroke-width: 2px; opacity: 1;\"/></g><g class=\"points\"/><g class=\"text\"/></g><g class=\"trace scatter tracee97554\" style=\"stroke-miterlimit: 2; opacity: 1;\"><g class=\"fills\"/><g class=\"errorbars\"/><g class=\"lines\"><path class=\"js-line\" d=\"M420,21.1L417.89,20.19L415.78,21.29L413.67,22.11L411.56,19.8L409.45,18.69L407.34,20.76L405.23,21.82L403.12,19.95L398.89,22.93L396.78,21.92L394.67,20.96L392.56,21.97L388.34,19.37L386.23,22.59L382.01,21.39L379.9,22.5L377.79,18.94L375.68,24.52L373.57,19.61L371.46,21.53L369.35,21.25L367.24,21.77L365.13,21.87L363.02,19.85L360.9,21.82L358.79,21.73L356.68,23.12L354.57,20.91L352.46,21.49L350.35,20.09L348.24,18.12L346.13,19.13L341.91,21.25L339.8,19.46L337.69,21.77L335.58,18.98L333.47,22.16L331.36,19.71L329.25,22.59L327.14,20.14L322.91,20.38L320.8,19.22L318.69,19.42L316.58,20.43L314.47,18.41L312.36,21.63L308.14,20.09L306.03,19.71L301.81,20.62L299.7,19.37L297.59,17.97L295.48,20.72L293.37,20.38L291.26,21.53L287.04,20.23L284.92,21.53L280.7,22.35L278.59,19.13L276.48,19.03L274.37,21.49L272.26,19.9L270.15,20.91L265.93,21L263.82,19.42L261.71,21.58L259.6,21.68L257.49,22.35L255.38,19.51L253.27,23.12L251.16,22.06L249.05,23.46L246.93,18.98L244.82,21.68L242.71,22.98L240.6,21.68L238.49,21.58L236.38,22.11L234.27,21.63L232.16,19.56L230.05,21.2L227.94,22.21L225.83,21.82L223.72,20.76L221.61,21.15L217.39,20.43L215.28,21.05L213.17,25.24L211.06,21.63L206.83,20.91L204.72,21.63L202.61,19.22L200.5,23.22L198.39,19.56L196.28,19.37L192.06,21.39L189.95,21L187.84,21.49L185.73,22.93L183.62,19.42L181.51,21.53L179.4,22.88L177.29,20.48L175.18,21.49L173.07,20.23L168.84,22.06L166.73,22.4L164.62,22.54L162.51,31.54L160.4,22.83L158.29,22.11L156.18,21.05L154.07,22.3L151.96,24.13L149.85,21.05L147.74,23.17L145.63,21.29L143.52,20.62L141.41,21.34L139.3,21.58L137.19,26.11L132.96,21.68L130.85,23.65L128.74,21.53L126.63,22.26L124.52,25.72L122.41,21.68L120.3,21.44L118.19,22.64L116.08,21.2L113.97,21.34L109.75,21.44L107.64,23.17L105.53,23.07L103.42,22.11L101.31,21.92L99.2,22.69L94.97,21.53L92.86,23.03L88.64,20.67L86.53,21.63L84.42,19.51L82.31,21.63L80.2,18.74L78.09,22.83L75.98,21.34L73.87,21.82L71.76,22.5L69.65,22.06L67.54,21L65.43,23.31L63.32,22.59L61.21,22.98L59.1,21.1L56.98,23.89L54.87,23.65L52.76,21.39L50.65,23.07L48.54,20.67L42.21,22.64L40.1,20.96L37.99,21.34L35.88,22.5L33.77,21.34L31.66,21.97L29.55,20.14L27.44,21.73L25.33,20.19L23.22,20.76L21.11,23.17L18.99,20.76L14.77,20.67L12.66,23.17L8.44,21.34L6.33,24.37L4.22,22.88L2.11,32.46L0,169.84\" style=\"vector-effect: none; fill: none; stroke: rgb(0, 204, 150); stroke-opacity: 1; stroke-width: 2px; opacity: 1;\"/></g><g class=\"points\"/><g class=\"text\"/></g><g class=\"trace scatter trace142090\" style=\"stroke-miterlimit: 2; opacity: 1;\"><g class=\"fills\"/><g class=\"errorbars\"/><g class=\"lines\"><path class=\"js-line\" d=\"M420,16.77L417.89,19.66L415.78,18.74L413.67,19.03L411.56,17.35L409.45,18.89L407.34,17.73L405.23,21L403.12,17.83L401.01,17.35L398.89,19.85L396.78,18.36L394.67,18.84L390.45,19.9L388.34,17.64L386.23,19.08L384.12,18.41L382.01,20.04L379.9,17.3L377.79,17.49L375.68,19.42L373.57,20.43L371.46,18.55L369.35,16.91L367.24,20.23L365.13,17.73L363.02,17.11L360.9,18.55L358.79,18.89L356.68,17.83L354.57,19.27L352.46,17.68L350.35,17.68L346.13,19.66L344.02,16.53L339.8,20.52L337.69,16.29L333.47,21.1L331.36,17.2L329.25,18.41L327.14,17.59L322.91,17.49L320.8,18.12L318.69,17.15L316.58,18.21L314.47,17.73L312.36,19.18L310.25,17.44L308.14,18.74L306.03,20.33L303.92,19.46L297.59,18.36L295.48,18.98L293.37,16.1L291.26,17.2L289.15,17.78L287.04,17.4L284.92,17.06L282.81,17.92L278.59,18.45L276.48,19.27L274.37,18.74L272.26,16.43L270.15,19.37L268.04,18.55L263.82,16.14L261.71,18.36L255.38,18.94L253.27,18.84L251.16,17.25L249.05,17.44L246.93,19.75L244.82,19.27L242.71,16.96L240.6,17.2L238.49,19.42L236.38,16.96L234.27,17.4L232.16,19.22L230.05,18.21L227.94,18.84L223.72,16.53L221.61,17.73L219.5,17.06L217.39,18.5L215.28,18.74L213.17,17.06L211.06,18.12L208.94,16.67L204.72,16.24L202.61,17.73L200.5,18.65L198.39,18.45L196.28,17.11L194.17,17.49L192.06,16L189.95,19.22L185.73,19.85L183.62,18.12L181.51,17.15L179.4,17.06L177.29,17.92L175.18,16.77L173.07,18.94L170.95,19.46L166.73,18.45L164.62,16.96L162.51,17.15L160.4,18.98L156.18,18.79L154.07,17.92L147.74,17.83L145.63,18.98L143.52,18.12L141.41,18.5L139.3,19.03L137.19,17.3L135.08,19.51L132.96,18.98L130.85,19.03L128.74,17.3L126.63,19.37L124.52,17.01L122.41,18.45L120.3,17.2L116.08,19.8L113.97,19.61L111.86,17.97L109.75,18.45L105.53,17.83L103.42,21.34L101.31,19.85L99.2,19.51L97.09,19.13L94.97,21.73L90.75,21.58L88.64,20.72L86.53,20.76L84.42,22.4L82.31,20.23L80.2,19.8L78.09,21.87L75.98,20.57L71.76,21.49L69.65,20.76L65.43,21.15L63.32,21.77L61.21,22.5L59.1,21.34L56.98,22.3L54.87,21.87L52.76,24.04L50.65,24.23L48.54,23.55L46.43,24.23L44.32,23.36L42.21,24.08L37.99,24.28L35.88,23.07L33.77,22.83L31.66,21.82L29.55,25.91L27.44,24.95L23.22,25.96L21.11,26.49L14.77,34.67L12.66,38.14L10.55,47.62L8.44,63.59L6.33,73.07L4.22,112.72L2.11,225.52L0,281.14\" style=\"vector-effect: none; fill: none; stroke: rgb(171, 99, 250); stroke-opacity: 1; stroke-width: 2px; opacity: 1;\"/></g><g class=\"points\"/><g class=\"text\"/></g><g class=\"trace scatter traced87060\" style=\"stroke-miterlimit: 2; opacity: 1;\"><g class=\"fills\"/><g class=\"errorbars\"/><g class=\"lines\"><path class=\"js-line\" d=\"M420,18.07L417.89,20.19L415.78,17.3L411.56,18.69L409.45,18.26L407.34,18.98L405.23,17.78L403.12,19.08L401.01,17.73L398.89,19.46L396.78,18.84L394.67,17.88L392.56,19.22L390.45,17.35L388.34,17.68L386.23,19.27L384.12,18.07L382.01,19.18L379.9,18.41L377.79,19.71L375.68,18.45L373.57,17.92L371.46,18.94L367.24,17.83L365.13,18.79L363.02,18.17L360.9,19.75L358.79,17.78L356.68,20.04L354.57,18.41L352.46,19.03L348.24,18.84L346.13,19.71L344.02,18.36L341.91,18.98L339.8,18.26L337.69,19.13L335.58,17.78L333.47,17.78L329.25,18.26L327.14,18.12L325.03,19.37L322.91,17.73L320.8,20.62L318.69,17.92L316.58,19.46L314.47,19.46L306.03,18.69L303.92,19.61L301.81,19.22L299.7,19.61L297.59,18.69L295.48,19.61L291.26,18.17L289.15,19.61L287.04,19.27L284.92,17.64L282.81,19.99L280.7,19.75L278.59,18.74L276.48,18.84L274.37,20.04L272.26,18.98L270.15,18.79L268.04,19.37L265.93,19.13L263.82,20.09L261.71,18.31L259.6,20.23L255.38,18.69L253.27,19.61L251.16,19.9L249.05,18.69L246.93,19.95L244.82,18.17L242.71,20.62L240.6,19.51L238.49,20.23L236.38,18.41L232.16,19.9L230.05,18.84L227.94,19.71L225.83,19.22L221.61,18.69L219.5,20.23L215.28,19.32L213.17,19.85L211.06,18.21L208.94,18.41L206.83,19.46L204.72,19.22L198.39,21.15L196.28,17.97L194.17,20.86L192.06,18.98L189.95,18.74L187.84,19.37L185.73,20.52L183.62,19.56L179.4,19.9L177.29,20.04L175.18,20.28L173.07,19.56L170.95,18.94L168.84,20.38L164.62,20.76L162.51,19.42L160.4,21.63L158.29,20.04L151.96,20.38L149.85,20.67L145.63,20.48L143.52,19.46L141.41,20.72L139.3,20.28L137.19,20.96L135.08,20.81L126.63,20.96L124.52,19.95L120.3,21.44L118.19,19.71L116.08,21.63L113.97,21.29L111.86,21.2L109.75,19.99L107.64,21.05L105.53,21.1L101.31,21.1L99.2,19.95L97.09,20.09L94.97,21.92L86.53,19.61L84.42,21.44L80.2,20.96L78.09,20.96L71.76,21L69.65,21.92L65.43,19.56L63.32,22.4L61.21,20.23L59.1,22.21L56.98,18.84L54.87,21.92L52.76,21.53L50.65,22.06L48.54,25.29L46.43,25.96L44.32,25.53L42.21,25.96L40.1,25.34L37.99,27.26L35.88,26.83L33.77,27.79L31.66,29.95L29.55,30.87L25.33,34.72L23.22,36.84L21.11,38.18L18.99,40.64L16.88,85.53L14.77,68.88L12.66,123.16L10.55,147.27L8.44,169.79L6.33,167.92L4.22,200.78L2.11,176.63L0,304\" style=\"vector-effect: none; fill: none; stroke: rgb(255, 161, 90); stroke-opacity: 1; stroke-width: 2px; opacity: 1;\"/></g><g class=\"points\"/><g class=\"text\"/></g></g></g></g><path class=\"xlines-above crisp\" d=\"\" style=\"fill: none; stroke-width: 1px; stroke: rgb(0, 0, 0); stroke-opacity: 0;\"/><path class=\"ylines-above crisp\" d=\"\" style=\"fill: none; stroke-width: 1px; stroke: rgb(0, 0, 0); stroke-opacity: 0;\"/><g class=\"overlines-above\"/><g class=\"xaxislayer-above\"><path class=\"xtick ticks crisp\" d=\"M0,421v5\" transform=\"translate(80,0)\" style=\"stroke: rgb(51, 51, 51); stroke-opacity: 1; stroke-width: 1px;\"/><path class=\"xtick ticks crisp\" d=\"M0,421v5\" transform=\"translate(185.53,0)\" style=\"stroke: rgb(51, 51, 51); stroke-opacity: 1; stroke-width: 1px;\"/><path class=\"xtick ticks crisp\" d=\"M0,421v5\" transform=\"translate(291.06,0)\" style=\"stroke: rgb(51, 51, 51); stroke-opacity: 1; stroke-width: 1px;\"/><path class=\"xtick ticks crisp\" d=\"M0,421v5\" transform=\"translate(396.58,0)\" style=\"stroke: rgb(51, 51, 51); stroke-opacity: 1; stroke-width: 1px;\"/><g class=\"xtick\"><text text-anchor=\"middle\" x=\"0\" y=\"440.4\" transform=\"translate(80,0)\" style=\"font-family: 'Open Sans', verdana, arial, sans-serif; font-size: 12px; fill: rgb(51, 51, 51); fill-opacity: 1; white-space: pre; opacity: 1;\">0</text></g><g class=\"xtick\"><text text-anchor=\"middle\" x=\"0\" y=\"440.4\" style=\"font-family: 'Open Sans', verdana, arial, sans-serif; font-size: 12px; fill: rgb(51, 51, 51); fill-opacity: 1; white-space: pre; opacity: 1;\" transform=\"translate(185.53,0)\">50</text></g><g class=\"xtick\"><text text-anchor=\"middle\" x=\"0\" y=\"440.4\" style=\"font-family: 'Open Sans', verdana, arial, sans-serif; font-size: 12px; fill: rgb(51, 51, 51); fill-opacity: 1; white-space: pre; opacity: 1;\" transform=\"translate(291.06,0)\">100</text></g><g class=\"xtick\"><text text-anchor=\"middle\" x=\"0\" y=\"440.4\" style=\"font-family: 'Open Sans', verdana, arial, sans-serif; font-size: 12px; fill: rgb(51, 51, 51); fill-opacity: 1; white-space: pre; opacity: 1;\" transform=\"translate(396.58,0)\">150</text></g></g><g class=\"yaxislayer-above\"><path class=\"ytick ticks crisp\" d=\"M79,0h-5\" transform=\"translate(0,404.87)\" style=\"stroke: rgb(51, 51, 51); stroke-opacity: 1; stroke-width: 1px;\"/><path class=\"ytick ticks crisp\" d=\"M79,0h-5\" transform=\"translate(0,359.39)\" style=\"stroke: rgb(51, 51, 51); stroke-opacity: 1; stroke-width: 1px;\"/><path class=\"ytick ticks crisp\" d=\"M79,0h-5\" transform=\"translate(0,313.91999999999996)\" style=\"stroke: rgb(51, 51, 51); stroke-opacity: 1; stroke-width: 1px;\"/><path class=\"ytick ticks crisp\" d=\"M79,0h-5\" transform=\"translate(0,268.45)\" style=\"stroke: rgb(51, 51, 51); stroke-opacity: 1; stroke-width: 1px;\"/><path class=\"ytick ticks crisp\" d=\"M79,0h-5\" transform=\"translate(0,222.97)\" style=\"stroke: rgb(51, 51, 51); stroke-opacity: 1; stroke-width: 1px;\"/><path class=\"ytick ticks crisp\" d=\"M79,0h-5\" transform=\"translate(0,177.5)\" style=\"stroke: rgb(51, 51, 51); stroke-opacity: 1; stroke-width: 1px;\"/><path class=\"ytick ticks crisp\" d=\"M79,0h-5\" transform=\"translate(0,132.02)\" style=\"stroke: rgb(51, 51, 51); stroke-opacity: 1; stroke-width: 1px;\"/><g class=\"ytick\"><text text-anchor=\"end\" x=\"71.6\" y=\"4.199999999999999\" transform=\"translate(0,404.87)\" style=\"font-family: 'Open Sans', verdana, arial, sans-serif; font-size: 12px; fill: rgb(51, 51, 51); fill-opacity: 1; white-space: pre; opacity: 1;\">30</text></g><g class=\"ytick\"><text text-anchor=\"end\" x=\"71.6\" y=\"4.199999999999999\" style=\"font-family: 'Open Sans', verdana, arial, sans-serif; font-size: 12px; fill: rgb(51, 51, 51); fill-opacity: 1; white-space: pre; opacity: 1;\" transform=\"translate(0,359.39)\">40</text></g><g class=\"ytick\"><text text-anchor=\"end\" x=\"71.6\" y=\"4.199999999999999\" style=\"font-family: 'Open Sans', verdana, arial, sans-serif; font-size: 12px; fill: rgb(51, 51, 51); fill-opacity: 1; white-space: pre; opacity: 1;\" transform=\"translate(0,313.91999999999996)\">50</text></g><g class=\"ytick\"><text text-anchor=\"end\" x=\"71.6\" y=\"4.199999999999999\" style=\"font-family: 'Open Sans', verdana, arial, sans-serif; font-size: 12px; fill: rgb(51, 51, 51); fill-opacity: 1; white-space: pre; opacity: 1;\" transform=\"translate(0,268.45)\">60</text></g><g class=\"ytick\"><text text-anchor=\"end\" x=\"71.6\" y=\"4.199999999999999\" style=\"font-family: 'Open Sans', verdana, arial, sans-serif; font-size: 12px; fill: rgb(51, 51, 51); fill-opacity: 1; white-space: pre; opacity: 1;\" transform=\"translate(0,222.97)\">70</text></g><g class=\"ytick\"><text text-anchor=\"end\" x=\"71.6\" y=\"4.199999999999999\" style=\"font-family: 'Open Sans', verdana, arial, sans-serif; font-size: 12px; fill: rgb(51, 51, 51); fill-opacity: 1; white-space: pre; opacity: 1;\" transform=\"translate(0,177.5)\">80</text></g><g class=\"ytick\"><text text-anchor=\"end\" x=\"71.6\" y=\"4.199999999999999\" style=\"font-family: 'Open Sans', verdana, arial, sans-serif; font-size: 12px; fill: rgb(51, 51, 51); fill-opacity: 1; white-space: pre; opacity: 1;\" transform=\"translate(0,132.02)\">90</text></g></g><g class=\"overaxes-above\"/></g></g><g class=\"polarlayer\"/><g class=\"smithlayer\"/><g class=\"ternarylayer\"/><g class=\"geolayer\"/><g class=\"funnelarealayer\"/><g class=\"pielayer\"/><g class=\"iciclelayer\"/><g class=\"treemaplayer\"/><g class=\"sunburstlayer\"/><g class=\"glimages\"/><defs id=\"topdefs-2723ff\"><g class=\"clips\"/><clipPath id=\"legend2723ff\"><rect width=\"80\" height=\"124\" x=\"0\" y=\"0\"/></clipPath></defs><g class=\"layer-above\"><g class=\"imagelayer\"/><g class=\"shapelayer\"/></g><g class=\"infolayer\"><g class=\"legend\" pointer-events=\"all\" transform=\"translate(508.40000000000003,100)\"><rect class=\"bg\" shape-rendering=\"crispEdges\" width=\"80\" height=\"124\" x=\"0\" y=\"0\" style=\"stroke: rgb(68, 68, 68); stroke-opacity: 1; fill: rgb(255, 255, 255); fill-opacity: 1; stroke-width: 0px;\"/><g class=\"scrollbox\" transform=\"\" clip-path=\"url(#legend2723ff)\"><text class=\"legendtitletext\" text-anchor=\"start\" x=\"2\" y=\"18.2\" style=\"font-family: 'Open Sans', verdana, arial, sans-serif; font-size: 14px; fill: rgb(51, 51, 51); fill-opacity: 1; white-space: pre;\">color</text><g class=\"groups\" transform=\"\"><g class=\"traces\" transform=\"translate(0,32.7)\" style=\"opacity: 1;\"><text class=\"legendtext\" text-anchor=\"start\" x=\"40\" y=\"4.680000000000001\" style=\"font-family: 'Open Sans', verdana, arial, sans-serif; font-size: 12px; fill: rgb(51, 51, 51); fill-opacity: 1; white-space: pre;\">0.999</text><g class=\"layers\" style=\"opacity: 1;\"><g class=\"legendfill\"/><g class=\"legendlines\"><path class=\"js-line\" d=\"M5,0h30\" style=\"fill: none; stroke: rgb(99, 110, 250); stroke-opacity: 1; stroke-width: 2px;\"/></g><g class=\"legendsymbols\"><g class=\"legendpoints\"/></g></g><rect class=\"legendtoggle\" x=\"0\" y=\"-9.5\" width=\"74.890625\" height=\"19\" style=\"fill: rgb(0, 0, 0); fill-opacity: 0;\"/></g></g><g class=\"groups\" transform=\"\"><g class=\"traces\" transform=\"translate(0,51.7)\" style=\"opacity: 1;\"><text class=\"legendtext\" text-anchor=\"start\" x=\"40\" y=\"4.680000000000001\" style=\"font-family: 'Open Sans', verdana, arial, sans-serif; font-size: 12px; fill: rgb(51, 51, 51); fill-opacity: 1; white-space: pre;\">0.95</text><g class=\"layers\" style=\"opacity: 1;\"><g class=\"legendfill\"/><g class=\"legendlines\"><path class=\"js-line\" d=\"M5,0h30\" style=\"fill: none; stroke: rgb(239, 85, 59); stroke-opacity: 1; stroke-width: 2px;\"/></g><g class=\"legendsymbols\"><g class=\"legendpoints\"/></g></g><rect class=\"legendtoggle\" x=\"0\" y=\"-9.5\" width=\"74.890625\" height=\"19\" style=\"fill: rgb(0, 0, 0); fill-opacity: 0;\"/></g></g><g class=\"groups\" transform=\"\"><g class=\"traces\" transform=\"translate(0,70.7)\" style=\"opacity: 1;\"><text class=\"legendtext\" text-anchor=\"start\" x=\"40\" y=\"4.680000000000001\" style=\"font-family: 'Open Sans', verdana, arial, sans-serif; font-size: 12px; fill: rgb(51, 51, 51); fill-opacity: 1; white-space: pre;\">0.9</text><g class=\"layers\" style=\"opacity: 1;\"><g class=\"legendfill\"/><g class=\"legendlines\"><path class=\"js-line\" d=\"M5,0h30\" style=\"fill: none; stroke: rgb(0, 204, 150); stroke-opacity: 1; stroke-width: 2px;\"/></g><g class=\"legendsymbols\"><g class=\"legendpoints\"/></g></g><rect class=\"legendtoggle\" x=\"0\" y=\"-9.5\" width=\"74.890625\" height=\"19\" style=\"fill: rgb(0, 0, 0); fill-opacity: 0;\"/></g></g><g class=\"groups\" transform=\"\"><g class=\"traces\" transform=\"translate(0,89.7)\" style=\"opacity: 1;\"><text class=\"legendtext\" text-anchor=\"start\" x=\"40\" y=\"4.680000000000001\" style=\"font-family: 'Open Sans', verdana, arial, sans-serif; font-size: 12px; fill: rgb(51, 51, 51); fill-opacity: 1; white-space: pre;\">0.5</text><g class=\"layers\" style=\"opacity: 1;\"><g class=\"legendfill\"/><g class=\"legendlines\"><path class=\"js-line\" d=\"M5,0h30\" style=\"fill: none; stroke: rgb(171, 99, 250); stroke-opacity: 1; stroke-width: 2px;\"/></g><g class=\"legendsymbols\"><g class=\"legendpoints\"/></g></g><rect class=\"legendtoggle\" x=\"0\" y=\"-9.5\" width=\"74.890625\" height=\"19\" style=\"fill: rgb(0, 0, 0); fill-opacity: 0;\"/></g></g><g class=\"groups\" transform=\"\"><g class=\"traces\" transform=\"translate(0,108.7)\" style=\"opacity: 1;\"><text class=\"legendtext\" text-anchor=\"start\" x=\"40\" y=\"4.680000000000001\" style=\"font-family: 'Open Sans', verdana, arial, sans-serif; font-size: 12px; fill: rgb(51, 51, 51); fill-opacity: 1; white-space: pre;\">0.0</text><g class=\"layers\" style=\"opacity: 1;\"><g class=\"legendfill\"/><g class=\"legendlines\"><path class=\"js-line\" d=\"M5,0h30\" style=\"fill: none; stroke: rgb(255, 161, 90); stroke-opacity: 1; stroke-width: 2px;\"/></g><g class=\"legendsymbols\"><g class=\"legendpoints\"/></g></g><rect class=\"legendtoggle\" x=\"0\" y=\"-9.5\" width=\"74.890625\" height=\"19\" style=\"fill: rgb(0, 0, 0); fill-opacity: 0;\"/></g></g></g><rect class=\"scrollbar\" rx=\"20\" ry=\"3\" width=\"0\" height=\"0\" x=\"0\" y=\"0\" style=\"fill: rgb(128, 139, 164); fill-opacity: 1;\"/></g><g class=\"g-gtitle\"><text class=\"gtitle\" x=\"300\" y=\"50\" text-anchor=\"middle\" dy=\"0em\" style=\"opacity: 1; font-family: 'Open Sans', verdana, arial, sans-serif; font-size: 17px; fill: rgb(51, 51, 51); fill-opacity: 1; white-space: pre;\">Test Accuracy</text></g><g class=\"g-xtitle\"><text class=\"xtitle\" x=\"290\" y=\"467.20625\" text-anchor=\"middle\" style=\"opacity: 1; font-family: 'Open Sans', verdana, arial, sans-serif; font-size: 14px; fill: rgb(51, 51, 51); fill-opacity: 1; white-space: pre;\">epoch</text></g><g class=\"g-ytitle\"><text class=\"ytitle\" transform=\"rotate(-90,36.928125,260)\" x=\"36.928125\" y=\"260\" text-anchor=\"middle\" style=\"opacity: 1; font-family: 'Open Sans', verdana, arial, sans-serif; font-size: 14px; fill: rgb(51, 51, 51); fill-opacity: 1; white-space: pre;\">value</text></g></g></svg>"
     },
     "metadata": {},
     "output_type": "display_data"
    }
   ],
   "execution_count": 199
  },
  {
   "metadata": {},
   "cell_type": "markdown",
   "source": [
    "# interpretation\n",
    "* no momentum is a little slower\n",
    "* with some momentum is learning much faster, until when the beta is large 0.999"
   ],
   "id": "b49b2a25f932d52f"
  }
 ],
 "metadata": {
  "kernelspec": {
   "display_name": "Python 3",
   "language": "python",
   "name": "python3"
  },
  "language_info": {
   "codemirror_mode": {
    "name": "ipython",
    "version": 2
   },
   "file_extension": ".py",
   "mimetype": "text/x-python",
   "name": "python",
   "nbconvert_exporter": "python",
   "pygments_lexer": "ipython2",
   "version": "2.7.6"
  }
 },
 "nbformat": 4,
 "nbformat_minor": 5
}
