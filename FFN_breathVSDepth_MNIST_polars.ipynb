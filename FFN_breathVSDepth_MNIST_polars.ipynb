{
 "cells": [
  {
   "cell_type": "code",
   "id": "initial_id",
   "metadata": {
    "collapsed": true,
    "ExecuteTime": {
     "end_time": "2025-05-18T18:28:22.142416Z",
     "start_time": "2025-05-18T18:28:22.139259Z"
    }
   },
   "source": [
    "import polars as pl\n",
    "import polars.selectors as cs\n",
    "import numpy as np\n",
    "import plotly.express as px\n",
    "import matplotlib.pyplot as plt\n",
    "import torch\n",
    "import torch.nn as nn\n",
    "import torch.nn.functional as F\n",
    "from torch.utils.data import TensorDataset, DataLoader\n",
    "from sklearn.model_selection import train_test_split\n",
    "from sklearn.preprocessing import StandardScaler\n",
    "from sklearn.preprocessing import FunctionTransformer"
   ],
   "outputs": [],
   "execution_count": 413
  },
  {
   "metadata": {
    "ExecuteTime": {
     "end_time": "2025-05-18T18:28:22.276450Z",
     "start_time": "2025-05-18T18:28:22.162148Z"
    }
   },
   "cell_type": "code",
   "source": [
    "# import the data\n",
    "raw_df = pl.read_csv('mnist_train_small.csv')\n",
    "raw_df.head()"
   ],
   "id": "c67985cb5dd58a9a",
   "outputs": [
    {
     "data": {
      "text/plain": [
       "shape: (5, 785)\n",
       "┌─────┬─────┬─────────────┬─────────────┬───┬─────────────┬─────────────┬─────────────┬────────────┐\n",
       "│ 6   ┆ 0   ┆ 0_duplicate ┆ 0_duplicate ┆ … ┆ 0_duplicate ┆ 0_duplicate ┆ 0_duplicate ┆ 0_duplicat │\n",
       "│ --- ┆ --- ┆ d_0         ┆ d_1         ┆   ┆ d_586       ┆ d_587       ┆ d_588       ┆ ed_589     │\n",
       "│ i64 ┆ i64 ┆ ---         ┆ ---         ┆   ┆ ---         ┆ ---         ┆ ---         ┆ ---        │\n",
       "│     ┆     ┆ i64         ┆ i64         ┆   ┆ i64         ┆ i64         ┆ i64         ┆ i64        │\n",
       "╞═════╪═════╪═════════════╪═════════════╪═══╪═════════════╪═════════════╪═════════════╪════════════╡\n",
       "│ 5   ┆ 0   ┆ 0           ┆ 0           ┆ … ┆ 0           ┆ 0           ┆ 0           ┆ 0          │\n",
       "│ 7   ┆ 0   ┆ 0           ┆ 0           ┆ … ┆ 0           ┆ 0           ┆ 0           ┆ 0          │\n",
       "│ 9   ┆ 0   ┆ 0           ┆ 0           ┆ … ┆ 0           ┆ 0           ┆ 0           ┆ 0          │\n",
       "│ 5   ┆ 0   ┆ 0           ┆ 0           ┆ … ┆ 0           ┆ 0           ┆ 0           ┆ 0          │\n",
       "│ 2   ┆ 0   ┆ 0           ┆ 0           ┆ … ┆ 0           ┆ 0           ┆ 0           ┆ 0          │\n",
       "└─────┴─────┴─────────────┴─────────────┴───┴─────────────┴─────────────┴─────────────┴────────────┘"
      ],
      "text/html": [
       "<div><style>\n",
       ".dataframe > thead > tr,\n",
       ".dataframe > tbody > tr {\n",
       "  text-align: right;\n",
       "  white-space: pre-wrap;\n",
       "}\n",
       "</style>\n",
       "<small>shape: (5, 785)</small><table border=\"1\" class=\"dataframe\"><thead><tr><th>6</th><th>0</th><th>0_duplicated_0</th><th>0_duplicated_1</th><th>0_duplicated_2</th><th>0_duplicated_3</th><th>0_duplicated_4</th><th>0_duplicated_5</th><th>0_duplicated_6</th><th>0_duplicated_7</th><th>0_duplicated_8</th><th>0_duplicated_9</th><th>0_duplicated_10</th><th>0_duplicated_11</th><th>0_duplicated_12</th><th>0_duplicated_13</th><th>0_duplicated_14</th><th>0_duplicated_15</th><th>0_duplicated_16</th><th>0_duplicated_17</th><th>0_duplicated_18</th><th>0_duplicated_19</th><th>0_duplicated_20</th><th>0_duplicated_21</th><th>0_duplicated_22</th><th>0_duplicated_23</th><th>0_duplicated_24</th><th>0_duplicated_25</th><th>0_duplicated_26</th><th>0_duplicated_27</th><th>0_duplicated_28</th><th>0_duplicated_29</th><th>0_duplicated_30</th><th>0_duplicated_31</th><th>0_duplicated_32</th><th>0_duplicated_33</th><th>0_duplicated_34</th><th>&hellip;</th><th>0_duplicated_553</th><th>0_duplicated_554</th><th>0_duplicated_555</th><th>0_duplicated_556</th><th>0_duplicated_557</th><th>0_duplicated_558</th><th>0_duplicated_559</th><th>0_duplicated_560</th><th>0_duplicated_561</th><th>0_duplicated_562</th><th>0_duplicated_563</th><th>0_duplicated_564</th><th>0_duplicated_565</th><th>0_duplicated_566</th><th>0_duplicated_567</th><th>0_duplicated_568</th><th>0_duplicated_569</th><th>0_duplicated_570</th><th>0_duplicated_571</th><th>0_duplicated_572</th><th>0_duplicated_573</th><th>0_duplicated_574</th><th>0_duplicated_575</th><th>0_duplicated_576</th><th>0_duplicated_577</th><th>0_duplicated_578</th><th>0_duplicated_579</th><th>0_duplicated_580</th><th>0_duplicated_581</th><th>0_duplicated_582</th><th>0_duplicated_583</th><th>0_duplicated_584</th><th>0_duplicated_585</th><th>0_duplicated_586</th><th>0_duplicated_587</th><th>0_duplicated_588</th><th>0_duplicated_589</th></tr><tr><td>i64</td><td>i64</td><td>i64</td><td>i64</td><td>i64</td><td>i64</td><td>i64</td><td>i64</td><td>i64</td><td>i64</td><td>i64</td><td>i64</td><td>i64</td><td>i64</td><td>i64</td><td>i64</td><td>i64</td><td>i64</td><td>i64</td><td>i64</td><td>i64</td><td>i64</td><td>i64</td><td>i64</td><td>i64</td><td>i64</td><td>i64</td><td>i64</td><td>i64</td><td>i64</td><td>i64</td><td>i64</td><td>i64</td><td>i64</td><td>i64</td><td>i64</td><td>i64</td><td>&hellip;</td><td>i64</td><td>i64</td><td>i64</td><td>i64</td><td>i64</td><td>i64</td><td>i64</td><td>i64</td><td>i64</td><td>i64</td><td>i64</td><td>i64</td><td>i64</td><td>i64</td><td>i64</td><td>i64</td><td>i64</td><td>i64</td><td>i64</td><td>i64</td><td>i64</td><td>i64</td><td>i64</td><td>i64</td><td>i64</td><td>i64</td><td>i64</td><td>i64</td><td>i64</td><td>i64</td><td>i64</td><td>i64</td><td>i64</td><td>i64</td><td>i64</td><td>i64</td><td>i64</td></tr></thead><tbody><tr><td>5</td><td>0</td><td>0</td><td>0</td><td>0</td><td>0</td><td>0</td><td>0</td><td>0</td><td>0</td><td>0</td><td>0</td><td>0</td><td>0</td><td>0</td><td>0</td><td>0</td><td>0</td><td>0</td><td>0</td><td>0</td><td>0</td><td>0</td><td>0</td><td>0</td><td>0</td><td>0</td><td>0</td><td>0</td><td>0</td><td>0</td><td>0</td><td>0</td><td>0</td><td>0</td><td>0</td><td>0</td><td>&hellip;</td><td>0</td><td>0</td><td>0</td><td>0</td><td>0</td><td>0</td><td>0</td><td>0</td><td>0</td><td>0</td><td>0</td><td>0</td><td>0</td><td>0</td><td>0</td><td>0</td><td>0</td><td>0</td><td>0</td><td>0</td><td>0</td><td>0</td><td>0</td><td>0</td><td>0</td><td>0</td><td>0</td><td>0</td><td>0</td><td>0</td><td>0</td><td>0</td><td>0</td><td>0</td><td>0</td><td>0</td><td>0</td></tr><tr><td>7</td><td>0</td><td>0</td><td>0</td><td>0</td><td>0</td><td>0</td><td>0</td><td>0</td><td>0</td><td>0</td><td>0</td><td>0</td><td>0</td><td>0</td><td>0</td><td>0</td><td>0</td><td>0</td><td>0</td><td>0</td><td>0</td><td>0</td><td>0</td><td>0</td><td>0</td><td>0</td><td>0</td><td>0</td><td>0</td><td>0</td><td>0</td><td>0</td><td>0</td><td>0</td><td>0</td><td>0</td><td>&hellip;</td><td>0</td><td>0</td><td>0</td><td>0</td><td>0</td><td>0</td><td>0</td><td>0</td><td>0</td><td>0</td><td>0</td><td>0</td><td>0</td><td>0</td><td>0</td><td>0</td><td>0</td><td>0</td><td>0</td><td>0</td><td>0</td><td>0</td><td>0</td><td>0</td><td>0</td><td>0</td><td>0</td><td>0</td><td>0</td><td>0</td><td>0</td><td>0</td><td>0</td><td>0</td><td>0</td><td>0</td><td>0</td></tr><tr><td>9</td><td>0</td><td>0</td><td>0</td><td>0</td><td>0</td><td>0</td><td>0</td><td>0</td><td>0</td><td>0</td><td>0</td><td>0</td><td>0</td><td>0</td><td>0</td><td>0</td><td>0</td><td>0</td><td>0</td><td>0</td><td>0</td><td>0</td><td>0</td><td>0</td><td>0</td><td>0</td><td>0</td><td>0</td><td>0</td><td>0</td><td>0</td><td>0</td><td>0</td><td>0</td><td>0</td><td>0</td><td>&hellip;</td><td>0</td><td>0</td><td>0</td><td>0</td><td>0</td><td>0</td><td>0</td><td>0</td><td>0</td><td>0</td><td>0</td><td>0</td><td>0</td><td>0</td><td>0</td><td>0</td><td>0</td><td>0</td><td>0</td><td>0</td><td>0</td><td>0</td><td>0</td><td>0</td><td>0</td><td>0</td><td>0</td><td>0</td><td>0</td><td>0</td><td>0</td><td>0</td><td>0</td><td>0</td><td>0</td><td>0</td><td>0</td></tr><tr><td>5</td><td>0</td><td>0</td><td>0</td><td>0</td><td>0</td><td>0</td><td>0</td><td>0</td><td>0</td><td>0</td><td>0</td><td>0</td><td>0</td><td>0</td><td>0</td><td>0</td><td>0</td><td>0</td><td>0</td><td>0</td><td>0</td><td>0</td><td>0</td><td>0</td><td>0</td><td>0</td><td>0</td><td>0</td><td>0</td><td>0</td><td>0</td><td>0</td><td>0</td><td>0</td><td>0</td><td>0</td><td>&hellip;</td><td>0</td><td>0</td><td>0</td><td>0</td><td>0</td><td>0</td><td>0</td><td>0</td><td>0</td><td>0</td><td>0</td><td>0</td><td>0</td><td>0</td><td>0</td><td>0</td><td>0</td><td>0</td><td>0</td><td>0</td><td>0</td><td>0</td><td>0</td><td>0</td><td>0</td><td>0</td><td>0</td><td>0</td><td>0</td><td>0</td><td>0</td><td>0</td><td>0</td><td>0</td><td>0</td><td>0</td><td>0</td></tr><tr><td>2</td><td>0</td><td>0</td><td>0</td><td>0</td><td>0</td><td>0</td><td>0</td><td>0</td><td>0</td><td>0</td><td>0</td><td>0</td><td>0</td><td>0</td><td>0</td><td>0</td><td>0</td><td>0</td><td>0</td><td>0</td><td>0</td><td>0</td><td>0</td><td>0</td><td>0</td><td>0</td><td>0</td><td>0</td><td>0</td><td>0</td><td>0</td><td>0</td><td>0</td><td>0</td><td>0</td><td>0</td><td>&hellip;</td><td>0</td><td>0</td><td>0</td><td>0</td><td>0</td><td>0</td><td>0</td><td>0</td><td>0</td><td>0</td><td>0</td><td>0</td><td>0</td><td>0</td><td>0</td><td>0</td><td>0</td><td>0</td><td>0</td><td>0</td><td>0</td><td>0</td><td>0</td><td>0</td><td>0</td><td>0</td><td>0</td><td>0</td><td>0</td><td>0</td><td>0</td><td>0</td><td>0</td><td>0</td><td>0</td><td>0</td><td>0</td></tr></tbody></table></div>"
      ]
     },
     "execution_count": 414,
     "metadata": {},
     "output_type": "execute_result"
    }
   ],
   "execution_count": 414
  },
  {
   "metadata": {
    "ExecuteTime": {
     "end_time": "2025-05-18T18:28:22.323923Z",
     "start_time": "2025-05-18T18:28:22.306449Z"
    }
   },
   "cell_type": "code",
   "source": [
    "# select the data\n",
    "label = raw_df[:, 0]\n",
    "data = raw_df[:, 1:]"
   ],
   "id": "859071fe2a7fde8b",
   "outputs": [],
   "execution_count": 415
  },
  {
   "metadata": {
    "ExecuteTime": {
     "end_time": "2025-05-18T18:28:22.423643Z",
     "start_time": "2025-05-18T18:28:22.363332Z"
    }
   },
   "cell_type": "code",
   "source": [
    "# convert to tensor data\n",
    "dataT = torch.tensor(data.to_numpy()).float()\n",
    "labelT = torch.tensor(label.to_numpy()).long()"
   ],
   "id": "f3d93ca50d1365c8",
   "outputs": [],
   "execution_count": 416
  },
  {
   "metadata": {
    "ExecuteTime": {
     "end_time": "2025-05-18T18:28:22.627330Z",
     "start_time": "2025-05-18T18:28:22.625387Z"
    }
   },
   "cell_type": "code",
   "source": "labelT",
   "id": "a096c7cc092d38f8",
   "outputs": [
    {
     "data": {
      "text/plain": [
       "tensor([5, 7, 9,  ..., 2, 9, 5])"
      ]
     },
     "execution_count": 417,
     "metadata": {},
     "output_type": "execute_result"
    }
   ],
   "execution_count": 417
  },
  {
   "metadata": {
    "ExecuteTime": {
     "end_time": "2025-05-18T18:28:22.881258Z",
     "start_time": "2025-05-18T18:28:22.830598Z"
    }
   },
   "cell_type": "code",
   "source": [
    "# split the data for training and testing\n",
    "X_train, X_test, y_train, y_test = train_test_split(dataT, labelT, test_size=0.2, random_state=42)"
   ],
   "id": "799c69efe2f2b90b",
   "outputs": [],
   "execution_count": 418
  },
  {
   "metadata": {
    "ExecuteTime": {
     "end_time": "2025-05-18T18:28:22.915225Z",
     "start_time": "2025-05-18T18:28:22.913615Z"
    }
   },
   "cell_type": "code",
   "source": [
    "# # normalize the training and test data\n",
    "# # remember to change it to torch.float()\n",
    "# scaler = StandardScaler()\n",
    "#\n",
    "# X_train_norm = torch.tensor(scaler.fit_transform(X_train), dtype=torch.float32)\n",
    "# X_test_norm = torch.tensor(scaler.transform(X_test), dtype=torch.float32)"
   ],
   "id": "3ea5d9e760bf1d2f",
   "outputs": [],
   "execution_count": 419
  },
  {
   "metadata": {
    "ExecuteTime": {
     "end_time": "2025-05-18T18:28:22.970106Z",
     "start_time": "2025-05-18T18:28:22.928947Z"
    }
   },
   "cell_type": "code",
   "source": [
    "# create the scaler\n",
    "X_train_scaler= FunctionTransformer(lambda x: (x / torch.max(X_train)), validate=True)\n",
    "X_test_scaler= FunctionTransformer(lambda x: (x / torch.max(X_test)), validate=True)\n",
    "\n",
    "# fit transform\n",
    "X_train_norm = torch.tensor(X_train_scaler.fit_transform(X_train), dtype=torch.float32)\n",
    "X_test_norm = torch.tensor(X_test_scaler.fit_transform(X_test), dtype=torch.float32)"
   ],
   "id": "6b81d0723a132242",
   "outputs": [
    {
     "name": "stderr",
     "output_type": "stream",
     "text": [
      "/var/folders/f8/vcqysvdd39j1b3z4bt0ttjt40000gn/T/ipykernel_28081/881578220.py:6: UserWarning:\n",
      "\n",
      "To copy construct from a tensor, it is recommended to use sourceTensor.clone().detach() or sourceTensor.clone().detach().requires_grad_(True), rather than torch.tensor(sourceTensor).\n",
      "\n",
      "/var/folders/f8/vcqysvdd39j1b3z4bt0ttjt40000gn/T/ipykernel_28081/881578220.py:7: UserWarning:\n",
      "\n",
      "To copy construct from a tensor, it is recommended to use sourceTensor.clone().detach() or sourceTensor.clone().detach().requires_grad_(True), rather than torch.tensor(sourceTensor).\n",
      "\n"
     ]
    }
   ],
   "execution_count": 420
  },
  {
   "metadata": {
    "ExecuteTime": {
     "end_time": "2025-05-18T18:28:23.164635Z",
     "start_time": "2025-05-18T18:28:23.022809Z"
    }
   },
   "cell_type": "code",
   "source": [
    "# remember we need to covert this to tensor\n",
    "type(scaler.fit_transform(X_train))"
   ],
   "id": "2e4b595161ce59b6",
   "outputs": [
    {
     "data": {
      "text/plain": [
       "numpy.ndarray"
      ]
     },
     "execution_count": 421,
     "metadata": {},
     "output_type": "execute_result"
    }
   ],
   "execution_count": 421
  },
  {
   "metadata": {
    "ExecuteTime": {
     "end_time": "2025-05-18T18:28:23.201270Z",
     "start_time": "2025-05-18T18:28:23.197682Z"
    }
   },
   "cell_type": "code",
   "source": "type(X_train_norm)",
   "id": "867d0c8ff27b4fd9",
   "outputs": [
    {
     "data": {
      "text/plain": [
       "torch.Tensor"
      ]
     },
     "execution_count": 422,
     "metadata": {},
     "output_type": "execute_result"
    }
   ],
   "execution_count": 422
  },
  {
   "metadata": {
    "ExecuteTime": {
     "end_time": "2025-05-18T18:28:23.273307Z",
     "start_time": "2025-05-18T18:28:23.268889Z"
    }
   },
   "cell_type": "code",
   "source": [
    "# create dataset\n",
    "train_dataset = TensorDataset(X_train_norm, y_train)\n",
    "test_dataset = TensorDataset(X_test_norm, y_test)\n",
    "\n",
    "# create dataloader\n",
    "batchSize = 32\n",
    "train_loader = DataLoader(train_dataset, batch_size=batchSize, drop_last=True, shuffle=True)\n",
    "test_loader = DataLoader(test_dataset, batch_size=test_dataset.tensors[0].shape[0])"
   ],
   "id": "9e9c4f8f6bf1268c",
   "outputs": [],
   "execution_count": 423
  },
  {
   "metadata": {
    "ExecuteTime": {
     "end_time": "2025-05-18T18:28:23.305276Z",
     "start_time": "2025-05-18T18:28:23.300128Z"
    }
   },
   "cell_type": "code",
   "source": [
    "# construct the class for the model\n",
    "class ANN(nn.Module):\n",
    "    # nUnits is the breath\n",
    "    # nLayers is the depth\n",
    "    def __init__(self, nUnits, nLayers):\n",
    "        super().__init__()\n",
    "\n",
    "        # create a dictionary to store the layers\n",
    "        # the moduleDict is specifically designed to sotre layers of deep learning network\n",
    "        # initialize it to be an empty dictionary; special dict from pytorch\n",
    "        self.layers = nn.ModuleDict()\n",
    "\n",
    "        self.nLayers = nLayers\n",
    "        ### input layer\n",
    "        self.layers['input'] = nn.Linear(784, nUnits)\n",
    "\n",
    "        ### generate the hidden layers\n",
    "        # loop through the number of nLayers - which is an input\n",
    "        for i in range(nLayers):\n",
    "            # here we are defining it a name and calling it hidden\n",
    "            # every hidden layer has the same number of units within a model\n",
    "            self.layers[f\"hidden{i}\"] = nn.Linear(nUnits, nUnits)\n",
    "\n",
    "        ### output layer\n",
    "        self.layers['output'] = nn.Linear(nUnits, 10)\n",
    "\n",
    "    # forward pass\n",
    "    def forward(self, x):\n",
    "        x = F.relu(self.layers['input'](x))\n",
    "\n",
    "        # hidden layers\n",
    "        ### pass x into all of the hidden layers\n",
    "        for i in range(self.nLayers):\n",
    "            x = F.relu(self.layers[f\"hidden{i}\"](x))\n",
    "\n",
    "        # return outpput layer\n",
    "        x = self.layers['output'](x)\n",
    "\n",
    "        return x"
   ],
   "id": "ff6609d5fcdc2abf",
   "outputs": [],
   "execution_count": 424
  },
  {
   "metadata": {
    "ExecuteTime": {
     "end_time": "2025-05-18T18:28:23.332438Z",
     "start_time": "2025-05-18T18:28:23.328902Z"
    }
   },
   "cell_type": "code",
   "source": [
    "# more simplified from Claude AI\n",
    "class ANNmodel(nn.Module):\n",
    "    def __init__(self, nUnits, nLayers):\n",
    "        super().__init__()\n",
    "\n",
    "        # create a dictionary to store the layers\n",
    "        self.layers = nn.ModuleDict()\n",
    "\n",
    "        ### input layer\n",
    "        self.layers['input'] = nn.Linear(784, nUnits)\n",
    "\n",
    "        ### generate the hidden layers\n",
    "        for i in range(nLayers):\n",
    "            self.layers[f\"hidden{i}\"] = nn.Linear(nUnits, nUnits)\n",
    "\n",
    "        ### output layer\n",
    "        self.layers['output'] = nn.Linear(nUnits, 10)\n",
    "\n",
    "    # forward pass\n",
    "    def forward(self, x):\n",
    "        x = F.relu(self.layers['input'](x))\n",
    "\n",
    "        # hidden layers\n",
    "        # Use the number of hidden layers directly from the ModuleDict\n",
    "        for i in range(len(self.layers) - 2):  # -2 for input and output layers\n",
    "            x = F.relu(self.layers[f\"hidden{i}\"](x))\n",
    "\n",
    "        # return output layer\n",
    "        x = x = F.log_softmax(self.layers['output'](x), dim=1)\n",
    "\n",
    "        return x"
   ],
   "id": "884b587d5a894c95",
   "outputs": [],
   "execution_count": 425
  },
  {
   "metadata": {
    "ExecuteTime": {
     "end_time": "2025-05-18T18:28:23.358036Z",
     "start_time": "2025-05-18T18:28:23.354448Z"
    }
   },
   "cell_type": "code",
   "source": [
    "# generate an instance of the model and inspect it\n",
    "nUnitsPerLayer = 64\n",
    "nLayers = 4\n",
    "net = ANNmodel(nUnitsPerLayer,nLayers)\n",
    "net"
   ],
   "id": "41e7bd6ffccf7558",
   "outputs": [
    {
     "data": {
      "text/plain": [
       "ANNmodel(\n",
       "  (layers): ModuleDict(\n",
       "    (input): Linear(in_features=784, out_features=64, bias=True)\n",
       "    (hidden0): Linear(in_features=64, out_features=64, bias=True)\n",
       "    (hidden1): Linear(in_features=64, out_features=64, bias=True)\n",
       "    (hidden2): Linear(in_features=64, out_features=64, bias=True)\n",
       "    (hidden3): Linear(in_features=64, out_features=64, bias=True)\n",
       "    (output): Linear(in_features=64, out_features=10, bias=True)\n",
       "  )\n",
       ")"
      ]
     },
     "execution_count": 426,
     "metadata": {},
     "output_type": "execute_result"
    }
   ],
   "execution_count": 426
  },
  {
   "metadata": {
    "ExecuteTime": {
     "end_time": "2025-05-18T18:28:23.392074Z",
     "start_time": "2025-05-18T18:28:23.389345Z"
    }
   },
   "cell_type": "code",
   "source": [
    "# create model componenets\n",
    "def createANNnet(train_loader, nUnits, nLayers, learningRate=0.01, epochStep=10, gamma=1/2, ):\n",
    "    model = ANNmodel(nUnits, nLayers)\n",
    "    lossfunc = nn.NLLLoss()\n",
    "    optimizer = torch.optim.Adam(model.parameters(), lr=learningRate)\n",
    "\n",
    "    step_size = len(train_loader) * epochStep\n",
    "    schedular = torch.optim.lr_scheduler.StepLR(optimizer, step_size=step_size, gamma=gamma)\n",
    "\n",
    "    return model, lossfunc, optimizer, schedular"
   ],
   "id": "8d43b163bc2d20b8",
   "outputs": [],
   "execution_count": 427
  },
  {
   "metadata": {
    "ExecuteTime": {
     "end_time": "2025-05-18T18:28:23.457941Z",
     "start_time": "2025-05-18T18:28:23.453999Z"
    }
   },
   "cell_type": "code",
   "source": [
    "# function to train the model\n",
    "# train the model\n",
    "def trainModel(train_loader, test_loader, nUnits, nLayers, numepochs=100, toggleDynamic=True):\n",
    "    # define an empty list\n",
    "    training_progress = pl.DataFrame(\n",
    "        schema=[\n",
    "            ('iteration', pl.Int64),\n",
    "            ('epoch', pl.Int64),\n",
    "            ('train_loss', pl.Float64),\n",
    "            ('train_acc', pl.Float64),\n",
    "            ('test_loss', pl.Float64),\n",
    "            ('test_acc', pl.Float64),\n",
    "            ('learning_rate', pl.Float64)\n",
    "        ]\n",
    "    )\n",
    "    iteration = 0\n",
    "\n",
    "    # create the ann Model\n",
    "    model, lossfunc, optimizer, schedular = createANNnet(\n",
    "        train_loader, nUnits, nLayers, learningRate=0.01, epochStep=10, gamma=1/2,\n",
    "    )\n",
    "\n",
    "    # get test data once (since we are using a test_loader that loads all data at once)\n",
    "    X_testTL, y_testTL = next(iter(test_loader))\n",
    "\n",
    "    # training looop\n",
    "    for epoch in range(numepochs):\n",
    "        model.train()\n",
    "\n",
    "        epoch_train_loss = 0\n",
    "        epoch_train_acc = 0\n",
    "        num_batches = 0\n",
    "\n",
    "        # iterate through the training batches\n",
    "        for X_trainTL, y_trainTL in train_loader:\n",
    "            yhat_train = model(X_trainTL)\n",
    "            train_loss = lossfunc(yhat_train, y_trainTL)\n",
    "\n",
    "            optimizer.zero_grad()\n",
    "            train_loss.backward()\n",
    "            optimizer.step()\n",
    "\n",
    "            if toggleDynamic:\n",
    "                schedular.step()\n",
    "                current_lrs = schedular.get_last_lr()[0]\n",
    "            else:\n",
    "                current_lrs = optimizer.param_groups[0]['lr']\n",
    "\n",
    "            # get accuracy\n",
    "            train_matches = (torch.argmax(yhat_train, axis=1) == y_trainTL).float()\n",
    "            train_acc = 100 * torch.mean(train_matches)\n",
    "\n",
    "            # number of batches - a counter for how many batches were processed in this epoch\n",
    "            # epoch_train_loss = this is a running of the total of the trainin gloss for all the batches in the current epoch\n",
    "            # epoch_train_loss / num_batches  computes the average t raining loss per batch during the epoch\n",
    "            epoch_train_loss += train_loss.item()\n",
    "            epoch_train_acc += train_acc.item()\n",
    "\n",
    "            num_batches += 1\n",
    "\n",
    "        # end of epoch: evaluate test Once\n",
    "        model.eval()\n",
    "        with torch.no_grad():\n",
    "            yhat_test = model(X_testTL)\n",
    "            test_loss = lossfunc(yhat_test, y_testTL)\n",
    "            test_matches = (torch.argmax(yhat_test, axis=1) ==y_testTL).float()\n",
    "            test_acc = 100 * torch.mean(test_matches)\n",
    "\n",
    "        # log single row per epoch\n",
    "        new_row = pl.DataFrame([{\n",
    "            'iteration':iteration,\n",
    "            'epoch':epoch,\n",
    "            'train_loss': epoch_train_loss / num_batches,\n",
    "            'train_acc' : epoch_train_acc / num_batches,\n",
    "            'test_loss' : test_loss.item(),\n",
    "            'test_acc' : test_acc.item(),\n",
    "            'learning_rate' : current_lrs\n",
    "        }])\n",
    "\n",
    "        # add row to the dataframe\n",
    "        training_progress = pl.concat([training_progress, new_row])\n",
    "        iteration += 1\n",
    "\n",
    "        # this matches withe the epoch step\n",
    "        if epoch % 10 == 0 or epoch == numepochs -1 :\n",
    "            print(\n",
    "                f\"Epoch {epoch+1}/{numepochs} - \"\n",
    "                f\"Training: Loss={epoch_train_loss / num_batches:.4f}, \"\n",
    "                f\"Accuracy={epoch_train_acc / num_batches:.2f}% | \"\n",
    "                f\"Testing: Loss={test_loss.item():.4f}, \"\n",
    "                f\"Accuracy={test_acc.item():.2f}% | \"\n",
    "                f\"Learning Rate: {current_lrs:.6f}\"\n",
    "            )\n",
    "    return training_progress, model"
   ],
   "id": "9fbac7d42511c1f7",
   "outputs": [],
   "execution_count": 428
  },
  {
   "metadata": {
    "ExecuteTime": {
     "end_time": "2025-05-18T18:28:23.480996Z",
     "start_time": "2025-05-18T18:28:23.475814Z"
    }
   },
   "cell_type": "code",
   "source": [
    "# Claude AI suggestion to stop the model if no improvement to save computational power\n",
    "# function to train the model with early stopping\n",
    "def trainModel2(train_loader, test_loader, nUnits, nLayers, numepochs=100, toggleDynamic=True):\n",
    "    # define an empty list\n",
    "    training_progress = pl.DataFrame(\n",
    "        schema=[\n",
    "            ('iteration', pl.Int64),\n",
    "            ('epoch', pl.Int64),\n",
    "            ('train_loss', pl.Float64),\n",
    "            ('train_acc', pl.Float64),\n",
    "            ('test_loss', pl.Float64),\n",
    "            ('test_acc', pl.Float64),\n",
    "            ('learning_rate', pl.Float64)\n",
    "        ]\n",
    "    )\n",
    "    iteration = 0\n",
    "\n",
    "    # create the ann Model\n",
    "    model, lossfunc, optimizer, schedular = createANNnet(\n",
    "        train_loader, nUnits, nLayers, learningRate=0.01, epochStep=10, gamma=1/2,\n",
    "    )\n",
    "\n",
    "    # get test data once (since we are using a test_loader that loads all data at once)\n",
    "    X_testTL, y_testTL = next(iter(test_loader))\n",
    "\n",
    "    # Early stopping parameters\n",
    "    patience = 30\n",
    "    best_loss = float('inf')\n",
    "    no_improve_count = 0\n",
    "    best_model = None\n",
    "    import copy  # Add this import at the top of the file\n",
    "\n",
    "    # training loop\n",
    "    for epoch in range(numepochs):\n",
    "        model.train()\n",
    "\n",
    "        epoch_train_loss = 0\n",
    "        epoch_train_acc = 0\n",
    "        num_batches = 0\n",
    "\n",
    "        # iterate through the training batches\n",
    "        for X_trainTL, y_trainTL in train_loader:\n",
    "            yhat_train = model(X_trainTL)\n",
    "            train_loss = lossfunc(yhat_train, y_trainTL)\n",
    "\n",
    "            optimizer.zero_grad()\n",
    "            train_loss.backward()\n",
    "            optimizer.step()\n",
    "\n",
    "            if toggleDynamic:\n",
    "                schedular.step()\n",
    "                current_lrs = schedular.get_last_lr()[0]\n",
    "            else:\n",
    "                current_lrs = optimizer.param_groups[0]['lr']\n",
    "\n",
    "            # get accuracy\n",
    "            train_matches = (torch.argmax(yhat_train, axis=1) == y_trainTL).float()\n",
    "            train_acc = 100 * torch.mean(train_matches)\n",
    "\n",
    "            # number of batches - a counter for how many batches were processed in this epoch\n",
    "            # epoch_train_loss = this is a running of the total of the training loss for all the batches in the current epoch\n",
    "            # epoch_train_loss / num_batches  computes the average training loss per batch during the epoch\n",
    "            epoch_train_loss += train_loss.item()\n",
    "            epoch_train_acc += train_acc.item()\n",
    "\n",
    "            num_batches += 1\n",
    "\n",
    "        # end of epoch: evaluate test Once\n",
    "        model.eval()\n",
    "        with torch.no_grad():\n",
    "            yhat_test = model(X_testTL)\n",
    "            test_loss = lossfunc(yhat_test, y_testTL)\n",
    "            test_matches = (torch.argmax(yhat_test, axis=1) == y_testTL).float()\n",
    "            test_acc = 100 * torch.mean(test_matches)\n",
    "\n",
    "        # log single row per epoch\n",
    "        new_row = pl.DataFrame([{\n",
    "            'iteration': iteration,\n",
    "            'epoch': epoch,\n",
    "            'train_loss': epoch_train_loss / num_batches,\n",
    "            'train_acc': epoch_train_acc / num_batches,\n",
    "            'test_loss': test_loss.item(),\n",
    "            'test_acc': test_acc.item(),\n",
    "            'learning_rate': current_lrs\n",
    "        }])\n",
    "\n",
    "        # add row to the dataframe\n",
    "        training_progress = pl.concat([training_progress, new_row])\n",
    "        iteration += 1\n",
    "\n",
    "        # Early stopping check\n",
    "        if test_loss < best_loss:\n",
    "            best_loss = test_loss.item()\n",
    "            no_improve_count = 0\n",
    "            # Save best model\n",
    "            best_model = copy.deepcopy(model)\n",
    "        else:\n",
    "            no_improve_count += 1\n",
    "            if no_improve_count >= patience:\n",
    "                print(f\"Early stopping at epoch {epoch+1} - No improvement for {patience} epochs\")\n",
    "                break\n",
    "\n",
    "        # this matches with the epoch step\n",
    "        if epoch % 10 == 0 or epoch == numepochs - 1:\n",
    "            print(\n",
    "                f\"Epoch {epoch+1}/{numepochs} - \"\n",
    "                f\"Training: Loss={epoch_train_loss / num_batches:.4f}, \"\n",
    "                f\"Accuracy={epoch_train_acc / num_batches:.2f}% | \"\n",
    "                f\"Testing: Loss={test_loss.item():.4f}, \"\n",
    "                f\"Accuracy={test_acc.item():.2f}% | \"\n",
    "                f\"Learning Rate: {current_lrs:.6f}\"\n",
    "            )\n",
    "\n",
    "    # Return the best model instead of the last model\n",
    "    return training_progress, best_model if best_model is not None else model"
   ],
   "id": "d7c1e942ec80a126",
   "outputs": [],
   "execution_count": 429
  },
  {
   "metadata": {
    "ExecuteTime": {
     "end_time": "2025-05-18T18:28:23.504580Z",
     "start_time": "2025-05-18T18:28:23.502336Z"
    }
   },
   "cell_type": "code",
   "source": [
    "# define the model parameters\n",
    "numlayers = range(1, 4)\n",
    "numunits = np.arange(50, 300, 50)"
   ],
   "id": "91bbbd63a5085ae9",
   "outputs": [],
   "execution_count": 430
  },
  {
   "metadata": {
    "ExecuteTime": {
     "end_time": "2025-05-18T18:31:11.116712Z",
     "start_time": "2025-05-18T18:28:23.523613Z"
    }
   },
   "cell_type": "code",
   "source": [
    "# create a loop for those model parameters and start the expperiment\n",
    "\n",
    "all_results = []\n",
    "for unit in numunits:\n",
    "    for layer in numlayers:\n",
    "        training_progress, best_model = trainModel2(train_loader, test_loader, nUnits=unit, nLayers=layer, numepochs=100, toggleDynamic=True)\n",
    "\n",
    "        # we need create a columns to annonate the number of unit and layers in each loop\n",
    "        training_progress = (\n",
    "            training_progress\n",
    "            .with_columns(\n",
    "                number_units=pl.lit(unit),\n",
    "                number_layers=pl.lit(layer)\n",
    "            )\n",
    "        )\n",
    "        # append the returning dataframe to all_results\n",
    "        all_results.append(training_progress)\n",
    "\n",
    "combined_results = pl.concat(all_results)"
   ],
   "id": "a525c9aa5b528443",
   "outputs": [
    {
     "name": "stdout",
     "output_type": "stream",
     "text": [
      "Epoch 1/100 - Training: Loss=0.4099, Accuracy=87.18% | Testing: Loss=0.3480, Accuracy=89.70% | Learning Rate: 0.010000\n",
      "Epoch 11/100 - Training: Loss=0.0588, Accuracy=98.32% | Testing: Loss=0.2469, Accuracy=95.17% | Learning Rate: 0.005000\n",
      "Epoch 21/100 - Training: Loss=0.0164, Accuracy=99.46% | Testing: Loss=0.3459, Accuracy=95.35% | Learning Rate: 0.002500\n",
      "Epoch 31/100 - Training: Loss=0.0010, Accuracy=99.98% | Testing: Loss=0.4406, Accuracy=95.78% | Learning Rate: 0.001250\n",
      "Early stopping at epoch 34 - No improvement for 30 epochs\n",
      "Epoch 1/100 - Training: Loss=0.4585, Accuracy=85.85% | Testing: Loss=0.3403, Accuracy=90.45% | Learning Rate: 0.010000\n",
      "Epoch 11/100 - Training: Loss=0.0633, Accuracy=98.11% | Testing: Loss=0.2400, Accuracy=95.15% | Learning Rate: 0.005000\n",
      "Epoch 21/100 - Training: Loss=0.0206, Accuracy=99.48% | Testing: Loss=0.3088, Accuracy=95.32% | Learning Rate: 0.002500\n",
      "Epoch 31/100 - Training: Loss=0.0027, Accuracy=99.91% | Testing: Loss=0.4473, Accuracy=95.35% | Learning Rate: 0.001250\n",
      "Early stopping at epoch 33 - No improvement for 30 epochs\n",
      "Epoch 1/100 - Training: Loss=0.5099, Accuracy=84.26% | Testing: Loss=0.2895, Accuracy=92.18% | Learning Rate: 0.010000\n",
      "Epoch 11/100 - Training: Loss=0.0825, Accuracy=97.73% | Testing: Loss=0.2141, Accuracy=95.55% | Learning Rate: 0.005000\n",
      "Epoch 21/100 - Training: Loss=0.0273, Accuracy=99.30% | Testing: Loss=0.2886, Accuracy=95.82% | Learning Rate: 0.002500\n",
      "Epoch 31/100 - Training: Loss=0.0106, Accuracy=99.72% | Testing: Loss=0.4926, Accuracy=95.67% | Learning Rate: 0.001250\n",
      "Early stopping at epoch 41 - No improvement for 30 epochs\n",
      "Epoch 1/100 - Training: Loss=0.3934, Accuracy=87.83% | Testing: Loss=0.3305, Accuracy=90.43% | Learning Rate: 0.010000\n",
      "Epoch 11/100 - Training: Loss=0.0492, Accuracy=98.60% | Testing: Loss=0.2476, Accuracy=95.70% | Learning Rate: 0.005000\n",
      "Epoch 21/100 - Training: Loss=0.0105, Accuracy=99.73% | Testing: Loss=0.3347, Accuracy=95.97% | Learning Rate: 0.002500\n",
      "Epoch 31/100 - Training: Loss=0.0089, Accuracy=99.76% | Testing: Loss=0.4328, Accuracy=95.67% | Learning Rate: 0.001250\n",
      "Early stopping at epoch 33 - No improvement for 30 epochs\n",
      "Epoch 1/100 - Training: Loss=0.4629, Accuracy=86.18% | Testing: Loss=0.2850, Accuracy=91.95% | Learning Rate: 0.010000\n",
      "Epoch 11/100 - Training: Loss=0.0673, Accuracy=98.23% | Testing: Loss=0.2761, Accuracy=95.45% | Learning Rate: 0.005000\n",
      "Epoch 21/100 - Training: Loss=0.0177, Accuracy=99.51% | Testing: Loss=0.3154, Accuracy=96.05% | Learning Rate: 0.002500\n",
      "Epoch 31/100 - Training: Loss=0.0046, Accuracy=99.85% | Testing: Loss=0.4486, Accuracy=96.30% | Learning Rate: 0.001250\n",
      "Early stopping at epoch 40 - No improvement for 30 epochs\n",
      "Epoch 1/100 - Training: Loss=0.5916, Accuracy=82.34% | Testing: Loss=0.3535, Accuracy=90.97% | Learning Rate: 0.010000\n",
      "Epoch 11/100 - Training: Loss=0.0883, Accuracy=97.78% | Testing: Loss=0.2302, Accuracy=95.45% | Learning Rate: 0.005000\n",
      "Epoch 21/100 - Training: Loss=0.0276, Accuracy=99.23% | Testing: Loss=0.2754, Accuracy=95.28% | Learning Rate: 0.002500\n",
      "Epoch 31/100 - Training: Loss=0.0086, Accuracy=99.70% | Testing: Loss=0.4788, Accuracy=95.38% | Learning Rate: 0.001250\n",
      "Epoch 41/100 - Training: Loss=0.0031, Accuracy=99.87% | Testing: Loss=0.6529, Accuracy=95.28% | Learning Rate: 0.000625\n",
      "Early stopping at epoch 42 - No improvement for 30 epochs\n",
      "Epoch 1/100 - Training: Loss=0.3960, Accuracy=88.35% | Testing: Loss=0.2719, Accuracy=92.38% | Learning Rate: 0.010000\n",
      "Epoch 11/100 - Training: Loss=0.0445, Accuracy=98.73% | Testing: Loss=0.2442, Accuracy=95.92% | Learning Rate: 0.005000\n",
      "Epoch 21/100 - Training: Loss=0.0102, Accuracy=99.69% | Testing: Loss=0.3098, Accuracy=96.65% | Learning Rate: 0.002500\n",
      "Epoch 31/100 - Training: Loss=0.0012, Accuracy=99.96% | Testing: Loss=0.3723, Accuracy=96.57% | Learning Rate: 0.001250\n",
      "Early stopping at epoch 33 - No improvement for 30 epochs\n",
      "Epoch 1/100 - Training: Loss=0.4758, Accuracy=86.23% | Testing: Loss=0.3366, Accuracy=91.55% | Learning Rate: 0.010000\n",
      "Epoch 11/100 - Training: Loss=0.0797, Accuracy=97.93% | Testing: Loss=0.2027, Accuracy=95.50% | Learning Rate: 0.005000\n",
      "Epoch 21/100 - Training: Loss=0.0255, Accuracy=99.36% | Testing: Loss=0.3336, Accuracy=96.05% | Learning Rate: 0.002500\n",
      "Epoch 31/100 - Training: Loss=0.0061, Accuracy=99.84% | Testing: Loss=0.4276, Accuracy=96.12% | Learning Rate: 0.001250\n",
      "Early stopping at epoch 41 - No improvement for 30 epochs\n",
      "Epoch 1/100 - Training: Loss=0.5511, Accuracy=83.92% | Testing: Loss=0.4906, Accuracy=88.55% | Learning Rate: 0.010000\n",
      "Epoch 11/100 - Training: Loss=0.0934, Accuracy=97.59% | Testing: Loss=0.2055, Accuracy=95.60% | Learning Rate: 0.005000\n",
      "Epoch 21/100 - Training: Loss=0.0330, Accuracy=99.02% | Testing: Loss=0.2884, Accuracy=95.60% | Learning Rate: 0.002500\n",
      "Epoch 31/100 - Training: Loss=0.0102, Accuracy=99.66% | Testing: Loss=0.4642, Accuracy=96.07% | Learning Rate: 0.001250\n",
      "Early stopping at epoch 41 - No improvement for 30 epochs\n",
      "Epoch 1/100 - Training: Loss=0.4019, Accuracy=87.66% | Testing: Loss=0.3473, Accuracy=90.25% | Learning Rate: 0.010000\n",
      "Epoch 11/100 - Training: Loss=0.0633, Accuracy=98.27% | Testing: Loss=0.2456, Accuracy=95.65% | Learning Rate: 0.005000\n",
      "Epoch 21/100 - Training: Loss=0.0120, Accuracy=99.61% | Testing: Loss=0.4153, Accuracy=96.05% | Learning Rate: 0.002500\n",
      "Epoch 31/100 - Training: Loss=0.0017, Accuracy=99.95% | Testing: Loss=0.5300, Accuracy=95.90% | Learning Rate: 0.001250\n",
      "Early stopping at epoch 41 - No improvement for 30 epochs\n",
      "Epoch 1/100 - Training: Loss=0.4922, Accuracy=86.18% | Testing: Loss=0.3563, Accuracy=90.93% | Learning Rate: 0.010000\n",
      "Epoch 11/100 - Training: Loss=0.0682, Accuracy=98.08% | Testing: Loss=0.2413, Accuracy=95.57% | Learning Rate: 0.005000\n",
      "Epoch 21/100 - Training: Loss=0.0189, Accuracy=99.53% | Testing: Loss=0.3299, Accuracy=95.90% | Learning Rate: 0.002500\n",
      "Epoch 31/100 - Training: Loss=0.0055, Accuracy=99.85% | Testing: Loss=0.4544, Accuracy=96.03% | Learning Rate: 0.001250\n",
      "Early stopping at epoch 36 - No improvement for 30 epochs\n",
      "Epoch 1/100 - Training: Loss=0.5956, Accuracy=82.93% | Testing: Loss=0.6285, Accuracy=84.57% | Learning Rate: 0.010000\n",
      "Epoch 11/100 - Training: Loss=0.1169, Accuracy=97.09% | Testing: Loss=0.2450, Accuracy=95.32% | Learning Rate: 0.005000\n",
      "Epoch 21/100 - Training: Loss=0.0454, Accuracy=98.72% | Testing: Loss=0.3358, Accuracy=95.85% | Learning Rate: 0.002500\n",
      "Epoch 31/100 - Training: Loss=0.0179, Accuracy=99.48% | Testing: Loss=0.4741, Accuracy=96.28% | Learning Rate: 0.001250\n",
      "Epoch 41/100 - Training: Loss=0.0046, Accuracy=99.87% | Testing: Loss=0.7417, Accuracy=95.72% | Learning Rate: 0.000625\n",
      "Early stopping at epoch 44 - No improvement for 30 epochs\n",
      "Epoch 1/100 - Training: Loss=0.3960, Accuracy=88.20% | Testing: Loss=0.2733, Accuracy=92.50% | Learning Rate: 0.010000\n",
      "Epoch 11/100 - Training: Loss=0.0518, Accuracy=98.55% | Testing: Loss=0.2833, Accuracy=96.03% | Learning Rate: 0.005000\n",
      "Epoch 21/100 - Training: Loss=0.0121, Accuracy=99.61% | Testing: Loss=0.4201, Accuracy=96.32% | Learning Rate: 0.002500\n",
      "Epoch 31/100 - Training: Loss=0.0016, Accuracy=99.93% | Testing: Loss=0.5038, Accuracy=96.17% | Learning Rate: 0.001250\n",
      "Early stopping at epoch 32 - No improvement for 30 epochs\n",
      "Epoch 1/100 - Training: Loss=0.4978, Accuracy=86.03% | Testing: Loss=0.4498, Accuracy=89.22% | Learning Rate: 0.010000\n",
      "Epoch 11/100 - Training: Loss=0.0858, Accuracy=97.73% | Testing: Loss=0.2328, Accuracy=95.75% | Learning Rate: 0.005000\n",
      "Epoch 21/100 - Training: Loss=0.0274, Accuracy=99.27% | Testing: Loss=0.3075, Accuracy=96.12% | Learning Rate: 0.002500\n",
      "Epoch 31/100 - Training: Loss=0.0053, Accuracy=99.87% | Testing: Loss=0.5252, Accuracy=96.25% | Learning Rate: 0.001250\n",
      "Early stopping at epoch 41 - No improvement for 30 epochs\n",
      "Epoch 1/100 - Training: Loss=0.6043, Accuracy=82.82% | Testing: Loss=0.3429, Accuracy=91.03% | Learning Rate: 0.010000\n",
      "Epoch 11/100 - Training: Loss=0.1204, Accuracy=96.98% | Testing: Loss=0.2371, Accuracy=95.35% | Learning Rate: 0.005000\n",
      "Epoch 21/100 - Training: Loss=0.0432, Accuracy=98.84% | Testing: Loss=0.2773, Accuracy=95.88% | Learning Rate: 0.002500\n",
      "Epoch 31/100 - Training: Loss=0.0151, Accuracy=99.60% | Testing: Loss=0.5069, Accuracy=96.00% | Learning Rate: 0.001250\n",
      "Epoch 41/100 - Training: Loss=0.0051, Accuracy=99.84% | Testing: Loss=0.8110, Accuracy=95.82% | Learning Rate: 0.000625\n",
      "Early stopping at epoch 42 - No improvement for 30 epochs\n"
     ]
    }
   ],
   "execution_count": 431
  },
  {
   "metadata": {
    "ExecuteTime": {
     "end_time": "2025-05-18T18:31:11.139051Z",
     "start_time": "2025-05-18T18:31:11.135941Z"
    }
   },
   "cell_type": "code",
   "source": [
    "# inspect the data\n",
    "combined_results.head()"
   ],
   "id": "918e85c569187b66",
   "outputs": [
    {
     "data": {
      "text/plain": [
       "shape: (5, 9)\n",
       "┌───────────┬───────┬────────────┬───────────┬───┬───────────┬────────────┬────────────┬───────────┐\n",
       "│ iteration ┆ epoch ┆ train_loss ┆ train_acc ┆ … ┆ test_acc  ┆ learning_r ┆ number_uni ┆ number_la │\n",
       "│ ---       ┆ ---   ┆ ---        ┆ ---       ┆   ┆ ---       ┆ ate        ┆ ts         ┆ yers      │\n",
       "│ i64       ┆ i64   ┆ f64        ┆ f64       ┆   ┆ f64       ┆ ---        ┆ ---        ┆ ---       │\n",
       "│           ┆       ┆            ┆           ┆   ┆           ┆ f64        ┆ i32        ┆ i32       │\n",
       "╞═══════════╪═══════╪════════════╪═══════════╪═══╪═══════════╪════════════╪════════════╪═══════════╡\n",
       "│ 0         ┆ 0     ┆ 0.409902   ┆ 87.180611 ┆ … ┆ 89.700005 ┆ 0.01       ┆ 50         ┆ 1         │\n",
       "│ 1         ┆ 1     ┆ 0.231366   ┆ 93.167585 ┆ … ┆ 92.349998 ┆ 0.01       ┆ 50         ┆ 1         │\n",
       "│ 2         ┆ 2     ┆ 0.183377   ┆ 94.457665 ┆ … ┆ 93.275002 ┆ 0.01       ┆ 50         ┆ 1         │\n",
       "│ 3         ┆ 3     ┆ 0.169616   ┆ 94.927355 ┆ … ┆ 93.550003 ┆ 0.01       ┆ 50         ┆ 1         │\n",
       "│ 4         ┆ 4     ┆ 0.161112   ┆ 95.271794 ┆ … ┆ 93.550003 ┆ 0.01       ┆ 50         ┆ 1         │\n",
       "└───────────┴───────┴────────────┴───────────┴───┴───────────┴────────────┴────────────┴───────────┘"
      ],
      "text/html": [
       "<div><style>\n",
       ".dataframe > thead > tr,\n",
       ".dataframe > tbody > tr {\n",
       "  text-align: right;\n",
       "  white-space: pre-wrap;\n",
       "}\n",
       "</style>\n",
       "<small>shape: (5, 9)</small><table border=\"1\" class=\"dataframe\"><thead><tr><th>iteration</th><th>epoch</th><th>train_loss</th><th>train_acc</th><th>test_loss</th><th>test_acc</th><th>learning_rate</th><th>number_units</th><th>number_layers</th></tr><tr><td>i64</td><td>i64</td><td>f64</td><td>f64</td><td>f64</td><td>f64</td><td>f64</td><td>i32</td><td>i32</td></tr></thead><tbody><tr><td>0</td><td>0</td><td>0.409902</td><td>87.180611</td><td>0.347965</td><td>89.700005</td><td>0.01</td><td>50</td><td>1</td></tr><tr><td>1</td><td>1</td><td>0.231366</td><td>93.167585</td><td>0.258432</td><td>92.349998</td><td>0.01</td><td>50</td><td>1</td></tr><tr><td>2</td><td>2</td><td>0.183377</td><td>94.457665</td><td>0.248038</td><td>93.275002</td><td>0.01</td><td>50</td><td>1</td></tr><tr><td>3</td><td>3</td><td>0.169616</td><td>94.927355</td><td>0.234673</td><td>93.550003</td><td>0.01</td><td>50</td><td>1</td></tr><tr><td>4</td><td>4</td><td>0.161112</td><td>95.271794</td><td>0.259947</td><td>93.550003</td><td>0.01</td><td>50</td><td>1</td></tr></tbody></table></div>"
      ]
     },
     "execution_count": 432,
     "metadata": {},
     "output_type": "execute_result"
    }
   ],
   "execution_count": 432
  },
  {
   "metadata": {
    "ExecuteTime": {
     "end_time": "2025-05-18T18:31:11.176654Z",
     "start_time": "2025-05-18T18:31:11.173703Z"
    }
   },
   "cell_type": "code",
   "source": [
    "# grouped the data based on number_units, number_layers, epoch\n",
    "grouped_results = (\n",
    "    combined_results\n",
    "    .group_by('number_layers', 'number_units', 'epoch')\n",
    "    .agg(\n",
    "        cs.numeric().mean().name.prefix('mean_')\n",
    "    )\n",
    "    .sort(['number_units', 'number_layers', 'epoch'], descending=False)\n",
    "\n",
    ")"
   ],
   "id": "bc623bc5a28da329",
   "outputs": [],
   "execution_count": 433
  },
  {
   "metadata": {
    "ExecuteTime": {
     "end_time": "2025-05-18T18:31:11.245537Z",
     "start_time": "2025-05-18T18:31:11.242010Z"
    }
   },
   "cell_type": "code",
   "source": [
    "# instead grouped results - the top few rows are the best performing model\n",
    "grouped_results.sort('mean_test_acc', descending=True).head()"
   ],
   "id": "b8f8081aa41d1ee4",
   "outputs": [
    {
     "data": {
      "text/plain": [
       "shape: (5, 9)\n",
       "┌────────────┬────────────┬───────┬────────────┬───┬───────────┬───────────┬───────────┬───────────┐\n",
       "│ number_lay ┆ number_uni ┆ epoch ┆ mean_itera ┆ … ┆ mean_trai ┆ mean_test ┆ mean_test ┆ mean_lear │\n",
       "│ ers        ┆ ts         ┆ ---   ┆ tion       ┆   ┆ n_acc     ┆ _loss     ┆ _acc      ┆ ning_rate │\n",
       "│ ---        ┆ ---        ┆ i64   ┆ ---        ┆   ┆ ---       ┆ ---       ┆ ---       ┆ ---       │\n",
       "│ i32        ┆ i32        ┆       ┆ f64        ┆   ┆ f64       ┆ f64       ┆ f64       ┆ f64       │\n",
       "╞════════════╪════════════╪═══════╪════════════╪═══╪═══════════╪═══════════╪═══════════╪═══════════╡\n",
       "│ 1          ┆ 150        ┆ 22    ┆ 22.0       ┆ … ┆ 99.9499   ┆ 0.313334  ┆ 96.900002 ┆ 0.0025    │\n",
       "│ 1          ┆ 150        ┆ 25    ┆ 25.0       ┆ … ┆ 99.9499   ┆ 0.333169  ┆ 96.875    ┆ 0.0025    │\n",
       "│ 1          ┆ 150        ┆ 23    ┆ 23.0       ┆ … ┆ 99.956162 ┆ 0.31146   ┆ 96.824997 ┆ 0.0025    │\n",
       "│ 1          ┆ 150        ┆ 21    ┆ 21.0       ┆ … ┆ 99.8998   ┆ 0.297384  ┆ 96.800003 ┆ 0.0025    │\n",
       "│ 1          ┆ 150        ┆ 32    ┆ 32.0       ┆ … ┆ 99.981212 ┆ 0.370671  ┆ 96.675003 ┆ 0.00125   │\n",
       "└────────────┴────────────┴───────┴────────────┴───┴───────────┴───────────┴───────────┴───────────┘"
      ],
      "text/html": [
       "<div><style>\n",
       ".dataframe > thead > tr,\n",
       ".dataframe > tbody > tr {\n",
       "  text-align: right;\n",
       "  white-space: pre-wrap;\n",
       "}\n",
       "</style>\n",
       "<small>shape: (5, 9)</small><table border=\"1\" class=\"dataframe\"><thead><tr><th>number_layers</th><th>number_units</th><th>epoch</th><th>mean_iteration</th><th>mean_train_loss</th><th>mean_train_acc</th><th>mean_test_loss</th><th>mean_test_acc</th><th>mean_learning_rate</th></tr><tr><td>i32</td><td>i32</td><td>i64</td><td>f64</td><td>f64</td><td>f64</td><td>f64</td><td>f64</td><td>f64</td></tr></thead><tbody><tr><td>1</td><td>150</td><td>22</td><td>22.0</td><td>0.001672</td><td>99.9499</td><td>0.313334</td><td>96.900002</td><td>0.0025</td></tr><tr><td>1</td><td>150</td><td>25</td><td>25.0</td><td>0.00173</td><td>99.9499</td><td>0.333169</td><td>96.875</td><td>0.0025</td></tr><tr><td>1</td><td>150</td><td>23</td><td>23.0</td><td>0.001344</td><td>99.956162</td><td>0.31146</td><td>96.824997</td><td>0.0025</td></tr><tr><td>1</td><td>150</td><td>21</td><td>21.0</td><td>0.003194</td><td>99.8998</td><td>0.297384</td><td>96.800003</td><td>0.0025</td></tr><tr><td>1</td><td>150</td><td>32</td><td>32.0</td><td>0.000359</td><td>99.981212</td><td>0.370671</td><td>96.675003</td><td>0.00125</td></tr></tbody></table></div>"
      ]
     },
     "execution_count": 434,
     "metadata": {},
     "output_type": "execute_result"
    }
   ],
   "execution_count": 434
  },
  {
   "metadata": {
    "ExecuteTime": {
     "end_time": "2025-05-18T18:31:11.385586Z",
     "start_time": "2025-05-18T18:31:11.309211Z"
    }
   },
   "cell_type": "code",
   "source": [
    "fig = px.scatter(\n",
    "    grouped_results,\n",
    "    x='number_units',\n",
    "    y='mean_test_acc',\n",
    "    color='epoch',\n",
    "    facet_col='number_layers',\n",
    "    color_continuous_scale='Plasma'\n",
    ")\n",
    "\n",
    "fig.update_layout(template='ggplot2', width=800)"
   ],
   "id": "4816aca77d0e35f8",
   "outputs": [
    {
     "data": {
      "application/vnd.plotly.v1+json": {
       "data": [
        {
         "hovertemplate": "number_layers=1<br>number_units=%{x}<br>mean_test_acc=%{y}<br>epoch=%{marker.color}<extra></extra>",
         "legendgroup": "",
         "marker": {
          "color": [
           0,
           1,
           2,
           3,
           4,
           5,
           6,
           7,
           8,
           9,
           10,
           11,
           12,
           13,
           14,
           15,
           16,
           17,
           18,
           19,
           20,
           21,
           22,
           23,
           24,
           25,
           26,
           27,
           28,
           29,
           30,
           31,
           32,
           33,
           0,
           1,
           2,
           3,
           4,
           5,
           6,
           7,
           8,
           9,
           10,
           11,
           12,
           13,
           14,
           15,
           16,
           17,
           18,
           19,
           20,
           21,
           22,
           23,
           24,
           25,
           26,
           27,
           28,
           29,
           30,
           31,
           32,
           0,
           1,
           2,
           3,
           4,
           5,
           6,
           7,
           8,
           9,
           10,
           11,
           12,
           13,
           14,
           15,
           16,
           17,
           18,
           19,
           20,
           21,
           22,
           23,
           24,
           25,
           26,
           27,
           28,
           29,
           30,
           31,
           32,
           0,
           1,
           2,
           3,
           4,
           5,
           6,
           7,
           8,
           9,
           10,
           11,
           12,
           13,
           14,
           15,
           16,
           17,
           18,
           19,
           20,
           21,
           22,
           23,
           24,
           25,
           26,
           27,
           28,
           29,
           30,
           31,
           32,
           33,
           34,
           35,
           36,
           37,
           38,
           39,
           40,
           0,
           1,
           2,
           3,
           4,
           5,
           6,
           7,
           8,
           9,
           10,
           11,
           12,
           13,
           14,
           15,
           16,
           17,
           18,
           19,
           20,
           21,
           22,
           23,
           24,
           25,
           26,
           27,
           28,
           29,
           30,
           31
          ],
          "coloraxis": "coloraxis",
          "symbol": "circle"
         },
         "mode": "markers",
         "name": "",
         "orientation": "v",
         "showlegend": false,
         "x": [
          50,
          50,
          50,
          50,
          50,
          50,
          50,
          50,
          50,
          50,
          50,
          50,
          50,
          50,
          50,
          50,
          50,
          50,
          50,
          50,
          50,
          50,
          50,
          50,
          50,
          50,
          50,
          50,
          50,
          50,
          50,
          50,
          50,
          50,
          100,
          100,
          100,
          100,
          100,
          100,
          100,
          100,
          100,
          100,
          100,
          100,
          100,
          100,
          100,
          100,
          100,
          100,
          100,
          100,
          100,
          100,
          100,
          100,
          100,
          100,
          100,
          100,
          100,
          100,
          100,
          100,
          100,
          150,
          150,
          150,
          150,
          150,
          150,
          150,
          150,
          150,
          150,
          150,
          150,
          150,
          150,
          150,
          150,
          150,
          150,
          150,
          150,
          150,
          150,
          150,
          150,
          150,
          150,
          150,
          150,
          150,
          150,
          150,
          150,
          150,
          200,
          200,
          200,
          200,
          200,
          200,
          200,
          200,
          200,
          200,
          200,
          200,
          200,
          200,
          200,
          200,
          200,
          200,
          200,
          200,
          200,
          200,
          200,
          200,
          200,
          200,
          200,
          200,
          200,
          200,
          200,
          200,
          200,
          200,
          200,
          200,
          200,
          200,
          200,
          200,
          200,
          250,
          250,
          250,
          250,
          250,
          250,
          250,
          250,
          250,
          250,
          250,
          250,
          250,
          250,
          250,
          250,
          250,
          250,
          250,
          250,
          250,
          250,
          250,
          250,
          250,
          250,
          250,
          250,
          250,
          250,
          250,
          250
         ],
         "xaxis": "x",
         "y": [
          89.70000457763672,
          92.3499984741211,
          93.2750015258789,
          93.55000305175781,
          93.55000305175781,
          93.6500015258789,
          94.17499542236328,
          93.67500305175781,
          94.6500015258789,
          93.5999984741211,
          95.17499542236328,
          95.375,
          94.9000015258789,
          95.20000457763672,
          94.6500015258789,
          95.0250015258789,
          95.375,
          94.4749984741211,
          95.0,
          94.27499389648438,
          95.3499984741211,
          95.32499694824219,
          95.6500015258789,
          95.625,
          95.42499542236328,
          95.85000610351562,
          95.25,
          95.5999984741211,
          94.9749984741211,
          95.625,
          95.7750015258789,
          95.85000610351562,
          95.80000305175781,
          95.7750015258789,
          90.42500305175781,
          93.32500457763672,
          94.625,
          94.55000305175781,
          93.7750015258789,
          92.625,
          94.25,
          94.77499389648438,
          94.07499694824219,
          94.9000015258789,
          95.70000457763672,
          95.85000610351562,
          95.55000305175781,
          95.55000305175781,
          95.7249984741211,
          95.57499694824219,
          95.7750015258789,
          95.7249984741211,
          95.20000457763672,
          95.57499694824219,
          95.9749984741211,
          96.1500015258789,
          96.0250015258789,
          96.17499542236328,
          96.25,
          96.10000610351562,
          96.0250015258789,
          96.20000457763672,
          96.30000305175781,
          95.375,
          95.67499542236328,
          96.05000305175781,
          96.0250015258789,
          92.375,
          92.8499984741211,
          94.4749984741211,
          94.0999984741211,
          95.17499542236328,
          93.04999542236328,
          95.0250015258789,
          94.55000305175781,
          93.67500305175781,
          95.2750015258789,
          95.92499542236328,
          96.20000457763672,
          96.20000457763672,
          96.125,
          96.05000305175781,
          96.5,
          96.0250015258789,
          96.07499694824219,
          95.95000457763672,
          96.25,
          96.6500015258789,
          96.80000305175781,
          96.9000015258789,
          96.82499694824219,
          96.55000305175781,
          96.875,
          96.32499694824219,
          96.42500305175781,
          96.4749984741211,
          96.57499694824219,
          96.57499694824219,
          96.6500015258789,
          96.67500305175781,
          90.25,
          92.54999542236328,
          93.4749984741211,
          93.80000305175781,
          94.70000457763672,
          92.97500610351562,
          94.0,
          93.44999694824219,
          94.45000457763672,
          94.1500015258789,
          95.6500015258789,
          95.5999984741211,
          95.75,
          95.4749984741211,
          95.7750015258789,
          95.7249984741211,
          95.4000015258789,
          95.5250015258789,
          95.30000305175781,
          95.125,
          96.05000305175781,
          95.9000015258789,
          95.85000610351562,
          95.9000015258789,
          95.9000015258789,
          95.57499694824219,
          95.875,
          95.6500015258789,
          95.875,
          95.75,
          95.9000015258789,
          95.95000457763672,
          95.95000457763672,
          95.9749984741211,
          95.85000610351562,
          96.0250015258789,
          96.0250015258789,
          95.7750015258789,
          96.1500015258789,
          96.20000457763672,
          96.2249984741211,
          92.5,
          94.0250015258789,
          93.5,
          94.0,
          91.92500305175781,
          94.5,
          93.67500305175781,
          93.5999984741211,
          94.9000015258789,
          95.7750015258789,
          96.0250015258789,
          95.82499694824219,
          96.4000015258789,
          96.2249984741211,
          96.32499694824219,
          95.25,
          96.125,
          95.82499694824219,
          96.05000305175781,
          95.7249984741211,
          96.32499694824219,
          96.30000305175781,
          96.4000015258789,
          96.35000610351562,
          96.32499694824219,
          96.30000305175781,
          96.35000610351562,
          96.0,
          96.375,
          95.9749984741211,
          96.17499542236328,
          96.17499542236328
         ],
         "yaxis": "y",
         "type": "scatter"
        },
        {
         "hovertemplate": "number_layers=2<br>number_units=%{x}<br>mean_test_acc=%{y}<br>epoch=%{marker.color}<extra></extra>",
         "legendgroup": "",
         "marker": {
          "color": [
           0,
           1,
           2,
           3,
           4,
           5,
           6,
           7,
           8,
           9,
           10,
           11,
           12,
           13,
           14,
           15,
           16,
           17,
           18,
           19,
           20,
           21,
           22,
           23,
           24,
           25,
           26,
           27,
           28,
           29,
           30,
           31,
           32,
           0,
           1,
           2,
           3,
           4,
           5,
           6,
           7,
           8,
           9,
           10,
           11,
           12,
           13,
           14,
           15,
           16,
           17,
           18,
           19,
           20,
           21,
           22,
           23,
           24,
           25,
           26,
           27,
           28,
           29,
           30,
           31,
           32,
           33,
           34,
           35,
           36,
           37,
           38,
           39,
           0,
           1,
           2,
           3,
           4,
           5,
           6,
           7,
           8,
           9,
           10,
           11,
           12,
           13,
           14,
           15,
           16,
           17,
           18,
           19,
           20,
           21,
           22,
           23,
           24,
           25,
           26,
           27,
           28,
           29,
           30,
           31,
           32,
           33,
           34,
           35,
           36,
           37,
           38,
           39,
           40,
           0,
           1,
           2,
           3,
           4,
           5,
           6,
           7,
           8,
           9,
           10,
           11,
           12,
           13,
           14,
           15,
           16,
           17,
           18,
           19,
           20,
           21,
           22,
           23,
           24,
           25,
           26,
           27,
           28,
           29,
           30,
           31,
           32,
           33,
           34,
           35,
           0,
           1,
           2,
           3,
           4,
           5,
           6,
           7,
           8,
           9,
           10,
           11,
           12,
           13,
           14,
           15,
           16,
           17,
           18,
           19,
           20,
           21,
           22,
           23,
           24,
           25,
           26,
           27,
           28,
           29,
           30,
           31,
           32,
           33,
           34,
           35,
           36,
           37,
           38,
           39,
           40
          ],
          "coloraxis": "coloraxis",
          "symbol": "circle"
         },
         "mode": "markers",
         "name": "",
         "orientation": "v",
         "showlegend": false,
         "x": [
          50,
          50,
          50,
          50,
          50,
          50,
          50,
          50,
          50,
          50,
          50,
          50,
          50,
          50,
          50,
          50,
          50,
          50,
          50,
          50,
          50,
          50,
          50,
          50,
          50,
          50,
          50,
          50,
          50,
          50,
          50,
          50,
          50,
          100,
          100,
          100,
          100,
          100,
          100,
          100,
          100,
          100,
          100,
          100,
          100,
          100,
          100,
          100,
          100,
          100,
          100,
          100,
          100,
          100,
          100,
          100,
          100,
          100,
          100,
          100,
          100,
          100,
          100,
          100,
          100,
          100,
          100,
          100,
          100,
          100,
          100,
          100,
          100,
          150,
          150,
          150,
          150,
          150,
          150,
          150,
          150,
          150,
          150,
          150,
          150,
          150,
          150,
          150,
          150,
          150,
          150,
          150,
          150,
          150,
          150,
          150,
          150,
          150,
          150,
          150,
          150,
          150,
          150,
          150,
          150,
          150,
          150,
          150,
          150,
          150,
          150,
          150,
          150,
          150,
          200,
          200,
          200,
          200,
          200,
          200,
          200,
          200,
          200,
          200,
          200,
          200,
          200,
          200,
          200,
          200,
          200,
          200,
          200,
          200,
          200,
          200,
          200,
          200,
          200,
          200,
          200,
          200,
          200,
          200,
          200,
          200,
          200,
          200,
          200,
          200,
          250,
          250,
          250,
          250,
          250,
          250,
          250,
          250,
          250,
          250,
          250,
          250,
          250,
          250,
          250,
          250,
          250,
          250,
          250,
          250,
          250,
          250,
          250,
          250,
          250,
          250,
          250,
          250,
          250,
          250,
          250,
          250,
          250,
          250,
          250,
          250,
          250,
          250,
          250,
          250,
          250
         ],
         "xaxis": "x2",
         "y": [
          90.44999694824219,
          90.4000015258789,
          93.5250015258789,
          93.4000015258789,
          93.875,
          93.22500610351562,
          92.2249984741211,
          94.57499694824219,
          93.92500305175781,
          93.7249984741211,
          95.1500015258789,
          94.8499984741211,
          95.25,
          94.67499542236328,
          95.3499984741211,
          94.95000457763672,
          95.30000305175781,
          94.3499984741211,
          94.6500015258789,
          94.875,
          95.32499694824219,
          95.25,
          95.4749984741211,
          95.4749984741211,
          94.875,
          95.2249984741211,
          95.25,
          95.0250015258789,
          94.9749984741211,
          95.32499694824219,
          95.3499984741211,
          95.4749984741211,
          95.57499694824219,
          91.94999694824219,
          92.94999694824219,
          92.75,
          93.22500610351562,
          92.8499984741211,
          94.05000305175781,
          93.5999984741211,
          92.1500015258789,
          94.45000457763672,
          95.5999984741211,
          95.45000457763672,
          95.70000457763672,
          95.57499694824219,
          95.875,
          94.5999984741211,
          95.625,
          95.92499542236328,
          95.5,
          95.625,
          95.45000457763672,
          96.05000305175781,
          96.35000610351562,
          96.2249984741211,
          96.4000015258789,
          96.30000305175781,
          96.17499542236328,
          96.05000305175781,
          96.0,
          95.95000457763672,
          96.5,
          96.30000305175781,
          96.375,
          96.4000015258789,
          96.30000305175781,
          96.4749984741211,
          96.4000015258789,
          96.4749984741211,
          96.32499694824219,
          96.4749984741211,
          96.5250015258789,
          91.54999542236328,
          91.14999389648438,
          93.9000015258789,
          93.3499984741211,
          94.7249984741211,
          91.75,
          94.32499694824219,
          94.3499984741211,
          94.95000457763672,
          94.80000305175781,
          95.5,
          95.82499694824219,
          95.9749984741211,
          95.5999984741211,
          96.35000610351562,
          95.5,
          96.0250015258789,
          95.75,
          95.9000015258789,
          95.4749984741211,
          96.05000305175781,
          95.95000457763672,
          96.20000457763672,
          96.125,
          96.2750015258789,
          95.92499542236328,
          95.75,
          96.17499542236328,
          95.75,
          95.9749984741211,
          96.125,
          95.95000457763672,
          95.95000457763672,
          96.0,
          96.1500015258789,
          96.125,
          96.07499694824219,
          96.4000015258789,
          96.32499694824219,
          95.9000015258789,
          96.07499694824219,
          90.92500305175781,
          92.625,
          92.29999542236328,
          94.1500015258789,
          92.44999694824219,
          94.92499542236328,
          93.9000015258789,
          94.92499542236328,
          90.82499694824219,
          94.9000015258789,
          95.57499694824219,
          95.5,
          95.375,
          95.55000305175781,
          95.17499542236328,
          95.6500015258789,
          95.0250015258789,
          95.17499542236328,
          94.875,
          95.5999984741211,
          95.9000015258789,
          95.75,
          95.95000457763672,
          95.82499694824219,
          96.07499694824219,
          95.82499694824219,
          95.80000305175781,
          95.5,
          95.875,
          95.95000457763672,
          96.0250015258789,
          95.9000015258789,
          95.95000457763672,
          95.92499542236328,
          95.95000457763672,
          96.0,
          89.2249984741211,
          91.5,
          90.69999694824219,
          91.4749984741211,
          93.19999694824219,
          94.0,
          93.82499694824219,
          92.25,
          93.9749984741211,
          93.875,
          95.75,
          95.57499694824219,
          95.9000015258789,
          95.57499694824219,
          95.95000457763672,
          95.92499542236328,
          95.7750015258789,
          95.55000305175781,
          95.70000457763672,
          95.32499694824219,
          96.125,
          96.35000610351562,
          96.05000305175781,
          96.20000457763672,
          96.4000015258789,
          96.20000457763672,
          96.42500305175781,
          95.9749984741211,
          95.95000457763672,
          95.9000015258789,
          96.25,
          96.20000457763672,
          96.10000610351562,
          96.2249984741211,
          96.17499542236328,
          96.25,
          96.1500015258789,
          96.10000610351562,
          95.92499542236328,
          96.20000457763672,
          96.4000015258789
         ],
         "yaxis": "y2",
         "type": "scatter"
        },
        {
         "hovertemplate": "number_layers=3<br>number_units=%{x}<br>mean_test_acc=%{y}<br>epoch=%{marker.color}<extra></extra>",
         "legendgroup": "",
         "marker": {
          "color": [
           0,
           1,
           2,
           3,
           4,
           5,
           6,
           7,
           8,
           9,
           10,
           11,
           12,
           13,
           14,
           15,
           16,
           17,
           18,
           19,
           20,
           21,
           22,
           23,
           24,
           25,
           26,
           27,
           28,
           29,
           30,
           31,
           32,
           33,
           34,
           35,
           36,
           37,
           38,
           39,
           40,
           0,
           1,
           2,
           3,
           4,
           5,
           6,
           7,
           8,
           9,
           10,
           11,
           12,
           13,
           14,
           15,
           16,
           17,
           18,
           19,
           20,
           21,
           22,
           23,
           24,
           25,
           26,
           27,
           28,
           29,
           30,
           31,
           32,
           33,
           34,
           35,
           36,
           37,
           38,
           39,
           40,
           41,
           0,
           1,
           2,
           3,
           4,
           5,
           6,
           7,
           8,
           9,
           10,
           11,
           12,
           13,
           14,
           15,
           16,
           17,
           18,
           19,
           20,
           21,
           22,
           23,
           24,
           25,
           26,
           27,
           28,
           29,
           30,
           31,
           32,
           33,
           34,
           35,
           36,
           37,
           38,
           39,
           40,
           0,
           1,
           2,
           3,
           4,
           5,
           6,
           7,
           8,
           9,
           10,
           11,
           12,
           13,
           14,
           15,
           16,
           17,
           18,
           19,
           20,
           21,
           22,
           23,
           24,
           25,
           26,
           27,
           28,
           29,
           30,
           31,
           32,
           33,
           34,
           35,
           36,
           37,
           38,
           39,
           40,
           41,
           42,
           43,
           0,
           1,
           2,
           3,
           4,
           5,
           6,
           7,
           8,
           9,
           10,
           11,
           12,
           13,
           14,
           15,
           16,
           17,
           18,
           19,
           20,
           21,
           22,
           23,
           24,
           25,
           26,
           27,
           28,
           29,
           30,
           31,
           32,
           33,
           34,
           35,
           36,
           37,
           38,
           39,
           40,
           41
          ],
          "coloraxis": "coloraxis",
          "symbol": "circle"
         },
         "mode": "markers",
         "name": "",
         "orientation": "v",
         "showlegend": false,
         "x": [
          50,
          50,
          50,
          50,
          50,
          50,
          50,
          50,
          50,
          50,
          50,
          50,
          50,
          50,
          50,
          50,
          50,
          50,
          50,
          50,
          50,
          50,
          50,
          50,
          50,
          50,
          50,
          50,
          50,
          50,
          50,
          50,
          50,
          50,
          50,
          50,
          50,
          50,
          50,
          50,
          50,
          100,
          100,
          100,
          100,
          100,
          100,
          100,
          100,
          100,
          100,
          100,
          100,
          100,
          100,
          100,
          100,
          100,
          100,
          100,
          100,
          100,
          100,
          100,
          100,
          100,
          100,
          100,
          100,
          100,
          100,
          100,
          100,
          100,
          100,
          100,
          100,
          100,
          100,
          100,
          100,
          100,
          100,
          150,
          150,
          150,
          150,
          150,
          150,
          150,
          150,
          150,
          150,
          150,
          150,
          150,
          150,
          150,
          150,
          150,
          150,
          150,
          150,
          150,
          150,
          150,
          150,
          150,
          150,
          150,
          150,
          150,
          150,
          150,
          150,
          150,
          150,
          150,
          150,
          150,
          150,
          150,
          150,
          150,
          200,
          200,
          200,
          200,
          200,
          200,
          200,
          200,
          200,
          200,
          200,
          200,
          200,
          200,
          200,
          200,
          200,
          200,
          200,
          200,
          200,
          200,
          200,
          200,
          200,
          200,
          200,
          200,
          200,
          200,
          200,
          200,
          200,
          200,
          200,
          200,
          200,
          200,
          200,
          200,
          200,
          200,
          200,
          200,
          250,
          250,
          250,
          250,
          250,
          250,
          250,
          250,
          250,
          250,
          250,
          250,
          250,
          250,
          250,
          250,
          250,
          250,
          250,
          250,
          250,
          250,
          250,
          250,
          250,
          250,
          250,
          250,
          250,
          250,
          250,
          250,
          250,
          250,
          250,
          250,
          250,
          250,
          250,
          250,
          250,
          250
         ],
         "xaxis": "x3",
         "y": [
          92.17500305175781,
          93.17500305175781,
          94.17499542236328,
          92.6500015258789,
          93.92500305175781,
          93.875,
          93.42500305175781,
          93.375,
          94.27499389648438,
          94.80000305175781,
          95.55000305175781,
          95.375,
          95.0,
          95.07499694824219,
          95.32499694824219,
          95.4749984741211,
          95.2249984741211,
          95.0999984741211,
          95.4749984741211,
          95.30000305175781,
          95.82499694824219,
          95.57499694824219,
          95.32499694824219,
          95.9749984741211,
          96.0250015258789,
          95.625,
          95.92499542236328,
          95.70000457763672,
          95.55000305175781,
          95.57499694824219,
          95.67499542236328,
          95.625,
          95.7249984741211,
          95.75,
          95.70000457763672,
          95.75,
          95.67499542236328,
          95.6500015258789,
          95.5,
          95.57499694824219,
          95.375,
          90.9749984741211,
          92.9000015258789,
          92.44999694824219,
          91.8499984741211,
          93.4749984741211,
          92.25,
          93.4000015258789,
          92.17500305175781,
          93.5999984741211,
          94.0,
          95.45000457763672,
          95.5250015258789,
          95.57499694824219,
          95.07499694824219,
          94.82499694824219,
          95.25,
          94.9749984741211,
          95.0250015258789,
          95.42499542236328,
          94.75,
          95.2750015258789,
          95.55000305175781,
          95.20000457763672,
          95.4749984741211,
          95.4000015258789,
          95.375,
          95.25,
          95.0999984741211,
          95.125,
          95.4000015258789,
          95.375,
          95.125,
          95.4000015258789,
          95.30000305175781,
          95.30000305175781,
          95.25,
          95.3499984741211,
          95.17499542236328,
          95.3499984741211,
          95.30000305175781,
          95.2750015258789,
          95.25,
          88.55000305175781,
          91.7750015258789,
          90.7249984741211,
          92.25,
          94.70000457763672,
          93.80000305175781,
          92.82500457763672,
          94.07499694824219,
          93.0250015258789,
          94.0,
          95.5999984741211,
          95.32499694824219,
          95.2750015258789,
          94.77499389648438,
          95.75,
          95.4749984741211,
          94.77499389648438,
          95.05000305175781,
          95.30000305175781,
          95.45000457763672,
          95.5999984741211,
          96.10000610351562,
          95.95000457763672,
          95.7249984741211,
          95.82499694824219,
          95.80000305175781,
          95.9749984741211,
          95.9000015258789,
          95.67499542236328,
          95.7750015258789,
          96.07499694824219,
          95.9749984741211,
          95.92499542236328,
          96.0,
          95.92499542236328,
          95.95000457763672,
          95.7750015258789,
          95.9000015258789,
          96.0,
          95.70000457763672,
          95.9749984741211,
          84.57499694824219,
          91.42500305175781,
          90.5,
          92.67500305175781,
          94.375,
          90.7750015258789,
          90.07499694824219,
          89.5250015258789,
          93.8499984741211,
          94.19999694824219,
          95.32499694824219,
          95.32499694824219,
          95.45000457763672,
          95.375,
          95.7249984741211,
          95.45000457763672,
          94.9749984741211,
          95.07499694824219,
          95.17499542236328,
          95.25,
          95.85000610351562,
          95.9749984741211,
          95.85000610351562,
          95.92499542236328,
          96.375,
          96.20000457763672,
          96.0250015258789,
          95.95000457763672,
          95.80000305175781,
          95.85000610351562,
          96.2750015258789,
          96.125,
          96.10000610351562,
          96.0250015258789,
          95.9749984741211,
          95.9749984741211,
          95.9000015258789,
          95.75,
          95.7249984741211,
          95.9000015258789,
          95.7249984741211,
          95.7249984741211,
          95.7249984741211,
          95.80000305175781,
          91.0250015258789,
          92.0,
          93.0,
          93.4000015258789,
          91.7249984741211,
          91.9000015258789,
          92.75,
          92.0250015258789,
          91.9749984741211,
          93.82499694824219,
          95.3499984741211,
          94.92499542236328,
          95.42499542236328,
          94.92499542236328,
          95.80000305175781,
          94.625,
          95.6500015258789,
          95.07499694824219,
          95.80000305175781,
          95.42499542236328,
          95.875,
          95.9000015258789,
          95.7249984741211,
          95.92499542236328,
          95.9000015258789,
          95.4749984741211,
          95.95000457763672,
          95.75,
          95.625,
          96.07499694824219,
          96.0,
          96.0,
          95.875,
          95.92499542236328,
          95.875,
          95.9000015258789,
          95.92499542236328,
          95.57499694824219,
          95.7750015258789,
          95.80000305175781,
          95.82499694824219,
          95.85000610351562
         ],
         "yaxis": "y3",
         "type": "scatter"
        }
       ],
       "layout": {
        "template": {
         "data": {
          "barpolar": [
           {
            "marker": {
             "line": {
              "color": "rgb(237,237,237)",
              "width": 0.5
             },
             "pattern": {
              "fillmode": "overlay",
              "size": 10,
              "solidity": 0.2
             }
            },
            "type": "barpolar"
           }
          ],
          "bar": [
           {
            "error_x": {
             "color": "rgb(51,51,51)"
            },
            "error_y": {
             "color": "rgb(51,51,51)"
            },
            "marker": {
             "line": {
              "color": "rgb(237,237,237)",
              "width": 0.5
             },
             "pattern": {
              "fillmode": "overlay",
              "size": 10,
              "solidity": 0.2
             }
            },
            "type": "bar"
           }
          ],
          "carpet": [
           {
            "aaxis": {
             "endlinecolor": "rgb(51,51,51)",
             "gridcolor": "white",
             "linecolor": "white",
             "minorgridcolor": "white",
             "startlinecolor": "rgb(51,51,51)"
            },
            "baxis": {
             "endlinecolor": "rgb(51,51,51)",
             "gridcolor": "white",
             "linecolor": "white",
             "minorgridcolor": "white",
             "startlinecolor": "rgb(51,51,51)"
            },
            "type": "carpet"
           }
          ],
          "choropleth": [
           {
            "colorbar": {
             "outlinewidth": 0,
             "tickcolor": "rgb(237,237,237)",
             "ticklen": 6,
             "ticks": "inside"
            },
            "type": "choropleth"
           }
          ],
          "contourcarpet": [
           {
            "colorbar": {
             "outlinewidth": 0,
             "tickcolor": "rgb(237,237,237)",
             "ticklen": 6,
             "ticks": "inside"
            },
            "type": "contourcarpet"
           }
          ],
          "contour": [
           {
            "colorbar": {
             "outlinewidth": 0,
             "tickcolor": "rgb(237,237,237)",
             "ticklen": 6,
             "ticks": "inside"
            },
            "colorscale": [
             [
              0,
              "rgb(20,44,66)"
             ],
             [
              1,
              "rgb(90,179,244)"
             ]
            ],
            "type": "contour"
           }
          ],
          "heatmapgl": [
           {
            "colorbar": {
             "outlinewidth": 0,
             "tickcolor": "rgb(237,237,237)",
             "ticklen": 6,
             "ticks": "inside"
            },
            "colorscale": [
             [
              0,
              "rgb(20,44,66)"
             ],
             [
              1,
              "rgb(90,179,244)"
             ]
            ],
            "type": "heatmapgl"
           }
          ],
          "heatmap": [
           {
            "colorbar": {
             "outlinewidth": 0,
             "tickcolor": "rgb(237,237,237)",
             "ticklen": 6,
             "ticks": "inside"
            },
            "colorscale": [
             [
              0,
              "rgb(20,44,66)"
             ],
             [
              1,
              "rgb(90,179,244)"
             ]
            ],
            "type": "heatmap"
           }
          ],
          "histogram2dcontour": [
           {
            "colorbar": {
             "outlinewidth": 0,
             "tickcolor": "rgb(237,237,237)",
             "ticklen": 6,
             "ticks": "inside"
            },
            "colorscale": [
             [
              0,
              "rgb(20,44,66)"
             ],
             [
              1,
              "rgb(90,179,244)"
             ]
            ],
            "type": "histogram2dcontour"
           }
          ],
          "histogram2d": [
           {
            "colorbar": {
             "outlinewidth": 0,
             "tickcolor": "rgb(237,237,237)",
             "ticklen": 6,
             "ticks": "inside"
            },
            "colorscale": [
             [
              0,
              "rgb(20,44,66)"
             ],
             [
              1,
              "rgb(90,179,244)"
             ]
            ],
            "type": "histogram2d"
           }
          ],
          "histogram": [
           {
            "marker": {
             "pattern": {
              "fillmode": "overlay",
              "size": 10,
              "solidity": 0.2
             }
            },
            "type": "histogram"
           }
          ],
          "mesh3d": [
           {
            "colorbar": {
             "outlinewidth": 0,
             "tickcolor": "rgb(237,237,237)",
             "ticklen": 6,
             "ticks": "inside"
            },
            "type": "mesh3d"
           }
          ],
          "parcoords": [
           {
            "line": {
             "colorbar": {
              "outlinewidth": 0,
              "tickcolor": "rgb(237,237,237)",
              "ticklen": 6,
              "ticks": "inside"
             }
            },
            "type": "parcoords"
           }
          ],
          "pie": [
           {
            "automargin": true,
            "type": "pie"
           }
          ],
          "scatter3d": [
           {
            "line": {
             "colorbar": {
              "outlinewidth": 0,
              "tickcolor": "rgb(237,237,237)",
              "ticklen": 6,
              "ticks": "inside"
             }
            },
            "marker": {
             "colorbar": {
              "outlinewidth": 0,
              "tickcolor": "rgb(237,237,237)",
              "ticklen": 6,
              "ticks": "inside"
             }
            },
            "type": "scatter3d"
           }
          ],
          "scattercarpet": [
           {
            "marker": {
             "colorbar": {
              "outlinewidth": 0,
              "tickcolor": "rgb(237,237,237)",
              "ticklen": 6,
              "ticks": "inside"
             }
            },
            "type": "scattercarpet"
           }
          ],
          "scattergeo": [
           {
            "marker": {
             "colorbar": {
              "outlinewidth": 0,
              "tickcolor": "rgb(237,237,237)",
              "ticklen": 6,
              "ticks": "inside"
             }
            },
            "type": "scattergeo"
           }
          ],
          "scattergl": [
           {
            "marker": {
             "colorbar": {
              "outlinewidth": 0,
              "tickcolor": "rgb(237,237,237)",
              "ticklen": 6,
              "ticks": "inside"
             }
            },
            "type": "scattergl"
           }
          ],
          "scattermapbox": [
           {
            "marker": {
             "colorbar": {
              "outlinewidth": 0,
              "tickcolor": "rgb(237,237,237)",
              "ticklen": 6,
              "ticks": "inside"
             }
            },
            "type": "scattermapbox"
           }
          ],
          "scatterpolargl": [
           {
            "marker": {
             "colorbar": {
              "outlinewidth": 0,
              "tickcolor": "rgb(237,237,237)",
              "ticklen": 6,
              "ticks": "inside"
             }
            },
            "type": "scatterpolargl"
           }
          ],
          "scatterpolar": [
           {
            "marker": {
             "colorbar": {
              "outlinewidth": 0,
              "tickcolor": "rgb(237,237,237)",
              "ticklen": 6,
              "ticks": "inside"
             }
            },
            "type": "scatterpolar"
           }
          ],
          "scatter": [
           {
            "fillpattern": {
             "fillmode": "overlay",
             "size": 10,
             "solidity": 0.2
            },
            "type": "scatter"
           }
          ],
          "scatterternary": [
           {
            "marker": {
             "colorbar": {
              "outlinewidth": 0,
              "tickcolor": "rgb(237,237,237)",
              "ticklen": 6,
              "ticks": "inside"
             }
            },
            "type": "scatterternary"
           }
          ],
          "surface": [
           {
            "colorbar": {
             "outlinewidth": 0,
             "tickcolor": "rgb(237,237,237)",
             "ticklen": 6,
             "ticks": "inside"
            },
            "colorscale": [
             [
              0,
              "rgb(20,44,66)"
             ],
             [
              1,
              "rgb(90,179,244)"
             ]
            ],
            "type": "surface"
           }
          ],
          "table": [
           {
            "cells": {
             "fill": {
              "color": "rgb(237,237,237)"
             },
             "line": {
              "color": "white"
             }
            },
            "header": {
             "fill": {
              "color": "rgb(217,217,217)"
             },
             "line": {
              "color": "white"
             }
            },
            "type": "table"
           }
          ]
         },
         "layout": {
          "annotationdefaults": {
           "arrowhead": 0,
           "arrowwidth": 1
          },
          "autotypenumbers": "strict",
          "coloraxis": {
           "colorbar": {
            "outlinewidth": 0,
            "tickcolor": "rgb(237,237,237)",
            "ticklen": 6,
            "ticks": "inside"
           }
          },
          "colorscale": {
           "sequential": [
            [
             0,
             "rgb(20,44,66)"
            ],
            [
             1,
             "rgb(90,179,244)"
            ]
           ],
           "sequentialminus": [
            [
             0,
             "rgb(20,44,66)"
            ],
            [
             1,
             "rgb(90,179,244)"
            ]
           ]
          },
          "colorway": [
           "#F8766D",
           "#A3A500",
           "#00BF7D",
           "#00B0F6",
           "#E76BF3"
          ],
          "font": {
           "color": "rgb(51,51,51)"
          },
          "geo": {
           "bgcolor": "white",
           "lakecolor": "white",
           "landcolor": "rgb(237,237,237)",
           "showlakes": true,
           "showland": true,
           "subunitcolor": "white"
          },
          "hoverlabel": {
           "align": "left"
          },
          "hovermode": "closest",
          "paper_bgcolor": "white",
          "plot_bgcolor": "rgb(237,237,237)",
          "polar": {
           "angularaxis": {
            "gridcolor": "white",
            "linecolor": "white",
            "showgrid": true,
            "tickcolor": "rgb(51,51,51)",
            "ticks": "outside"
           },
           "bgcolor": "rgb(237,237,237)",
           "radialaxis": {
            "gridcolor": "white",
            "linecolor": "white",
            "showgrid": true,
            "tickcolor": "rgb(51,51,51)",
            "ticks": "outside"
           }
          },
          "scene": {
           "xaxis": {
            "backgroundcolor": "rgb(237,237,237)",
            "gridcolor": "white",
            "gridwidth": 2,
            "linecolor": "white",
            "showbackground": true,
            "showgrid": true,
            "tickcolor": "rgb(51,51,51)",
            "ticks": "outside",
            "zerolinecolor": "white"
           },
           "yaxis": {
            "backgroundcolor": "rgb(237,237,237)",
            "gridcolor": "white",
            "gridwidth": 2,
            "linecolor": "white",
            "showbackground": true,
            "showgrid": true,
            "tickcolor": "rgb(51,51,51)",
            "ticks": "outside",
            "zerolinecolor": "white"
           },
           "zaxis": {
            "backgroundcolor": "rgb(237,237,237)",
            "gridcolor": "white",
            "gridwidth": 2,
            "linecolor": "white",
            "showbackground": true,
            "showgrid": true,
            "tickcolor": "rgb(51,51,51)",
            "ticks": "outside",
            "zerolinecolor": "white"
           }
          },
          "shapedefaults": {
           "fillcolor": "black",
           "line": {
            "width": 0
           },
           "opacity": 0.3
          },
          "ternary": {
           "aaxis": {
            "gridcolor": "white",
            "linecolor": "white",
            "showgrid": true,
            "tickcolor": "rgb(51,51,51)",
            "ticks": "outside"
           },
           "baxis": {
            "gridcolor": "white",
            "linecolor": "white",
            "showgrid": true,
            "tickcolor": "rgb(51,51,51)",
            "ticks": "outside"
           },
           "bgcolor": "rgb(237,237,237)",
           "caxis": {
            "gridcolor": "white",
            "linecolor": "white",
            "showgrid": true,
            "tickcolor": "rgb(51,51,51)",
            "ticks": "outside"
           }
          },
          "xaxis": {
           "automargin": true,
           "gridcolor": "white",
           "linecolor": "white",
           "showgrid": true,
           "tickcolor": "rgb(51,51,51)",
           "ticks": "outside",
           "title": {
            "standoff": 15
           },
           "zerolinecolor": "white"
          },
          "yaxis": {
           "automargin": true,
           "gridcolor": "white",
           "linecolor": "white",
           "showgrid": true,
           "tickcolor": "rgb(51,51,51)",
           "ticks": "outside",
           "title": {
            "standoff": 15
           },
           "zerolinecolor": "white"
          }
         }
        },
        "xaxis": {
         "anchor": "y",
         "domain": [
          0.0,
          0.31999999999999995
         ],
         "title": {
          "text": "number_units"
         }
        },
        "yaxis": {
         "anchor": "x",
         "domain": [
          0.0,
          1.0
         ],
         "title": {
          "text": "mean_test_acc"
         }
        },
        "xaxis2": {
         "anchor": "y2",
         "domain": [
          0.33999999999999997,
          0.6599999999999999
         ],
         "matches": "x",
         "title": {
          "text": "number_units"
         }
        },
        "yaxis2": {
         "anchor": "x2",
         "domain": [
          0.0,
          1.0
         ],
         "matches": "y",
         "showticklabels": false
        },
        "xaxis3": {
         "anchor": "y3",
         "domain": [
          0.6799999999999999,
          0.9999999999999999
         ],
         "matches": "x",
         "title": {
          "text": "number_units"
         }
        },
        "yaxis3": {
         "anchor": "x3",
         "domain": [
          0.0,
          1.0
         ],
         "matches": "y",
         "showticklabels": false
        },
        "annotations": [
         {
          "font": {},
          "showarrow": false,
          "text": "number_layers=1",
          "x": 0.15999999999999998,
          "xanchor": "center",
          "xref": "paper",
          "y": 1.0,
          "yanchor": "bottom",
          "yref": "paper"
         },
         {
          "font": {},
          "showarrow": false,
          "text": "number_layers=2",
          "x": 0.49999999999999994,
          "xanchor": "center",
          "xref": "paper",
          "y": 1.0,
          "yanchor": "bottom",
          "yref": "paper"
         },
         {
          "font": {},
          "showarrow": false,
          "text": "number_layers=3",
          "x": 0.8399999999999999,
          "xanchor": "center",
          "xref": "paper",
          "y": 1.0,
          "yanchor": "bottom",
          "yref": "paper"
         }
        ],
        "coloraxis": {
         "colorbar": {
          "title": {
           "text": "epoch"
          }
         },
         "colorscale": [
          [
           0.0,
           "#0d0887"
          ],
          [
           0.1111111111111111,
           "#46039f"
          ],
          [
           0.2222222222222222,
           "#7201a8"
          ],
          [
           0.3333333333333333,
           "#9c179e"
          ],
          [
           0.4444444444444444,
           "#bd3786"
          ],
          [
           0.5555555555555556,
           "#d8576b"
          ],
          [
           0.6666666666666666,
           "#ed7953"
          ],
          [
           0.7777777777777778,
           "#fb9f3a"
          ],
          [
           0.8888888888888888,
           "#fdca26"
          ],
          [
           1.0,
           "#f0f921"
          ]
         ]
        },
        "legend": {
         "tracegroupgap": 0
        },
        "margin": {
         "t": 60
        },
        "width": 800
       },
       "config": {
        "plotlyServerURL": "https://plot.ly"
       }
      },
      "text/html": [
       "<div>                            <div id=\"794388bc-3cac-4495-9196-11325ccf51e5\" class=\"plotly-graph-div\" style=\"height:525px; width:800px;\"></div>            <script type=\"text/javascript\">                require([\"plotly\"], function(Plotly) {                    window.PLOTLYENV=window.PLOTLYENV || {};                                    if (document.getElementById(\"794388bc-3cac-4495-9196-11325ccf51e5\")) {                    Plotly.newPlot(                        \"794388bc-3cac-4495-9196-11325ccf51e5\",                        [{\"hovertemplate\":\"number_layers=1\\u003cbr\\u003enumber_units=%{x}\\u003cbr\\u003emean_test_acc=%{y}\\u003cbr\\u003eepoch=%{marker.color}\\u003cextra\\u003e\\u003c\\u002fextra\\u003e\",\"legendgroup\":\"\",\"marker\":{\"color\":[0,1,2,3,4,5,6,7,8,9,10,11,12,13,14,15,16,17,18,19,20,21,22,23,24,25,26,27,28,29,30,31,32,33,0,1,2,3,4,5,6,7,8,9,10,11,12,13,14,15,16,17,18,19,20,21,22,23,24,25,26,27,28,29,30,31,32,0,1,2,3,4,5,6,7,8,9,10,11,12,13,14,15,16,17,18,19,20,21,22,23,24,25,26,27,28,29,30,31,32,0,1,2,3,4,5,6,7,8,9,10,11,12,13,14,15,16,17,18,19,20,21,22,23,24,25,26,27,28,29,30,31,32,33,34,35,36,37,38,39,40,0,1,2,3,4,5,6,7,8,9,10,11,12,13,14,15,16,17,18,19,20,21,22,23,24,25,26,27,28,29,30,31],\"coloraxis\":\"coloraxis\",\"symbol\":\"circle\"},\"mode\":\"markers\",\"name\":\"\",\"orientation\":\"v\",\"showlegend\":false,\"x\":[50,50,50,50,50,50,50,50,50,50,50,50,50,50,50,50,50,50,50,50,50,50,50,50,50,50,50,50,50,50,50,50,50,50,100,100,100,100,100,100,100,100,100,100,100,100,100,100,100,100,100,100,100,100,100,100,100,100,100,100,100,100,100,100,100,100,100,150,150,150,150,150,150,150,150,150,150,150,150,150,150,150,150,150,150,150,150,150,150,150,150,150,150,150,150,150,150,150,150,150,200,200,200,200,200,200,200,200,200,200,200,200,200,200,200,200,200,200,200,200,200,200,200,200,200,200,200,200,200,200,200,200,200,200,200,200,200,200,200,200,200,250,250,250,250,250,250,250,250,250,250,250,250,250,250,250,250,250,250,250,250,250,250,250,250,250,250,250,250,250,250,250,250],\"xaxis\":\"x\",\"y\":[89.70000457763672,92.3499984741211,93.2750015258789,93.55000305175781,93.55000305175781,93.6500015258789,94.17499542236328,93.67500305175781,94.6500015258789,93.5999984741211,95.17499542236328,95.375,94.9000015258789,95.20000457763672,94.6500015258789,95.0250015258789,95.375,94.4749984741211,95.0,94.27499389648438,95.3499984741211,95.32499694824219,95.6500015258789,95.625,95.42499542236328,95.85000610351562,95.25,95.5999984741211,94.9749984741211,95.625,95.7750015258789,95.85000610351562,95.80000305175781,95.7750015258789,90.42500305175781,93.32500457763672,94.625,94.55000305175781,93.7750015258789,92.625,94.25,94.77499389648438,94.07499694824219,94.9000015258789,95.70000457763672,95.85000610351562,95.55000305175781,95.55000305175781,95.7249984741211,95.57499694824219,95.7750015258789,95.7249984741211,95.20000457763672,95.57499694824219,95.9749984741211,96.1500015258789,96.0250015258789,96.17499542236328,96.25,96.10000610351562,96.0250015258789,96.20000457763672,96.30000305175781,95.375,95.67499542236328,96.05000305175781,96.0250015258789,92.375,92.8499984741211,94.4749984741211,94.0999984741211,95.17499542236328,93.04999542236328,95.0250015258789,94.55000305175781,93.67500305175781,95.2750015258789,95.92499542236328,96.20000457763672,96.20000457763672,96.125,96.05000305175781,96.5,96.0250015258789,96.07499694824219,95.95000457763672,96.25,96.6500015258789,96.80000305175781,96.9000015258789,96.82499694824219,96.55000305175781,96.875,96.32499694824219,96.42500305175781,96.4749984741211,96.57499694824219,96.57499694824219,96.6500015258789,96.67500305175781,90.25,92.54999542236328,93.4749984741211,93.80000305175781,94.70000457763672,92.97500610351562,94.0,93.44999694824219,94.45000457763672,94.1500015258789,95.6500015258789,95.5999984741211,95.75,95.4749984741211,95.7750015258789,95.7249984741211,95.4000015258789,95.5250015258789,95.30000305175781,95.125,96.05000305175781,95.9000015258789,95.85000610351562,95.9000015258789,95.9000015258789,95.57499694824219,95.875,95.6500015258789,95.875,95.75,95.9000015258789,95.95000457763672,95.95000457763672,95.9749984741211,95.85000610351562,96.0250015258789,96.0250015258789,95.7750015258789,96.1500015258789,96.20000457763672,96.2249984741211,92.5,94.0250015258789,93.5,94.0,91.92500305175781,94.5,93.67500305175781,93.5999984741211,94.9000015258789,95.7750015258789,96.0250015258789,95.82499694824219,96.4000015258789,96.2249984741211,96.32499694824219,95.25,96.125,95.82499694824219,96.05000305175781,95.7249984741211,96.32499694824219,96.30000305175781,96.4000015258789,96.35000610351562,96.32499694824219,96.30000305175781,96.35000610351562,96.0,96.375,95.9749984741211,96.17499542236328,96.17499542236328],\"yaxis\":\"y\",\"type\":\"scatter\"},{\"hovertemplate\":\"number_layers=2\\u003cbr\\u003enumber_units=%{x}\\u003cbr\\u003emean_test_acc=%{y}\\u003cbr\\u003eepoch=%{marker.color}\\u003cextra\\u003e\\u003c\\u002fextra\\u003e\",\"legendgroup\":\"\",\"marker\":{\"color\":[0,1,2,3,4,5,6,7,8,9,10,11,12,13,14,15,16,17,18,19,20,21,22,23,24,25,26,27,28,29,30,31,32,0,1,2,3,4,5,6,7,8,9,10,11,12,13,14,15,16,17,18,19,20,21,22,23,24,25,26,27,28,29,30,31,32,33,34,35,36,37,38,39,0,1,2,3,4,5,6,7,8,9,10,11,12,13,14,15,16,17,18,19,20,21,22,23,24,25,26,27,28,29,30,31,32,33,34,35,36,37,38,39,40,0,1,2,3,4,5,6,7,8,9,10,11,12,13,14,15,16,17,18,19,20,21,22,23,24,25,26,27,28,29,30,31,32,33,34,35,0,1,2,3,4,5,6,7,8,9,10,11,12,13,14,15,16,17,18,19,20,21,22,23,24,25,26,27,28,29,30,31,32,33,34,35,36,37,38,39,40],\"coloraxis\":\"coloraxis\",\"symbol\":\"circle\"},\"mode\":\"markers\",\"name\":\"\",\"orientation\":\"v\",\"showlegend\":false,\"x\":[50,50,50,50,50,50,50,50,50,50,50,50,50,50,50,50,50,50,50,50,50,50,50,50,50,50,50,50,50,50,50,50,50,100,100,100,100,100,100,100,100,100,100,100,100,100,100,100,100,100,100,100,100,100,100,100,100,100,100,100,100,100,100,100,100,100,100,100,100,100,100,100,100,150,150,150,150,150,150,150,150,150,150,150,150,150,150,150,150,150,150,150,150,150,150,150,150,150,150,150,150,150,150,150,150,150,150,150,150,150,150,150,150,150,200,200,200,200,200,200,200,200,200,200,200,200,200,200,200,200,200,200,200,200,200,200,200,200,200,200,200,200,200,200,200,200,200,200,200,200,250,250,250,250,250,250,250,250,250,250,250,250,250,250,250,250,250,250,250,250,250,250,250,250,250,250,250,250,250,250,250,250,250,250,250,250,250,250,250,250,250],\"xaxis\":\"x2\",\"y\":[90.44999694824219,90.4000015258789,93.5250015258789,93.4000015258789,93.875,93.22500610351562,92.2249984741211,94.57499694824219,93.92500305175781,93.7249984741211,95.1500015258789,94.8499984741211,95.25,94.67499542236328,95.3499984741211,94.95000457763672,95.30000305175781,94.3499984741211,94.6500015258789,94.875,95.32499694824219,95.25,95.4749984741211,95.4749984741211,94.875,95.2249984741211,95.25,95.0250015258789,94.9749984741211,95.32499694824219,95.3499984741211,95.4749984741211,95.57499694824219,91.94999694824219,92.94999694824219,92.75,93.22500610351562,92.8499984741211,94.05000305175781,93.5999984741211,92.1500015258789,94.45000457763672,95.5999984741211,95.45000457763672,95.70000457763672,95.57499694824219,95.875,94.5999984741211,95.625,95.92499542236328,95.5,95.625,95.45000457763672,96.05000305175781,96.35000610351562,96.2249984741211,96.4000015258789,96.30000305175781,96.17499542236328,96.05000305175781,96.0,95.95000457763672,96.5,96.30000305175781,96.375,96.4000015258789,96.30000305175781,96.4749984741211,96.4000015258789,96.4749984741211,96.32499694824219,96.4749984741211,96.5250015258789,91.54999542236328,91.14999389648438,93.9000015258789,93.3499984741211,94.7249984741211,91.75,94.32499694824219,94.3499984741211,94.95000457763672,94.80000305175781,95.5,95.82499694824219,95.9749984741211,95.5999984741211,96.35000610351562,95.5,96.0250015258789,95.75,95.9000015258789,95.4749984741211,96.05000305175781,95.95000457763672,96.20000457763672,96.125,96.2750015258789,95.92499542236328,95.75,96.17499542236328,95.75,95.9749984741211,96.125,95.95000457763672,95.95000457763672,96.0,96.1500015258789,96.125,96.07499694824219,96.4000015258789,96.32499694824219,95.9000015258789,96.07499694824219,90.92500305175781,92.625,92.29999542236328,94.1500015258789,92.44999694824219,94.92499542236328,93.9000015258789,94.92499542236328,90.82499694824219,94.9000015258789,95.57499694824219,95.5,95.375,95.55000305175781,95.17499542236328,95.6500015258789,95.0250015258789,95.17499542236328,94.875,95.5999984741211,95.9000015258789,95.75,95.95000457763672,95.82499694824219,96.07499694824219,95.82499694824219,95.80000305175781,95.5,95.875,95.95000457763672,96.0250015258789,95.9000015258789,95.95000457763672,95.92499542236328,95.95000457763672,96.0,89.2249984741211,91.5,90.69999694824219,91.4749984741211,93.19999694824219,94.0,93.82499694824219,92.25,93.9749984741211,93.875,95.75,95.57499694824219,95.9000015258789,95.57499694824219,95.95000457763672,95.92499542236328,95.7750015258789,95.55000305175781,95.70000457763672,95.32499694824219,96.125,96.35000610351562,96.05000305175781,96.20000457763672,96.4000015258789,96.20000457763672,96.42500305175781,95.9749984741211,95.95000457763672,95.9000015258789,96.25,96.20000457763672,96.10000610351562,96.2249984741211,96.17499542236328,96.25,96.1500015258789,96.10000610351562,95.92499542236328,96.20000457763672,96.4000015258789],\"yaxis\":\"y2\",\"type\":\"scatter\"},{\"hovertemplate\":\"number_layers=3\\u003cbr\\u003enumber_units=%{x}\\u003cbr\\u003emean_test_acc=%{y}\\u003cbr\\u003eepoch=%{marker.color}\\u003cextra\\u003e\\u003c\\u002fextra\\u003e\",\"legendgroup\":\"\",\"marker\":{\"color\":[0,1,2,3,4,5,6,7,8,9,10,11,12,13,14,15,16,17,18,19,20,21,22,23,24,25,26,27,28,29,30,31,32,33,34,35,36,37,38,39,40,0,1,2,3,4,5,6,7,8,9,10,11,12,13,14,15,16,17,18,19,20,21,22,23,24,25,26,27,28,29,30,31,32,33,34,35,36,37,38,39,40,41,0,1,2,3,4,5,6,7,8,9,10,11,12,13,14,15,16,17,18,19,20,21,22,23,24,25,26,27,28,29,30,31,32,33,34,35,36,37,38,39,40,0,1,2,3,4,5,6,7,8,9,10,11,12,13,14,15,16,17,18,19,20,21,22,23,24,25,26,27,28,29,30,31,32,33,34,35,36,37,38,39,40,41,42,43,0,1,2,3,4,5,6,7,8,9,10,11,12,13,14,15,16,17,18,19,20,21,22,23,24,25,26,27,28,29,30,31,32,33,34,35,36,37,38,39,40,41],\"coloraxis\":\"coloraxis\",\"symbol\":\"circle\"},\"mode\":\"markers\",\"name\":\"\",\"orientation\":\"v\",\"showlegend\":false,\"x\":[50,50,50,50,50,50,50,50,50,50,50,50,50,50,50,50,50,50,50,50,50,50,50,50,50,50,50,50,50,50,50,50,50,50,50,50,50,50,50,50,50,100,100,100,100,100,100,100,100,100,100,100,100,100,100,100,100,100,100,100,100,100,100,100,100,100,100,100,100,100,100,100,100,100,100,100,100,100,100,100,100,100,100,150,150,150,150,150,150,150,150,150,150,150,150,150,150,150,150,150,150,150,150,150,150,150,150,150,150,150,150,150,150,150,150,150,150,150,150,150,150,150,150,150,200,200,200,200,200,200,200,200,200,200,200,200,200,200,200,200,200,200,200,200,200,200,200,200,200,200,200,200,200,200,200,200,200,200,200,200,200,200,200,200,200,200,200,200,250,250,250,250,250,250,250,250,250,250,250,250,250,250,250,250,250,250,250,250,250,250,250,250,250,250,250,250,250,250,250,250,250,250,250,250,250,250,250,250,250,250],\"xaxis\":\"x3\",\"y\":[92.17500305175781,93.17500305175781,94.17499542236328,92.6500015258789,93.92500305175781,93.875,93.42500305175781,93.375,94.27499389648438,94.80000305175781,95.55000305175781,95.375,95.0,95.07499694824219,95.32499694824219,95.4749984741211,95.2249984741211,95.0999984741211,95.4749984741211,95.30000305175781,95.82499694824219,95.57499694824219,95.32499694824219,95.9749984741211,96.0250015258789,95.625,95.92499542236328,95.70000457763672,95.55000305175781,95.57499694824219,95.67499542236328,95.625,95.7249984741211,95.75,95.70000457763672,95.75,95.67499542236328,95.6500015258789,95.5,95.57499694824219,95.375,90.9749984741211,92.9000015258789,92.44999694824219,91.8499984741211,93.4749984741211,92.25,93.4000015258789,92.17500305175781,93.5999984741211,94.0,95.45000457763672,95.5250015258789,95.57499694824219,95.07499694824219,94.82499694824219,95.25,94.9749984741211,95.0250015258789,95.42499542236328,94.75,95.2750015258789,95.55000305175781,95.20000457763672,95.4749984741211,95.4000015258789,95.375,95.25,95.0999984741211,95.125,95.4000015258789,95.375,95.125,95.4000015258789,95.30000305175781,95.30000305175781,95.25,95.3499984741211,95.17499542236328,95.3499984741211,95.30000305175781,95.2750015258789,95.25,88.55000305175781,91.7750015258789,90.7249984741211,92.25,94.70000457763672,93.80000305175781,92.82500457763672,94.07499694824219,93.0250015258789,94.0,95.5999984741211,95.32499694824219,95.2750015258789,94.77499389648438,95.75,95.4749984741211,94.77499389648438,95.05000305175781,95.30000305175781,95.45000457763672,95.5999984741211,96.10000610351562,95.95000457763672,95.7249984741211,95.82499694824219,95.80000305175781,95.9749984741211,95.9000015258789,95.67499542236328,95.7750015258789,96.07499694824219,95.9749984741211,95.92499542236328,96.0,95.92499542236328,95.95000457763672,95.7750015258789,95.9000015258789,96.0,95.70000457763672,95.9749984741211,84.57499694824219,91.42500305175781,90.5,92.67500305175781,94.375,90.7750015258789,90.07499694824219,89.5250015258789,93.8499984741211,94.19999694824219,95.32499694824219,95.32499694824219,95.45000457763672,95.375,95.7249984741211,95.45000457763672,94.9749984741211,95.07499694824219,95.17499542236328,95.25,95.85000610351562,95.9749984741211,95.85000610351562,95.92499542236328,96.375,96.20000457763672,96.0250015258789,95.95000457763672,95.80000305175781,95.85000610351562,96.2750015258789,96.125,96.10000610351562,96.0250015258789,95.9749984741211,95.9749984741211,95.9000015258789,95.75,95.7249984741211,95.9000015258789,95.7249984741211,95.7249984741211,95.7249984741211,95.80000305175781,91.0250015258789,92.0,93.0,93.4000015258789,91.7249984741211,91.9000015258789,92.75,92.0250015258789,91.9749984741211,93.82499694824219,95.3499984741211,94.92499542236328,95.42499542236328,94.92499542236328,95.80000305175781,94.625,95.6500015258789,95.07499694824219,95.80000305175781,95.42499542236328,95.875,95.9000015258789,95.7249984741211,95.92499542236328,95.9000015258789,95.4749984741211,95.95000457763672,95.75,95.625,96.07499694824219,96.0,96.0,95.875,95.92499542236328,95.875,95.9000015258789,95.92499542236328,95.57499694824219,95.7750015258789,95.80000305175781,95.82499694824219,95.85000610351562],\"yaxis\":\"y3\",\"type\":\"scatter\"}],                        {\"template\":{\"data\":{\"barpolar\":[{\"marker\":{\"line\":{\"color\":\"rgb(237,237,237)\",\"width\":0.5},\"pattern\":{\"fillmode\":\"overlay\",\"size\":10,\"solidity\":0.2}},\"type\":\"barpolar\"}],\"bar\":[{\"error_x\":{\"color\":\"rgb(51,51,51)\"},\"error_y\":{\"color\":\"rgb(51,51,51)\"},\"marker\":{\"line\":{\"color\":\"rgb(237,237,237)\",\"width\":0.5},\"pattern\":{\"fillmode\":\"overlay\",\"size\":10,\"solidity\":0.2}},\"type\":\"bar\"}],\"carpet\":[{\"aaxis\":{\"endlinecolor\":\"rgb(51,51,51)\",\"gridcolor\":\"white\",\"linecolor\":\"white\",\"minorgridcolor\":\"white\",\"startlinecolor\":\"rgb(51,51,51)\"},\"baxis\":{\"endlinecolor\":\"rgb(51,51,51)\",\"gridcolor\":\"white\",\"linecolor\":\"white\",\"minorgridcolor\":\"white\",\"startlinecolor\":\"rgb(51,51,51)\"},\"type\":\"carpet\"}],\"choropleth\":[{\"colorbar\":{\"outlinewidth\":0,\"tickcolor\":\"rgb(237,237,237)\",\"ticklen\":6,\"ticks\":\"inside\"},\"type\":\"choropleth\"}],\"contourcarpet\":[{\"colorbar\":{\"outlinewidth\":0,\"tickcolor\":\"rgb(237,237,237)\",\"ticklen\":6,\"ticks\":\"inside\"},\"type\":\"contourcarpet\"}],\"contour\":[{\"colorbar\":{\"outlinewidth\":0,\"tickcolor\":\"rgb(237,237,237)\",\"ticklen\":6,\"ticks\":\"inside\"},\"colorscale\":[[0,\"rgb(20,44,66)\"],[1,\"rgb(90,179,244)\"]],\"type\":\"contour\"}],\"heatmapgl\":[{\"colorbar\":{\"outlinewidth\":0,\"tickcolor\":\"rgb(237,237,237)\",\"ticklen\":6,\"ticks\":\"inside\"},\"colorscale\":[[0,\"rgb(20,44,66)\"],[1,\"rgb(90,179,244)\"]],\"type\":\"heatmapgl\"}],\"heatmap\":[{\"colorbar\":{\"outlinewidth\":0,\"tickcolor\":\"rgb(237,237,237)\",\"ticklen\":6,\"ticks\":\"inside\"},\"colorscale\":[[0,\"rgb(20,44,66)\"],[1,\"rgb(90,179,244)\"]],\"type\":\"heatmap\"}],\"histogram2dcontour\":[{\"colorbar\":{\"outlinewidth\":0,\"tickcolor\":\"rgb(237,237,237)\",\"ticklen\":6,\"ticks\":\"inside\"},\"colorscale\":[[0,\"rgb(20,44,66)\"],[1,\"rgb(90,179,244)\"]],\"type\":\"histogram2dcontour\"}],\"histogram2d\":[{\"colorbar\":{\"outlinewidth\":0,\"tickcolor\":\"rgb(237,237,237)\",\"ticklen\":6,\"ticks\":\"inside\"},\"colorscale\":[[0,\"rgb(20,44,66)\"],[1,\"rgb(90,179,244)\"]],\"type\":\"histogram2d\"}],\"histogram\":[{\"marker\":{\"pattern\":{\"fillmode\":\"overlay\",\"size\":10,\"solidity\":0.2}},\"type\":\"histogram\"}],\"mesh3d\":[{\"colorbar\":{\"outlinewidth\":0,\"tickcolor\":\"rgb(237,237,237)\",\"ticklen\":6,\"ticks\":\"inside\"},\"type\":\"mesh3d\"}],\"parcoords\":[{\"line\":{\"colorbar\":{\"outlinewidth\":0,\"tickcolor\":\"rgb(237,237,237)\",\"ticklen\":6,\"ticks\":\"inside\"}},\"type\":\"parcoords\"}],\"pie\":[{\"automargin\":true,\"type\":\"pie\"}],\"scatter3d\":[{\"line\":{\"colorbar\":{\"outlinewidth\":0,\"tickcolor\":\"rgb(237,237,237)\",\"ticklen\":6,\"ticks\":\"inside\"}},\"marker\":{\"colorbar\":{\"outlinewidth\":0,\"tickcolor\":\"rgb(237,237,237)\",\"ticklen\":6,\"ticks\":\"inside\"}},\"type\":\"scatter3d\"}],\"scattercarpet\":[{\"marker\":{\"colorbar\":{\"outlinewidth\":0,\"tickcolor\":\"rgb(237,237,237)\",\"ticklen\":6,\"ticks\":\"inside\"}},\"type\":\"scattercarpet\"}],\"scattergeo\":[{\"marker\":{\"colorbar\":{\"outlinewidth\":0,\"tickcolor\":\"rgb(237,237,237)\",\"ticklen\":6,\"ticks\":\"inside\"}},\"type\":\"scattergeo\"}],\"scattergl\":[{\"marker\":{\"colorbar\":{\"outlinewidth\":0,\"tickcolor\":\"rgb(237,237,237)\",\"ticklen\":6,\"ticks\":\"inside\"}},\"type\":\"scattergl\"}],\"scattermapbox\":[{\"marker\":{\"colorbar\":{\"outlinewidth\":0,\"tickcolor\":\"rgb(237,237,237)\",\"ticklen\":6,\"ticks\":\"inside\"}},\"type\":\"scattermapbox\"}],\"scatterpolargl\":[{\"marker\":{\"colorbar\":{\"outlinewidth\":0,\"tickcolor\":\"rgb(237,237,237)\",\"ticklen\":6,\"ticks\":\"inside\"}},\"type\":\"scatterpolargl\"}],\"scatterpolar\":[{\"marker\":{\"colorbar\":{\"outlinewidth\":0,\"tickcolor\":\"rgb(237,237,237)\",\"ticklen\":6,\"ticks\":\"inside\"}},\"type\":\"scatterpolar\"}],\"scatter\":[{\"fillpattern\":{\"fillmode\":\"overlay\",\"size\":10,\"solidity\":0.2},\"type\":\"scatter\"}],\"scatterternary\":[{\"marker\":{\"colorbar\":{\"outlinewidth\":0,\"tickcolor\":\"rgb(237,237,237)\",\"ticklen\":6,\"ticks\":\"inside\"}},\"type\":\"scatterternary\"}],\"surface\":[{\"colorbar\":{\"outlinewidth\":0,\"tickcolor\":\"rgb(237,237,237)\",\"ticklen\":6,\"ticks\":\"inside\"},\"colorscale\":[[0,\"rgb(20,44,66)\"],[1,\"rgb(90,179,244)\"]],\"type\":\"surface\"}],\"table\":[{\"cells\":{\"fill\":{\"color\":\"rgb(237,237,237)\"},\"line\":{\"color\":\"white\"}},\"header\":{\"fill\":{\"color\":\"rgb(217,217,217)\"},\"line\":{\"color\":\"white\"}},\"type\":\"table\"}]},\"layout\":{\"annotationdefaults\":{\"arrowhead\":0,\"arrowwidth\":1},\"autotypenumbers\":\"strict\",\"coloraxis\":{\"colorbar\":{\"outlinewidth\":0,\"tickcolor\":\"rgb(237,237,237)\",\"ticklen\":6,\"ticks\":\"inside\"}},\"colorscale\":{\"sequential\":[[0,\"rgb(20,44,66)\"],[1,\"rgb(90,179,244)\"]],\"sequentialminus\":[[0,\"rgb(20,44,66)\"],[1,\"rgb(90,179,244)\"]]},\"colorway\":[\"#F8766D\",\"#A3A500\",\"#00BF7D\",\"#00B0F6\",\"#E76BF3\"],\"font\":{\"color\":\"rgb(51,51,51)\"},\"geo\":{\"bgcolor\":\"white\",\"lakecolor\":\"white\",\"landcolor\":\"rgb(237,237,237)\",\"showlakes\":true,\"showland\":true,\"subunitcolor\":\"white\"},\"hoverlabel\":{\"align\":\"left\"},\"hovermode\":\"closest\",\"paper_bgcolor\":\"white\",\"plot_bgcolor\":\"rgb(237,237,237)\",\"polar\":{\"angularaxis\":{\"gridcolor\":\"white\",\"linecolor\":\"white\",\"showgrid\":true,\"tickcolor\":\"rgb(51,51,51)\",\"ticks\":\"outside\"},\"bgcolor\":\"rgb(237,237,237)\",\"radialaxis\":{\"gridcolor\":\"white\",\"linecolor\":\"white\",\"showgrid\":true,\"tickcolor\":\"rgb(51,51,51)\",\"ticks\":\"outside\"}},\"scene\":{\"xaxis\":{\"backgroundcolor\":\"rgb(237,237,237)\",\"gridcolor\":\"white\",\"gridwidth\":2,\"linecolor\":\"white\",\"showbackground\":true,\"showgrid\":true,\"tickcolor\":\"rgb(51,51,51)\",\"ticks\":\"outside\",\"zerolinecolor\":\"white\"},\"yaxis\":{\"backgroundcolor\":\"rgb(237,237,237)\",\"gridcolor\":\"white\",\"gridwidth\":2,\"linecolor\":\"white\",\"showbackground\":true,\"showgrid\":true,\"tickcolor\":\"rgb(51,51,51)\",\"ticks\":\"outside\",\"zerolinecolor\":\"white\"},\"zaxis\":{\"backgroundcolor\":\"rgb(237,237,237)\",\"gridcolor\":\"white\",\"gridwidth\":2,\"linecolor\":\"white\",\"showbackground\":true,\"showgrid\":true,\"tickcolor\":\"rgb(51,51,51)\",\"ticks\":\"outside\",\"zerolinecolor\":\"white\"}},\"shapedefaults\":{\"fillcolor\":\"black\",\"line\":{\"width\":0},\"opacity\":0.3},\"ternary\":{\"aaxis\":{\"gridcolor\":\"white\",\"linecolor\":\"white\",\"showgrid\":true,\"tickcolor\":\"rgb(51,51,51)\",\"ticks\":\"outside\"},\"baxis\":{\"gridcolor\":\"white\",\"linecolor\":\"white\",\"showgrid\":true,\"tickcolor\":\"rgb(51,51,51)\",\"ticks\":\"outside\"},\"bgcolor\":\"rgb(237,237,237)\",\"caxis\":{\"gridcolor\":\"white\",\"linecolor\":\"white\",\"showgrid\":true,\"tickcolor\":\"rgb(51,51,51)\",\"ticks\":\"outside\"}},\"xaxis\":{\"automargin\":true,\"gridcolor\":\"white\",\"linecolor\":\"white\",\"showgrid\":true,\"tickcolor\":\"rgb(51,51,51)\",\"ticks\":\"outside\",\"title\":{\"standoff\":15},\"zerolinecolor\":\"white\"},\"yaxis\":{\"automargin\":true,\"gridcolor\":\"white\",\"linecolor\":\"white\",\"showgrid\":true,\"tickcolor\":\"rgb(51,51,51)\",\"ticks\":\"outside\",\"title\":{\"standoff\":15},\"zerolinecolor\":\"white\"}}},\"xaxis\":{\"anchor\":\"y\",\"domain\":[0.0,0.31999999999999995],\"title\":{\"text\":\"number_units\"}},\"yaxis\":{\"anchor\":\"x\",\"domain\":[0.0,1.0],\"title\":{\"text\":\"mean_test_acc\"}},\"xaxis2\":{\"anchor\":\"y2\",\"domain\":[0.33999999999999997,0.6599999999999999],\"matches\":\"x\",\"title\":{\"text\":\"number_units\"}},\"yaxis2\":{\"anchor\":\"x2\",\"domain\":[0.0,1.0],\"matches\":\"y\",\"showticklabels\":false},\"xaxis3\":{\"anchor\":\"y3\",\"domain\":[0.6799999999999999,0.9999999999999999],\"matches\":\"x\",\"title\":{\"text\":\"number_units\"}},\"yaxis3\":{\"anchor\":\"x3\",\"domain\":[0.0,1.0],\"matches\":\"y\",\"showticklabels\":false},\"annotations\":[{\"font\":{},\"showarrow\":false,\"text\":\"number_layers=1\",\"x\":0.15999999999999998,\"xanchor\":\"center\",\"xref\":\"paper\",\"y\":1.0,\"yanchor\":\"bottom\",\"yref\":\"paper\"},{\"font\":{},\"showarrow\":false,\"text\":\"number_layers=2\",\"x\":0.49999999999999994,\"xanchor\":\"center\",\"xref\":\"paper\",\"y\":1.0,\"yanchor\":\"bottom\",\"yref\":\"paper\"},{\"font\":{},\"showarrow\":false,\"text\":\"number_layers=3\",\"x\":0.8399999999999999,\"xanchor\":\"center\",\"xref\":\"paper\",\"y\":1.0,\"yanchor\":\"bottom\",\"yref\":\"paper\"}],\"coloraxis\":{\"colorbar\":{\"title\":{\"text\":\"epoch\"}},\"colorscale\":[[0.0,\"#0d0887\"],[0.1111111111111111,\"#46039f\"],[0.2222222222222222,\"#7201a8\"],[0.3333333333333333,\"#9c179e\"],[0.4444444444444444,\"#bd3786\"],[0.5555555555555556,\"#d8576b\"],[0.6666666666666666,\"#ed7953\"],[0.7777777777777778,\"#fb9f3a\"],[0.8888888888888888,\"#fdca26\"],[1.0,\"#f0f921\"]]},\"legend\":{\"tracegroupgap\":0},\"margin\":{\"t\":60},\"width\":800},                        {\"responsive\": true}                    ).then(function(){\n",
       "                            \n",
       "var gd = document.getElementById('794388bc-3cac-4495-9196-11325ccf51e5');\n",
       "var x = new MutationObserver(function (mutations, observer) {{\n",
       "        var display = window.getComputedStyle(gd).display;\n",
       "        if (!display || display === 'none') {{\n",
       "            console.log([gd, 'removed!']);\n",
       "            Plotly.purge(gd);\n",
       "            observer.disconnect();\n",
       "        }}\n",
       "}});\n",
       "\n",
       "// Listen for the removal of the full notebook cells\n",
       "var notebookContainer = gd.closest('#notebook-container');\n",
       "if (notebookContainer) {{\n",
       "    x.observe(notebookContainer, {childList: true});\n",
       "}}\n",
       "\n",
       "// Listen for the clearing of the current output cell\n",
       "var outputEl = gd.closest('.output');\n",
       "if (outputEl) {{\n",
       "    x.observe(outputEl, {childList: true});\n",
       "}}\n",
       "\n",
       "                        })                };                });            </script>        </div>"
      ]
     },
     "metadata": {},
     "output_type": "display_data"
    }
   ],
   "execution_count": 435
  },
  {
   "metadata": {
    "ExecuteTime": {
     "end_time": "2025-05-18T18:31:11.474337Z",
     "start_time": "2025-05-18T18:31:11.449138Z"
    }
   },
   "cell_type": "code",
   "source": [
    "import plotly.express as px\n",
    "\n",
    "# After your experiments, visualize results\n",
    "fig = px.scatter_3d(\n",
    "    grouped_results,\n",
    "    x='number_units',\n",
    "    y='number_layers',\n",
    "    z='mean_test_acc',\n",
    "    color='epoch',\n",
    "    size='mean_test_acc',\n",
    "    hover_data=['mean_train_loss', 'mean_test_loss'],\n",
    "    color_continuous_scale='Plasma_r'\n",
    ")\n",
    "\n",
    "fig.update_layout(template='ggplot2', width=600, height=600)\n",
    "fig.update_traces(marker=dict(line=dict(width=0.2, color='darkslategrey')))\n",
    "fig.show()"
   ],
   "id": "760f3fa94433f2be",
   "outputs": [
    {
     "data": {
      "application/vnd.plotly.v1+json": {
       "data": [
        {
         "customdata": [
          [
           0.4099022825873776,
           0.34796521067619324
          ],
          [
           0.23136565521292254,
           0.2584322988986969
          ],
          [
           0.1833769573068586,
           0.24803774058818817
          ],
          [
           0.1696158922272725,
           0.2346731722354889
          ],
          [
           0.1611117139600501,
           0.25994694232940674
          ],
          [
           0.13395742266737523,
           0.2757766544818878
          ],
          [
           0.127264400069949,
           0.24203965067863464
          ],
          [
           0.14066144994999896,
           0.24927589297294617
          ],
          [
           0.1178913241313427,
           0.2368130087852478
          ],
          [
           0.10161944503887277,
           0.3296201229095459
          ],
          [
           0.05877816318723431,
           0.24690094590187073
          ],
          [
           0.03725648116115136,
           0.25393182039260864
          ],
          [
           0.029120461730356935,
           0.29080888628959656
          ],
          [
           0.031616154503811236,
           0.2790330648422241
          ],
          [
           0.039229815445614734,
           0.3427964746952057
          ],
          [
           0.04412981432889369,
           0.349867582321167
          ],
          [
           0.03597608811632616,
           0.2919917702674866
          ],
          [
           0.02127044926396214,
           0.3918205499649048
          ],
          [
           0.026369978606285604,
           0.35361477732658386
          ],
          [
           0.0324665132257143,
           0.4445732831954956
          ],
          [
           0.0163988829655127,
           0.3459121882915497
          ],
          [
           0.0059570016866562405,
           0.35166507959365845
          ],
          [
           0.0032805206246167545,
           0.3569651246070862
          ],
          [
           0.002609084259874214,
           0.37559667229652405
          ],
          [
           0.0022924785944715537,
           0.3765471279621124
          ],
          [
           0.0025143231712201094,
           0.3878806531429291
          ],
          [
           0.012335046660185606,
           0.4413960874080658
          ],
          [
           0.006492294171251892,
           0.45808881521224976
          ],
          [
           0.008934465694662518,
           0.47994011640548706
          ],
          [
           0.005615009824756296,
           0.44183963537216187
          ],
          [
           9.518690036833677E-4,
           0.4405885636806488
          ],
          [
           4.0171256835752845E-4,
           0.444437175989151
          ],
          [
           3.4966870923912037E-4,
           0.44971808791160583
          ],
          [
           2.905654572192003E-4,
           0.45579448342323303
          ],
          [
           0.45846182099340077,
           0.34025660157203674
          ],
          [
           0.2532913595128185,
           0.36430108547210693
          ],
          [
           0.2057710816469678,
           0.23196440935134888
          ],
          [
           0.17554776652535062,
           0.26025477051734924
          ],
          [
           0.16618593392066866,
           0.244480699300766
          ],
          [
           0.1496423163711614,
           0.2953525483608246
          ],
          [
           0.15040061934263202,
           0.3339257836341858
          ],
          [
           0.13742332057600454,
           0.24655203521251678
          ],
          [
           0.12185103931561773,
           0.27560940384864807
          ],
          [
           0.12686604719159575,
           0.24581313133239746
          ],
          [
           0.06329620763444144,
           0.23998701572418213
          ],
          [
           0.04715138022489365,
           0.27832871675491333
          ],
          [
           0.04176537363786017,
           0.2593066692352295
          ],
          [
           0.0430697221391439,
           0.2974022626876831
          ],
          [
           0.05090541831357145,
           0.27078473567962646
          ],
          [
           0.039530263045439835,
           0.2815309166908264
          ],
          [
           0.037665311602597035,
           0.2975841760635376
          ],
          [
           0.04198629834556818,
           0.3410594165325165
          ],
          [
           0.04028376819739728,
           0.3111674189567566
          ],
          [
           0.038061912379338946,
           0.3041374981403351
          ],
          [
           0.02057097116327015,
           0.30884411931037903
          ],
          [
           0.0125143497660512,
           0.30888083577156067
          ],
          [
           0.012343868689120496,
           0.3235330879688263
          ],
          [
           0.00955947761996791,
           0.3587706387042999
          ],
          [
           0.00761135217653645,
           0.40232226252555847
          ],
          [
           0.008553105117248305,
           0.4116235375404358
          ],
          [
           0.015392220548988375,
           0.38960981369018555
          ],
          [
           0.011379288456733489,
           0.44961175322532654
          ],
          [
           0.005826591602654933,
           0.44270554184913635
          ],
          [
           0.009034180759617252,
           0.4220608174800873
          ],
          [
           0.002686340936937078,
           0.4473128616809845
          ],
          [
           0.0016902378382436742,
           0.4453170597553253
          ],
          [
           0.0013065912718095037,
           0.4662904143333435
          ],
          [
           0.5099454705709804,
           0.2895001471042633
          ],
          [
           0.2716085163154126,
           0.2472822219133377
          ],
          [
           0.22306479292246092,
           0.2154369056224823
          ],
          [
           0.20439600171698613,
           0.2768439054489136
          ],
          [
           0.19301000965538925,
           0.2515704929828644
          ],
          [
           0.15727068830462534,
           0.28063130378723145
          ],
          [
           0.15305841943270804,
           0.2513997256755829
          ],
          [
           0.15534064820561677,
           0.33989593386650085
          ],
          [
           0.14584166717554353,
           0.24090120196342468
          ],
          [
           0.13454581425573775,
           0.2604958713054657
          ],
          [
           0.08248985694314354,
           0.21409548819065094
          ],
          [
           0.06168712416592552,
           0.22065095603466034
          ],
          [
           0.057519406694433756,
           0.2404026836156845
          ],
          [
           0.057380253857181214,
           0.251823753118515
          ],
          [
           0.05987416179659831,
           0.2639756202697754
          ],
          [
           0.05629763666355555,
           0.2421347051858902
          ],
          [
           0.05204209137101172,
           0.26228389143943787
          ],
          [
           0.04580445251521067,
           0.2660645544528961
          ],
          [
           0.049029083052780566,
           0.2640436291694641
          ],
          [
           0.044078258004862994,
           0.32935333251953125
          ],
          [
           0.02731934651419278,
           0.2886393368244171
          ],
          [
           0.01802180747568205,
           0.3160676062107086
          ],
          [
           0.01718821521518441,
           0.3397844731807709
          ],
          [
           0.015691744328354823,
           0.32860618829727173
          ],
          [
           0.012310222784110952,
           0.3866446316242218
          ],
          [
           0.016017109038309302,
           0.4395287334918976
          ],
          [
           0.017357921829980662,
           0.41713428497314453
          ],
          [
           0.019303449471714588,
           0.412052184343338
          ],
          [
           0.0109428204368133,
           0.49568384885787964
          ],
          [
           0.016489618590557788,
           0.5079811811447144
          ],
          [
           0.010616780409378008,
           0.49260205030441284
          ],
          [
           0.005021276336296117,
           0.5228679180145264
          ],
          [
           0.004232010090709558,
           0.5388380289077759
          ],
          [
           0.0037105558453850653,
           0.5542048215866089
          ],
          [
           0.0035840500812863397,
           0.6044091582298279
          ],
          [
           0.00393533919138724,
           0.5846540331840515
          ],
          [
           0.0036320630219018823,
           0.621429979801178
          ],
          [
           0.004505027950299598,
           0.6620262861251831
          ],
          [
           0.005824782320633055,
           0.6758548617362976
          ],
          [
           0.005147290212827175,
           0.7183796167373657
          ],
          [
           0.003696806386489389,
           0.7249898314476013
          ],
          [
           0.3934480925622529,
           0.33049267530441284
          ],
          [
           0.21209701497055486,
           0.2548511028289795
          ],
          [
           0.18811014462318384,
           0.21127037703990936
          ],
          [
           0.15239030119922398,
           0.23975108563899994
          ],
          [
           0.1477771503107766,
           0.27949437499046326
          ],
          [
           0.14967127732764826,
           0.34103789925575256
          ],
          [
           0.13354500325674631,
           0.27692151069641113
          ],
          [
           0.12359288034479218,
           0.2769986391067505
          ],
          [
           0.11761651832998604,
           0.2577219605445862
          ],
          [
           0.09824609054837032,
           0.2450258582830429
          ],
          [
           0.04924153981337149,
           0.24758800864219666
          ],
          [
           0.026105339709187856,
           0.2553289234638214
          ],
          [
           0.029580490684328175,
           0.28589320182800293
          ],
          [
           0.017177841996571633,
           0.3147773742675781
          ],
          [
           0.020924055627898463,
           0.32705825567245483
          ],
          [
           0.041029459654464966,
           0.32072433829307556
          ],
          [
           0.04111563457899124,
           0.30147773027420044
          ],
          [
           0.022531625434872565,
           0.316817969083786
          ],
          [
           0.02215046608099746,
           0.3687841594219208
          ],
          [
           0.024022331192116716,
           0.3952699303627014
          ],
          [
           0.010496193892628413,
           0.33468255400657654
          ],
          [
           0.003597094602622257,
           0.3414924740791321
          ],
          [
           0.002129021115842822,
           0.34854137897491455
          ],
          [
           0.0013917202794712317,
           0.3465637266635895
          ],
          [
           9.20641087621473E-4,
           0.3512756824493408
          ],
          [
           7.118384203211115E-4,
           0.3607821464538574
          ],
          [
           6.216813844255276E-4,
           0.3670131266117096
          ],
          [
           5.931919809591561E-4,
           0.3757074475288391
          ],
          [
           4.537365306695675E-4,
           0.380165159702301
          ],
          [
           0.012047540677516334,
           0.5164752006530762
          ],
          [
           0.008862796538739762,
           0.43281957507133484
          ],
          [
           9.570826151684121E-4,
           0.41854989528656006
          ],
          [
           4.811464005080785E-4,
           0.41774576902389526
          ],
          [
           0.4628572595494245,
           0.2850273847579956
          ],
          [
           0.247379896929021,
           0.2622372806072235
          ],
          [
           0.22031754548082833,
           0.3042076528072357
          ],
          [
           0.19198420455885531,
           0.29574325680732727
          ],
          [
           0.16162809319661198,
           0.2891524136066437
          ],
          [
           0.16476980394471244,
           0.24861374497413635
          ],
          [
           0.14626202489147225,
           0.29186126589775085
          ],
          [
           0.1409683554285259,
           0.34734711050987244
          ],
          [
           0.1302467732059089,
           0.2910664975643158
          ],
          [
           0.11475538165424717,
           0.217384934425354
          ],
          [
           0.0673377385713891,
           0.2760884761810303
          ],
          [
           0.04061629229085373,
           0.25682127475738525
          ],
          [
           0.03759072404255186,
           0.2715696692466736
          ],
          [
           0.040086359536272986,
           0.27709779143333435
          ],
          [
           0.039812710670094564,
           0.39100944995880127
          ],
          [
           0.06102990760303807,
           0.3295265734195709
          ],
          [
           0.04125511484968597,
           0.2904362678527832
          ],
          [
           0.03408996143891873,
           0.3438870906829834
          ],
          [
           0.03564495342406858,
           0.3839731514453888
          ],
          [
           0.037413706613868995,
           0.36756572127342224
          ],
          [
           0.017659708981124757,
           0.31539463996887207
          ],
          [
           0.009371447803062115,
           0.3564103841781616
          ],
          [
           0.008267268037623366,
           0.36253154277801514
          ],
          [
           0.005978632393212413,
           0.3694995641708374
          ],
          [
           0.005324911292716638,
           0.41485893726348877
          ],
          [
           0.004051633932877805,
           0.44873306155204773
          ],
          [
           0.013075834804942251,
           0.45395204424858093
          ],
          [
           0.00717664824114594,
           0.492394357919693
          ],
          [
           0.013786811487683803,
           0.4379311203956604
          ],
          [
           0.011390657603659246,
           0.43876340985298157
          ],
          [
           0.004581943280130115,
           0.448600172996521
          ],
          [
           0.001989681389184427,
           0.4503498673439026
          ],
          [
           0.001418539901306752,
           0.4604376554489136
          ],
          [
           0.001245620705151529,
           0.4692983329296112
          ],
          [
           0.0012416058704767222,
           0.48756834864616394
          ],
          [
           0.0011073539096007417,
           0.49935707449913025
          ],
          [
           9.748190442489211E-4,
           0.5118886232376099
          ],
          [
           0.00263883746511963,
           0.5269926190376282
          ],
          [
           0.0011205534587814116,
           0.5439704060554504
          ],
          [
           6.856501632401034E-4,
           0.5647724866867065
          ],
          [
           0.5915512320602346,
           0.35348814725875854
          ],
          [
           0.3061729064696508,
           0.27734264731407166
          ],
          [
           0.25193521487554593,
           0.2964675724506378
          ],
          [
           0.23452170230709538,
           0.31108561158180237
          ],
          [
           0.19973854607863273,
           0.2755110263824463
          ],
          [
           0.20190365702326304,
           0.3626004159450531
          ],
          [
           0.16818640013526331,
           0.31563788652420044
          ],
          [
           0.17267329082334365,
           0.3335581421852112
          ],
          [
           0.1513221842917578,
           0.2915720045566559
          ],
          [
           0.14378960339467037,
           0.2993035912513733
          ],
          [
           0.0883425397652375,
           0.2301645576953888
          ],
          [
           0.07140215708535039,
           0.21642713248729706
          ],
          [
           0.056801794924916056,
           0.24532441794872284
          ],
          [
           0.05533724139211641,
           0.29798659682273865
          ],
          [
           0.061335959100112386,
           0.2909967601299286
          ],
          [
           0.061836089338237046,
           0.25979867577552795
          ],
          [
           0.05399290344311629,
           0.2842344045639038
          ],
          [
           0.05170303624645804,
           0.27185365557670593
          ],
          [
           0.055846738648603615,
           0.2695119380950928
          ],
          [
           0.05443446793458839,
           0.3127034604549408
          ],
          [
           0.027631265323318353,
           0.2753954529762268
          ],
          [
           0.018568665705644236,
           0.31355100870132446
          ],
          [
           0.016490896057331207,
           0.3297242820262909
          ],
          [
           0.013574810384639107,
           0.3465554118156433
          ],
          [
           0.01384295336595741,
           0.3904072642326355
          ],
          [
           0.0181402412686137,
           0.3848755955696106
          ],
          [
           0.01710843452615089,
           0.3820311427116394
          ],
          [
           0.01819652801035646,
           0.45801594853401184
          ],
          [
           0.01392337591046707,
           0.4498767554759979
          ],
          [
           0.01945711894445124,
           0.45340844988822937
          ],
          [
           0.008601125776468153,
           0.47881996631622314
          ],
          [
           0.0047373923213150145,
           0.5193300247192383
          ],
          [
           0.0048678081379017035,
           0.5407165884971619
          ],
          [
           0.004078904248053674,
           0.5658417344093323
          ],
          [
           0.0032035602223674246,
           0.5824204683303833
          ],
          [
           0.003694789123469452,
           0.6057177782058716
          ],
          [
           0.004674276623359559,
           0.6041260361671448
          ],
          [
           0.005177184312186567,
           0.6021736264228821
          ],
          [
           0.005715366378853838,
           0.6237453818321228
          ],
          [
           0.004999128778392787,
           0.6324723362922668
          ],
          [
           0.0030669570135360355,
           0.6529211401939392
          ],
          [
           0.0016184435662592775,
           0.6589561104774475
          ],
          [
           0.39601230233131285,
           0.2719476819038391
          ],
          [
           0.22273464376603314,
           0.26332393288612366
          ],
          [
           0.1982486355235102,
           0.21002186834812164
          ],
          [
           0.15791164609796754,
           0.2575609087944031
          ],
          [
           0.15098901322462716,
           0.21134796738624573
          ],
          [
           0.12408074366687802,
           0.3231569826602936
          ],
          [
           0.12772696841320502,
           0.2893088161945343
          ],
          [
           0.1234078912950321,
           0.2545887231826782
          ],
          [
           0.1275347532593773,
           0.2559473216533661
          ],
          [
           0.09296198110625742,
           0.2642022371292114
          ],
          [
           0.044473352001623355,
           0.2442256510257721
          ],
          [
           0.02743400453482468,
           0.24292691051959991
          ],
          [
           0.020682422408106346,
           0.28573423624038696
          ],
          [
           0.029579990063435466,
           0.3017483651638031
          ],
          [
           0.03278294826690549,
           0.2874281108379364
          ],
          [
           0.028544223851342997,
           0.29071807861328125
          ],
          [
           0.03183528135876058,
           0.32499179244041443
          ],
          [
           0.03458319297970746,
           0.32102513313293457
          ],
          [
           0.021962485421792133,
           0.30807024240493774
          ],
          [
           0.019272634975357972,
           0.3297889828681946
          ],
          [
           0.010214411939421327,
           0.3097727596759796
          ],
          [
           0.003194430307476954,
           0.2973843514919281
          ],
          [
           0.0016717436767057976,
           0.31333374977111816
          ],
          [
           0.0013444095684480395,
           0.3114599883556366
          ],
          [
           0.001565220955340009,
           0.35084018111228943
          ],
          [
           0.0017304828347376399,
           0.333168625831604
          ],
          [
           0.005898380343711934,
           0.3660307824611664
          ],
          [
           0.011839619490809722,
           0.374327152967453
          ],
          [
           0.0061217818672546324,
           0.3615109920501709
          ],
          [
           0.002006339667094339,
           0.37639644742012024
          ],
          [
           0.0012295165731309044,
           0.37230145931243896
          ],
          [
           4.4034826490070957E-4,
           0.3698001205921173
          ],
          [
           3.5875233615851866E-4,
           0.3706713318824768
          ],
          [
           0.47578297234429623,
           0.3366152048110962
          ],
          [
           0.2997433559036812,
           0.34884142875671387
          ],
          [
           0.21152210420600412,
           0.24566715955734253
          ],
          [
           0.16859240511633858,
           0.24382749199867249
          ],
          [
           0.17499285169857515,
           0.25023701786994934
          ],
          [
           0.17275097821444882,
           0.44397255778312683
          ],
          [
           0.1676052413792872,
           0.2637318968772888
          ],
          [
           0.14785247420885586,
           0.3806641697883606
          ],
          [
           0.16243645298752102,
           0.25548601150512695
          ],
          [
           0.14915738223348735,
           0.25261226296424866
          ],
          [
           0.07973236278008473,
           0.2027353048324585
          ],
          [
           0.05071072778574564,
           0.23401832580566406
          ],
          [
           0.044686110830748464,
           0.2348882555961609
          ],
          [
           0.04804770871956253,
           0.2630024552345276
          ],
          [
           0.04131419509086228,
           0.26102563738822937
          ],
          [
           0.04670484097323128,
           0.2816711664199829
          ],
          [
           0.0466696264637455,
           0.275398850440979
          ],
          [
           0.03627223263517867,
           0.3553764522075653
          ],
          [
           0.04671872172284597,
           0.298764705657959
          ],
          [
           0.03617745329580714,
           0.3883977234363556
          ],
          [
           0.02545510119964269,
           0.3336121141910553
          ],
          [
           0.013640790753646354,
           0.3388795554637909
          ],
          [
           0.00971827214475699,
           0.3230687975883484
          ],
          [
           0.006821541942543429,
           0.3691779375076294
          ],
          [
           0.006974592595583959,
           0.35743454098701477
          ],
          [
           0.016675194179713,
           0.3913586437702179
          ],
          [
           0.017226179837732218,
           0.4376475214958191
          ],
          [
           0.007479565361588908,
           0.3902837336063385
          ],
          [
           0.009543367428296342,
           0.47324463725090027
          ],
          [
           0.009248687960662612,
           0.4715777039527893
          ],
          [
           0.0060943098181061,
           0.427645742893219
          ],
          [
           0.0032797701990151945,
           0.42677760124206543
          ],
          [
           0.0028243300035397877,
           0.4382409155368805
          ],
          [
           0.0025220046357172466,
           0.44828492403030396
          ],
          [
           0.002450585550417038,
           0.46682071685791016
          ],
          [
           0.002189004184863979,
           0.48392045497894287
          ],
          [
           0.0023468385693265073,
           0.48301005363464355
          ],
          [
           0.002383299397861047,
           0.49650126695632935
          ],
          [
           0.0019687564626412702,
           0.5220358967781067
          ],
          [
           0.0016631078645568066,
           0.5643777847290039
          ],
          [
           0.00145880633770508,
           0.5559318661689758
          ],
          [
           0.5511328747163794,
           0.49057042598724365
          ],
          [
           0.3335171402516012,
           0.3349425792694092
          ],
          [
           0.29763199226979264,
           0.418788343667984
          ],
          [
           0.26516254421627755,
           0.35040539503097534
          ],
          [
           0.19929099874069375,
           0.26003432273864746
          ],
          [
           0.18110229300705058,
           0.27811408042907715
          ],
          [
           0.19033778466392526,
           0.30312347412109375
          ],
          [
           0.15179097896770416,
           0.32216134667396545
          ],
          [
           0.14427270958797223,
           0.33292093873023987
          ],
          [
           0.15843605250866713,
           0.3174610435962677
          ],
          [
           0.09341726319000813,
           0.2054932564496994
          ],
          [
           0.06730110965892931,
           0.21942253410816193
          ],
          [
           0.05935719285639197,
           0.23487907648086548
          ],
          [
           0.0591635146720364,
           0.26984184980392456
          ],
          [
           0.05568313504427661,
           0.24946138262748718
          ],
          [
           0.061093689875987164,
           0.2572232484817505
          ],
          [
           0.04835730168793317,
           0.30630552768707275
          ],
          [
           0.07075521634373534,
           0.3208578824996948
          ],
          [
           0.06321045429237615,
           0.3273884356021881
          ],
          [
           0.05874327785036467,
           0.29166555404663086
          ],
          [
           0.0330261026805873,
           0.28841015696525574
          ],
          [
           0.022161320646132108,
           0.2959461510181427
          ],
          [
           0.019299818275863505,
           0.30652838945388794
          ],
          [
           0.013882156426874275,
           0.33697834610939026
          ],
          [
           0.013761250592517687,
           0.35679683089256287
          ],
          [
           0.022222025939552973,
           0.3606121242046356
          ],
          [
           0.023293257915978877,
           0.37831994891166687
          ],
          [
           0.01727708730351275,
           0.4276466965675354
          ],
          [
           0.020826716980189484,
           0.43030259013175964
          ],
          [
           0.016833910699835693,
           0.4564626216888428
          ],
          [
           0.010158209940580252,
           0.46418216824531555
          ],
          [
           0.005908139823670595,
           0.4851733446121216
          ],
          [
           0.00616449907453042,
           0.530146062374115
          ],
          [
           0.005118832305285857,
           0.5528524518013
          ],
          [
           0.00417733579618874,
           0.5825423002243042
          ],
          [
           0.005248283690489304,
           0.6091046333312988
          ],
          [
           0.005449416958130486,
           0.5874398350715637
          ],
          [
           0.0038043853255646065,
           0.6464210152626038
          ],
          [
           0.0026062573854841987,
           0.6974205374717712
          ],
          [
           0.0023411075723139842,
           0.8187693357467651
          ],
          [
           0.002508158871238444,
           0.8072252869606018
          ],
          [
           0.40186999432876974,
           0.3472883701324463
          ],
          [
           0.25008988180543057,
           0.2937496602535248
          ],
          [
           0.2001892694287032,
           0.2674197554588318
          ],
          [
           0.17782110392530345,
           0.290455162525177
          ],
          [
           0.1475375617344776,
           0.25449663400650024
          ],
          [
           0.1523424205509059,
           0.2991030216217041
          ],
          [
           0.15521992516571156,
           0.3227933943271637
          ],
          [
           0.1359826330805803,
           0.3570796251296997
          ],
          [
           0.11350615922015049,
           0.28284502029418945
          ],
          [
           0.12898181842102643,
           0.33981943130493164
          ],
          [
           0.06327510660026703,
           0.24558019638061523
          ],
          [
           0.036769533360492934,
           0.28703585267066956
          ],
          [
           0.026035223937535323,
           0.3039003014564514
          ],
          [
           0.02740280448046327,
           0.31199902296066284
          ],
          [
           0.025961732812968555,
           0.3413826823234558
          ],
          [
           0.026546495427036194,
           0.3637297451496124
          ],
          [
           0.05684170652021996,
           0.3889174163341522
          ],
          [
           0.044490596212628165,
           0.3527522087097168
          ],
          [
           0.02921331774773054,
           0.44350960850715637
          ],
          [
           0.02639110207156388,
           0.4706965982913971
          ],
          [
           0.012048109289600746,
           0.41532614827156067
          ],
          [
           0.005276773821130427,
           0.4354519248008728
          ],
          [
           0.0038507422585531744,
           0.44400665163993835
          ],
          [
           0.0035146431468030858,
           0.4391251802444458
          ],
          [
           0.004978210495204817,
           0.4830103814601898
          ],
          [
           0.012597217500529886,
           0.49729132652282715
          ],
          [
           0.012400891561224333,
           0.48759496212005615
          ],
          [
           0.007774820852345008,
           0.5216550230979919
          ],
          [
           0.002901899563944387,
           0.5048950910568237
          ],
          [
           0.0018097755952833736,
           0.5638521909713745
          ],
          [
           0.0017247816305956296,
           0.5300090312957764
          ],
          [
           6.793819407995252E-4,
           0.5264936685562134
          ],
          [
           4.486597650356424E-4,
           0.5263696312904358
          ],
          [
           4.079810777474709E-4,
           0.5259312391281128
          ],
          [
           5.268705993099636E-4,
           0.5364891290664673
          ],
          [
           4.115682288659836E-4,
           0.5372545123100281
          ],
          [
           2.507898252231808E-4,
           0.5359163880348206
          ],
          [
           2.23953711800914E-4,
           0.5469670295715332
          ],
          [
           3.324611407909941E-4,
           0.5380599498748779
          ],
          [
           1.7198605662840176E-4,
           0.5509664416313171
          ],
          [
           1.4691717832885729E-4,
           0.5509926080703735
          ],
          [
           0.49223038094316074,
           0.35632196068763733
          ],
          [
           0.27519363797557184,
           0.29338324069976807
          ],
          [
           0.2095917162689789,
           0.30775129795074463
          ],
          [
           0.20951325480801936,
           0.2993224859237671
          ],
          [
           0.18566654134496957,
           0.30004507303237915
          ],
          [
           0.14889552898915906,
           0.24109360575675964
          ],
          [
           0.1425554192093535,
           0.30161619186401367
          ],
          [
           0.1687893382751757,
           0.2733999490737915
          ],
          [
           0.12306033912626187,
           0.3741457164287567
          ],
          [
           0.14527399457652493,
           0.2753394842147827
          ],
          [
           0.06818684274151679,
           0.2412649691104889
          ],
          [
           0.04914937796430187,
           0.2871015965938568
          ],
          [
           0.038308481295199294,
           0.29882243275642395
          ],
          [
           0.0373633044827054,
           0.296447217464447
          ],
          [
           0.04956013665420226,
           0.34379544854164124
          ],
          [
           0.04561496022389103,
           0.328419029712677
          ],
          [
           0.05034954400978087,
           0.40503352880477905
          ],
          [
           0.0645670606322774,
           0.41068369150161743
          ],
          [
           0.04326167125919182,
           0.4004698097705841
          ],
          [
           0.034163765179073026,
           0.3128248453140259
          ],
          [
           0.01893602049918474,
           0.32990628480911255
          ],
          [
           0.009101842497006107,
           0.34094440937042236
          ],
          [
           0.0067639480380427995,
           0.33386731147766113
          ],
          [
           0.006220346972010316,
           0.37472376227378845
          ],
          [
           0.005442789458237566,
           0.3780739903450012
          ],
          [
           0.004762769876908926,
           0.3923335075378418
          ],
          [
           0.006810949100346913,
           0.44106608629226685
          ],
          [
           0.01303066319318443,
           0.48071038722991943
          ],
          [
           0.015128234709177594,
           0.4226272404193878
          ],
          [
           0.012885670796742837,
           0.41598013043403625
          ],
          [
           0.005475455796859638,
           0.4544317424297333
          ],
          [
           0.0025298517565204145,
           0.49540698528289795
          ],
          [
           0.0021925408117002493,
           0.4794449210166931
          ],
          [
           0.0017685212866686533,
           0.4969598948955536
          ],
          [
           0.0016188316875669325,
           0.5025655031204224
          ],
          [
           0.0014916348152412893,
           0.5312453508377075
          ],
          [
           0.5955853679017695,
           0.6285215020179749
          ],
          [
           0.36103656971901804,
           0.34694257378578186
          ],
          [
           0.2534459068305522,
           0.3577270805835724
          ],
          [
           0.22030628116834977,
           0.4740806519985199
          ],
          [
           0.23989510236546874,
           0.24814683198928833
          ],
          [
           0.22525177963772314,
           0.7638813853263855
          ],
          [
           0.32658114013605505,
           0.5514107346534729
          ],
          [
           0.28182189912910394,
           0.40371212363243103
          ],
          [
           0.1985939692023242,
           0.2704389989376068
          ],
          [
           0.18490719833893152,
           0.3232116401195526
          ],
          [
           0.11693140782050407,
           0.24500615894794464
          ],
          [
           0.08616628853111208,
           0.2720537781715393
          ],
          [
           0.07953845428497819,
           0.244243323802948
          ],
          [
           0.08078791948190735,
           0.22799044847488403
          ],
          [
           0.06284377836986103,
           0.2571500837802887
          ],
          [
           0.07494080150115154,
           0.2740525007247925
          ],
          [
           0.06922097609128479,
           0.3145260810852051
          ],
          [
           0.0745514419280122,
           0.3778159022331238
          ],
          [
           0.0694541681830128,
           0.30485275387763977
          ],
          [
           0.06833198940569697,
           0.37125787138938904
          ],
          [
           0.04539764857067534,
           0.33578938245773315
          ],
          [
           0.031759014750890616,
           0.3592812716960907
          ],
          [
           0.03209280213334756,
           0.332726389169693
          ],
          [
           0.02452810850888103,
           0.37335291504859924
          ],
          [
           0.022383207072733693,
           0.3626890480518341
          ],
          [
           0.0184707941630702,
           0.4233425259590149
          ],
          [
           0.024296315720555236,
           0.47635820508003235
          ],
          [
           0.027599803230944044,
           0.4499055743217468
          ],
          [
           0.024678686015280872,
           0.46082544326782227
          ],
          [
           0.026969746896323626,
           0.4863928258419037
          ],
          [
           0.017911114384710044,
           0.4741362929344177
          ],
          [
           0.01032534507919204,
           0.49437588453292847
          ],
          [
           0.00908005995002358,
           0.5047151446342468
          ],
          [
           0.008264752284091778,
           0.5404620170593262
          ],
          [
           0.007745317540413307,
           0.5707035660743713
          ],
          [
           0.006849314269131296,
           0.5812680721282959
          ],
          [
           0.006689547970474829,
           0.6387887001037598
          ],
          [
           0.00780140017513476,
           0.6696077585220337
          ],
          [
           0.010826977682478556,
           0.6502138376235962
          ],
          [
           0.006078607223418652,
           0.7378330230712891
          ],
          [
           0.004642624551999046,
           0.7416929602622986
          ],
          [
           0.003264301807007025,
           0.7940711379051208
          ],
          [
           0.002774770675219483,
           0.8049597144126892
          ],
          [
           0.002384967750288159,
           0.8475772738456726
          ],
          [
           0.39602299897235355,
           0.27326104044914246
          ],
          [
           0.22872412740019615,
           0.23725801706314087
          ],
          [
           0.20993641429843907,
           0.28176140785217285
          ],
          [
           0.17726624838005609,
           0.2596625089645386
          ],
          [
           0.14423373758917457,
           0.39134615659713745
          ],
          [
           0.17045972304439563,
           0.3320067822933197
          ],
          [
           0.15046995789619147,
           0.30944353342056274
          ],
          [
           0.13914097395617298,
           0.37850096821784973
          ],
          [
           0.11421568527545381,
           0.2973175048828125
          ],
          [
           0.12981469103727014,
           0.27100518345832825
          ],
          [
           0.05181706100300901,
           0.28329139947891235
          ],
          [
           0.03592138982903434,
           0.2800808846950531
          ],
          [
           0.025586895043424974,
           0.2860453128814697
          ],
          [
           0.02570006318300617,
           0.2686268091201782
          ],
          [
           0.026909707681759924,
           0.30681753158569336
          ],
          [
           0.03109397372023867,
           0.4498800039291382
          ],
          [
           0.041930034410308216,
           0.36542725563049316
          ],
          [
           0.0300154934401866,
           0.3603472411632538
          ],
          [
           0.03684693736228667,
           0.5140981674194336
          ],
          [
           0.03746768500334638,
           0.4139212667942047
          ],
          [
           0.01207729168277442,
           0.42010384798049927
          ],
          [
           0.004131533417519127,
           0.417637437582016
          ],
          [
           0.002959439566310428,
           0.4388568103313446
          ],
          [
           0.0021702420312770766,
           0.4518803060054779
          ],
          [
           0.0019240883862575503,
           0.4536975622177124
          ],
          [
           0.001466222127251732,
           0.47995564341545105
          ],
          [
           0.002713502153693878,
           0.48906219005584717
          ],
          [
           0.013852556822765103,
           0.5206133127212524
          ],
          [
           0.007071301171755733,
           0.47876909375190735
          ],
          [
           0.002052348342029676,
           0.5238827466964722
          ],
          [
           0.0015797603394032806,
           0.5037521719932556
          ],
          [
           7.128675163240763E-4,
           0.5087555646896362
          ],
          [
           0.4978276654883831,
           0.4498080611228943
          ],
          [
           0.28185745281072144,
           0.3473900258541107
          ],
          [
           0.27036723870231594,
           0.4305012822151184
          ],
          [
           0.21921929560988052,
           0.393344521522522
          ],
          [
           0.1812754607916192,
           0.2964091897010803
          ],
          [
           0.17753368764737795,
           0.26497316360473633
          ],
          [
           0.1465096771233563,
           0.3136194050312042
          ],
          [
           0.15128119445134341,
           0.4075748920440674
          ],
          [
           0.18671365458193284,
           0.33122292160987854
          ],
          [
           0.1619816954307261,
           0.38978803157806396
          ],
          [
           0.08577860483403023,
           0.2328338474035263
          ],
          [
           0.054452916324694005,
           0.261252224445343
          ],
          [
           0.05404154638737221,
           0.2403435856103897
          ],
          [
           0.04660990661753026,
           0.30194440484046936
          ],
          [
           0.04640762179749395,
           0.28062140941619873
          ],
          [
           0.05107219473829317,
           0.25339701771736145
          ],
          [
           0.053040216089476656,
           0.24801483750343323
          ],
          [
           0.044749078571470535,
           0.2971537709236145
          ],
          [
           0.03964565718742851,
           0.31582093238830566
          ],
          [
           0.04641809820216582,
           0.38577181100845337
          ],
          [
           0.027363773880838955,
           0.30754122138023376
          ],
          [
           0.014789249690753799,
           0.3186243176460266
          ],
          [
           0.011533252861672035,
           0.3601314425468445
          ],
          [
           0.011500337384936827,
           0.3860732614994049
          ],
          [
           0.009907742879523885,
           0.41457268595695496
          ],
          [
           0.01012941042965854,
           0.4569757878780365
          ],
          [
           0.008485142167186134,
           0.47009986639022827
          ],
          [
           0.026200431671828107,
           0.5251401662826538
          ],
          [
           0.017283604939829948,
           0.5075736045837402
          ],
          [
           0.01010528105412032,
           0.54917973279953
          ],
          [
           0.005290096912755647,
           0.5252442359924316
          ],
          [
           0.0035337214041150132,
           0.5484369993209839
          ],
          [
           0.002957632114303001,
           0.5557861328125
          ],
          [
           0.0029298233008576173,
           0.581071138381958
          ],
          [
           0.002421796720548019,
           0.5984053015708923
          ],
          [
           0.0021800335105994716,
           0.6150500774383545
          ],
          [
           0.002864786854856303,
           0.6467300653457642
          ],
          [
           0.002253036065634615,
           0.6868743896484375
          ],
          [
           0.003729859377049891,
           0.7854543924331665
          ],
          [
           0.0026995752994484505,
           0.7141909599304199
          ],
          [
           0.0011490481888704362,
           0.6952683329582214
          ],
          [
           0.6042870720755122,
           0.3428954482078552
          ],
          [
           0.32159527508030555,
           0.3168446719646454
          ],
          [
           0.27653081883967506,
           0.32535094022750854
          ],
          [
           0.27341994549472537,
           0.30300411581993103
          ],
          [
           0.26143919489717854,
           0.45525306463241577
          ],
          [
           0.27917720154693015,
           0.34328946471214294
          ],
          [
           0.21338723637004997,
           0.3490212559700012
          ],
          [
           0.20608736202354078,
           0.5227646827697754
          ],
          [
           0.2251008968661611,
           0.3672451078891754
          ],
          [
           0.1911307159969434,
           0.31093302369117737
          ],
          [
           0.12038214786063585,
           0.23710927367210388
          ],
          [
           0.08990686058084515,
           0.23046550154685974
          ],
          [
           0.07519021035895018,
           0.23054613173007965
          ],
          [
           0.0694572175901473,
           0.2817421853542328
          ],
          [
           0.08422927499027529,
           0.269387423992157
          ],
          [
           0.07857437070787726,
           0.3116147220134735
          ],
          [
           0.07612035637252491,
           0.2846296429634094
          ],
          [
           0.08441258340964945,
           0.314687043428421
          ],
          [
           0.07054993327395921,
           0.264310747385025
          ],
          [
           0.06482548407173651,
           0.29856473207473755
          ],
          [
           0.04315812949694182,
           0.27727586030960083
          ],
          [
           0.03294844195256874,
           0.3228395879268646
          ],
          [
           0.026048412894985898,
           0.3704661726951599
          ],
          [
           0.02547191350435278,
           0.40890398621559143
          ],
          [
           0.023671957717928602,
           0.37266358733177185
          ],
          [
           0.02954460848724865,
           0.4122143089771271
          ],
          [
           0.02522825804710786,
           0.43085870146751404
          ],
          [
           0.019606158731830206,
           0.49677130579948425
          ],
          [
           0.0347687654484139,
           0.4998069703578949
          ],
          [
           0.02546795410778877,
           0.4527096450328827
          ],
          [
           0.015142905207945303,
           0.506898820400238
          ],
          [
           0.011195085204868676,
           0.5384581089019775
          ],
          [
           0.009465306339511259,
           0.5793682932853699
          ],
          [
           0.00837781935960008,
           0.6038547158241272
          ],
          [
           0.008519051421452255,
           0.6485754251480103
          ],
          [
           0.007469322956524182,
           0.6906781196594238
          ],
          [
           0.008976326762750635,
           0.7145199179649353
          ],
          [
           0.011397584023374357,
           0.7003700733184814
          ],
          [
           0.011995461873274167,
           0.7526142597198486
          ],
          [
           0.006952150861438562,
           0.7925738096237183
          ],
          [
           0.0050521952702423,
           0.8109675049781799
          ],
          [
           0.00443394844294586,
           0.8122745752334595
          ]
         ],
         "hovertemplate": "number_units=%{x}<br>number_layers=%{y}<br>mean_test_acc=%{marker.size}<br>mean_train_loss=%{customdata[0]}<br>mean_test_loss=%{customdata[1]}<br>epoch=%{marker.color}<extra></extra>",
         "legendgroup": "",
         "marker": {
          "color": [
           0,
           1,
           2,
           3,
           4,
           5,
           6,
           7,
           8,
           9,
           10,
           11,
           12,
           13,
           14,
           15,
           16,
           17,
           18,
           19,
           20,
           21,
           22,
           23,
           24,
           25,
           26,
           27,
           28,
           29,
           30,
           31,
           32,
           33,
           0,
           1,
           2,
           3,
           4,
           5,
           6,
           7,
           8,
           9,
           10,
           11,
           12,
           13,
           14,
           15,
           16,
           17,
           18,
           19,
           20,
           21,
           22,
           23,
           24,
           25,
           26,
           27,
           28,
           29,
           30,
           31,
           32,
           0,
           1,
           2,
           3,
           4,
           5,
           6,
           7,
           8,
           9,
           10,
           11,
           12,
           13,
           14,
           15,
           16,
           17,
           18,
           19,
           20,
           21,
           22,
           23,
           24,
           25,
           26,
           27,
           28,
           29,
           30,
           31,
           32,
           33,
           34,
           35,
           36,
           37,
           38,
           39,
           40,
           0,
           1,
           2,
           3,
           4,
           5,
           6,
           7,
           8,
           9,
           10,
           11,
           12,
           13,
           14,
           15,
           16,
           17,
           18,
           19,
           20,
           21,
           22,
           23,
           24,
           25,
           26,
           27,
           28,
           29,
           30,
           31,
           32,
           0,
           1,
           2,
           3,
           4,
           5,
           6,
           7,
           8,
           9,
           10,
           11,
           12,
           13,
           14,
           15,
           16,
           17,
           18,
           19,
           20,
           21,
           22,
           23,
           24,
           25,
           26,
           27,
           28,
           29,
           30,
           31,
           32,
           33,
           34,
           35,
           36,
           37,
           38,
           39,
           0,
           1,
           2,
           3,
           4,
           5,
           6,
           7,
           8,
           9,
           10,
           11,
           12,
           13,
           14,
           15,
           16,
           17,
           18,
           19,
           20,
           21,
           22,
           23,
           24,
           25,
           26,
           27,
           28,
           29,
           30,
           31,
           32,
           33,
           34,
           35,
           36,
           37,
           38,
           39,
           40,
           41,
           0,
           1,
           2,
           3,
           4,
           5,
           6,
           7,
           8,
           9,
           10,
           11,
           12,
           13,
           14,
           15,
           16,
           17,
           18,
           19,
           20,
           21,
           22,
           23,
           24,
           25,
           26,
           27,
           28,
           29,
           30,
           31,
           32,
           0,
           1,
           2,
           3,
           4,
           5,
           6,
           7,
           8,
           9,
           10,
           11,
           12,
           13,
           14,
           15,
           16,
           17,
           18,
           19,
           20,
           21,
           22,
           23,
           24,
           25,
           26,
           27,
           28,
           29,
           30,
           31,
           32,
           33,
           34,
           35,
           36,
           37,
           38,
           39,
           40,
           0,
           1,
           2,
           3,
           4,
           5,
           6,
           7,
           8,
           9,
           10,
           11,
           12,
           13,
           14,
           15,
           16,
           17,
           18,
           19,
           20,
           21,
           22,
           23,
           24,
           25,
           26,
           27,
           28,
           29,
           30,
           31,
           32,
           33,
           34,
           35,
           36,
           37,
           38,
           39,
           40,
           0,
           1,
           2,
           3,
           4,
           5,
           6,
           7,
           8,
           9,
           10,
           11,
           12,
           13,
           14,
           15,
           16,
           17,
           18,
           19,
           20,
           21,
           22,
           23,
           24,
           25,
           26,
           27,
           28,
           29,
           30,
           31,
           32,
           33,
           34,
           35,
           36,
           37,
           38,
           39,
           40,
           0,
           1,
           2,
           3,
           4,
           5,
           6,
           7,
           8,
           9,
           10,
           11,
           12,
           13,
           14,
           15,
           16,
           17,
           18,
           19,
           20,
           21,
           22,
           23,
           24,
           25,
           26,
           27,
           28,
           29,
           30,
           31,
           32,
           33,
           34,
           35,
           0,
           1,
           2,
           3,
           4,
           5,
           6,
           7,
           8,
           9,
           10,
           11,
           12,
           13,
           14,
           15,
           16,
           17,
           18,
           19,
           20,
           21,
           22,
           23,
           24,
           25,
           26,
           27,
           28,
           29,
           30,
           31,
           32,
           33,
           34,
           35,
           36,
           37,
           38,
           39,
           40,
           41,
           42,
           43,
           0,
           1,
           2,
           3,
           4,
           5,
           6,
           7,
           8,
           9,
           10,
           11,
           12,
           13,
           14,
           15,
           16,
           17,
           18,
           19,
           20,
           21,
           22,
           23,
           24,
           25,
           26,
           27,
           28,
           29,
           30,
           31,
           0,
           1,
           2,
           3,
           4,
           5,
           6,
           7,
           8,
           9,
           10,
           11,
           12,
           13,
           14,
           15,
           16,
           17,
           18,
           19,
           20,
           21,
           22,
           23,
           24,
           25,
           26,
           27,
           28,
           29,
           30,
           31,
           32,
           33,
           34,
           35,
           36,
           37,
           38,
           39,
           40,
           0,
           1,
           2,
           3,
           4,
           5,
           6,
           7,
           8,
           9,
           10,
           11,
           12,
           13,
           14,
           15,
           16,
           17,
           18,
           19,
           20,
           21,
           22,
           23,
           24,
           25,
           26,
           27,
           28,
           29,
           30,
           31,
           32,
           33,
           34,
           35,
           36,
           37,
           38,
           39,
           40,
           41
          ],
          "coloraxis": "coloraxis",
          "size": [
           89.70000457763672,
           92.3499984741211,
           93.2750015258789,
           93.55000305175781,
           93.55000305175781,
           93.6500015258789,
           94.17499542236328,
           93.67500305175781,
           94.6500015258789,
           93.5999984741211,
           95.17499542236328,
           95.375,
           94.9000015258789,
           95.20000457763672,
           94.6500015258789,
           95.0250015258789,
           95.375,
           94.4749984741211,
           95.0,
           94.27499389648438,
           95.3499984741211,
           95.32499694824219,
           95.6500015258789,
           95.625,
           95.42499542236328,
           95.85000610351562,
           95.25,
           95.5999984741211,
           94.9749984741211,
           95.625,
           95.7750015258789,
           95.85000610351562,
           95.80000305175781,
           95.7750015258789,
           90.44999694824219,
           90.4000015258789,
           93.5250015258789,
           93.4000015258789,
           93.875,
           93.22500610351562,
           92.2249984741211,
           94.57499694824219,
           93.92500305175781,
           93.7249984741211,
           95.1500015258789,
           94.8499984741211,
           95.25,
           94.67499542236328,
           95.3499984741211,
           94.95000457763672,
           95.30000305175781,
           94.3499984741211,
           94.6500015258789,
           94.875,
           95.32499694824219,
           95.25,
           95.4749984741211,
           95.4749984741211,
           94.875,
           95.2249984741211,
           95.25,
           95.0250015258789,
           94.9749984741211,
           95.32499694824219,
           95.3499984741211,
           95.4749984741211,
           95.57499694824219,
           92.17500305175781,
           93.17500305175781,
           94.17499542236328,
           92.6500015258789,
           93.92500305175781,
           93.875,
           93.42500305175781,
           93.375,
           94.27499389648438,
           94.80000305175781,
           95.55000305175781,
           95.375,
           95.0,
           95.07499694824219,
           95.32499694824219,
           95.4749984741211,
           95.2249984741211,
           95.0999984741211,
           95.4749984741211,
           95.30000305175781,
           95.82499694824219,
           95.57499694824219,
           95.32499694824219,
           95.9749984741211,
           96.0250015258789,
           95.625,
           95.92499542236328,
           95.70000457763672,
           95.55000305175781,
           95.57499694824219,
           95.67499542236328,
           95.625,
           95.7249984741211,
           95.75,
           95.70000457763672,
           95.75,
           95.67499542236328,
           95.6500015258789,
           95.5,
           95.57499694824219,
           95.375,
           90.42500305175781,
           93.32500457763672,
           94.625,
           94.55000305175781,
           93.7750015258789,
           92.625,
           94.25,
           94.77499389648438,
           94.07499694824219,
           94.9000015258789,
           95.70000457763672,
           95.85000610351562,
           95.55000305175781,
           95.55000305175781,
           95.7249984741211,
           95.57499694824219,
           95.7750015258789,
           95.7249984741211,
           95.20000457763672,
           95.57499694824219,
           95.9749984741211,
           96.1500015258789,
           96.0250015258789,
           96.17499542236328,
           96.25,
           96.10000610351562,
           96.0250015258789,
           96.20000457763672,
           96.30000305175781,
           95.375,
           95.67499542236328,
           96.05000305175781,
           96.0250015258789,
           91.94999694824219,
           92.94999694824219,
           92.75,
           93.22500610351562,
           92.8499984741211,
           94.05000305175781,
           93.5999984741211,
           92.1500015258789,
           94.45000457763672,
           95.5999984741211,
           95.45000457763672,
           95.70000457763672,
           95.57499694824219,
           95.875,
           94.5999984741211,
           95.625,
           95.92499542236328,
           95.5,
           95.625,
           95.45000457763672,
           96.05000305175781,
           96.35000610351562,
           96.2249984741211,
           96.4000015258789,
           96.30000305175781,
           96.17499542236328,
           96.05000305175781,
           96.0,
           95.95000457763672,
           96.5,
           96.30000305175781,
           96.375,
           96.4000015258789,
           96.30000305175781,
           96.4749984741211,
           96.4000015258789,
           96.4749984741211,
           96.32499694824219,
           96.4749984741211,
           96.5250015258789,
           90.9749984741211,
           92.9000015258789,
           92.44999694824219,
           91.8499984741211,
           93.4749984741211,
           92.25,
           93.4000015258789,
           92.17500305175781,
           93.5999984741211,
           94.0,
           95.45000457763672,
           95.5250015258789,
           95.57499694824219,
           95.07499694824219,
           94.82499694824219,
           95.25,
           94.9749984741211,
           95.0250015258789,
           95.42499542236328,
           94.75,
           95.2750015258789,
           95.55000305175781,
           95.20000457763672,
           95.4749984741211,
           95.4000015258789,
           95.375,
           95.25,
           95.0999984741211,
           95.125,
           95.4000015258789,
           95.375,
           95.125,
           95.4000015258789,
           95.30000305175781,
           95.30000305175781,
           95.25,
           95.3499984741211,
           95.17499542236328,
           95.3499984741211,
           95.30000305175781,
           95.2750015258789,
           95.25,
           92.375,
           92.8499984741211,
           94.4749984741211,
           94.0999984741211,
           95.17499542236328,
           93.04999542236328,
           95.0250015258789,
           94.55000305175781,
           93.67500305175781,
           95.2750015258789,
           95.92499542236328,
           96.20000457763672,
           96.20000457763672,
           96.125,
           96.05000305175781,
           96.5,
           96.0250015258789,
           96.07499694824219,
           95.95000457763672,
           96.25,
           96.6500015258789,
           96.80000305175781,
           96.9000015258789,
           96.82499694824219,
           96.55000305175781,
           96.875,
           96.32499694824219,
           96.42500305175781,
           96.4749984741211,
           96.57499694824219,
           96.57499694824219,
           96.6500015258789,
           96.67500305175781,
           91.54999542236328,
           91.14999389648438,
           93.9000015258789,
           93.3499984741211,
           94.7249984741211,
           91.75,
           94.32499694824219,
           94.3499984741211,
           94.95000457763672,
           94.80000305175781,
           95.5,
           95.82499694824219,
           95.9749984741211,
           95.5999984741211,
           96.35000610351562,
           95.5,
           96.0250015258789,
           95.75,
           95.9000015258789,
           95.4749984741211,
           96.05000305175781,
           95.95000457763672,
           96.20000457763672,
           96.125,
           96.2750015258789,
           95.92499542236328,
           95.75,
           96.17499542236328,
           95.75,
           95.9749984741211,
           96.125,
           95.95000457763672,
           95.95000457763672,
           96.0,
           96.1500015258789,
           96.125,
           96.07499694824219,
           96.4000015258789,
           96.32499694824219,
           95.9000015258789,
           96.07499694824219,
           88.55000305175781,
           91.7750015258789,
           90.7249984741211,
           92.25,
           94.70000457763672,
           93.80000305175781,
           92.82500457763672,
           94.07499694824219,
           93.0250015258789,
           94.0,
           95.5999984741211,
           95.32499694824219,
           95.2750015258789,
           94.77499389648438,
           95.75,
           95.4749984741211,
           94.77499389648438,
           95.05000305175781,
           95.30000305175781,
           95.45000457763672,
           95.5999984741211,
           96.10000610351562,
           95.95000457763672,
           95.7249984741211,
           95.82499694824219,
           95.80000305175781,
           95.9749984741211,
           95.9000015258789,
           95.67499542236328,
           95.7750015258789,
           96.07499694824219,
           95.9749984741211,
           95.92499542236328,
           96.0,
           95.92499542236328,
           95.95000457763672,
           95.7750015258789,
           95.9000015258789,
           96.0,
           95.70000457763672,
           95.9749984741211,
           90.25,
           92.54999542236328,
           93.4749984741211,
           93.80000305175781,
           94.70000457763672,
           92.97500610351562,
           94.0,
           93.44999694824219,
           94.45000457763672,
           94.1500015258789,
           95.6500015258789,
           95.5999984741211,
           95.75,
           95.4749984741211,
           95.7750015258789,
           95.7249984741211,
           95.4000015258789,
           95.5250015258789,
           95.30000305175781,
           95.125,
           96.05000305175781,
           95.9000015258789,
           95.85000610351562,
           95.9000015258789,
           95.9000015258789,
           95.57499694824219,
           95.875,
           95.6500015258789,
           95.875,
           95.75,
           95.9000015258789,
           95.95000457763672,
           95.95000457763672,
           95.9749984741211,
           95.85000610351562,
           96.0250015258789,
           96.0250015258789,
           95.7750015258789,
           96.1500015258789,
           96.20000457763672,
           96.2249984741211,
           90.92500305175781,
           92.625,
           92.29999542236328,
           94.1500015258789,
           92.44999694824219,
           94.92499542236328,
           93.9000015258789,
           94.92499542236328,
           90.82499694824219,
           94.9000015258789,
           95.57499694824219,
           95.5,
           95.375,
           95.55000305175781,
           95.17499542236328,
           95.6500015258789,
           95.0250015258789,
           95.17499542236328,
           94.875,
           95.5999984741211,
           95.9000015258789,
           95.75,
           95.95000457763672,
           95.82499694824219,
           96.07499694824219,
           95.82499694824219,
           95.80000305175781,
           95.5,
           95.875,
           95.95000457763672,
           96.0250015258789,
           95.9000015258789,
           95.95000457763672,
           95.92499542236328,
           95.95000457763672,
           96.0,
           84.57499694824219,
           91.42500305175781,
           90.5,
           92.67500305175781,
           94.375,
           90.7750015258789,
           90.07499694824219,
           89.5250015258789,
           93.8499984741211,
           94.19999694824219,
           95.32499694824219,
           95.32499694824219,
           95.45000457763672,
           95.375,
           95.7249984741211,
           95.45000457763672,
           94.9749984741211,
           95.07499694824219,
           95.17499542236328,
           95.25,
           95.85000610351562,
           95.9749984741211,
           95.85000610351562,
           95.92499542236328,
           96.375,
           96.20000457763672,
           96.0250015258789,
           95.95000457763672,
           95.80000305175781,
           95.85000610351562,
           96.2750015258789,
           96.125,
           96.10000610351562,
           96.0250015258789,
           95.9749984741211,
           95.9749984741211,
           95.9000015258789,
           95.75,
           95.7249984741211,
           95.9000015258789,
           95.7249984741211,
           95.7249984741211,
           95.7249984741211,
           95.80000305175781,
           92.5,
           94.0250015258789,
           93.5,
           94.0,
           91.92500305175781,
           94.5,
           93.67500305175781,
           93.5999984741211,
           94.9000015258789,
           95.7750015258789,
           96.0250015258789,
           95.82499694824219,
           96.4000015258789,
           96.2249984741211,
           96.32499694824219,
           95.25,
           96.125,
           95.82499694824219,
           96.05000305175781,
           95.7249984741211,
           96.32499694824219,
           96.30000305175781,
           96.4000015258789,
           96.35000610351562,
           96.32499694824219,
           96.30000305175781,
           96.35000610351562,
           96.0,
           96.375,
           95.9749984741211,
           96.17499542236328,
           96.17499542236328,
           89.2249984741211,
           91.5,
           90.69999694824219,
           91.4749984741211,
           93.19999694824219,
           94.0,
           93.82499694824219,
           92.25,
           93.9749984741211,
           93.875,
           95.75,
           95.57499694824219,
           95.9000015258789,
           95.57499694824219,
           95.95000457763672,
           95.92499542236328,
           95.7750015258789,
           95.55000305175781,
           95.70000457763672,
           95.32499694824219,
           96.125,
           96.35000610351562,
           96.05000305175781,
           96.20000457763672,
           96.4000015258789,
           96.20000457763672,
           96.42500305175781,
           95.9749984741211,
           95.95000457763672,
           95.9000015258789,
           96.25,
           96.20000457763672,
           96.10000610351562,
           96.2249984741211,
           96.17499542236328,
           96.25,
           96.1500015258789,
           96.10000610351562,
           95.92499542236328,
           96.20000457763672,
           96.4000015258789,
           91.0250015258789,
           92.0,
           93.0,
           93.4000015258789,
           91.7249984741211,
           91.9000015258789,
           92.75,
           92.0250015258789,
           91.9749984741211,
           93.82499694824219,
           95.3499984741211,
           94.92499542236328,
           95.42499542236328,
           94.92499542236328,
           95.80000305175781,
           94.625,
           95.6500015258789,
           95.07499694824219,
           95.80000305175781,
           95.42499542236328,
           95.875,
           95.9000015258789,
           95.7249984741211,
           95.92499542236328,
           95.9000015258789,
           95.4749984741211,
           95.95000457763672,
           95.75,
           95.625,
           96.07499694824219,
           96.0,
           96.0,
           95.875,
           95.92499542236328,
           95.875,
           95.9000015258789,
           95.92499542236328,
           95.57499694824219,
           95.7750015258789,
           95.80000305175781,
           95.82499694824219,
           95.85000610351562
          ],
          "sizemode": "area",
          "sizeref": 0.24225000381469727,
          "symbol": "circle",
          "line": {
           "color": "darkslategrey",
           "width": 0.2
          }
         },
         "mode": "markers",
         "name": "",
         "scene": "scene",
         "showlegend": false,
         "x": [
          50,
          50,
          50,
          50,
          50,
          50,
          50,
          50,
          50,
          50,
          50,
          50,
          50,
          50,
          50,
          50,
          50,
          50,
          50,
          50,
          50,
          50,
          50,
          50,
          50,
          50,
          50,
          50,
          50,
          50,
          50,
          50,
          50,
          50,
          50,
          50,
          50,
          50,
          50,
          50,
          50,
          50,
          50,
          50,
          50,
          50,
          50,
          50,
          50,
          50,
          50,
          50,
          50,
          50,
          50,
          50,
          50,
          50,
          50,
          50,
          50,
          50,
          50,
          50,
          50,
          50,
          50,
          50,
          50,
          50,
          50,
          50,
          50,
          50,
          50,
          50,
          50,
          50,
          50,
          50,
          50,
          50,
          50,
          50,
          50,
          50,
          50,
          50,
          50,
          50,
          50,
          50,
          50,
          50,
          50,
          50,
          50,
          50,
          50,
          50,
          50,
          50,
          50,
          50,
          50,
          50,
          50,
          50,
          100,
          100,
          100,
          100,
          100,
          100,
          100,
          100,
          100,
          100,
          100,
          100,
          100,
          100,
          100,
          100,
          100,
          100,
          100,
          100,
          100,
          100,
          100,
          100,
          100,
          100,
          100,
          100,
          100,
          100,
          100,
          100,
          100,
          100,
          100,
          100,
          100,
          100,
          100,
          100,
          100,
          100,
          100,
          100,
          100,
          100,
          100,
          100,
          100,
          100,
          100,
          100,
          100,
          100,
          100,
          100,
          100,
          100,
          100,
          100,
          100,
          100,
          100,
          100,
          100,
          100,
          100,
          100,
          100,
          100,
          100,
          100,
          100,
          100,
          100,
          100,
          100,
          100,
          100,
          100,
          100,
          100,
          100,
          100,
          100,
          100,
          100,
          100,
          100,
          100,
          100,
          100,
          100,
          100,
          100,
          100,
          100,
          100,
          100,
          100,
          100,
          100,
          100,
          100,
          100,
          100,
          100,
          100,
          100,
          100,
          100,
          100,
          100,
          100,
          100,
          150,
          150,
          150,
          150,
          150,
          150,
          150,
          150,
          150,
          150,
          150,
          150,
          150,
          150,
          150,
          150,
          150,
          150,
          150,
          150,
          150,
          150,
          150,
          150,
          150,
          150,
          150,
          150,
          150,
          150,
          150,
          150,
          150,
          150,
          150,
          150,
          150,
          150,
          150,
          150,
          150,
          150,
          150,
          150,
          150,
          150,
          150,
          150,
          150,
          150,
          150,
          150,
          150,
          150,
          150,
          150,
          150,
          150,
          150,
          150,
          150,
          150,
          150,
          150,
          150,
          150,
          150,
          150,
          150,
          150,
          150,
          150,
          150,
          150,
          150,
          150,
          150,
          150,
          150,
          150,
          150,
          150,
          150,
          150,
          150,
          150,
          150,
          150,
          150,
          150,
          150,
          150,
          150,
          150,
          150,
          150,
          150,
          150,
          150,
          150,
          150,
          150,
          150,
          150,
          150,
          150,
          150,
          150,
          150,
          150,
          150,
          150,
          150,
          150,
          150,
          200,
          200,
          200,
          200,
          200,
          200,
          200,
          200,
          200,
          200,
          200,
          200,
          200,
          200,
          200,
          200,
          200,
          200,
          200,
          200,
          200,
          200,
          200,
          200,
          200,
          200,
          200,
          200,
          200,
          200,
          200,
          200,
          200,
          200,
          200,
          200,
          200,
          200,
          200,
          200,
          200,
          200,
          200,
          200,
          200,
          200,
          200,
          200,
          200,
          200,
          200,
          200,
          200,
          200,
          200,
          200,
          200,
          200,
          200,
          200,
          200,
          200,
          200,
          200,
          200,
          200,
          200,
          200,
          200,
          200,
          200,
          200,
          200,
          200,
          200,
          200,
          200,
          200,
          200,
          200,
          200,
          200,
          200,
          200,
          200,
          200,
          200,
          200,
          200,
          200,
          200,
          200,
          200,
          200,
          200,
          200,
          200,
          200,
          200,
          200,
          200,
          200,
          200,
          200,
          200,
          200,
          200,
          200,
          200,
          200,
          200,
          200,
          200,
          200,
          200,
          200,
          200,
          200,
          200,
          200,
          200,
          250,
          250,
          250,
          250,
          250,
          250,
          250,
          250,
          250,
          250,
          250,
          250,
          250,
          250,
          250,
          250,
          250,
          250,
          250,
          250,
          250,
          250,
          250,
          250,
          250,
          250,
          250,
          250,
          250,
          250,
          250,
          250,
          250,
          250,
          250,
          250,
          250,
          250,
          250,
          250,
          250,
          250,
          250,
          250,
          250,
          250,
          250,
          250,
          250,
          250,
          250,
          250,
          250,
          250,
          250,
          250,
          250,
          250,
          250,
          250,
          250,
          250,
          250,
          250,
          250,
          250,
          250,
          250,
          250,
          250,
          250,
          250,
          250,
          250,
          250,
          250,
          250,
          250,
          250,
          250,
          250,
          250,
          250,
          250,
          250,
          250,
          250,
          250,
          250,
          250,
          250,
          250,
          250,
          250,
          250,
          250,
          250,
          250,
          250,
          250,
          250,
          250,
          250,
          250,
          250,
          250,
          250,
          250,
          250,
          250,
          250,
          250,
          250,
          250,
          250
         ],
         "y": [
          1,
          1,
          1,
          1,
          1,
          1,
          1,
          1,
          1,
          1,
          1,
          1,
          1,
          1,
          1,
          1,
          1,
          1,
          1,
          1,
          1,
          1,
          1,
          1,
          1,
          1,
          1,
          1,
          1,
          1,
          1,
          1,
          1,
          1,
          2,
          2,
          2,
          2,
          2,
          2,
          2,
          2,
          2,
          2,
          2,
          2,
          2,
          2,
          2,
          2,
          2,
          2,
          2,
          2,
          2,
          2,
          2,
          2,
          2,
          2,
          2,
          2,
          2,
          2,
          2,
          2,
          2,
          3,
          3,
          3,
          3,
          3,
          3,
          3,
          3,
          3,
          3,
          3,
          3,
          3,
          3,
          3,
          3,
          3,
          3,
          3,
          3,
          3,
          3,
          3,
          3,
          3,
          3,
          3,
          3,
          3,
          3,
          3,
          3,
          3,
          3,
          3,
          3,
          3,
          3,
          3,
          3,
          3,
          1,
          1,
          1,
          1,
          1,
          1,
          1,
          1,
          1,
          1,
          1,
          1,
          1,
          1,
          1,
          1,
          1,
          1,
          1,
          1,
          1,
          1,
          1,
          1,
          1,
          1,
          1,
          1,
          1,
          1,
          1,
          1,
          1,
          2,
          2,
          2,
          2,
          2,
          2,
          2,
          2,
          2,
          2,
          2,
          2,
          2,
          2,
          2,
          2,
          2,
          2,
          2,
          2,
          2,
          2,
          2,
          2,
          2,
          2,
          2,
          2,
          2,
          2,
          2,
          2,
          2,
          2,
          2,
          2,
          2,
          2,
          2,
          2,
          3,
          3,
          3,
          3,
          3,
          3,
          3,
          3,
          3,
          3,
          3,
          3,
          3,
          3,
          3,
          3,
          3,
          3,
          3,
          3,
          3,
          3,
          3,
          3,
          3,
          3,
          3,
          3,
          3,
          3,
          3,
          3,
          3,
          3,
          3,
          3,
          3,
          3,
          3,
          3,
          3,
          3,
          1,
          1,
          1,
          1,
          1,
          1,
          1,
          1,
          1,
          1,
          1,
          1,
          1,
          1,
          1,
          1,
          1,
          1,
          1,
          1,
          1,
          1,
          1,
          1,
          1,
          1,
          1,
          1,
          1,
          1,
          1,
          1,
          1,
          2,
          2,
          2,
          2,
          2,
          2,
          2,
          2,
          2,
          2,
          2,
          2,
          2,
          2,
          2,
          2,
          2,
          2,
          2,
          2,
          2,
          2,
          2,
          2,
          2,
          2,
          2,
          2,
          2,
          2,
          2,
          2,
          2,
          2,
          2,
          2,
          2,
          2,
          2,
          2,
          2,
          3,
          3,
          3,
          3,
          3,
          3,
          3,
          3,
          3,
          3,
          3,
          3,
          3,
          3,
          3,
          3,
          3,
          3,
          3,
          3,
          3,
          3,
          3,
          3,
          3,
          3,
          3,
          3,
          3,
          3,
          3,
          3,
          3,
          3,
          3,
          3,
          3,
          3,
          3,
          3,
          3,
          1,
          1,
          1,
          1,
          1,
          1,
          1,
          1,
          1,
          1,
          1,
          1,
          1,
          1,
          1,
          1,
          1,
          1,
          1,
          1,
          1,
          1,
          1,
          1,
          1,
          1,
          1,
          1,
          1,
          1,
          1,
          1,
          1,
          1,
          1,
          1,
          1,
          1,
          1,
          1,
          1,
          2,
          2,
          2,
          2,
          2,
          2,
          2,
          2,
          2,
          2,
          2,
          2,
          2,
          2,
          2,
          2,
          2,
          2,
          2,
          2,
          2,
          2,
          2,
          2,
          2,
          2,
          2,
          2,
          2,
          2,
          2,
          2,
          2,
          2,
          2,
          2,
          3,
          3,
          3,
          3,
          3,
          3,
          3,
          3,
          3,
          3,
          3,
          3,
          3,
          3,
          3,
          3,
          3,
          3,
          3,
          3,
          3,
          3,
          3,
          3,
          3,
          3,
          3,
          3,
          3,
          3,
          3,
          3,
          3,
          3,
          3,
          3,
          3,
          3,
          3,
          3,
          3,
          3,
          3,
          3,
          1,
          1,
          1,
          1,
          1,
          1,
          1,
          1,
          1,
          1,
          1,
          1,
          1,
          1,
          1,
          1,
          1,
          1,
          1,
          1,
          1,
          1,
          1,
          1,
          1,
          1,
          1,
          1,
          1,
          1,
          1,
          1,
          2,
          2,
          2,
          2,
          2,
          2,
          2,
          2,
          2,
          2,
          2,
          2,
          2,
          2,
          2,
          2,
          2,
          2,
          2,
          2,
          2,
          2,
          2,
          2,
          2,
          2,
          2,
          2,
          2,
          2,
          2,
          2,
          2,
          2,
          2,
          2,
          2,
          2,
          2,
          2,
          2,
          3,
          3,
          3,
          3,
          3,
          3,
          3,
          3,
          3,
          3,
          3,
          3,
          3,
          3,
          3,
          3,
          3,
          3,
          3,
          3,
          3,
          3,
          3,
          3,
          3,
          3,
          3,
          3,
          3,
          3,
          3,
          3,
          3,
          3,
          3,
          3,
          3,
          3,
          3,
          3,
          3,
          3
         ],
         "z": [
          89.70000457763672,
          92.3499984741211,
          93.2750015258789,
          93.55000305175781,
          93.55000305175781,
          93.6500015258789,
          94.17499542236328,
          93.67500305175781,
          94.6500015258789,
          93.5999984741211,
          95.17499542236328,
          95.375,
          94.9000015258789,
          95.20000457763672,
          94.6500015258789,
          95.0250015258789,
          95.375,
          94.4749984741211,
          95.0,
          94.27499389648438,
          95.3499984741211,
          95.32499694824219,
          95.6500015258789,
          95.625,
          95.42499542236328,
          95.85000610351562,
          95.25,
          95.5999984741211,
          94.9749984741211,
          95.625,
          95.7750015258789,
          95.85000610351562,
          95.80000305175781,
          95.7750015258789,
          90.44999694824219,
          90.4000015258789,
          93.5250015258789,
          93.4000015258789,
          93.875,
          93.22500610351562,
          92.2249984741211,
          94.57499694824219,
          93.92500305175781,
          93.7249984741211,
          95.1500015258789,
          94.8499984741211,
          95.25,
          94.67499542236328,
          95.3499984741211,
          94.95000457763672,
          95.30000305175781,
          94.3499984741211,
          94.6500015258789,
          94.875,
          95.32499694824219,
          95.25,
          95.4749984741211,
          95.4749984741211,
          94.875,
          95.2249984741211,
          95.25,
          95.0250015258789,
          94.9749984741211,
          95.32499694824219,
          95.3499984741211,
          95.4749984741211,
          95.57499694824219,
          92.17500305175781,
          93.17500305175781,
          94.17499542236328,
          92.6500015258789,
          93.92500305175781,
          93.875,
          93.42500305175781,
          93.375,
          94.27499389648438,
          94.80000305175781,
          95.55000305175781,
          95.375,
          95.0,
          95.07499694824219,
          95.32499694824219,
          95.4749984741211,
          95.2249984741211,
          95.0999984741211,
          95.4749984741211,
          95.30000305175781,
          95.82499694824219,
          95.57499694824219,
          95.32499694824219,
          95.9749984741211,
          96.0250015258789,
          95.625,
          95.92499542236328,
          95.70000457763672,
          95.55000305175781,
          95.57499694824219,
          95.67499542236328,
          95.625,
          95.7249984741211,
          95.75,
          95.70000457763672,
          95.75,
          95.67499542236328,
          95.6500015258789,
          95.5,
          95.57499694824219,
          95.375,
          90.42500305175781,
          93.32500457763672,
          94.625,
          94.55000305175781,
          93.7750015258789,
          92.625,
          94.25,
          94.77499389648438,
          94.07499694824219,
          94.9000015258789,
          95.70000457763672,
          95.85000610351562,
          95.55000305175781,
          95.55000305175781,
          95.7249984741211,
          95.57499694824219,
          95.7750015258789,
          95.7249984741211,
          95.20000457763672,
          95.57499694824219,
          95.9749984741211,
          96.1500015258789,
          96.0250015258789,
          96.17499542236328,
          96.25,
          96.10000610351562,
          96.0250015258789,
          96.20000457763672,
          96.30000305175781,
          95.375,
          95.67499542236328,
          96.05000305175781,
          96.0250015258789,
          91.94999694824219,
          92.94999694824219,
          92.75,
          93.22500610351562,
          92.8499984741211,
          94.05000305175781,
          93.5999984741211,
          92.1500015258789,
          94.45000457763672,
          95.5999984741211,
          95.45000457763672,
          95.70000457763672,
          95.57499694824219,
          95.875,
          94.5999984741211,
          95.625,
          95.92499542236328,
          95.5,
          95.625,
          95.45000457763672,
          96.05000305175781,
          96.35000610351562,
          96.2249984741211,
          96.4000015258789,
          96.30000305175781,
          96.17499542236328,
          96.05000305175781,
          96.0,
          95.95000457763672,
          96.5,
          96.30000305175781,
          96.375,
          96.4000015258789,
          96.30000305175781,
          96.4749984741211,
          96.4000015258789,
          96.4749984741211,
          96.32499694824219,
          96.4749984741211,
          96.5250015258789,
          90.9749984741211,
          92.9000015258789,
          92.44999694824219,
          91.8499984741211,
          93.4749984741211,
          92.25,
          93.4000015258789,
          92.17500305175781,
          93.5999984741211,
          94.0,
          95.45000457763672,
          95.5250015258789,
          95.57499694824219,
          95.07499694824219,
          94.82499694824219,
          95.25,
          94.9749984741211,
          95.0250015258789,
          95.42499542236328,
          94.75,
          95.2750015258789,
          95.55000305175781,
          95.20000457763672,
          95.4749984741211,
          95.4000015258789,
          95.375,
          95.25,
          95.0999984741211,
          95.125,
          95.4000015258789,
          95.375,
          95.125,
          95.4000015258789,
          95.30000305175781,
          95.30000305175781,
          95.25,
          95.3499984741211,
          95.17499542236328,
          95.3499984741211,
          95.30000305175781,
          95.2750015258789,
          95.25,
          92.375,
          92.8499984741211,
          94.4749984741211,
          94.0999984741211,
          95.17499542236328,
          93.04999542236328,
          95.0250015258789,
          94.55000305175781,
          93.67500305175781,
          95.2750015258789,
          95.92499542236328,
          96.20000457763672,
          96.20000457763672,
          96.125,
          96.05000305175781,
          96.5,
          96.0250015258789,
          96.07499694824219,
          95.95000457763672,
          96.25,
          96.6500015258789,
          96.80000305175781,
          96.9000015258789,
          96.82499694824219,
          96.55000305175781,
          96.875,
          96.32499694824219,
          96.42500305175781,
          96.4749984741211,
          96.57499694824219,
          96.57499694824219,
          96.6500015258789,
          96.67500305175781,
          91.54999542236328,
          91.14999389648438,
          93.9000015258789,
          93.3499984741211,
          94.7249984741211,
          91.75,
          94.32499694824219,
          94.3499984741211,
          94.95000457763672,
          94.80000305175781,
          95.5,
          95.82499694824219,
          95.9749984741211,
          95.5999984741211,
          96.35000610351562,
          95.5,
          96.0250015258789,
          95.75,
          95.9000015258789,
          95.4749984741211,
          96.05000305175781,
          95.95000457763672,
          96.20000457763672,
          96.125,
          96.2750015258789,
          95.92499542236328,
          95.75,
          96.17499542236328,
          95.75,
          95.9749984741211,
          96.125,
          95.95000457763672,
          95.95000457763672,
          96.0,
          96.1500015258789,
          96.125,
          96.07499694824219,
          96.4000015258789,
          96.32499694824219,
          95.9000015258789,
          96.07499694824219,
          88.55000305175781,
          91.7750015258789,
          90.7249984741211,
          92.25,
          94.70000457763672,
          93.80000305175781,
          92.82500457763672,
          94.07499694824219,
          93.0250015258789,
          94.0,
          95.5999984741211,
          95.32499694824219,
          95.2750015258789,
          94.77499389648438,
          95.75,
          95.4749984741211,
          94.77499389648438,
          95.05000305175781,
          95.30000305175781,
          95.45000457763672,
          95.5999984741211,
          96.10000610351562,
          95.95000457763672,
          95.7249984741211,
          95.82499694824219,
          95.80000305175781,
          95.9749984741211,
          95.9000015258789,
          95.67499542236328,
          95.7750015258789,
          96.07499694824219,
          95.9749984741211,
          95.92499542236328,
          96.0,
          95.92499542236328,
          95.95000457763672,
          95.7750015258789,
          95.9000015258789,
          96.0,
          95.70000457763672,
          95.9749984741211,
          90.25,
          92.54999542236328,
          93.4749984741211,
          93.80000305175781,
          94.70000457763672,
          92.97500610351562,
          94.0,
          93.44999694824219,
          94.45000457763672,
          94.1500015258789,
          95.6500015258789,
          95.5999984741211,
          95.75,
          95.4749984741211,
          95.7750015258789,
          95.7249984741211,
          95.4000015258789,
          95.5250015258789,
          95.30000305175781,
          95.125,
          96.05000305175781,
          95.9000015258789,
          95.85000610351562,
          95.9000015258789,
          95.9000015258789,
          95.57499694824219,
          95.875,
          95.6500015258789,
          95.875,
          95.75,
          95.9000015258789,
          95.95000457763672,
          95.95000457763672,
          95.9749984741211,
          95.85000610351562,
          96.0250015258789,
          96.0250015258789,
          95.7750015258789,
          96.1500015258789,
          96.20000457763672,
          96.2249984741211,
          90.92500305175781,
          92.625,
          92.29999542236328,
          94.1500015258789,
          92.44999694824219,
          94.92499542236328,
          93.9000015258789,
          94.92499542236328,
          90.82499694824219,
          94.9000015258789,
          95.57499694824219,
          95.5,
          95.375,
          95.55000305175781,
          95.17499542236328,
          95.6500015258789,
          95.0250015258789,
          95.17499542236328,
          94.875,
          95.5999984741211,
          95.9000015258789,
          95.75,
          95.95000457763672,
          95.82499694824219,
          96.07499694824219,
          95.82499694824219,
          95.80000305175781,
          95.5,
          95.875,
          95.95000457763672,
          96.0250015258789,
          95.9000015258789,
          95.95000457763672,
          95.92499542236328,
          95.95000457763672,
          96.0,
          84.57499694824219,
          91.42500305175781,
          90.5,
          92.67500305175781,
          94.375,
          90.7750015258789,
          90.07499694824219,
          89.5250015258789,
          93.8499984741211,
          94.19999694824219,
          95.32499694824219,
          95.32499694824219,
          95.45000457763672,
          95.375,
          95.7249984741211,
          95.45000457763672,
          94.9749984741211,
          95.07499694824219,
          95.17499542236328,
          95.25,
          95.85000610351562,
          95.9749984741211,
          95.85000610351562,
          95.92499542236328,
          96.375,
          96.20000457763672,
          96.0250015258789,
          95.95000457763672,
          95.80000305175781,
          95.85000610351562,
          96.2750015258789,
          96.125,
          96.10000610351562,
          96.0250015258789,
          95.9749984741211,
          95.9749984741211,
          95.9000015258789,
          95.75,
          95.7249984741211,
          95.9000015258789,
          95.7249984741211,
          95.7249984741211,
          95.7249984741211,
          95.80000305175781,
          92.5,
          94.0250015258789,
          93.5,
          94.0,
          91.92500305175781,
          94.5,
          93.67500305175781,
          93.5999984741211,
          94.9000015258789,
          95.7750015258789,
          96.0250015258789,
          95.82499694824219,
          96.4000015258789,
          96.2249984741211,
          96.32499694824219,
          95.25,
          96.125,
          95.82499694824219,
          96.05000305175781,
          95.7249984741211,
          96.32499694824219,
          96.30000305175781,
          96.4000015258789,
          96.35000610351562,
          96.32499694824219,
          96.30000305175781,
          96.35000610351562,
          96.0,
          96.375,
          95.9749984741211,
          96.17499542236328,
          96.17499542236328,
          89.2249984741211,
          91.5,
          90.69999694824219,
          91.4749984741211,
          93.19999694824219,
          94.0,
          93.82499694824219,
          92.25,
          93.9749984741211,
          93.875,
          95.75,
          95.57499694824219,
          95.9000015258789,
          95.57499694824219,
          95.95000457763672,
          95.92499542236328,
          95.7750015258789,
          95.55000305175781,
          95.70000457763672,
          95.32499694824219,
          96.125,
          96.35000610351562,
          96.05000305175781,
          96.20000457763672,
          96.4000015258789,
          96.20000457763672,
          96.42500305175781,
          95.9749984741211,
          95.95000457763672,
          95.9000015258789,
          96.25,
          96.20000457763672,
          96.10000610351562,
          96.2249984741211,
          96.17499542236328,
          96.25,
          96.1500015258789,
          96.10000610351562,
          95.92499542236328,
          96.20000457763672,
          96.4000015258789,
          91.0250015258789,
          92.0,
          93.0,
          93.4000015258789,
          91.7249984741211,
          91.9000015258789,
          92.75,
          92.0250015258789,
          91.9749984741211,
          93.82499694824219,
          95.3499984741211,
          94.92499542236328,
          95.42499542236328,
          94.92499542236328,
          95.80000305175781,
          94.625,
          95.6500015258789,
          95.07499694824219,
          95.80000305175781,
          95.42499542236328,
          95.875,
          95.9000015258789,
          95.7249984741211,
          95.92499542236328,
          95.9000015258789,
          95.4749984741211,
          95.95000457763672,
          95.75,
          95.625,
          96.07499694824219,
          96.0,
          96.0,
          95.875,
          95.92499542236328,
          95.875,
          95.9000015258789,
          95.92499542236328,
          95.57499694824219,
          95.7750015258789,
          95.80000305175781,
          95.82499694824219,
          95.85000610351562
         ],
         "type": "scatter3d"
        }
       ],
       "layout": {
        "template": {
         "data": {
          "barpolar": [
           {
            "marker": {
             "line": {
              "color": "rgb(237,237,237)",
              "width": 0.5
             },
             "pattern": {
              "fillmode": "overlay",
              "size": 10,
              "solidity": 0.2
             }
            },
            "type": "barpolar"
           }
          ],
          "bar": [
           {
            "error_x": {
             "color": "rgb(51,51,51)"
            },
            "error_y": {
             "color": "rgb(51,51,51)"
            },
            "marker": {
             "line": {
              "color": "rgb(237,237,237)",
              "width": 0.5
             },
             "pattern": {
              "fillmode": "overlay",
              "size": 10,
              "solidity": 0.2
             }
            },
            "type": "bar"
           }
          ],
          "carpet": [
           {
            "aaxis": {
             "endlinecolor": "rgb(51,51,51)",
             "gridcolor": "white",
             "linecolor": "white",
             "minorgridcolor": "white",
             "startlinecolor": "rgb(51,51,51)"
            },
            "baxis": {
             "endlinecolor": "rgb(51,51,51)",
             "gridcolor": "white",
             "linecolor": "white",
             "minorgridcolor": "white",
             "startlinecolor": "rgb(51,51,51)"
            },
            "type": "carpet"
           }
          ],
          "choropleth": [
           {
            "colorbar": {
             "outlinewidth": 0,
             "tickcolor": "rgb(237,237,237)",
             "ticklen": 6,
             "ticks": "inside"
            },
            "type": "choropleth"
           }
          ],
          "contourcarpet": [
           {
            "colorbar": {
             "outlinewidth": 0,
             "tickcolor": "rgb(237,237,237)",
             "ticklen": 6,
             "ticks": "inside"
            },
            "type": "contourcarpet"
           }
          ],
          "contour": [
           {
            "colorbar": {
             "outlinewidth": 0,
             "tickcolor": "rgb(237,237,237)",
             "ticklen": 6,
             "ticks": "inside"
            },
            "colorscale": [
             [
              0,
              "rgb(20,44,66)"
             ],
             [
              1,
              "rgb(90,179,244)"
             ]
            ],
            "type": "contour"
           }
          ],
          "heatmapgl": [
           {
            "colorbar": {
             "outlinewidth": 0,
             "tickcolor": "rgb(237,237,237)",
             "ticklen": 6,
             "ticks": "inside"
            },
            "colorscale": [
             [
              0,
              "rgb(20,44,66)"
             ],
             [
              1,
              "rgb(90,179,244)"
             ]
            ],
            "type": "heatmapgl"
           }
          ],
          "heatmap": [
           {
            "colorbar": {
             "outlinewidth": 0,
             "tickcolor": "rgb(237,237,237)",
             "ticklen": 6,
             "ticks": "inside"
            },
            "colorscale": [
             [
              0,
              "rgb(20,44,66)"
             ],
             [
              1,
              "rgb(90,179,244)"
             ]
            ],
            "type": "heatmap"
           }
          ],
          "histogram2dcontour": [
           {
            "colorbar": {
             "outlinewidth": 0,
             "tickcolor": "rgb(237,237,237)",
             "ticklen": 6,
             "ticks": "inside"
            },
            "colorscale": [
             [
              0,
              "rgb(20,44,66)"
             ],
             [
              1,
              "rgb(90,179,244)"
             ]
            ],
            "type": "histogram2dcontour"
           }
          ],
          "histogram2d": [
           {
            "colorbar": {
             "outlinewidth": 0,
             "tickcolor": "rgb(237,237,237)",
             "ticklen": 6,
             "ticks": "inside"
            },
            "colorscale": [
             [
              0,
              "rgb(20,44,66)"
             ],
             [
              1,
              "rgb(90,179,244)"
             ]
            ],
            "type": "histogram2d"
           }
          ],
          "histogram": [
           {
            "marker": {
             "pattern": {
              "fillmode": "overlay",
              "size": 10,
              "solidity": 0.2
             }
            },
            "type": "histogram"
           }
          ],
          "mesh3d": [
           {
            "colorbar": {
             "outlinewidth": 0,
             "tickcolor": "rgb(237,237,237)",
             "ticklen": 6,
             "ticks": "inside"
            },
            "type": "mesh3d"
           }
          ],
          "parcoords": [
           {
            "line": {
             "colorbar": {
              "outlinewidth": 0,
              "tickcolor": "rgb(237,237,237)",
              "ticklen": 6,
              "ticks": "inside"
             }
            },
            "type": "parcoords"
           }
          ],
          "pie": [
           {
            "automargin": true,
            "type": "pie"
           }
          ],
          "scatter3d": [
           {
            "line": {
             "colorbar": {
              "outlinewidth": 0,
              "tickcolor": "rgb(237,237,237)",
              "ticklen": 6,
              "ticks": "inside"
             }
            },
            "marker": {
             "colorbar": {
              "outlinewidth": 0,
              "tickcolor": "rgb(237,237,237)",
              "ticklen": 6,
              "ticks": "inside"
             }
            },
            "type": "scatter3d"
           }
          ],
          "scattercarpet": [
           {
            "marker": {
             "colorbar": {
              "outlinewidth": 0,
              "tickcolor": "rgb(237,237,237)",
              "ticklen": 6,
              "ticks": "inside"
             }
            },
            "type": "scattercarpet"
           }
          ],
          "scattergeo": [
           {
            "marker": {
             "colorbar": {
              "outlinewidth": 0,
              "tickcolor": "rgb(237,237,237)",
              "ticklen": 6,
              "ticks": "inside"
             }
            },
            "type": "scattergeo"
           }
          ],
          "scattergl": [
           {
            "marker": {
             "colorbar": {
              "outlinewidth": 0,
              "tickcolor": "rgb(237,237,237)",
              "ticklen": 6,
              "ticks": "inside"
             }
            },
            "type": "scattergl"
           }
          ],
          "scattermapbox": [
           {
            "marker": {
             "colorbar": {
              "outlinewidth": 0,
              "tickcolor": "rgb(237,237,237)",
              "ticklen": 6,
              "ticks": "inside"
             }
            },
            "type": "scattermapbox"
           }
          ],
          "scatterpolargl": [
           {
            "marker": {
             "colorbar": {
              "outlinewidth": 0,
              "tickcolor": "rgb(237,237,237)",
              "ticklen": 6,
              "ticks": "inside"
             }
            },
            "type": "scatterpolargl"
           }
          ],
          "scatterpolar": [
           {
            "marker": {
             "colorbar": {
              "outlinewidth": 0,
              "tickcolor": "rgb(237,237,237)",
              "ticklen": 6,
              "ticks": "inside"
             }
            },
            "type": "scatterpolar"
           }
          ],
          "scatter": [
           {
            "fillpattern": {
             "fillmode": "overlay",
             "size": 10,
             "solidity": 0.2
            },
            "type": "scatter"
           }
          ],
          "scatterternary": [
           {
            "marker": {
             "colorbar": {
              "outlinewidth": 0,
              "tickcolor": "rgb(237,237,237)",
              "ticklen": 6,
              "ticks": "inside"
             }
            },
            "type": "scatterternary"
           }
          ],
          "surface": [
           {
            "colorbar": {
             "outlinewidth": 0,
             "tickcolor": "rgb(237,237,237)",
             "ticklen": 6,
             "ticks": "inside"
            },
            "colorscale": [
             [
              0,
              "rgb(20,44,66)"
             ],
             [
              1,
              "rgb(90,179,244)"
             ]
            ],
            "type": "surface"
           }
          ],
          "table": [
           {
            "cells": {
             "fill": {
              "color": "rgb(237,237,237)"
             },
             "line": {
              "color": "white"
             }
            },
            "header": {
             "fill": {
              "color": "rgb(217,217,217)"
             },
             "line": {
              "color": "white"
             }
            },
            "type": "table"
           }
          ]
         },
         "layout": {
          "annotationdefaults": {
           "arrowhead": 0,
           "arrowwidth": 1
          },
          "autotypenumbers": "strict",
          "coloraxis": {
           "colorbar": {
            "outlinewidth": 0,
            "tickcolor": "rgb(237,237,237)",
            "ticklen": 6,
            "ticks": "inside"
           }
          },
          "colorscale": {
           "sequential": [
            [
             0,
             "rgb(20,44,66)"
            ],
            [
             1,
             "rgb(90,179,244)"
            ]
           ],
           "sequentialminus": [
            [
             0,
             "rgb(20,44,66)"
            ],
            [
             1,
             "rgb(90,179,244)"
            ]
           ]
          },
          "colorway": [
           "#F8766D",
           "#A3A500",
           "#00BF7D",
           "#00B0F6",
           "#E76BF3"
          ],
          "font": {
           "color": "rgb(51,51,51)"
          },
          "geo": {
           "bgcolor": "white",
           "lakecolor": "white",
           "landcolor": "rgb(237,237,237)",
           "showlakes": true,
           "showland": true,
           "subunitcolor": "white"
          },
          "hoverlabel": {
           "align": "left"
          },
          "hovermode": "closest",
          "paper_bgcolor": "white",
          "plot_bgcolor": "rgb(237,237,237)",
          "polar": {
           "angularaxis": {
            "gridcolor": "white",
            "linecolor": "white",
            "showgrid": true,
            "tickcolor": "rgb(51,51,51)",
            "ticks": "outside"
           },
           "bgcolor": "rgb(237,237,237)",
           "radialaxis": {
            "gridcolor": "white",
            "linecolor": "white",
            "showgrid": true,
            "tickcolor": "rgb(51,51,51)",
            "ticks": "outside"
           }
          },
          "scene": {
           "xaxis": {
            "backgroundcolor": "rgb(237,237,237)",
            "gridcolor": "white",
            "gridwidth": 2,
            "linecolor": "white",
            "showbackground": true,
            "showgrid": true,
            "tickcolor": "rgb(51,51,51)",
            "ticks": "outside",
            "zerolinecolor": "white"
           },
           "yaxis": {
            "backgroundcolor": "rgb(237,237,237)",
            "gridcolor": "white",
            "gridwidth": 2,
            "linecolor": "white",
            "showbackground": true,
            "showgrid": true,
            "tickcolor": "rgb(51,51,51)",
            "ticks": "outside",
            "zerolinecolor": "white"
           },
           "zaxis": {
            "backgroundcolor": "rgb(237,237,237)",
            "gridcolor": "white",
            "gridwidth": 2,
            "linecolor": "white",
            "showbackground": true,
            "showgrid": true,
            "tickcolor": "rgb(51,51,51)",
            "ticks": "outside",
            "zerolinecolor": "white"
           }
          },
          "shapedefaults": {
           "fillcolor": "black",
           "line": {
            "width": 0
           },
           "opacity": 0.3
          },
          "ternary": {
           "aaxis": {
            "gridcolor": "white",
            "linecolor": "white",
            "showgrid": true,
            "tickcolor": "rgb(51,51,51)",
            "ticks": "outside"
           },
           "baxis": {
            "gridcolor": "white",
            "linecolor": "white",
            "showgrid": true,
            "tickcolor": "rgb(51,51,51)",
            "ticks": "outside"
           },
           "bgcolor": "rgb(237,237,237)",
           "caxis": {
            "gridcolor": "white",
            "linecolor": "white",
            "showgrid": true,
            "tickcolor": "rgb(51,51,51)",
            "ticks": "outside"
           }
          },
          "xaxis": {
           "automargin": true,
           "gridcolor": "white",
           "linecolor": "white",
           "showgrid": true,
           "tickcolor": "rgb(51,51,51)",
           "ticks": "outside",
           "title": {
            "standoff": 15
           },
           "zerolinecolor": "white"
          },
          "yaxis": {
           "automargin": true,
           "gridcolor": "white",
           "linecolor": "white",
           "showgrid": true,
           "tickcolor": "rgb(51,51,51)",
           "ticks": "outside",
           "title": {
            "standoff": 15
           },
           "zerolinecolor": "white"
          }
         }
        },
        "scene": {
         "domain": {
          "x": [
           0.0,
           1.0
          ],
          "y": [
           0.0,
           1.0
          ]
         },
         "xaxis": {
          "title": {
           "text": "number_units"
          }
         },
         "yaxis": {
          "title": {
           "text": "number_layers"
          }
         },
         "zaxis": {
          "title": {
           "text": "mean_test_acc"
          }
         }
        },
        "coloraxis": {
         "colorbar": {
          "title": {
           "text": "epoch"
          }
         },
         "colorscale": [
          [
           0.0,
           "#f0f921"
          ],
          [
           0.1111111111111111,
           "#fdca26"
          ],
          [
           0.2222222222222222,
           "#fb9f3a"
          ],
          [
           0.3333333333333333,
           "#ed7953"
          ],
          [
           0.4444444444444444,
           "#d8576b"
          ],
          [
           0.5555555555555556,
           "#bd3786"
          ],
          [
           0.6666666666666666,
           "#9c179e"
          ],
          [
           0.7777777777777778,
           "#7201a8"
          ],
          [
           0.8888888888888888,
           "#46039f"
          ],
          [
           1.0,
           "#0d0887"
          ]
         ]
        },
        "legend": {
         "tracegroupgap": 0,
         "itemsizing": "constant"
        },
        "margin": {
         "t": 60
        },
        "width": 600,
        "height": 600
       },
       "config": {
        "plotlyServerURL": "https://plot.ly"
       }
      },
      "text/html": [
       "<div>                            <div id=\"cb5d68e4-5222-41df-9d1b-b0c69260be56\" class=\"plotly-graph-div\" style=\"height:600px; width:600px;\"></div>            <script type=\"text/javascript\">                require([\"plotly\"], function(Plotly) {                    window.PLOTLYENV=window.PLOTLYENV || {};                                    if (document.getElementById(\"cb5d68e4-5222-41df-9d1b-b0c69260be56\")) {                    Plotly.newPlot(                        \"cb5d68e4-5222-41df-9d1b-b0c69260be56\",                        [{\"customdata\":[[0.4099022825873776,0.34796521067619324],[0.23136565521292254,0.2584322988986969],[0.1833769573068586,0.24803774058818817],[0.1696158922272725,0.2346731722354889],[0.1611117139600501,0.25994694232940674],[0.13395742266737523,0.2757766544818878],[0.127264400069949,0.24203965067863464],[0.14066144994999896,0.24927589297294617],[0.1178913241313427,0.2368130087852478],[0.10161944503887277,0.3296201229095459],[0.05877816318723431,0.24690094590187073],[0.03725648116115136,0.25393182039260864],[0.029120461730356935,0.29080888628959656],[0.031616154503811236,0.2790330648422241],[0.039229815445614734,0.3427964746952057],[0.04412981432889369,0.349867582321167],[0.03597608811632616,0.2919917702674866],[0.02127044926396214,0.3918205499649048],[0.026369978606285604,0.35361477732658386],[0.0324665132257143,0.4445732831954956],[0.0163988829655127,0.3459121882915497],[0.0059570016866562405,0.35166507959365845],[0.0032805206246167545,0.3569651246070862],[0.002609084259874214,0.37559667229652405],[0.0022924785944715537,0.3765471279621124],[0.0025143231712201094,0.3878806531429291],[0.012335046660185606,0.4413960874080658],[0.006492294171251892,0.45808881521224976],[0.008934465694662518,0.47994011640548706],[0.005615009824756296,0.44183963537216187],[0.0009518690036833677,0.4405885636806488],[0.00040171256835752845,0.444437175989151],[0.00034966870923912037,0.44971808791160583],[0.0002905654572192003,0.45579448342323303],[0.45846182099340077,0.34025660157203674],[0.2532913595128185,0.36430108547210693],[0.2057710816469678,0.23196440935134888],[0.17554776652535062,0.26025477051734924],[0.16618593392066866,0.244480699300766],[0.1496423163711614,0.2953525483608246],[0.15040061934263202,0.3339257836341858],[0.13742332057600454,0.24655203521251678],[0.12185103931561773,0.27560940384864807],[0.12686604719159575,0.24581313133239746],[0.06329620763444144,0.23998701572418213],[0.04715138022489365,0.27832871675491333],[0.04176537363786017,0.2593066692352295],[0.0430697221391439,0.2974022626876831],[0.05090541831357145,0.27078473567962646],[0.039530263045439835,0.2815309166908264],[0.037665311602597035,0.2975841760635376],[0.04198629834556818,0.3410594165325165],[0.04028376819739728,0.3111674189567566],[0.038061912379338946,0.3041374981403351],[0.02057097116327015,0.30884411931037903],[0.0125143497660512,0.30888083577156067],[0.012343868689120496,0.3235330879688263],[0.00955947761996791,0.3587706387042999],[0.00761135217653645,0.40232226252555847],[0.008553105117248305,0.4116235375404358],[0.015392220548988375,0.38960981369018555],[0.011379288456733489,0.44961175322532654],[0.005826591602654933,0.44270554184913635],[0.009034180759617252,0.4220608174800873],[0.002686340936937078,0.4473128616809845],[0.0016902378382436742,0.4453170597553253],[0.0013065912718095037,0.4662904143333435],[0.5099454705709804,0.2895001471042633],[0.2716085163154126,0.2472822219133377],[0.22306479292246092,0.2154369056224823],[0.20439600171698613,0.2768439054489136],[0.19301000965538925,0.2515704929828644],[0.15727068830462534,0.28063130378723145],[0.15305841943270804,0.2513997256755829],[0.15534064820561677,0.33989593386650085],[0.14584166717554353,0.24090120196342468],[0.13454581425573775,0.2604958713054657],[0.08248985694314354,0.21409548819065094],[0.06168712416592552,0.22065095603466034],[0.057519406694433756,0.2404026836156845],[0.057380253857181214,0.251823753118515],[0.05987416179659831,0.2639756202697754],[0.05629763666355555,0.2421347051858902],[0.05204209137101172,0.26228389143943787],[0.04580445251521067,0.2660645544528961],[0.049029083052780566,0.2640436291694641],[0.044078258004862994,0.32935333251953125],[0.02731934651419278,0.2886393368244171],[0.01802180747568205,0.3160676062107086],[0.01718821521518441,0.3397844731807709],[0.015691744328354823,0.32860618829727173],[0.012310222784110952,0.3866446316242218],[0.016017109038309302,0.4395287334918976],[0.017357921829980662,0.41713428497314453],[0.019303449471714588,0.412052184343338],[0.0109428204368133,0.49568384885787964],[0.016489618590557788,0.5079811811447144],[0.010616780409378008,0.49260205030441284],[0.005021276336296117,0.5228679180145264],[0.004232010090709558,0.5388380289077759],[0.0037105558453850653,0.5542048215866089],[0.0035840500812863397,0.6044091582298279],[0.00393533919138724,0.5846540331840515],[0.0036320630219018823,0.621429979801178],[0.004505027950299598,0.6620262861251831],[0.005824782320633055,0.6758548617362976],[0.005147290212827175,0.7183796167373657],[0.003696806386489389,0.7249898314476013],[0.3934480925622529,0.33049267530441284],[0.21209701497055486,0.2548511028289795],[0.18811014462318384,0.21127037703990936],[0.15239030119922398,0.23975108563899994],[0.1477771503107766,0.27949437499046326],[0.14967127732764826,0.34103789925575256],[0.13354500325674631,0.27692151069641113],[0.12359288034479218,0.2769986391067505],[0.11761651832998604,0.2577219605445862],[0.09824609054837032,0.2450258582830429],[0.04924153981337149,0.24758800864219666],[0.026105339709187856,0.2553289234638214],[0.029580490684328175,0.28589320182800293],[0.017177841996571633,0.3147773742675781],[0.020924055627898463,0.32705825567245483],[0.041029459654464966,0.32072433829307556],[0.04111563457899124,0.30147773027420044],[0.022531625434872565,0.316817969083786],[0.02215046608099746,0.3687841594219208],[0.024022331192116716,0.3952699303627014],[0.010496193892628413,0.33468255400657654],[0.003597094602622257,0.3414924740791321],[0.002129021115842822,0.34854137897491455],[0.0013917202794712317,0.3465637266635895],[0.000920641087621473,0.3512756824493408],[0.0007118384203211115,0.3607821464538574],[0.0006216813844255276,0.3670131266117096],[0.0005931919809591561,0.3757074475288391],[0.0004537365306695675,0.380165159702301],[0.012047540677516334,0.5164752006530762],[0.008862796538739762,0.43281957507133484],[0.0009570826151684121,0.41854989528656006],[0.0004811464005080785,0.41774576902389526],[0.4628572595494245,0.2850273847579956],[0.247379896929021,0.2622372806072235],[0.22031754548082833,0.3042076528072357],[0.19198420455885531,0.29574325680732727],[0.16162809319661198,0.2891524136066437],[0.16476980394471244,0.24861374497413635],[0.14626202489147225,0.29186126589775085],[0.1409683554285259,0.34734711050987244],[0.1302467732059089,0.2910664975643158],[0.11475538165424717,0.217384934425354],[0.0673377385713891,0.2760884761810303],[0.04061629229085373,0.25682127475738525],[0.03759072404255186,0.2715696692466736],[0.040086359536272986,0.27709779143333435],[0.039812710670094564,0.39100944995880127],[0.06102990760303807,0.3295265734195709],[0.04125511484968597,0.2904362678527832],[0.03408996143891873,0.3438870906829834],[0.03564495342406858,0.3839731514453888],[0.037413706613868995,0.36756572127342224],[0.017659708981124757,0.31539463996887207],[0.009371447803062115,0.3564103841781616],[0.008267268037623366,0.36253154277801514],[0.005978632393212413,0.3694995641708374],[0.005324911292716638,0.41485893726348877],[0.004051633932877805,0.44873306155204773],[0.013075834804942251,0.45395204424858093],[0.00717664824114594,0.492394357919693],[0.013786811487683803,0.4379311203956604],[0.011390657603659246,0.43876340985298157],[0.004581943280130115,0.448600172996521],[0.001989681389184427,0.4503498673439026],[0.001418539901306752,0.4604376554489136],[0.001245620705151529,0.4692983329296112],[0.0012416058704767222,0.48756834864616394],[0.0011073539096007417,0.49935707449913025],[0.0009748190442489211,0.5118886232376099],[0.00263883746511963,0.5269926190376282],[0.0011205534587814116,0.5439704060554504],[0.0006856501632401034,0.5647724866867065],[0.5915512320602346,0.35348814725875854],[0.3061729064696508,0.27734264731407166],[0.25193521487554593,0.2964675724506378],[0.23452170230709538,0.31108561158180237],[0.19973854607863273,0.2755110263824463],[0.20190365702326304,0.3626004159450531],[0.16818640013526331,0.31563788652420044],[0.17267329082334365,0.3335581421852112],[0.1513221842917578,0.2915720045566559],[0.14378960339467037,0.2993035912513733],[0.0883425397652375,0.2301645576953888],[0.07140215708535039,0.21642713248729706],[0.056801794924916056,0.24532441794872284],[0.05533724139211641,0.29798659682273865],[0.061335959100112386,0.2909967601299286],[0.061836089338237046,0.25979867577552795],[0.05399290344311629,0.2842344045639038],[0.05170303624645804,0.27185365557670593],[0.055846738648603615,0.2695119380950928],[0.05443446793458839,0.3127034604549408],[0.027631265323318353,0.2753954529762268],[0.018568665705644236,0.31355100870132446],[0.016490896057331207,0.3297242820262909],[0.013574810384639107,0.3465554118156433],[0.01384295336595741,0.3904072642326355],[0.0181402412686137,0.3848755955696106],[0.01710843452615089,0.3820311427116394],[0.01819652801035646,0.45801594853401184],[0.01392337591046707,0.4498767554759979],[0.01945711894445124,0.45340844988822937],[0.008601125776468153,0.47881996631622314],[0.0047373923213150145,0.5193300247192383],[0.0048678081379017035,0.5407165884971619],[0.004078904248053674,0.5658417344093323],[0.0032035602223674246,0.5824204683303833],[0.003694789123469452,0.6057177782058716],[0.004674276623359559,0.6041260361671448],[0.005177184312186567,0.6021736264228821],[0.005715366378853838,0.6237453818321228],[0.004999128778392787,0.6324723362922668],[0.0030669570135360355,0.6529211401939392],[0.0016184435662592775,0.6589561104774475],[0.39601230233131285,0.2719476819038391],[0.22273464376603314,0.26332393288612366],[0.1982486355235102,0.21002186834812164],[0.15791164609796754,0.2575609087944031],[0.15098901322462716,0.21134796738624573],[0.12408074366687802,0.3231569826602936],[0.12772696841320502,0.2893088161945343],[0.1234078912950321,0.2545887231826782],[0.1275347532593773,0.2559473216533661],[0.09296198110625742,0.2642022371292114],[0.044473352001623355,0.2442256510257721],[0.02743400453482468,0.24292691051959991],[0.020682422408106346,0.28573423624038696],[0.029579990063435466,0.3017483651638031],[0.03278294826690549,0.2874281108379364],[0.028544223851342997,0.29071807861328125],[0.03183528135876058,0.32499179244041443],[0.03458319297970746,0.32102513313293457],[0.021962485421792133,0.30807024240493774],[0.019272634975357972,0.3297889828681946],[0.010214411939421327,0.3097727596759796],[0.003194430307476954,0.2973843514919281],[0.0016717436767057976,0.31333374977111816],[0.0013444095684480395,0.3114599883556366],[0.001565220955340009,0.35084018111228943],[0.0017304828347376399,0.333168625831604],[0.005898380343711934,0.3660307824611664],[0.011839619490809722,0.374327152967453],[0.0061217818672546324,0.3615109920501709],[0.002006339667094339,0.37639644742012024],[0.0012295165731309044,0.37230145931243896],[0.00044034826490070957,0.3698001205921173],[0.00035875233615851866,0.3706713318824768],[0.47578297234429623,0.3366152048110962],[0.2997433559036812,0.34884142875671387],[0.21152210420600412,0.24566715955734253],[0.16859240511633858,0.24382749199867249],[0.17499285169857515,0.25023701786994934],[0.17275097821444882,0.44397255778312683],[0.1676052413792872,0.2637318968772888],[0.14785247420885586,0.3806641697883606],[0.16243645298752102,0.25548601150512695],[0.14915738223348735,0.25261226296424866],[0.07973236278008473,0.2027353048324585],[0.05071072778574564,0.23401832580566406],[0.044686110830748464,0.2348882555961609],[0.04804770871956253,0.2630024552345276],[0.04131419509086228,0.26102563738822937],[0.04670484097323128,0.2816711664199829],[0.0466696264637455,0.275398850440979],[0.03627223263517867,0.3553764522075653],[0.04671872172284597,0.298764705657959],[0.03617745329580714,0.3883977234363556],[0.02545510119964269,0.3336121141910553],[0.013640790753646354,0.3388795554637909],[0.00971827214475699,0.3230687975883484],[0.006821541942543429,0.3691779375076294],[0.006974592595583959,0.35743454098701477],[0.016675194179713,0.3913586437702179],[0.017226179837732218,0.4376475214958191],[0.007479565361588908,0.3902837336063385],[0.009543367428296342,0.47324463725090027],[0.009248687960662612,0.4715777039527893],[0.0060943098181061,0.427645742893219],[0.0032797701990151945,0.42677760124206543],[0.0028243300035397877,0.4382409155368805],[0.0025220046357172466,0.44828492403030396],[0.002450585550417038,0.46682071685791016],[0.002189004184863979,0.48392045497894287],[0.0023468385693265073,0.48301005363464355],[0.002383299397861047,0.49650126695632935],[0.0019687564626412702,0.5220358967781067],[0.0016631078645568066,0.5643777847290039],[0.00145880633770508,0.5559318661689758],[0.5511328747163794,0.49057042598724365],[0.3335171402516012,0.3349425792694092],[0.29763199226979264,0.418788343667984],[0.26516254421627755,0.35040539503097534],[0.19929099874069375,0.26003432273864746],[0.18110229300705058,0.27811408042907715],[0.19033778466392526,0.30312347412109375],[0.15179097896770416,0.32216134667396545],[0.14427270958797223,0.33292093873023987],[0.15843605250866713,0.3174610435962677],[0.09341726319000813,0.2054932564496994],[0.06730110965892931,0.21942253410816193],[0.05935719285639197,0.23487907648086548],[0.0591635146720364,0.26984184980392456],[0.05568313504427661,0.24946138262748718],[0.061093689875987164,0.2572232484817505],[0.04835730168793317,0.30630552768707275],[0.07075521634373534,0.3208578824996948],[0.06321045429237615,0.3273884356021881],[0.05874327785036467,0.29166555404663086],[0.0330261026805873,0.28841015696525574],[0.022161320646132108,0.2959461510181427],[0.019299818275863505,0.30652838945388794],[0.013882156426874275,0.33697834610939026],[0.013761250592517687,0.35679683089256287],[0.022222025939552973,0.3606121242046356],[0.023293257915978877,0.37831994891166687],[0.01727708730351275,0.4276466965675354],[0.020826716980189484,0.43030259013175964],[0.016833910699835693,0.4564626216888428],[0.010158209940580252,0.46418216824531555],[0.005908139823670595,0.4851733446121216],[0.00616449907453042,0.530146062374115],[0.005118832305285857,0.5528524518013],[0.00417733579618874,0.5825423002243042],[0.005248283690489304,0.6091046333312988],[0.005449416958130486,0.5874398350715637],[0.0038043853255646065,0.6464210152626038],[0.0026062573854841987,0.6974205374717712],[0.0023411075723139842,0.8187693357467651],[0.002508158871238444,0.8072252869606018],[0.40186999432876974,0.3472883701324463],[0.25008988180543057,0.2937496602535248],[0.2001892694287032,0.2674197554588318],[0.17782110392530345,0.290455162525177],[0.1475375617344776,0.25449663400650024],[0.1523424205509059,0.2991030216217041],[0.15521992516571156,0.3227933943271637],[0.1359826330805803,0.3570796251296997],[0.11350615922015049,0.28284502029418945],[0.12898181842102643,0.33981943130493164],[0.06327510660026703,0.24558019638061523],[0.036769533360492934,0.28703585267066956],[0.026035223937535323,0.3039003014564514],[0.02740280448046327,0.31199902296066284],[0.025961732812968555,0.3413826823234558],[0.026546495427036194,0.3637297451496124],[0.05684170652021996,0.3889174163341522],[0.044490596212628165,0.3527522087097168],[0.02921331774773054,0.44350960850715637],[0.02639110207156388,0.4706965982913971],[0.012048109289600746,0.41532614827156067],[0.005276773821130427,0.4354519248008728],[0.0038507422585531744,0.44400665163993835],[0.0035146431468030858,0.4391251802444458],[0.004978210495204817,0.4830103814601898],[0.012597217500529886,0.49729132652282715],[0.012400891561224333,0.48759496212005615],[0.007774820852345008,0.5216550230979919],[0.002901899563944387,0.5048950910568237],[0.0018097755952833736,0.5638521909713745],[0.0017247816305956296,0.5300090312957764],[0.0006793819407995252,0.5264936685562134],[0.0004486597650356424,0.5263696312904358],[0.0004079810777474709,0.5259312391281128],[0.0005268705993099636,0.5364891290664673],[0.0004115682288659836,0.5372545123100281],[0.0002507898252231808,0.5359163880348206],[0.000223953711800914,0.5469670295715332],[0.0003324611407909941,0.5380599498748779],[0.00017198605662840176,0.5509664416313171],[0.00014691717832885729,0.5509926080703735],[0.49223038094316074,0.35632196068763733],[0.27519363797557184,0.29338324069976807],[0.2095917162689789,0.30775129795074463],[0.20951325480801936,0.2993224859237671],[0.18566654134496957,0.30004507303237915],[0.14889552898915906,0.24109360575675964],[0.1425554192093535,0.30161619186401367],[0.1687893382751757,0.2733999490737915],[0.12306033912626187,0.3741457164287567],[0.14527399457652493,0.2753394842147827],[0.06818684274151679,0.2412649691104889],[0.04914937796430187,0.2871015965938568],[0.038308481295199294,0.29882243275642395],[0.0373633044827054,0.296447217464447],[0.04956013665420226,0.34379544854164124],[0.04561496022389103,0.328419029712677],[0.05034954400978087,0.40503352880477905],[0.0645670606322774,0.41068369150161743],[0.04326167125919182,0.4004698097705841],[0.034163765179073026,0.3128248453140259],[0.01893602049918474,0.32990628480911255],[0.009101842497006107,0.34094440937042236],[0.0067639480380427995,0.33386731147766113],[0.006220346972010316,0.37472376227378845],[0.005442789458237566,0.3780739903450012],[0.004762769876908926,0.3923335075378418],[0.006810949100346913,0.44106608629226685],[0.01303066319318443,0.48071038722991943],[0.015128234709177594,0.4226272404193878],[0.012885670796742837,0.41598013043403625],[0.005475455796859638,0.4544317424297333],[0.0025298517565204145,0.49540698528289795],[0.0021925408117002493,0.4794449210166931],[0.0017685212866686533,0.4969598948955536],[0.0016188316875669325,0.5025655031204224],[0.0014916348152412893,0.5312453508377075],[0.5955853679017695,0.6285215020179749],[0.36103656971901804,0.34694257378578186],[0.2534459068305522,0.3577270805835724],[0.22030628116834977,0.4740806519985199],[0.23989510236546874,0.24814683198928833],[0.22525177963772314,0.7638813853263855],[0.32658114013605505,0.5514107346534729],[0.28182189912910394,0.40371212363243103],[0.1985939692023242,0.2704389989376068],[0.18490719833893152,0.3232116401195526],[0.11693140782050407,0.24500615894794464],[0.08616628853111208,0.2720537781715393],[0.07953845428497819,0.244243323802948],[0.08078791948190735,0.22799044847488403],[0.06284377836986103,0.2571500837802887],[0.07494080150115154,0.2740525007247925],[0.06922097609128479,0.3145260810852051],[0.0745514419280122,0.3778159022331238],[0.0694541681830128,0.30485275387763977],[0.06833198940569697,0.37125787138938904],[0.04539764857067534,0.33578938245773315],[0.031759014750890616,0.3592812716960907],[0.03209280213334756,0.332726389169693],[0.02452810850888103,0.37335291504859924],[0.022383207072733693,0.3626890480518341],[0.0184707941630702,0.4233425259590149],[0.024296315720555236,0.47635820508003235],[0.027599803230944044,0.4499055743217468],[0.024678686015280872,0.46082544326782227],[0.026969746896323626,0.4863928258419037],[0.017911114384710044,0.4741362929344177],[0.01032534507919204,0.49437588453292847],[0.00908005995002358,0.5047151446342468],[0.008264752284091778,0.5404620170593262],[0.007745317540413307,0.5707035660743713],[0.006849314269131296,0.5812680721282959],[0.006689547970474829,0.6387887001037598],[0.00780140017513476,0.6696077585220337],[0.010826977682478556,0.6502138376235962],[0.006078607223418652,0.7378330230712891],[0.004642624551999046,0.7416929602622986],[0.003264301807007025,0.7940711379051208],[0.002774770675219483,0.8049597144126892],[0.002384967750288159,0.8475772738456726],[0.39602299897235355,0.27326104044914246],[0.22872412740019615,0.23725801706314087],[0.20993641429843907,0.28176140785217285],[0.17726624838005609,0.2596625089645386],[0.14423373758917457,0.39134615659713745],[0.17045972304439563,0.3320067822933197],[0.15046995789619147,0.30944353342056274],[0.13914097395617298,0.37850096821784973],[0.11421568527545381,0.2973175048828125],[0.12981469103727014,0.27100518345832825],[0.05181706100300901,0.28329139947891235],[0.03592138982903434,0.2800808846950531],[0.025586895043424974,0.2860453128814697],[0.02570006318300617,0.2686268091201782],[0.026909707681759924,0.30681753158569336],[0.03109397372023867,0.4498800039291382],[0.041930034410308216,0.36542725563049316],[0.0300154934401866,0.3603472411632538],[0.03684693736228667,0.5140981674194336],[0.03746768500334638,0.4139212667942047],[0.01207729168277442,0.42010384798049927],[0.004131533417519127,0.417637437582016],[0.002959439566310428,0.4388568103313446],[0.0021702420312770766,0.4518803060054779],[0.0019240883862575503,0.4536975622177124],[0.001466222127251732,0.47995564341545105],[0.002713502153693878,0.48906219005584717],[0.013852556822765103,0.5206133127212524],[0.007071301171755733,0.47876909375190735],[0.002052348342029676,0.5238827466964722],[0.0015797603394032806,0.5037521719932556],[0.0007128675163240763,0.5087555646896362],[0.4978276654883831,0.4498080611228943],[0.28185745281072144,0.3473900258541107],[0.27036723870231594,0.4305012822151184],[0.21921929560988052,0.393344521522522],[0.1812754607916192,0.2964091897010803],[0.17753368764737795,0.26497316360473633],[0.1465096771233563,0.3136194050312042],[0.15128119445134341,0.4075748920440674],[0.18671365458193284,0.33122292160987854],[0.1619816954307261,0.38978803157806396],[0.08577860483403023,0.2328338474035263],[0.054452916324694005,0.261252224445343],[0.05404154638737221,0.2403435856103897],[0.04660990661753026,0.30194440484046936],[0.04640762179749395,0.28062140941619873],[0.05107219473829317,0.25339701771736145],[0.053040216089476656,0.24801483750343323],[0.044749078571470535,0.2971537709236145],[0.03964565718742851,0.31582093238830566],[0.04641809820216582,0.38577181100845337],[0.027363773880838955,0.30754122138023376],[0.014789249690753799,0.3186243176460266],[0.011533252861672035,0.3601314425468445],[0.011500337384936827,0.3860732614994049],[0.009907742879523885,0.41457268595695496],[0.01012941042965854,0.4569757878780365],[0.008485142167186134,0.47009986639022827],[0.026200431671828107,0.5251401662826538],[0.017283604939829948,0.5075736045837402],[0.01010528105412032,0.54917973279953],[0.005290096912755647,0.5252442359924316],[0.0035337214041150132,0.5484369993209839],[0.002957632114303001,0.5557861328125],[0.0029298233008576173,0.581071138381958],[0.002421796720548019,0.5984053015708923],[0.0021800335105994716,0.6150500774383545],[0.002864786854856303,0.6467300653457642],[0.002253036065634615,0.6868743896484375],[0.003729859377049891,0.7854543924331665],[0.0026995752994484505,0.7141909599304199],[0.0011490481888704362,0.6952683329582214],[0.6042870720755122,0.3428954482078552],[0.32159527508030555,0.3168446719646454],[0.27653081883967506,0.32535094022750854],[0.27341994549472537,0.30300411581993103],[0.26143919489717854,0.45525306463241577],[0.27917720154693015,0.34328946471214294],[0.21338723637004997,0.3490212559700012],[0.20608736202354078,0.5227646827697754],[0.2251008968661611,0.3672451078891754],[0.1911307159969434,0.31093302369117737],[0.12038214786063585,0.23710927367210388],[0.08990686058084515,0.23046550154685974],[0.07519021035895018,0.23054613173007965],[0.0694572175901473,0.2817421853542328],[0.08422927499027529,0.269387423992157],[0.07857437070787726,0.3116147220134735],[0.07612035637252491,0.2846296429634094],[0.08441258340964945,0.314687043428421],[0.07054993327395921,0.264310747385025],[0.06482548407173651,0.29856473207473755],[0.04315812949694182,0.27727586030960083],[0.03294844195256874,0.3228395879268646],[0.026048412894985898,0.3704661726951599],[0.02547191350435278,0.40890398621559143],[0.023671957717928602,0.37266358733177185],[0.02954460848724865,0.4122143089771271],[0.02522825804710786,0.43085870146751404],[0.019606158731830206,0.49677130579948425],[0.0347687654484139,0.4998069703578949],[0.02546795410778877,0.4527096450328827],[0.015142905207945303,0.506898820400238],[0.011195085204868676,0.5384581089019775],[0.009465306339511259,0.5793682932853699],[0.00837781935960008,0.6038547158241272],[0.008519051421452255,0.6485754251480103],[0.007469322956524182,0.6906781196594238],[0.008976326762750635,0.7145199179649353],[0.011397584023374357,0.7003700733184814],[0.011995461873274167,0.7526142597198486],[0.006952150861438562,0.7925738096237183],[0.0050521952702423,0.8109675049781799],[0.00443394844294586,0.8122745752334595]],\"hovertemplate\":\"number_units=%{x}\\u003cbr\\u003enumber_layers=%{y}\\u003cbr\\u003emean_test_acc=%{marker.size}\\u003cbr\\u003emean_train_loss=%{customdata[0]}\\u003cbr\\u003emean_test_loss=%{customdata[1]}\\u003cbr\\u003eepoch=%{marker.color}\\u003cextra\\u003e\\u003c\\u002fextra\\u003e\",\"legendgroup\":\"\",\"marker\":{\"color\":[0,1,2,3,4,5,6,7,8,9,10,11,12,13,14,15,16,17,18,19,20,21,22,23,24,25,26,27,28,29,30,31,32,33,0,1,2,3,4,5,6,7,8,9,10,11,12,13,14,15,16,17,18,19,20,21,22,23,24,25,26,27,28,29,30,31,32,0,1,2,3,4,5,6,7,8,9,10,11,12,13,14,15,16,17,18,19,20,21,22,23,24,25,26,27,28,29,30,31,32,33,34,35,36,37,38,39,40,0,1,2,3,4,5,6,7,8,9,10,11,12,13,14,15,16,17,18,19,20,21,22,23,24,25,26,27,28,29,30,31,32,0,1,2,3,4,5,6,7,8,9,10,11,12,13,14,15,16,17,18,19,20,21,22,23,24,25,26,27,28,29,30,31,32,33,34,35,36,37,38,39,0,1,2,3,4,5,6,7,8,9,10,11,12,13,14,15,16,17,18,19,20,21,22,23,24,25,26,27,28,29,30,31,32,33,34,35,36,37,38,39,40,41,0,1,2,3,4,5,6,7,8,9,10,11,12,13,14,15,16,17,18,19,20,21,22,23,24,25,26,27,28,29,30,31,32,0,1,2,3,4,5,6,7,8,9,10,11,12,13,14,15,16,17,18,19,20,21,22,23,24,25,26,27,28,29,30,31,32,33,34,35,36,37,38,39,40,0,1,2,3,4,5,6,7,8,9,10,11,12,13,14,15,16,17,18,19,20,21,22,23,24,25,26,27,28,29,30,31,32,33,34,35,36,37,38,39,40,0,1,2,3,4,5,6,7,8,9,10,11,12,13,14,15,16,17,18,19,20,21,22,23,24,25,26,27,28,29,30,31,32,33,34,35,36,37,38,39,40,0,1,2,3,4,5,6,7,8,9,10,11,12,13,14,15,16,17,18,19,20,21,22,23,24,25,26,27,28,29,30,31,32,33,34,35,0,1,2,3,4,5,6,7,8,9,10,11,12,13,14,15,16,17,18,19,20,21,22,23,24,25,26,27,28,29,30,31,32,33,34,35,36,37,38,39,40,41,42,43,0,1,2,3,4,5,6,7,8,9,10,11,12,13,14,15,16,17,18,19,20,21,22,23,24,25,26,27,28,29,30,31,0,1,2,3,4,5,6,7,8,9,10,11,12,13,14,15,16,17,18,19,20,21,22,23,24,25,26,27,28,29,30,31,32,33,34,35,36,37,38,39,40,0,1,2,3,4,5,6,7,8,9,10,11,12,13,14,15,16,17,18,19,20,21,22,23,24,25,26,27,28,29,30,31,32,33,34,35,36,37,38,39,40,41],\"coloraxis\":\"coloraxis\",\"size\":[89.70000457763672,92.3499984741211,93.2750015258789,93.55000305175781,93.55000305175781,93.6500015258789,94.17499542236328,93.67500305175781,94.6500015258789,93.5999984741211,95.17499542236328,95.375,94.9000015258789,95.20000457763672,94.6500015258789,95.0250015258789,95.375,94.4749984741211,95.0,94.27499389648438,95.3499984741211,95.32499694824219,95.6500015258789,95.625,95.42499542236328,95.85000610351562,95.25,95.5999984741211,94.9749984741211,95.625,95.7750015258789,95.85000610351562,95.80000305175781,95.7750015258789,90.44999694824219,90.4000015258789,93.5250015258789,93.4000015258789,93.875,93.22500610351562,92.2249984741211,94.57499694824219,93.92500305175781,93.7249984741211,95.1500015258789,94.8499984741211,95.25,94.67499542236328,95.3499984741211,94.95000457763672,95.30000305175781,94.3499984741211,94.6500015258789,94.875,95.32499694824219,95.25,95.4749984741211,95.4749984741211,94.875,95.2249984741211,95.25,95.0250015258789,94.9749984741211,95.32499694824219,95.3499984741211,95.4749984741211,95.57499694824219,92.17500305175781,93.17500305175781,94.17499542236328,92.6500015258789,93.92500305175781,93.875,93.42500305175781,93.375,94.27499389648438,94.80000305175781,95.55000305175781,95.375,95.0,95.07499694824219,95.32499694824219,95.4749984741211,95.2249984741211,95.0999984741211,95.4749984741211,95.30000305175781,95.82499694824219,95.57499694824219,95.32499694824219,95.9749984741211,96.0250015258789,95.625,95.92499542236328,95.70000457763672,95.55000305175781,95.57499694824219,95.67499542236328,95.625,95.7249984741211,95.75,95.70000457763672,95.75,95.67499542236328,95.6500015258789,95.5,95.57499694824219,95.375,90.42500305175781,93.32500457763672,94.625,94.55000305175781,93.7750015258789,92.625,94.25,94.77499389648438,94.07499694824219,94.9000015258789,95.70000457763672,95.85000610351562,95.55000305175781,95.55000305175781,95.7249984741211,95.57499694824219,95.7750015258789,95.7249984741211,95.20000457763672,95.57499694824219,95.9749984741211,96.1500015258789,96.0250015258789,96.17499542236328,96.25,96.10000610351562,96.0250015258789,96.20000457763672,96.30000305175781,95.375,95.67499542236328,96.05000305175781,96.0250015258789,91.94999694824219,92.94999694824219,92.75,93.22500610351562,92.8499984741211,94.05000305175781,93.5999984741211,92.1500015258789,94.45000457763672,95.5999984741211,95.45000457763672,95.70000457763672,95.57499694824219,95.875,94.5999984741211,95.625,95.92499542236328,95.5,95.625,95.45000457763672,96.05000305175781,96.35000610351562,96.2249984741211,96.4000015258789,96.30000305175781,96.17499542236328,96.05000305175781,96.0,95.95000457763672,96.5,96.30000305175781,96.375,96.4000015258789,96.30000305175781,96.4749984741211,96.4000015258789,96.4749984741211,96.32499694824219,96.4749984741211,96.5250015258789,90.9749984741211,92.9000015258789,92.44999694824219,91.8499984741211,93.4749984741211,92.25,93.4000015258789,92.17500305175781,93.5999984741211,94.0,95.45000457763672,95.5250015258789,95.57499694824219,95.07499694824219,94.82499694824219,95.25,94.9749984741211,95.0250015258789,95.42499542236328,94.75,95.2750015258789,95.55000305175781,95.20000457763672,95.4749984741211,95.4000015258789,95.375,95.25,95.0999984741211,95.125,95.4000015258789,95.375,95.125,95.4000015258789,95.30000305175781,95.30000305175781,95.25,95.3499984741211,95.17499542236328,95.3499984741211,95.30000305175781,95.2750015258789,95.25,92.375,92.8499984741211,94.4749984741211,94.0999984741211,95.17499542236328,93.04999542236328,95.0250015258789,94.55000305175781,93.67500305175781,95.2750015258789,95.92499542236328,96.20000457763672,96.20000457763672,96.125,96.05000305175781,96.5,96.0250015258789,96.07499694824219,95.95000457763672,96.25,96.6500015258789,96.80000305175781,96.9000015258789,96.82499694824219,96.55000305175781,96.875,96.32499694824219,96.42500305175781,96.4749984741211,96.57499694824219,96.57499694824219,96.6500015258789,96.67500305175781,91.54999542236328,91.14999389648438,93.9000015258789,93.3499984741211,94.7249984741211,91.75,94.32499694824219,94.3499984741211,94.95000457763672,94.80000305175781,95.5,95.82499694824219,95.9749984741211,95.5999984741211,96.35000610351562,95.5,96.0250015258789,95.75,95.9000015258789,95.4749984741211,96.05000305175781,95.95000457763672,96.20000457763672,96.125,96.2750015258789,95.92499542236328,95.75,96.17499542236328,95.75,95.9749984741211,96.125,95.95000457763672,95.95000457763672,96.0,96.1500015258789,96.125,96.07499694824219,96.4000015258789,96.32499694824219,95.9000015258789,96.07499694824219,88.55000305175781,91.7750015258789,90.7249984741211,92.25,94.70000457763672,93.80000305175781,92.82500457763672,94.07499694824219,93.0250015258789,94.0,95.5999984741211,95.32499694824219,95.2750015258789,94.77499389648438,95.75,95.4749984741211,94.77499389648438,95.05000305175781,95.30000305175781,95.45000457763672,95.5999984741211,96.10000610351562,95.95000457763672,95.7249984741211,95.82499694824219,95.80000305175781,95.9749984741211,95.9000015258789,95.67499542236328,95.7750015258789,96.07499694824219,95.9749984741211,95.92499542236328,96.0,95.92499542236328,95.95000457763672,95.7750015258789,95.9000015258789,96.0,95.70000457763672,95.9749984741211,90.25,92.54999542236328,93.4749984741211,93.80000305175781,94.70000457763672,92.97500610351562,94.0,93.44999694824219,94.45000457763672,94.1500015258789,95.6500015258789,95.5999984741211,95.75,95.4749984741211,95.7750015258789,95.7249984741211,95.4000015258789,95.5250015258789,95.30000305175781,95.125,96.05000305175781,95.9000015258789,95.85000610351562,95.9000015258789,95.9000015258789,95.57499694824219,95.875,95.6500015258789,95.875,95.75,95.9000015258789,95.95000457763672,95.95000457763672,95.9749984741211,95.85000610351562,96.0250015258789,96.0250015258789,95.7750015258789,96.1500015258789,96.20000457763672,96.2249984741211,90.92500305175781,92.625,92.29999542236328,94.1500015258789,92.44999694824219,94.92499542236328,93.9000015258789,94.92499542236328,90.82499694824219,94.9000015258789,95.57499694824219,95.5,95.375,95.55000305175781,95.17499542236328,95.6500015258789,95.0250015258789,95.17499542236328,94.875,95.5999984741211,95.9000015258789,95.75,95.95000457763672,95.82499694824219,96.07499694824219,95.82499694824219,95.80000305175781,95.5,95.875,95.95000457763672,96.0250015258789,95.9000015258789,95.95000457763672,95.92499542236328,95.95000457763672,96.0,84.57499694824219,91.42500305175781,90.5,92.67500305175781,94.375,90.7750015258789,90.07499694824219,89.5250015258789,93.8499984741211,94.19999694824219,95.32499694824219,95.32499694824219,95.45000457763672,95.375,95.7249984741211,95.45000457763672,94.9749984741211,95.07499694824219,95.17499542236328,95.25,95.85000610351562,95.9749984741211,95.85000610351562,95.92499542236328,96.375,96.20000457763672,96.0250015258789,95.95000457763672,95.80000305175781,95.85000610351562,96.2750015258789,96.125,96.10000610351562,96.0250015258789,95.9749984741211,95.9749984741211,95.9000015258789,95.75,95.7249984741211,95.9000015258789,95.7249984741211,95.7249984741211,95.7249984741211,95.80000305175781,92.5,94.0250015258789,93.5,94.0,91.92500305175781,94.5,93.67500305175781,93.5999984741211,94.9000015258789,95.7750015258789,96.0250015258789,95.82499694824219,96.4000015258789,96.2249984741211,96.32499694824219,95.25,96.125,95.82499694824219,96.05000305175781,95.7249984741211,96.32499694824219,96.30000305175781,96.4000015258789,96.35000610351562,96.32499694824219,96.30000305175781,96.35000610351562,96.0,96.375,95.9749984741211,96.17499542236328,96.17499542236328,89.2249984741211,91.5,90.69999694824219,91.4749984741211,93.19999694824219,94.0,93.82499694824219,92.25,93.9749984741211,93.875,95.75,95.57499694824219,95.9000015258789,95.57499694824219,95.95000457763672,95.92499542236328,95.7750015258789,95.55000305175781,95.70000457763672,95.32499694824219,96.125,96.35000610351562,96.05000305175781,96.20000457763672,96.4000015258789,96.20000457763672,96.42500305175781,95.9749984741211,95.95000457763672,95.9000015258789,96.25,96.20000457763672,96.10000610351562,96.2249984741211,96.17499542236328,96.25,96.1500015258789,96.10000610351562,95.92499542236328,96.20000457763672,96.4000015258789,91.0250015258789,92.0,93.0,93.4000015258789,91.7249984741211,91.9000015258789,92.75,92.0250015258789,91.9749984741211,93.82499694824219,95.3499984741211,94.92499542236328,95.42499542236328,94.92499542236328,95.80000305175781,94.625,95.6500015258789,95.07499694824219,95.80000305175781,95.42499542236328,95.875,95.9000015258789,95.7249984741211,95.92499542236328,95.9000015258789,95.4749984741211,95.95000457763672,95.75,95.625,96.07499694824219,96.0,96.0,95.875,95.92499542236328,95.875,95.9000015258789,95.92499542236328,95.57499694824219,95.7750015258789,95.80000305175781,95.82499694824219,95.85000610351562],\"sizemode\":\"area\",\"sizeref\":0.24225000381469727,\"symbol\":\"circle\",\"line\":{\"color\":\"darkslategrey\",\"width\":0.2}},\"mode\":\"markers\",\"name\":\"\",\"scene\":\"scene\",\"showlegend\":false,\"x\":[50,50,50,50,50,50,50,50,50,50,50,50,50,50,50,50,50,50,50,50,50,50,50,50,50,50,50,50,50,50,50,50,50,50,50,50,50,50,50,50,50,50,50,50,50,50,50,50,50,50,50,50,50,50,50,50,50,50,50,50,50,50,50,50,50,50,50,50,50,50,50,50,50,50,50,50,50,50,50,50,50,50,50,50,50,50,50,50,50,50,50,50,50,50,50,50,50,50,50,50,50,50,50,50,50,50,50,50,100,100,100,100,100,100,100,100,100,100,100,100,100,100,100,100,100,100,100,100,100,100,100,100,100,100,100,100,100,100,100,100,100,100,100,100,100,100,100,100,100,100,100,100,100,100,100,100,100,100,100,100,100,100,100,100,100,100,100,100,100,100,100,100,100,100,100,100,100,100,100,100,100,100,100,100,100,100,100,100,100,100,100,100,100,100,100,100,100,100,100,100,100,100,100,100,100,100,100,100,100,100,100,100,100,100,100,100,100,100,100,100,100,100,100,150,150,150,150,150,150,150,150,150,150,150,150,150,150,150,150,150,150,150,150,150,150,150,150,150,150,150,150,150,150,150,150,150,150,150,150,150,150,150,150,150,150,150,150,150,150,150,150,150,150,150,150,150,150,150,150,150,150,150,150,150,150,150,150,150,150,150,150,150,150,150,150,150,150,150,150,150,150,150,150,150,150,150,150,150,150,150,150,150,150,150,150,150,150,150,150,150,150,150,150,150,150,150,150,150,150,150,150,150,150,150,150,150,150,150,200,200,200,200,200,200,200,200,200,200,200,200,200,200,200,200,200,200,200,200,200,200,200,200,200,200,200,200,200,200,200,200,200,200,200,200,200,200,200,200,200,200,200,200,200,200,200,200,200,200,200,200,200,200,200,200,200,200,200,200,200,200,200,200,200,200,200,200,200,200,200,200,200,200,200,200,200,200,200,200,200,200,200,200,200,200,200,200,200,200,200,200,200,200,200,200,200,200,200,200,200,200,200,200,200,200,200,200,200,200,200,200,200,200,200,200,200,200,200,200,200,250,250,250,250,250,250,250,250,250,250,250,250,250,250,250,250,250,250,250,250,250,250,250,250,250,250,250,250,250,250,250,250,250,250,250,250,250,250,250,250,250,250,250,250,250,250,250,250,250,250,250,250,250,250,250,250,250,250,250,250,250,250,250,250,250,250,250,250,250,250,250,250,250,250,250,250,250,250,250,250,250,250,250,250,250,250,250,250,250,250,250,250,250,250,250,250,250,250,250,250,250,250,250,250,250,250,250,250,250,250,250,250,250,250,250],\"y\":[1,1,1,1,1,1,1,1,1,1,1,1,1,1,1,1,1,1,1,1,1,1,1,1,1,1,1,1,1,1,1,1,1,1,2,2,2,2,2,2,2,2,2,2,2,2,2,2,2,2,2,2,2,2,2,2,2,2,2,2,2,2,2,2,2,2,2,3,3,3,3,3,3,3,3,3,3,3,3,3,3,3,3,3,3,3,3,3,3,3,3,3,3,3,3,3,3,3,3,3,3,3,3,3,3,3,3,3,1,1,1,1,1,1,1,1,1,1,1,1,1,1,1,1,1,1,1,1,1,1,1,1,1,1,1,1,1,1,1,1,1,2,2,2,2,2,2,2,2,2,2,2,2,2,2,2,2,2,2,2,2,2,2,2,2,2,2,2,2,2,2,2,2,2,2,2,2,2,2,2,2,3,3,3,3,3,3,3,3,3,3,3,3,3,3,3,3,3,3,3,3,3,3,3,3,3,3,3,3,3,3,3,3,3,3,3,3,3,3,3,3,3,3,1,1,1,1,1,1,1,1,1,1,1,1,1,1,1,1,1,1,1,1,1,1,1,1,1,1,1,1,1,1,1,1,1,2,2,2,2,2,2,2,2,2,2,2,2,2,2,2,2,2,2,2,2,2,2,2,2,2,2,2,2,2,2,2,2,2,2,2,2,2,2,2,2,2,3,3,3,3,3,3,3,3,3,3,3,3,3,3,3,3,3,3,3,3,3,3,3,3,3,3,3,3,3,3,3,3,3,3,3,3,3,3,3,3,3,1,1,1,1,1,1,1,1,1,1,1,1,1,1,1,1,1,1,1,1,1,1,1,1,1,1,1,1,1,1,1,1,1,1,1,1,1,1,1,1,1,2,2,2,2,2,2,2,2,2,2,2,2,2,2,2,2,2,2,2,2,2,2,2,2,2,2,2,2,2,2,2,2,2,2,2,2,3,3,3,3,3,3,3,3,3,3,3,3,3,3,3,3,3,3,3,3,3,3,3,3,3,3,3,3,3,3,3,3,3,3,3,3,3,3,3,3,3,3,3,3,1,1,1,1,1,1,1,1,1,1,1,1,1,1,1,1,1,1,1,1,1,1,1,1,1,1,1,1,1,1,1,1,2,2,2,2,2,2,2,2,2,2,2,2,2,2,2,2,2,2,2,2,2,2,2,2,2,2,2,2,2,2,2,2,2,2,2,2,2,2,2,2,2,3,3,3,3,3,3,3,3,3,3,3,3,3,3,3,3,3,3,3,3,3,3,3,3,3,3,3,3,3,3,3,3,3,3,3,3,3,3,3,3,3,3],\"z\":[89.70000457763672,92.3499984741211,93.2750015258789,93.55000305175781,93.55000305175781,93.6500015258789,94.17499542236328,93.67500305175781,94.6500015258789,93.5999984741211,95.17499542236328,95.375,94.9000015258789,95.20000457763672,94.6500015258789,95.0250015258789,95.375,94.4749984741211,95.0,94.27499389648438,95.3499984741211,95.32499694824219,95.6500015258789,95.625,95.42499542236328,95.85000610351562,95.25,95.5999984741211,94.9749984741211,95.625,95.7750015258789,95.85000610351562,95.80000305175781,95.7750015258789,90.44999694824219,90.4000015258789,93.5250015258789,93.4000015258789,93.875,93.22500610351562,92.2249984741211,94.57499694824219,93.92500305175781,93.7249984741211,95.1500015258789,94.8499984741211,95.25,94.67499542236328,95.3499984741211,94.95000457763672,95.30000305175781,94.3499984741211,94.6500015258789,94.875,95.32499694824219,95.25,95.4749984741211,95.4749984741211,94.875,95.2249984741211,95.25,95.0250015258789,94.9749984741211,95.32499694824219,95.3499984741211,95.4749984741211,95.57499694824219,92.17500305175781,93.17500305175781,94.17499542236328,92.6500015258789,93.92500305175781,93.875,93.42500305175781,93.375,94.27499389648438,94.80000305175781,95.55000305175781,95.375,95.0,95.07499694824219,95.32499694824219,95.4749984741211,95.2249984741211,95.0999984741211,95.4749984741211,95.30000305175781,95.82499694824219,95.57499694824219,95.32499694824219,95.9749984741211,96.0250015258789,95.625,95.92499542236328,95.70000457763672,95.55000305175781,95.57499694824219,95.67499542236328,95.625,95.7249984741211,95.75,95.70000457763672,95.75,95.67499542236328,95.6500015258789,95.5,95.57499694824219,95.375,90.42500305175781,93.32500457763672,94.625,94.55000305175781,93.7750015258789,92.625,94.25,94.77499389648438,94.07499694824219,94.9000015258789,95.70000457763672,95.85000610351562,95.55000305175781,95.55000305175781,95.7249984741211,95.57499694824219,95.7750015258789,95.7249984741211,95.20000457763672,95.57499694824219,95.9749984741211,96.1500015258789,96.0250015258789,96.17499542236328,96.25,96.10000610351562,96.0250015258789,96.20000457763672,96.30000305175781,95.375,95.67499542236328,96.05000305175781,96.0250015258789,91.94999694824219,92.94999694824219,92.75,93.22500610351562,92.8499984741211,94.05000305175781,93.5999984741211,92.1500015258789,94.45000457763672,95.5999984741211,95.45000457763672,95.70000457763672,95.57499694824219,95.875,94.5999984741211,95.625,95.92499542236328,95.5,95.625,95.45000457763672,96.05000305175781,96.35000610351562,96.2249984741211,96.4000015258789,96.30000305175781,96.17499542236328,96.05000305175781,96.0,95.95000457763672,96.5,96.30000305175781,96.375,96.4000015258789,96.30000305175781,96.4749984741211,96.4000015258789,96.4749984741211,96.32499694824219,96.4749984741211,96.5250015258789,90.9749984741211,92.9000015258789,92.44999694824219,91.8499984741211,93.4749984741211,92.25,93.4000015258789,92.17500305175781,93.5999984741211,94.0,95.45000457763672,95.5250015258789,95.57499694824219,95.07499694824219,94.82499694824219,95.25,94.9749984741211,95.0250015258789,95.42499542236328,94.75,95.2750015258789,95.55000305175781,95.20000457763672,95.4749984741211,95.4000015258789,95.375,95.25,95.0999984741211,95.125,95.4000015258789,95.375,95.125,95.4000015258789,95.30000305175781,95.30000305175781,95.25,95.3499984741211,95.17499542236328,95.3499984741211,95.30000305175781,95.2750015258789,95.25,92.375,92.8499984741211,94.4749984741211,94.0999984741211,95.17499542236328,93.04999542236328,95.0250015258789,94.55000305175781,93.67500305175781,95.2750015258789,95.92499542236328,96.20000457763672,96.20000457763672,96.125,96.05000305175781,96.5,96.0250015258789,96.07499694824219,95.95000457763672,96.25,96.6500015258789,96.80000305175781,96.9000015258789,96.82499694824219,96.55000305175781,96.875,96.32499694824219,96.42500305175781,96.4749984741211,96.57499694824219,96.57499694824219,96.6500015258789,96.67500305175781,91.54999542236328,91.14999389648438,93.9000015258789,93.3499984741211,94.7249984741211,91.75,94.32499694824219,94.3499984741211,94.95000457763672,94.80000305175781,95.5,95.82499694824219,95.9749984741211,95.5999984741211,96.35000610351562,95.5,96.0250015258789,95.75,95.9000015258789,95.4749984741211,96.05000305175781,95.95000457763672,96.20000457763672,96.125,96.2750015258789,95.92499542236328,95.75,96.17499542236328,95.75,95.9749984741211,96.125,95.95000457763672,95.95000457763672,96.0,96.1500015258789,96.125,96.07499694824219,96.4000015258789,96.32499694824219,95.9000015258789,96.07499694824219,88.55000305175781,91.7750015258789,90.7249984741211,92.25,94.70000457763672,93.80000305175781,92.82500457763672,94.07499694824219,93.0250015258789,94.0,95.5999984741211,95.32499694824219,95.2750015258789,94.77499389648438,95.75,95.4749984741211,94.77499389648438,95.05000305175781,95.30000305175781,95.45000457763672,95.5999984741211,96.10000610351562,95.95000457763672,95.7249984741211,95.82499694824219,95.80000305175781,95.9749984741211,95.9000015258789,95.67499542236328,95.7750015258789,96.07499694824219,95.9749984741211,95.92499542236328,96.0,95.92499542236328,95.95000457763672,95.7750015258789,95.9000015258789,96.0,95.70000457763672,95.9749984741211,90.25,92.54999542236328,93.4749984741211,93.80000305175781,94.70000457763672,92.97500610351562,94.0,93.44999694824219,94.45000457763672,94.1500015258789,95.6500015258789,95.5999984741211,95.75,95.4749984741211,95.7750015258789,95.7249984741211,95.4000015258789,95.5250015258789,95.30000305175781,95.125,96.05000305175781,95.9000015258789,95.85000610351562,95.9000015258789,95.9000015258789,95.57499694824219,95.875,95.6500015258789,95.875,95.75,95.9000015258789,95.95000457763672,95.95000457763672,95.9749984741211,95.85000610351562,96.0250015258789,96.0250015258789,95.7750015258789,96.1500015258789,96.20000457763672,96.2249984741211,90.92500305175781,92.625,92.29999542236328,94.1500015258789,92.44999694824219,94.92499542236328,93.9000015258789,94.92499542236328,90.82499694824219,94.9000015258789,95.57499694824219,95.5,95.375,95.55000305175781,95.17499542236328,95.6500015258789,95.0250015258789,95.17499542236328,94.875,95.5999984741211,95.9000015258789,95.75,95.95000457763672,95.82499694824219,96.07499694824219,95.82499694824219,95.80000305175781,95.5,95.875,95.95000457763672,96.0250015258789,95.9000015258789,95.95000457763672,95.92499542236328,95.95000457763672,96.0,84.57499694824219,91.42500305175781,90.5,92.67500305175781,94.375,90.7750015258789,90.07499694824219,89.5250015258789,93.8499984741211,94.19999694824219,95.32499694824219,95.32499694824219,95.45000457763672,95.375,95.7249984741211,95.45000457763672,94.9749984741211,95.07499694824219,95.17499542236328,95.25,95.85000610351562,95.9749984741211,95.85000610351562,95.92499542236328,96.375,96.20000457763672,96.0250015258789,95.95000457763672,95.80000305175781,95.85000610351562,96.2750015258789,96.125,96.10000610351562,96.0250015258789,95.9749984741211,95.9749984741211,95.9000015258789,95.75,95.7249984741211,95.9000015258789,95.7249984741211,95.7249984741211,95.7249984741211,95.80000305175781,92.5,94.0250015258789,93.5,94.0,91.92500305175781,94.5,93.67500305175781,93.5999984741211,94.9000015258789,95.7750015258789,96.0250015258789,95.82499694824219,96.4000015258789,96.2249984741211,96.32499694824219,95.25,96.125,95.82499694824219,96.05000305175781,95.7249984741211,96.32499694824219,96.30000305175781,96.4000015258789,96.35000610351562,96.32499694824219,96.30000305175781,96.35000610351562,96.0,96.375,95.9749984741211,96.17499542236328,96.17499542236328,89.2249984741211,91.5,90.69999694824219,91.4749984741211,93.19999694824219,94.0,93.82499694824219,92.25,93.9749984741211,93.875,95.75,95.57499694824219,95.9000015258789,95.57499694824219,95.95000457763672,95.92499542236328,95.7750015258789,95.55000305175781,95.70000457763672,95.32499694824219,96.125,96.35000610351562,96.05000305175781,96.20000457763672,96.4000015258789,96.20000457763672,96.42500305175781,95.9749984741211,95.95000457763672,95.9000015258789,96.25,96.20000457763672,96.10000610351562,96.2249984741211,96.17499542236328,96.25,96.1500015258789,96.10000610351562,95.92499542236328,96.20000457763672,96.4000015258789,91.0250015258789,92.0,93.0,93.4000015258789,91.7249984741211,91.9000015258789,92.75,92.0250015258789,91.9749984741211,93.82499694824219,95.3499984741211,94.92499542236328,95.42499542236328,94.92499542236328,95.80000305175781,94.625,95.6500015258789,95.07499694824219,95.80000305175781,95.42499542236328,95.875,95.9000015258789,95.7249984741211,95.92499542236328,95.9000015258789,95.4749984741211,95.95000457763672,95.75,95.625,96.07499694824219,96.0,96.0,95.875,95.92499542236328,95.875,95.9000015258789,95.92499542236328,95.57499694824219,95.7750015258789,95.80000305175781,95.82499694824219,95.85000610351562],\"type\":\"scatter3d\"}],                        {\"template\":{\"data\":{\"barpolar\":[{\"marker\":{\"line\":{\"color\":\"rgb(237,237,237)\",\"width\":0.5},\"pattern\":{\"fillmode\":\"overlay\",\"size\":10,\"solidity\":0.2}},\"type\":\"barpolar\"}],\"bar\":[{\"error_x\":{\"color\":\"rgb(51,51,51)\"},\"error_y\":{\"color\":\"rgb(51,51,51)\"},\"marker\":{\"line\":{\"color\":\"rgb(237,237,237)\",\"width\":0.5},\"pattern\":{\"fillmode\":\"overlay\",\"size\":10,\"solidity\":0.2}},\"type\":\"bar\"}],\"carpet\":[{\"aaxis\":{\"endlinecolor\":\"rgb(51,51,51)\",\"gridcolor\":\"white\",\"linecolor\":\"white\",\"minorgridcolor\":\"white\",\"startlinecolor\":\"rgb(51,51,51)\"},\"baxis\":{\"endlinecolor\":\"rgb(51,51,51)\",\"gridcolor\":\"white\",\"linecolor\":\"white\",\"minorgridcolor\":\"white\",\"startlinecolor\":\"rgb(51,51,51)\"},\"type\":\"carpet\"}],\"choropleth\":[{\"colorbar\":{\"outlinewidth\":0,\"tickcolor\":\"rgb(237,237,237)\",\"ticklen\":6,\"ticks\":\"inside\"},\"type\":\"choropleth\"}],\"contourcarpet\":[{\"colorbar\":{\"outlinewidth\":0,\"tickcolor\":\"rgb(237,237,237)\",\"ticklen\":6,\"ticks\":\"inside\"},\"type\":\"contourcarpet\"}],\"contour\":[{\"colorbar\":{\"outlinewidth\":0,\"tickcolor\":\"rgb(237,237,237)\",\"ticklen\":6,\"ticks\":\"inside\"},\"colorscale\":[[0,\"rgb(20,44,66)\"],[1,\"rgb(90,179,244)\"]],\"type\":\"contour\"}],\"heatmapgl\":[{\"colorbar\":{\"outlinewidth\":0,\"tickcolor\":\"rgb(237,237,237)\",\"ticklen\":6,\"ticks\":\"inside\"},\"colorscale\":[[0,\"rgb(20,44,66)\"],[1,\"rgb(90,179,244)\"]],\"type\":\"heatmapgl\"}],\"heatmap\":[{\"colorbar\":{\"outlinewidth\":0,\"tickcolor\":\"rgb(237,237,237)\",\"ticklen\":6,\"ticks\":\"inside\"},\"colorscale\":[[0,\"rgb(20,44,66)\"],[1,\"rgb(90,179,244)\"]],\"type\":\"heatmap\"}],\"histogram2dcontour\":[{\"colorbar\":{\"outlinewidth\":0,\"tickcolor\":\"rgb(237,237,237)\",\"ticklen\":6,\"ticks\":\"inside\"},\"colorscale\":[[0,\"rgb(20,44,66)\"],[1,\"rgb(90,179,244)\"]],\"type\":\"histogram2dcontour\"}],\"histogram2d\":[{\"colorbar\":{\"outlinewidth\":0,\"tickcolor\":\"rgb(237,237,237)\",\"ticklen\":6,\"ticks\":\"inside\"},\"colorscale\":[[0,\"rgb(20,44,66)\"],[1,\"rgb(90,179,244)\"]],\"type\":\"histogram2d\"}],\"histogram\":[{\"marker\":{\"pattern\":{\"fillmode\":\"overlay\",\"size\":10,\"solidity\":0.2}},\"type\":\"histogram\"}],\"mesh3d\":[{\"colorbar\":{\"outlinewidth\":0,\"tickcolor\":\"rgb(237,237,237)\",\"ticklen\":6,\"ticks\":\"inside\"},\"type\":\"mesh3d\"}],\"parcoords\":[{\"line\":{\"colorbar\":{\"outlinewidth\":0,\"tickcolor\":\"rgb(237,237,237)\",\"ticklen\":6,\"ticks\":\"inside\"}},\"type\":\"parcoords\"}],\"pie\":[{\"automargin\":true,\"type\":\"pie\"}],\"scatter3d\":[{\"line\":{\"colorbar\":{\"outlinewidth\":0,\"tickcolor\":\"rgb(237,237,237)\",\"ticklen\":6,\"ticks\":\"inside\"}},\"marker\":{\"colorbar\":{\"outlinewidth\":0,\"tickcolor\":\"rgb(237,237,237)\",\"ticklen\":6,\"ticks\":\"inside\"}},\"type\":\"scatter3d\"}],\"scattercarpet\":[{\"marker\":{\"colorbar\":{\"outlinewidth\":0,\"tickcolor\":\"rgb(237,237,237)\",\"ticklen\":6,\"ticks\":\"inside\"}},\"type\":\"scattercarpet\"}],\"scattergeo\":[{\"marker\":{\"colorbar\":{\"outlinewidth\":0,\"tickcolor\":\"rgb(237,237,237)\",\"ticklen\":6,\"ticks\":\"inside\"}},\"type\":\"scattergeo\"}],\"scattergl\":[{\"marker\":{\"colorbar\":{\"outlinewidth\":0,\"tickcolor\":\"rgb(237,237,237)\",\"ticklen\":6,\"ticks\":\"inside\"}},\"type\":\"scattergl\"}],\"scattermapbox\":[{\"marker\":{\"colorbar\":{\"outlinewidth\":0,\"tickcolor\":\"rgb(237,237,237)\",\"ticklen\":6,\"ticks\":\"inside\"}},\"type\":\"scattermapbox\"}],\"scatterpolargl\":[{\"marker\":{\"colorbar\":{\"outlinewidth\":0,\"tickcolor\":\"rgb(237,237,237)\",\"ticklen\":6,\"ticks\":\"inside\"}},\"type\":\"scatterpolargl\"}],\"scatterpolar\":[{\"marker\":{\"colorbar\":{\"outlinewidth\":0,\"tickcolor\":\"rgb(237,237,237)\",\"ticklen\":6,\"ticks\":\"inside\"}},\"type\":\"scatterpolar\"}],\"scatter\":[{\"fillpattern\":{\"fillmode\":\"overlay\",\"size\":10,\"solidity\":0.2},\"type\":\"scatter\"}],\"scatterternary\":[{\"marker\":{\"colorbar\":{\"outlinewidth\":0,\"tickcolor\":\"rgb(237,237,237)\",\"ticklen\":6,\"ticks\":\"inside\"}},\"type\":\"scatterternary\"}],\"surface\":[{\"colorbar\":{\"outlinewidth\":0,\"tickcolor\":\"rgb(237,237,237)\",\"ticklen\":6,\"ticks\":\"inside\"},\"colorscale\":[[0,\"rgb(20,44,66)\"],[1,\"rgb(90,179,244)\"]],\"type\":\"surface\"}],\"table\":[{\"cells\":{\"fill\":{\"color\":\"rgb(237,237,237)\"},\"line\":{\"color\":\"white\"}},\"header\":{\"fill\":{\"color\":\"rgb(217,217,217)\"},\"line\":{\"color\":\"white\"}},\"type\":\"table\"}]},\"layout\":{\"annotationdefaults\":{\"arrowhead\":0,\"arrowwidth\":1},\"autotypenumbers\":\"strict\",\"coloraxis\":{\"colorbar\":{\"outlinewidth\":0,\"tickcolor\":\"rgb(237,237,237)\",\"ticklen\":6,\"ticks\":\"inside\"}},\"colorscale\":{\"sequential\":[[0,\"rgb(20,44,66)\"],[1,\"rgb(90,179,244)\"]],\"sequentialminus\":[[0,\"rgb(20,44,66)\"],[1,\"rgb(90,179,244)\"]]},\"colorway\":[\"#F8766D\",\"#A3A500\",\"#00BF7D\",\"#00B0F6\",\"#E76BF3\"],\"font\":{\"color\":\"rgb(51,51,51)\"},\"geo\":{\"bgcolor\":\"white\",\"lakecolor\":\"white\",\"landcolor\":\"rgb(237,237,237)\",\"showlakes\":true,\"showland\":true,\"subunitcolor\":\"white\"},\"hoverlabel\":{\"align\":\"left\"},\"hovermode\":\"closest\",\"paper_bgcolor\":\"white\",\"plot_bgcolor\":\"rgb(237,237,237)\",\"polar\":{\"angularaxis\":{\"gridcolor\":\"white\",\"linecolor\":\"white\",\"showgrid\":true,\"tickcolor\":\"rgb(51,51,51)\",\"ticks\":\"outside\"},\"bgcolor\":\"rgb(237,237,237)\",\"radialaxis\":{\"gridcolor\":\"white\",\"linecolor\":\"white\",\"showgrid\":true,\"tickcolor\":\"rgb(51,51,51)\",\"ticks\":\"outside\"}},\"scene\":{\"xaxis\":{\"backgroundcolor\":\"rgb(237,237,237)\",\"gridcolor\":\"white\",\"gridwidth\":2,\"linecolor\":\"white\",\"showbackground\":true,\"showgrid\":true,\"tickcolor\":\"rgb(51,51,51)\",\"ticks\":\"outside\",\"zerolinecolor\":\"white\"},\"yaxis\":{\"backgroundcolor\":\"rgb(237,237,237)\",\"gridcolor\":\"white\",\"gridwidth\":2,\"linecolor\":\"white\",\"showbackground\":true,\"showgrid\":true,\"tickcolor\":\"rgb(51,51,51)\",\"ticks\":\"outside\",\"zerolinecolor\":\"white\"},\"zaxis\":{\"backgroundcolor\":\"rgb(237,237,237)\",\"gridcolor\":\"white\",\"gridwidth\":2,\"linecolor\":\"white\",\"showbackground\":true,\"showgrid\":true,\"tickcolor\":\"rgb(51,51,51)\",\"ticks\":\"outside\",\"zerolinecolor\":\"white\"}},\"shapedefaults\":{\"fillcolor\":\"black\",\"line\":{\"width\":0},\"opacity\":0.3},\"ternary\":{\"aaxis\":{\"gridcolor\":\"white\",\"linecolor\":\"white\",\"showgrid\":true,\"tickcolor\":\"rgb(51,51,51)\",\"ticks\":\"outside\"},\"baxis\":{\"gridcolor\":\"white\",\"linecolor\":\"white\",\"showgrid\":true,\"tickcolor\":\"rgb(51,51,51)\",\"ticks\":\"outside\"},\"bgcolor\":\"rgb(237,237,237)\",\"caxis\":{\"gridcolor\":\"white\",\"linecolor\":\"white\",\"showgrid\":true,\"tickcolor\":\"rgb(51,51,51)\",\"ticks\":\"outside\"}},\"xaxis\":{\"automargin\":true,\"gridcolor\":\"white\",\"linecolor\":\"white\",\"showgrid\":true,\"tickcolor\":\"rgb(51,51,51)\",\"ticks\":\"outside\",\"title\":{\"standoff\":15},\"zerolinecolor\":\"white\"},\"yaxis\":{\"automargin\":true,\"gridcolor\":\"white\",\"linecolor\":\"white\",\"showgrid\":true,\"tickcolor\":\"rgb(51,51,51)\",\"ticks\":\"outside\",\"title\":{\"standoff\":15},\"zerolinecolor\":\"white\"}}},\"scene\":{\"domain\":{\"x\":[0.0,1.0],\"y\":[0.0,1.0]},\"xaxis\":{\"title\":{\"text\":\"number_units\"}},\"yaxis\":{\"title\":{\"text\":\"number_layers\"}},\"zaxis\":{\"title\":{\"text\":\"mean_test_acc\"}}},\"coloraxis\":{\"colorbar\":{\"title\":{\"text\":\"epoch\"}},\"colorscale\":[[0.0,\"#f0f921\"],[0.1111111111111111,\"#fdca26\"],[0.2222222222222222,\"#fb9f3a\"],[0.3333333333333333,\"#ed7953\"],[0.4444444444444444,\"#d8576b\"],[0.5555555555555556,\"#bd3786\"],[0.6666666666666666,\"#9c179e\"],[0.7777777777777778,\"#7201a8\"],[0.8888888888888888,\"#46039f\"],[1.0,\"#0d0887\"]]},\"legend\":{\"tracegroupgap\":0,\"itemsizing\":\"constant\"},\"margin\":{\"t\":60},\"width\":600,\"height\":600},                        {\"responsive\": true}                    ).then(function(){\n",
       "                            \n",
       "var gd = document.getElementById('cb5d68e4-5222-41df-9d1b-b0c69260be56');\n",
       "var x = new MutationObserver(function (mutations, observer) {{\n",
       "        var display = window.getComputedStyle(gd).display;\n",
       "        if (!display || display === 'none') {{\n",
       "            console.log([gd, 'removed!']);\n",
       "            Plotly.purge(gd);\n",
       "            observer.disconnect();\n",
       "        }}\n",
       "}});\n",
       "\n",
       "// Listen for the removal of the full notebook cells\n",
       "var notebookContainer = gd.closest('#notebook-container');\n",
       "if (notebookContainer) {{\n",
       "    x.observe(notebookContainer, {childList: true});\n",
       "}}\n",
       "\n",
       "// Listen for the clearing of the current output cell\n",
       "var outputEl = gd.closest('.output');\n",
       "if (outputEl) {{\n",
       "    x.observe(outputEl, {childList: true});\n",
       "}}\n",
       "\n",
       "                        })                };                });            </script>        </div>"
      ]
     },
     "metadata": {},
     "output_type": "display_data"
    }
   ],
   "execution_count": 436
  },
  {
   "metadata": {
    "ExecuteTime": {
     "end_time": "2025-05-18T18:31:11.526378Z",
     "start_time": "2025-05-18T18:31:11.523629Z"
    }
   },
   "cell_type": "code",
   "source": [
    "grouped_nLayers = (\n",
    "    combined_results\n",
    "    .group_by('number_layers', 'epoch')\n",
    "    .agg(\n",
    "        cs.numeric().mean().name.prefix('mean_')\n",
    "    )\n",
    "    .sort(['number_layers',], descending=False)\n",
    "    .sort('epoch', descending=False)\n",
    "\n",
    ")"
   ],
   "id": "cc51c0d8aafaef05",
   "outputs": [],
   "execution_count": 437
  },
  {
   "metadata": {
    "ExecuteTime": {
     "end_time": "2025-05-18T18:31:11.558485Z",
     "start_time": "2025-05-18T18:31:11.555259Z"
    }
   },
   "cell_type": "code",
   "source": [
    "grouped_nUnits = (\n",
    "    combined_results\n",
    "    .group_by('number_units', 'epoch')\n",
    "    .agg(\n",
    "        cs.numeric().mean().name.prefix('mean_')\n",
    "    )\n",
    "    .sort(['number_units',], descending=False)\n",
    "    .sort('epoch', descending=False)\n",
    ")"
   ],
   "id": "56ef17e3a4250929",
   "outputs": [],
   "execution_count": 438
  },
  {
   "metadata": {
    "ExecuteTime": {
     "end_time": "2025-05-18T18:31:11.588692Z",
     "start_time": "2025-05-18T18:31:11.586240Z"
    }
   },
   "cell_type": "code",
   "source": "grouped_nUnits.select(pl.col('number_units').unique())",
   "id": "b6cf56415e8a7b3c",
   "outputs": [
    {
     "data": {
      "text/plain": [
       "shape: (5, 1)\n",
       "┌──────────────┐\n",
       "│ number_units │\n",
       "│ ---          │\n",
       "│ i32          │\n",
       "╞══════════════╡\n",
       "│ 50           │\n",
       "│ 100          │\n",
       "│ 150          │\n",
       "│ 200          │\n",
       "│ 250          │\n",
       "└──────────────┘"
      ],
      "text/html": [
       "<div><style>\n",
       ".dataframe > thead > tr,\n",
       ".dataframe > tbody > tr {\n",
       "  text-align: right;\n",
       "  white-space: pre-wrap;\n",
       "}\n",
       "</style>\n",
       "<small>shape: (5, 1)</small><table border=\"1\" class=\"dataframe\"><thead><tr><th>number_units</th></tr><tr><td>i32</td></tr></thead><tbody><tr><td>50</td></tr><tr><td>100</td></tr><tr><td>150</td></tr><tr><td>200</td></tr><tr><td>250</td></tr></tbody></table></div>"
      ]
     },
     "execution_count": 439,
     "metadata": {},
     "output_type": "execute_result"
    }
   ],
   "execution_count": 439
  },
  {
   "metadata": {
    "ExecuteTime": {
     "end_time": "2025-05-18T18:31:11.795740Z",
     "start_time": "2025-05-18T18:31:11.630525Z"
    }
   },
   "cell_type": "code",
   "source": [
    "# inspect the loss\n",
    "import matplotlib.pyplot as plt\n",
    "\n",
    "fig, ax = plt.subplots(1, 3, figsize=(15,5))\n",
    "\n",
    "ax[0].plot(grouped_nLayers.filter(pl.col('number_layers').eq(1)).select('mean_train_loss'), 'r--')\n",
    "ax[0].plot(grouped_nLayers.filter(pl.col('number_layers').eq(2)).select('mean_train_loss'), 'b--')\n",
    "ax[0].plot(grouped_nLayers.filter(pl.col('number_layers').eq(3)).select('mean_train_loss'), 'g--')\n",
    "ax[0].legend(['1 hidden layer', '2 hidden layers', '3 hidden layers'])\n",
    "ax[0].set_title('Model Loss vs Number of Layers')\n",
    "ax[0].set_xlabel('Epoch')\n",
    "ax[0].set_ylabel('Loss')\n",
    "\n",
    "ax[1].plot(grouped_nLayers.filter(pl.col('number_layers').eq(1)).select('mean_test_acc'), 'r--')\n",
    "ax[1].plot(grouped_nLayers.filter(pl.col('number_layers').eq(2)).select('mean_test_acc'), 'b--')\n",
    "ax[1].plot(grouped_nLayers.filter(pl.col('number_layers').eq(3)).select('mean_test_acc'), 'g--')\n",
    "ax[1].legend(['1 hidden layer', '2 hidden layers', '3 hidden layers'])\n",
    "ax[1].set_title('Model Accuracy vs Number of Layers')\n",
    "ax[1].set_xlabel('Epoch')\n",
    "ax[1].set_ylabel('Accuracy')\n",
    "\n",
    "ax[2].plot(grouped_nUnits.filter(pl.col('number_units').eq(50)).select('mean_test_acc'), 'r')\n",
    "ax[2].plot(grouped_nUnits.filter(pl.col('number_units').eq(100)).select('mean_test_acc'), 'b')\n",
    "ax[2].plot(grouped_nUnits.filter(pl.col('number_units').eq(150)).select('mean_test_acc'), 'g')\n",
    "ax[2].plot(grouped_nUnits.filter(pl.col('number_units').eq(200)).select('mean_test_acc'), 'y')\n",
    "ax[2].plot(grouped_nUnits.filter(pl.col('number_units').eq(250)).select('mean_test_acc'), 'orange')\n",
    "ax[2].legend(['50', '100', '150', '200', '250'])\n",
    "ax[2].set_title('Model Accuracy vs Number of Units')\n",
    "ax[2].set_xlabel('Epoch')\n",
    "ax[2].set_ylabel('Accuracy')\n",
    "\n"
   ],
   "id": "f3b7d345699ac2fb",
   "outputs": [
    {
     "data": {
      "text/plain": [
       "Text(0, 0.5, 'Accuracy')"
      ]
     },
     "execution_count": 440,
     "metadata": {},
     "output_type": "execute_result"
    },
    {
     "data": {
      "text/plain": [
       "<Figure size 1500x500 with 3 Axes>"
      ],
      "image/png": "[encoded data removed]"
     },
     "metadata": {},
     "output_type": "display_data"
    }
   ],
   "execution_count": 440
  }
 ],
 "metadata": {
  "kernelspec": {
   "display_name": "Python 3",
   "language": "python",
   "name": "python3"
  },
  "language_info": {
   "codemirror_mode": {
    "name": "ipython",
    "version": 2
   },
   "file_extension": ".py",
   "mimetype": "text/x-python",
   "name": "python",
   "nbconvert_exporter": "python",
   "pygments_lexer": "ipython2",
   "version": "2.7.6"
  }
 },
 "nbformat": 4,
 "nbformat_minor": 5
}
