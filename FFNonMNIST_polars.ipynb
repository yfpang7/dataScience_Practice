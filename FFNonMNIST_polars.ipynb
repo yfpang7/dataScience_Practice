{
 "cells": [
  {
   "cell_type": "code",
   "id": "initial_id",
   "metadata": {
    "collapsed": true,
    "id": "initial_id",
    "executionInfo": {
     "status": "ok",
     "timestamp": 1747382856780,
     "user_tz": -60,
     "elapsed": 22058,
     "user": {
      "displayName": "Yoke Fei Pang",
      "userId": "01227211428198676453"
     }
    },
    "ExecuteTime": {
     "end_time": "2025-05-17T20:37:31.039744Z",
     "start_time": "2025-05-17T20:37:31.037221Z"
    }
   },
   "source": [
    "import polars as pl\n",
    "import numpy as np\n",
    "import plotly.express as px\n",
    "import torch\n",
    "import torch.nn as nn\n",
    "import torch.nn.functional as F\n",
    "from torch.utils.data import TensorDataset, DataLoader\n",
    "\n",
    "# scikit learn\n",
    "from sklearn.preprocessing import MinMaxScaler\n",
    "from sklearn.model_selection import train_test_split"
   ],
   "outputs": [],
   "execution_count": 3
  },
  {
   "cell_type": "code",
   "source": [
    "# if using colab\n",
    "# raw_df = pl.read_csv('/content/sample_data/mnist_train_small.csv')"
   ],
   "metadata": {
    "id": "FsmbVl6GBjKM",
    "executionInfo": {
     "status": "ok",
     "timestamp": 1747382859246,
     "user_tz": -60,
     "elapsed": 2435,
     "user": {
      "displayName": "Yoke Fei Pang",
      "userId": "01227211428198676453"
     }
    },
    "ExecuteTime": {
     "end_time": "2025-05-17T20:37:31.053841Z",
     "start_time": "2025-05-17T20:37:31.052361Z"
    }
   },
   "id": "FsmbVl6GBjKM",
   "outputs": [],
   "execution_count": 4
  },
  {
   "metadata": {
    "id": "e74a57d88f629341",
    "executionInfo": {
     "status": "ok",
     "timestamp": 1747382859289,
     "user_tz": -60,
     "elapsed": 18,
     "user": {
      "displayName": "Yoke Fei Pang",
      "userId": "01227211428198676453"
     }
    },
    "ExecuteTime": {
     "end_time": "2025-05-17T20:37:31.173222Z",
     "start_time": "2025-05-17T20:37:31.063986Z"
    }
   },
   "cell_type": "code",
   "source": [
    "# read in the data MNIST data\n",
    "raw_df = pl.read_csv('mnist_train_small.csv')"
   ],
   "id": "e74a57d88f629341",
   "outputs": [],
   "execution_count": 5
  },
  {
   "metadata": {
    "colab": {
     "base_uri": "https://localhost:8080/"
    },
    "id": "e22ab2a2ec1304e6",
    "executionInfo": {
     "status": "ok",
     "timestamp": 1747382859326,
     "user_tz": -60,
     "elapsed": 33,
     "user": {
      "displayName": "Yoke Fei Pang",
      "userId": "01227211428198676453"
     }
    },
    "outputId": "855ad389-a3c4-489f-f573-06caaac84e0e",
    "ExecuteTime": {
     "end_time": "2025-05-17T20:37:31.184431Z",
     "start_time": "2025-05-17T20:37:31.181139Z"
    }
   },
   "cell_type": "code",
   "source": [
    "raw_df.head()\n",
    "raw_df.shape"
   ],
   "id": "e22ab2a2ec1304e6",
   "outputs": [
    {
     "data": {
      "text/plain": [
       "(19999, 785)"
      ]
     },
     "execution_count": 6,
     "metadata": {},
     "output_type": "execute_result"
    }
   ],
   "execution_count": 6
  },
  {
   "metadata": {
    "colab": {
     "base_uri": "https://localhost:8080/",
     "height": 212
    },
    "id": "786cf6f3c9472291",
    "executionInfo": {
     "status": "ok",
     "timestamp": 1747382859365,
     "user_tz": -60,
     "elapsed": 36,
     "user": {
      "displayName": "Yoke Fei Pang",
      "userId": "01227211428198676453"
     }
    },
    "outputId": "866fe0a4-6ea6-4c83-ee85-48ea411e39f6",
    "ExecuteTime": {
     "end_time": "2025-05-17T20:37:31.206543Z",
     "start_time": "2025-05-17T20:37:31.203756Z"
    }
   },
   "cell_type": "code",
   "source": [
    "raw_df.head(3)"
   ],
   "id": "786cf6f3c9472291",
   "outputs": [
    {
     "data": {
      "text/plain": [
       "shape: (3, 785)\n",
       "┌─────┬─────┬─────────────┬─────────────┬───┬─────────────┬─────────────┬─────────────┬────────────┐\n",
       "│ 6   ┆ 0   ┆ 0_duplicate ┆ 0_duplicate ┆ … ┆ 0_duplicate ┆ 0_duplicate ┆ 0_duplicate ┆ 0_duplicat │\n",
       "│ --- ┆ --- ┆ d_0         ┆ d_1         ┆   ┆ d_586       ┆ d_587       ┆ d_588       ┆ ed_589     │\n",
       "│ i64 ┆ i64 ┆ ---         ┆ ---         ┆   ┆ ---         ┆ ---         ┆ ---         ┆ ---        │\n",
       "│     ┆     ┆ i64         ┆ i64         ┆   ┆ i64         ┆ i64         ┆ i64         ┆ i64        │\n",
       "╞═════╪═════╪═════════════╪═════════════╪═══╪═════════════╪═════════════╪═════════════╪════════════╡\n",
       "│ 5   ┆ 0   ┆ 0           ┆ 0           ┆ … ┆ 0           ┆ 0           ┆ 0           ┆ 0          │\n",
       "│ 7   ┆ 0   ┆ 0           ┆ 0           ┆ … ┆ 0           ┆ 0           ┆ 0           ┆ 0          │\n",
       "│ 9   ┆ 0   ┆ 0           ┆ 0           ┆ … ┆ 0           ┆ 0           ┆ 0           ┆ 0          │\n",
       "└─────┴─────┴─────────────┴─────────────┴───┴─────────────┴─────────────┴─────────────┴────────────┘"
      ],
      "text/html": [
       "<div><style>\n",
       ".dataframe > thead > tr,\n",
       ".dataframe > tbody > tr {\n",
       "  text-align: right;\n",
       "  white-space: pre-wrap;\n",
       "}\n",
       "</style>\n",
       "<small>shape: (3, 785)</small><table border=\"1\" class=\"dataframe\"><thead><tr><th>6</th><th>0</th><th>0_duplicated_0</th><th>0_duplicated_1</th><th>0_duplicated_2</th><th>0_duplicated_3</th><th>0_duplicated_4</th><th>0_duplicated_5</th><th>0_duplicated_6</th><th>0_duplicated_7</th><th>0_duplicated_8</th><th>0_duplicated_9</th><th>0_duplicated_10</th><th>0_duplicated_11</th><th>0_duplicated_12</th><th>0_duplicated_13</th><th>0_duplicated_14</th><th>0_duplicated_15</th><th>0_duplicated_16</th><th>0_duplicated_17</th><th>0_duplicated_18</th><th>0_duplicated_19</th><th>0_duplicated_20</th><th>0_duplicated_21</th><th>0_duplicated_22</th><th>0_duplicated_23</th><th>0_duplicated_24</th><th>0_duplicated_25</th><th>0_duplicated_26</th><th>0_duplicated_27</th><th>0_duplicated_28</th><th>0_duplicated_29</th><th>0_duplicated_30</th><th>0_duplicated_31</th><th>0_duplicated_32</th><th>0_duplicated_33</th><th>0_duplicated_34</th><th>&hellip;</th><th>0_duplicated_553</th><th>0_duplicated_554</th><th>0_duplicated_555</th><th>0_duplicated_556</th><th>0_duplicated_557</th><th>0_duplicated_558</th><th>0_duplicated_559</th><th>0_duplicated_560</th><th>0_duplicated_561</th><th>0_duplicated_562</th><th>0_duplicated_563</th><th>0_duplicated_564</th><th>0_duplicated_565</th><th>0_duplicated_566</th><th>0_duplicated_567</th><th>0_duplicated_568</th><th>0_duplicated_569</th><th>0_duplicated_570</th><th>0_duplicated_571</th><th>0_duplicated_572</th><th>0_duplicated_573</th><th>0_duplicated_574</th><th>0_duplicated_575</th><th>0_duplicated_576</th><th>0_duplicated_577</th><th>0_duplicated_578</th><th>0_duplicated_579</th><th>0_duplicated_580</th><th>0_duplicated_581</th><th>0_duplicated_582</th><th>0_duplicated_583</th><th>0_duplicated_584</th><th>0_duplicated_585</th><th>0_duplicated_586</th><th>0_duplicated_587</th><th>0_duplicated_588</th><th>0_duplicated_589</th></tr><tr><td>i64</td><td>i64</td><td>i64</td><td>i64</td><td>i64</td><td>i64</td><td>i64</td><td>i64</td><td>i64</td><td>i64</td><td>i64</td><td>i64</td><td>i64</td><td>i64</td><td>i64</td><td>i64</td><td>i64</td><td>i64</td><td>i64</td><td>i64</td><td>i64</td><td>i64</td><td>i64</td><td>i64</td><td>i64</td><td>i64</td><td>i64</td><td>i64</td><td>i64</td><td>i64</td><td>i64</td><td>i64</td><td>i64</td><td>i64</td><td>i64</td><td>i64</td><td>i64</td><td>&hellip;</td><td>i64</td><td>i64</td><td>i64</td><td>i64</td><td>i64</td><td>i64</td><td>i64</td><td>i64</td><td>i64</td><td>i64</td><td>i64</td><td>i64</td><td>i64</td><td>i64</td><td>i64</td><td>i64</td><td>i64</td><td>i64</td><td>i64</td><td>i64</td><td>i64</td><td>i64</td><td>i64</td><td>i64</td><td>i64</td><td>i64</td><td>i64</td><td>i64</td><td>i64</td><td>i64</td><td>i64</td><td>i64</td><td>i64</td><td>i64</td><td>i64</td><td>i64</td><td>i64</td></tr></thead><tbody><tr><td>5</td><td>0</td><td>0</td><td>0</td><td>0</td><td>0</td><td>0</td><td>0</td><td>0</td><td>0</td><td>0</td><td>0</td><td>0</td><td>0</td><td>0</td><td>0</td><td>0</td><td>0</td><td>0</td><td>0</td><td>0</td><td>0</td><td>0</td><td>0</td><td>0</td><td>0</td><td>0</td><td>0</td><td>0</td><td>0</td><td>0</td><td>0</td><td>0</td><td>0</td><td>0</td><td>0</td><td>0</td><td>&hellip;</td><td>0</td><td>0</td><td>0</td><td>0</td><td>0</td><td>0</td><td>0</td><td>0</td><td>0</td><td>0</td><td>0</td><td>0</td><td>0</td><td>0</td><td>0</td><td>0</td><td>0</td><td>0</td><td>0</td><td>0</td><td>0</td><td>0</td><td>0</td><td>0</td><td>0</td><td>0</td><td>0</td><td>0</td><td>0</td><td>0</td><td>0</td><td>0</td><td>0</td><td>0</td><td>0</td><td>0</td><td>0</td></tr><tr><td>7</td><td>0</td><td>0</td><td>0</td><td>0</td><td>0</td><td>0</td><td>0</td><td>0</td><td>0</td><td>0</td><td>0</td><td>0</td><td>0</td><td>0</td><td>0</td><td>0</td><td>0</td><td>0</td><td>0</td><td>0</td><td>0</td><td>0</td><td>0</td><td>0</td><td>0</td><td>0</td><td>0</td><td>0</td><td>0</td><td>0</td><td>0</td><td>0</td><td>0</td><td>0</td><td>0</td><td>0</td><td>&hellip;</td><td>0</td><td>0</td><td>0</td><td>0</td><td>0</td><td>0</td><td>0</td><td>0</td><td>0</td><td>0</td><td>0</td><td>0</td><td>0</td><td>0</td><td>0</td><td>0</td><td>0</td><td>0</td><td>0</td><td>0</td><td>0</td><td>0</td><td>0</td><td>0</td><td>0</td><td>0</td><td>0</td><td>0</td><td>0</td><td>0</td><td>0</td><td>0</td><td>0</td><td>0</td><td>0</td><td>0</td><td>0</td></tr><tr><td>9</td><td>0</td><td>0</td><td>0</td><td>0</td><td>0</td><td>0</td><td>0</td><td>0</td><td>0</td><td>0</td><td>0</td><td>0</td><td>0</td><td>0</td><td>0</td><td>0</td><td>0</td><td>0</td><td>0</td><td>0</td><td>0</td><td>0</td><td>0</td><td>0</td><td>0</td><td>0</td><td>0</td><td>0</td><td>0</td><td>0</td><td>0</td><td>0</td><td>0</td><td>0</td><td>0</td><td>0</td><td>&hellip;</td><td>0</td><td>0</td><td>0</td><td>0</td><td>0</td><td>0</td><td>0</td><td>0</td><td>0</td><td>0</td><td>0</td><td>0</td><td>0</td><td>0</td><td>0</td><td>0</td><td>0</td><td>0</td><td>0</td><td>0</td><td>0</td><td>0</td><td>0</td><td>0</td><td>0</td><td>0</td><td>0</td><td>0</td><td>0</td><td>0</td><td>0</td><td>0</td><td>0</td><td>0</td><td>0</td><td>0</td><td>0</td></tr></tbody></table></div>"
      ]
     },
     "execution_count": 7,
     "metadata": {},
     "output_type": "execute_result"
    }
   ],
   "execution_count": 7
  },
  {
   "metadata": {
    "colab": {
     "base_uri": "https://localhost:8080/"
    },
    "id": "5ff03de90672c6c",
    "executionInfo": {
     "status": "ok",
     "timestamp": 1747382859617,
     "user_tz": -60,
     "elapsed": 249,
     "user": {
      "displayName": "Yoke Fei Pang",
      "userId": "01227211428198676453"
     }
    },
    "outputId": "a638c920-2871-46c6-cd95-0ac8b83b579e",
    "ExecuteTime": {
     "end_time": "2025-05-17T20:37:31.243132Z",
     "start_time": "2025-05-17T20:37:31.240371Z"
    }
   },
   "cell_type": "code",
   "source": [
    "# segregate the labels from the data\n",
    "data = raw_df.select(raw_df.columns[1:])\n",
    "labels = raw_df.select(raw_df.columns[0])\n",
    "\n",
    "print(data.shape)\n",
    "print(labels.shape)\n"
   ],
   "id": "5ff03de90672c6c",
   "outputs": [
    {
     "name": "stdout",
     "output_type": "stream",
     "text": [
      "(19999, 784)\n",
      "(19999, 1)\n"
     ]
    }
   ],
   "execution_count": 8
  },
  {
   "metadata": {
    "id": "c0e6824e27c91b1c",
    "executionInfo": {
     "status": "ok",
     "timestamp": 1747382859625,
     "user_tz": -60,
     "elapsed": 4,
     "user": {
      "displayName": "Yoke Fei Pang",
      "userId": "01227211428198676453"
     }
    },
    "ExecuteTime": {
     "end_time": "2025-05-17T20:37:31.304368Z",
     "start_time": "2025-05-17T20:37:31.302809Z"
    }
   },
   "cell_type": "code",
   "source": [
    "# data.columns"
   ],
   "id": "c0e6824e27c91b1c",
   "outputs": [],
   "execution_count": 9
  },
  {
   "metadata": {
    "colab": {
     "base_uri": "https://localhost:8080/",
     "height": 275
    },
    "id": "3c71427941f49e55",
    "executionInfo": {
     "status": "ok",
     "timestamp": 1747382860461,
     "user_tz": -60,
     "elapsed": 666,
     "user": {
      "displayName": "Yoke Fei Pang",
      "userId": "01227211428198676453"
     }
    },
    "outputId": "27366172-12ff-45ab-907f-eed2971999c1",
    "ExecuteTime": {
     "end_time": "2025-05-17T20:37:31.827305Z",
     "start_time": "2025-05-17T20:37:31.714597Z"
    }
   },
   "cell_type": "code",
   "source": [
    "# using scikit learn to normalize\n",
    "scaler = MinMaxScaler()\n",
    "dataNorm_np = scaler.fit_transform(data.to_numpy())\n",
    "\n",
    "# convert numpy array to polars dataframe\n",
    "dataNorm = pl.DataFrame(dataNorm_np, schema=data.columns)\n",
    "\n",
    "# inspect the data\n",
    "dataNorm.head()\n"
   ],
   "id": "3c71427941f49e55",
   "outputs": [
    {
     "data": {
      "text/plain": [
       "shape: (5, 784)\n",
       "┌─────┬────────────┬────────────┬────────────┬───┬────────────┬────────────┬───────────┬───────────┐\n",
       "│ 0   ┆ 0_duplicat ┆ 0_duplicat ┆ 0_duplicat ┆ … ┆ 0_duplicat ┆ 0_duplicat ┆ 0_duplica ┆ 0_duplica │\n",
       "│ --- ┆ ed_0       ┆ ed_1       ┆ ed_2       ┆   ┆ ed_586     ┆ ed_587     ┆ ted_588   ┆ ted_589   │\n",
       "│ f64 ┆ ---        ┆ ---        ┆ ---        ┆   ┆ ---        ┆ ---        ┆ ---       ┆ ---       │\n",
       "│     ┆ f64        ┆ f64        ┆ f64        ┆   ┆ f64        ┆ f64        ┆ f64       ┆ f64       │\n",
       "╞═════╪════════════╪════════════╪════════════╪═══╪════════════╪════════════╪═══════════╪═══════════╡\n",
       "│ 0.0 ┆ 0.0        ┆ 0.0        ┆ 0.0        ┆ … ┆ 0.0        ┆ 0.0        ┆ 0.0       ┆ 0.0       │\n",
       "│ 0.0 ┆ 0.0        ┆ 0.0        ┆ 0.0        ┆ … ┆ 0.0        ┆ 0.0        ┆ 0.0       ┆ 0.0       │\n",
       "│ 0.0 ┆ 0.0        ┆ 0.0        ┆ 0.0        ┆ … ┆ 0.0        ┆ 0.0        ┆ 0.0       ┆ 0.0       │\n",
       "│ 0.0 ┆ 0.0        ┆ 0.0        ┆ 0.0        ┆ … ┆ 0.0        ┆ 0.0        ┆ 0.0       ┆ 0.0       │\n",
       "│ 0.0 ┆ 0.0        ┆ 0.0        ┆ 0.0        ┆ … ┆ 0.0        ┆ 0.0        ┆ 0.0       ┆ 0.0       │\n",
       "└─────┴────────────┴────────────┴────────────┴───┴────────────┴────────────┴───────────┴───────────┘"
      ],
      "text/html": [
       "<div><style>\n",
       ".dataframe > thead > tr,\n",
       ".dataframe > tbody > tr {\n",
       "  text-align: right;\n",
       "  white-space: pre-wrap;\n",
       "}\n",
       "</style>\n",
       "<small>shape: (5, 784)</small><table border=\"1\" class=\"dataframe\"><thead><tr><th>0</th><th>0_duplicated_0</th><th>0_duplicated_1</th><th>0_duplicated_2</th><th>0_duplicated_3</th><th>0_duplicated_4</th><th>0_duplicated_5</th><th>0_duplicated_6</th><th>0_duplicated_7</th><th>0_duplicated_8</th><th>0_duplicated_9</th><th>0_duplicated_10</th><th>0_duplicated_11</th><th>0_duplicated_12</th><th>0_duplicated_13</th><th>0_duplicated_14</th><th>0_duplicated_15</th><th>0_duplicated_16</th><th>0_duplicated_17</th><th>0_duplicated_18</th><th>0_duplicated_19</th><th>0_duplicated_20</th><th>0_duplicated_21</th><th>0_duplicated_22</th><th>0_duplicated_23</th><th>0_duplicated_24</th><th>0_duplicated_25</th><th>0_duplicated_26</th><th>0_duplicated_27</th><th>0_duplicated_28</th><th>0_duplicated_29</th><th>0_duplicated_30</th><th>0_duplicated_31</th><th>0_duplicated_32</th><th>0_duplicated_33</th><th>0_duplicated_34</th><th>0_duplicated_35</th><th>&hellip;</th><th>0_duplicated_553</th><th>0_duplicated_554</th><th>0_duplicated_555</th><th>0_duplicated_556</th><th>0_duplicated_557</th><th>0_duplicated_558</th><th>0_duplicated_559</th><th>0_duplicated_560</th><th>0_duplicated_561</th><th>0_duplicated_562</th><th>0_duplicated_563</th><th>0_duplicated_564</th><th>0_duplicated_565</th><th>0_duplicated_566</th><th>0_duplicated_567</th><th>0_duplicated_568</th><th>0_duplicated_569</th><th>0_duplicated_570</th><th>0_duplicated_571</th><th>0_duplicated_572</th><th>0_duplicated_573</th><th>0_duplicated_574</th><th>0_duplicated_575</th><th>0_duplicated_576</th><th>0_duplicated_577</th><th>0_duplicated_578</th><th>0_duplicated_579</th><th>0_duplicated_580</th><th>0_duplicated_581</th><th>0_duplicated_582</th><th>0_duplicated_583</th><th>0_duplicated_584</th><th>0_duplicated_585</th><th>0_duplicated_586</th><th>0_duplicated_587</th><th>0_duplicated_588</th><th>0_duplicated_589</th></tr><tr><td>f64</td><td>f64</td><td>f64</td><td>f64</td><td>f64</td><td>f64</td><td>f64</td><td>f64</td><td>f64</td><td>f64</td><td>f64</td><td>f64</td><td>f64</td><td>f64</td><td>f64</td><td>f64</td><td>f64</td><td>f64</td><td>f64</td><td>f64</td><td>f64</td><td>f64</td><td>f64</td><td>f64</td><td>f64</td><td>f64</td><td>f64</td><td>f64</td><td>f64</td><td>f64</td><td>f64</td><td>f64</td><td>f64</td><td>f64</td><td>f64</td><td>f64</td><td>f64</td><td>&hellip;</td><td>f64</td><td>f64</td><td>f64</td><td>f64</td><td>f64</td><td>f64</td><td>f64</td><td>f64</td><td>f64</td><td>f64</td><td>f64</td><td>f64</td><td>f64</td><td>f64</td><td>f64</td><td>f64</td><td>f64</td><td>f64</td><td>f64</td><td>f64</td><td>f64</td><td>f64</td><td>f64</td><td>f64</td><td>f64</td><td>f64</td><td>f64</td><td>f64</td><td>f64</td><td>f64</td><td>f64</td><td>f64</td><td>f64</td><td>f64</td><td>f64</td><td>f64</td><td>f64</td></tr></thead><tbody><tr><td>0.0</td><td>0.0</td><td>0.0</td><td>0.0</td><td>0.0</td><td>0.0</td><td>0.0</td><td>0.0</td><td>0.0</td><td>0.0</td><td>0.0</td><td>0.0</td><td>0.0</td><td>0.0</td><td>0.0</td><td>0.0</td><td>0.0</td><td>0.0</td><td>0.0</td><td>0.0</td><td>0.0</td><td>0.0</td><td>0.0</td><td>0.0</td><td>0.0</td><td>0.0</td><td>0.0</td><td>0.0</td><td>0.0</td><td>0.0</td><td>0.0</td><td>0.0</td><td>0.0</td><td>0.0</td><td>0.0</td><td>0.0</td><td>0.0</td><td>&hellip;</td><td>0.0</td><td>0.0</td><td>0.0</td><td>0.0</td><td>0.0</td><td>0.0</td><td>0.0</td><td>0.0</td><td>0.0</td><td>0.0</td><td>0.0</td><td>0.0</td><td>0.0</td><td>0.0</td><td>0.0</td><td>0.0</td><td>0.0</td><td>0.0</td><td>0.0</td><td>0.0</td><td>0.0</td><td>0.0</td><td>0.0</td><td>0.0</td><td>0.0</td><td>0.0</td><td>0.0</td><td>0.0</td><td>0.0</td><td>0.0</td><td>0.0</td><td>0.0</td><td>0.0</td><td>0.0</td><td>0.0</td><td>0.0</td><td>0.0</td></tr><tr><td>0.0</td><td>0.0</td><td>0.0</td><td>0.0</td><td>0.0</td><td>0.0</td><td>0.0</td><td>0.0</td><td>0.0</td><td>0.0</td><td>0.0</td><td>0.0</td><td>0.0</td><td>0.0</td><td>0.0</td><td>0.0</td><td>0.0</td><td>0.0</td><td>0.0</td><td>0.0</td><td>0.0</td><td>0.0</td><td>0.0</td><td>0.0</td><td>0.0</td><td>0.0</td><td>0.0</td><td>0.0</td><td>0.0</td><td>0.0</td><td>0.0</td><td>0.0</td><td>0.0</td><td>0.0</td><td>0.0</td><td>0.0</td><td>0.0</td><td>&hellip;</td><td>0.0</td><td>0.0</td><td>0.0</td><td>0.0</td><td>0.0</td><td>0.0</td><td>0.0</td><td>0.0</td><td>0.0</td><td>0.0</td><td>0.0</td><td>0.0</td><td>0.0</td><td>0.0</td><td>0.0</td><td>0.0</td><td>0.0</td><td>0.0</td><td>0.0</td><td>0.0</td><td>0.0</td><td>0.0</td><td>0.0</td><td>0.0</td><td>0.0</td><td>0.0</td><td>0.0</td><td>0.0</td><td>0.0</td><td>0.0</td><td>0.0</td><td>0.0</td><td>0.0</td><td>0.0</td><td>0.0</td><td>0.0</td><td>0.0</td></tr><tr><td>0.0</td><td>0.0</td><td>0.0</td><td>0.0</td><td>0.0</td><td>0.0</td><td>0.0</td><td>0.0</td><td>0.0</td><td>0.0</td><td>0.0</td><td>0.0</td><td>0.0</td><td>0.0</td><td>0.0</td><td>0.0</td><td>0.0</td><td>0.0</td><td>0.0</td><td>0.0</td><td>0.0</td><td>0.0</td><td>0.0</td><td>0.0</td><td>0.0</td><td>0.0</td><td>0.0</td><td>0.0</td><td>0.0</td><td>0.0</td><td>0.0</td><td>0.0</td><td>0.0</td><td>0.0</td><td>0.0</td><td>0.0</td><td>0.0</td><td>&hellip;</td><td>0.0</td><td>0.0</td><td>0.0</td><td>0.0</td><td>0.0</td><td>0.0</td><td>0.0</td><td>0.0</td><td>0.0</td><td>0.0</td><td>0.0</td><td>0.0</td><td>0.0</td><td>0.0</td><td>0.0</td><td>0.0</td><td>0.0</td><td>0.0</td><td>0.0</td><td>0.0</td><td>0.0</td><td>0.0</td><td>0.0</td><td>0.0</td><td>0.0</td><td>0.0</td><td>0.0</td><td>0.0</td><td>0.0</td><td>0.0</td><td>0.0</td><td>0.0</td><td>0.0</td><td>0.0</td><td>0.0</td><td>0.0</td><td>0.0</td></tr><tr><td>0.0</td><td>0.0</td><td>0.0</td><td>0.0</td><td>0.0</td><td>0.0</td><td>0.0</td><td>0.0</td><td>0.0</td><td>0.0</td><td>0.0</td><td>0.0</td><td>0.0</td><td>0.0</td><td>0.0</td><td>0.0</td><td>0.0</td><td>0.0</td><td>0.0</td><td>0.0</td><td>0.0</td><td>0.0</td><td>0.0</td><td>0.0</td><td>0.0</td><td>0.0</td><td>0.0</td><td>0.0</td><td>0.0</td><td>0.0</td><td>0.0</td><td>0.0</td><td>0.0</td><td>0.0</td><td>0.0</td><td>0.0</td><td>0.0</td><td>&hellip;</td><td>0.0</td><td>0.0</td><td>0.0</td><td>0.0</td><td>0.0</td><td>0.0</td><td>0.0</td><td>0.0</td><td>0.0</td><td>0.0</td><td>0.0</td><td>0.0</td><td>0.0</td><td>0.0</td><td>0.0</td><td>0.0</td><td>0.0</td><td>0.0</td><td>0.0</td><td>0.0</td><td>0.0</td><td>0.0</td><td>0.0</td><td>0.0</td><td>0.0</td><td>0.0</td><td>0.0</td><td>0.0</td><td>0.0</td><td>0.0</td><td>0.0</td><td>0.0</td><td>0.0</td><td>0.0</td><td>0.0</td><td>0.0</td><td>0.0</td></tr><tr><td>0.0</td><td>0.0</td><td>0.0</td><td>0.0</td><td>0.0</td><td>0.0</td><td>0.0</td><td>0.0</td><td>0.0</td><td>0.0</td><td>0.0</td><td>0.0</td><td>0.0</td><td>0.0</td><td>0.0</td><td>0.0</td><td>0.0</td><td>0.0</td><td>0.0</td><td>0.0</td><td>0.0</td><td>0.0</td><td>0.0</td><td>0.0</td><td>0.0</td><td>0.0</td><td>0.0</td><td>0.0</td><td>0.0</td><td>0.0</td><td>0.0</td><td>0.0</td><td>0.0</td><td>0.0</td><td>0.0</td><td>0.0</td><td>0.0</td><td>&hellip;</td><td>0.0</td><td>0.0</td><td>0.0</td><td>0.0</td><td>0.0</td><td>0.0</td><td>0.0</td><td>0.0</td><td>0.0</td><td>0.0</td><td>0.0</td><td>0.0</td><td>0.0</td><td>0.0</td><td>0.0</td><td>0.0</td><td>0.0</td><td>0.0</td><td>0.0</td><td>0.0</td><td>0.0</td><td>0.0</td><td>0.0</td><td>0.0</td><td>0.0</td><td>0.0</td><td>0.0</td><td>0.0</td><td>0.0</td><td>0.0</td><td>0.0</td><td>0.0</td><td>0.0</td><td>0.0</td><td>0.0</td><td>0.0</td><td>0.0</td></tr></tbody></table></div>"
      ]
     },
     "execution_count": 10,
     "metadata": {},
     "output_type": "execute_result"
    }
   ],
   "execution_count": 10
  },
  {
   "metadata": {
    "colab": {
     "base_uri": "https://localhost:8080/",
     "height": 443
    },
    "id": "94a877c31ad857f5",
    "executionInfo": {
     "status": "ok",
     "timestamp": 1747382861107,
     "user_tz": -60,
     "elapsed": 644,
     "user": {
      "displayName": "Yoke Fei Pang",
      "userId": "01227211428198676453"
     }
    },
    "outputId": "c0374664-072a-4179-b8ad-d0f7947c1920",
    "ExecuteTime": {
     "end_time": "2025-05-17T20:37:31.924076Z",
     "start_time": "2025-05-17T20:37:31.853620Z"
    }
   },
   "cell_type": "code",
   "source": [
    "pl.DataFrame({\n",
    "    'pixel_value' : dataNorm.to_numpy().flatten(),\n",
    "    'data_type' : 'Normalized'\n",
    "})"
   ],
   "id": "94a877c31ad857f5",
   "outputs": [
    {
     "data": {
      "text/plain": [
       "shape: (15_679_216, 2)\n",
       "┌─────────────┬────────────┐\n",
       "│ pixel_value ┆ data_type  │\n",
       "│ ---         ┆ ---        │\n",
       "│ f64         ┆ str        │\n",
       "╞═════════════╪════════════╡\n",
       "│ 0.0         ┆ Normalized │\n",
       "│ 0.0         ┆ Normalized │\n",
       "│ 0.0         ┆ Normalized │\n",
       "│ 0.0         ┆ Normalized │\n",
       "│ 0.0         ┆ Normalized │\n",
       "│ …           ┆ …          │\n",
       "│ 0.0         ┆ Normalized │\n",
       "│ 0.0         ┆ Normalized │\n",
       "│ 0.0         ┆ Normalized │\n",
       "│ 0.0         ┆ Normalized │\n",
       "│ 0.0         ┆ Normalized │\n",
       "└─────────────┴────────────┘"
      ],
      "text/html": [
       "<div><style>\n",
       ".dataframe > thead > tr,\n",
       ".dataframe > tbody > tr {\n",
       "  text-align: right;\n",
       "  white-space: pre-wrap;\n",
       "}\n",
       "</style>\n",
       "<small>shape: (15_679_216, 2)</small><table border=\"1\" class=\"dataframe\"><thead><tr><th>pixel_value</th><th>data_type</th></tr><tr><td>f64</td><td>str</td></tr></thead><tbody><tr><td>0.0</td><td>&quot;Normalized&quot;</td></tr><tr><td>0.0</td><td>&quot;Normalized&quot;</td></tr><tr><td>0.0</td><td>&quot;Normalized&quot;</td></tr><tr><td>0.0</td><td>&quot;Normalized&quot;</td></tr><tr><td>0.0</td><td>&quot;Normalized&quot;</td></tr><tr><td>&hellip;</td><td>&hellip;</td></tr><tr><td>0.0</td><td>&quot;Normalized&quot;</td></tr><tr><td>0.0</td><td>&quot;Normalized&quot;</td></tr><tr><td>0.0</td><td>&quot;Normalized&quot;</td></tr><tr><td>0.0</td><td>&quot;Normalized&quot;</td></tr><tr><td>0.0</td><td>&quot;Normalized&quot;</td></tr></tbody></table></div>"
      ]
     },
     "execution_count": 11,
     "metadata": {},
     "output_type": "execute_result"
    }
   ],
   "execution_count": 11
  },
  {
   "metadata": {
    "id": "349af6d894b51bad",
    "executionInfo": {
     "status": "ok",
     "timestamp": 1747382861179,
     "user_tz": -60,
     "elapsed": 53,
     "user": {
      "displayName": "Yoke Fei Pang",
      "userId": "01227211428198676453"
     }
    },
    "ExecuteTime": {
     "end_time": "2025-05-17T20:37:31.986809Z",
     "start_time": "2025-05-17T20:37:31.984755Z"
    }
   },
   "cell_type": "code",
   "source": [
    "# # inspect the normalized data\n",
    "# px.histogram(\n",
    "#     data_frame=pl.DataFrame({\n",
    "#     'pixel_value' : dataNorm.to_numpy().flatten(),\n",
    "#     'data_type' : 'Normalized'\n",
    "#     }).sample(fraction=0.2), # too many rows so I sample a little\n",
    "#     x='pixel_value',\n",
    "#     nbins=50\n",
    "#\n",
    "# )"
   ],
   "id": "349af6d894b51bad",
   "outputs": [],
   "execution_count": 12
  },
  {
   "metadata": {
    "id": "70413fc98671b1ff",
    "executionInfo": {
     "status": "ok",
     "timestamp": 1747382861442,
     "user_tz": -60,
     "elapsed": 268,
     "user": {
      "displayName": "Yoke Fei Pang",
      "userId": "01227211428198676453"
     }
    },
    "ExecuteTime": {
     "end_time": "2025-05-17T20:37:32.405539Z",
     "start_time": "2025-05-17T20:37:32.368826Z"
    }
   },
   "cell_type": "code",
   "source": [
    "\n",
    "# convert to tensor data\n",
    "labelT = torch.tensor(labels.to_series().to_numpy()).long()\n",
    "dataT = torch.tensor(dataNorm.to_numpy()).float()"
   ],
   "id": "70413fc98671b1ff",
   "outputs": [],
   "execution_count": 13
  },
  {
   "metadata": {
    "colab": {
     "base_uri": "https://localhost:8080/"
    },
    "id": "a13cef67328a0a77",
    "executionInfo": {
     "status": "ok",
     "timestamp": 1747382861873,
     "user_tz": -60,
     "elapsed": 433,
     "user": {
      "displayName": "Yoke Fei Pang",
      "userId": "01227211428198676453"
     }
    },
    "outputId": "2ce553b6-26b3-4322-f80e-43669c32d993",
    "ExecuteTime": {
     "end_time": "2025-05-17T20:37:32.490545Z",
     "start_time": "2025-05-17T20:37:32.460008Z"
    }
   },
   "cell_type": "code",
   "source": [
    "# split the tensor dataset\n",
    "X_train, X_test, y_train, y_test = train_test_split(dataT, labelT, test_size=0.2, random_state=42)\n",
    "\n",
    "print(f\"Training data: {X_train.shape}, Training labels: {y_train.shape}\")\n",
    "print(f\"Testing data: {X_test.shape}, Testing labels: {y_test.shape}\")"
   ],
   "id": "a13cef67328a0a77",
   "outputs": [
    {
     "name": "stdout",
     "output_type": "stream",
     "text": [
      "Training data: torch.Size([15999, 784]), Training labels: torch.Size([15999])\n",
      "Testing data: torch.Size([4000, 784]), Testing labels: torch.Size([4000])\n"
     ]
    }
   ],
   "execution_count": 14
  },
  {
   "metadata": {
    "id": "98ba689eff418934",
    "executionInfo": {
     "status": "ok",
     "timestamp": 1747382861900,
     "user_tz": -60,
     "elapsed": 25,
     "user": {
      "displayName": "Yoke Fei Pang",
      "userId": "01227211428198676453"
     }
    },
    "ExecuteTime": {
     "end_time": "2025-05-17T20:37:32.504004Z",
     "start_time": "2025-05-17T20:37:32.502734Z"
    }
   },
   "cell_type": "code",
   "source": [
    "# convert to dateaset\n",
    "train_dataset = TensorDataset(X_train, y_train)\n",
    "test_dataset = TensorDataset(X_test, y_test)"
   ],
   "id": "98ba689eff418934",
   "outputs": [],
   "execution_count": 15
  },
  {
   "metadata": {
    "id": "bf10d885b58793e2",
    "executionInfo": {
     "status": "ok",
     "timestamp": 1747382861908,
     "user_tz": -60,
     "elapsed": 3,
     "user": {
      "displayName": "Yoke Fei Pang",
      "userId": "01227211428198676453"
     }
    },
    "ExecuteTime": {
     "end_time": "2025-05-17T20:37:32.525240Z",
     "start_time": "2025-05-17T20:37:32.523220Z"
    }
   },
   "cell_type": "code",
   "source": [
    "# convert DataLoader\n",
    "batchSize= 32\n",
    "train_loader = DataLoader(train_dataset, batch_size=batchSize, shuffle=True, drop_last=True)\n",
    "test_loader = DataLoader(test_dataset, batch_size=test_dataset.tensors[0].shape[0])"
   ],
   "id": "bf10d885b58793e2",
   "outputs": [],
   "execution_count": 16
  },
  {
   "metadata": {
    "colab": {
     "base_uri": "https://localhost:8080/"
    },
    "id": "cc7d8b61c0daea22",
    "executionInfo": {
     "status": "ok",
     "timestamp": 1747382862006,
     "user_tz": -60,
     "elapsed": 96,
     "user": {
      "displayName": "Yoke Fei Pang",
      "userId": "01227211428198676453"
     }
    },
    "outputId": "c4d0f879-c9e8-4f20-b913-abc9437f65f3",
    "ExecuteTime": {
     "end_time": "2025-05-17T20:37:32.544665Z",
     "start_time": "2025-05-17T20:37:32.537875Z"
    }
   },
   "cell_type": "code",
   "source": [
    "# check all the variables in the workspace\n",
    "%whos"
   ],
   "id": "cc7d8b61c0daea22",
   "outputs": [
    {
     "name": "stdout",
     "output_type": "stream",
     "text": [
      "Variable                        Type             Data/Info\n",
      "----------------------------------------------------------\n",
      "DataLoader                      type             <class 'torch.utils.data.dataloader.DataLoader'>\n",
      "F                               module           <module 'torch.nn.functio<...>/torch/nn/functional.py'>\n",
      "MinMaxScaler                    type             <class 'sklearn.preproces<...>sing._data.MinMaxScaler'>\n",
      "TensorDataset                   type             <class 'torch.utils.data.dataset.TensorDataset'>\n",
      "X_test                          Tensor           tensor([[0., 0., 0.,  ...<...>, 0.,  ..., 0., 0., 0.]])\n",
      "X_train                         Tensor           tensor([[0., 0., 0.,  ...<...>, 0.,  ..., 0., 0., 0.]])\n",
      "batchSize                       int              32\n",
      "data                            DataFrame        shape: (19_999, 784)\\n┌──<...>┴───────────┴───────────┘\n",
      "dataNorm                        DataFrame        shape: (19_999, 784)\\n┌──<...>┴───────────┴───────────┘\n",
      "dataNorm_np                     ndarray          19999x784: 15679216 elems, type `float64`, 125433728 bytes (119.6229248046875 Mb)\n",
      "dataT                           Tensor           tensor([[0., 0., 0.,  ...<...>, 0.,  ..., 0., 0., 0.]])\n",
      "labelT                          Tensor           tensor([5, 7, 9,  ..., 2, 9, 5])\n",
      "labels                          DataFrame        shape: (19_999, 1)\\n┌────<...>│ 9   │\\n│ 5   │\\n└─────┘\n",
      "nn                              module           <module 'torch.nn' from '<...>es/torch/nn/__init__.py'>\n",
      "np                              module           <module 'numpy' from '/op<...>kages/numpy/__init__.py'>\n",
      "pl                              module           <module 'polars' from '/o<...>ages/polars/__init__.py'>\n",
      "px                              module           <module 'plotly.express' <...>tly/express/__init__.py'>\n",
      "pydev_jupyter_vars              module           <module 'pydev_jupyter_va<...>g/pydev_jupyter_vars.py'>\n",
      "raw_df                          DataFrame        shape: (19_999, 785)\\n┌──<...>───────────┴────────────┘\n",
      "remove_imported_pydev_package   function         <function remove_imported<...>v_package at 0x10451f4c0>\n",
      "scaler                          MinMaxScaler     MinMaxScaler()\n",
      "sys                             module           <module 'sys' (built-in)>\n",
      "test_dataset                    TensorDataset    <torch.utils.data.dataset<...>et object at 0x16cd9a300>\n",
      "test_loader                     DataLoader       <torch.utils.data.dataloa<...>er object at 0x169733bc0>\n",
      "torch                           module           <module 'torch' from '/op<...>kages/torch/__init__.py'>\n",
      "train_dataset                   TensorDataset    <torch.utils.data.dataset<...>et object at 0x16b02fb90>\n",
      "train_loader                    DataLoader       <torch.utils.data.dataloa<...>er object at 0x16c9a94f0>\n",
      "train_test_split                function         <function train_test_split at 0x16a88f380>\n",
      "y_test                          Tensor           tensor([7, 7, 0,  ..., 6, 3, 8])\n",
      "y_train                         Tensor           tensor([2, 6, 1,  ..., 9, 9, 7])\n"
     ]
    }
   ],
   "execution_count": 17
  },
  {
   "metadata": {
    "id": "8c896903bd9dbea6"
   },
   "cell_type": "markdown",
   "source": [
    "## Create DL model"
   ],
   "id": "8c896903bd9dbea6"
  },
  {
   "metadata": {
    "id": "5ad6b48f2070b5c5",
    "executionInfo": {
     "status": "ok",
     "timestamp": 1747382862030,
     "user_tz": -60,
     "elapsed": 21,
     "user": {
      "displayName": "Yoke Fei Pang",
      "userId": "01227211428198676453"
     }
    },
    "ExecuteTime": {
     "end_time": "2025-05-17T20:37:32.564275Z",
     "start_time": "2025-05-17T20:37:32.561995Z"
    }
   },
   "cell_type": "code",
   "source": [
    "# define a class\n",
    "class ANN(nn.Module):\n",
    "    def __init__(self):\n",
    "        super().__init__()\n",
    "\n",
    "        # input layer\n",
    "        self.input = nn.Linear(784, 64)\n",
    "\n",
    "        # hidden layer\n",
    "        self.hidden1 = nn.Linear(64, 32)\n",
    "        self.hidden2 = nn.Linear(32, 32)\n",
    "\n",
    "        # output layer\n",
    "        self.output = nn.Linear(32, 10)\n",
    "\n",
    "    def forward(self, x):\n",
    "        x = F.relu(self.input(x))\n",
    "        x = F.relu(self.hidden1(x))\n",
    "        x = F.relu(self.hidden2(x))\n",
    "\n",
    "        # return log softmax as the output\n",
    "        return torch.log_softmax(self.output(x), axis=1)\n"
   ],
   "id": "5ad6b48f2070b5c5",
   "outputs": [],
   "execution_count": 18
  },
  {
   "metadata": {
    "id": "dc8ec096278554d0",
    "executionInfo": {
     "status": "ok",
     "timestamp": 1747382862063,
     "user_tz": -60,
     "elapsed": 35,
     "user": {
      "displayName": "Yoke Fei Pang",
      "userId": "01227211428198676453"
     }
    },
    "ExecuteTime": {
     "end_time": "2025-05-17T20:37:32.583710Z",
     "start_time": "2025-05-17T20:37:32.581631Z"
    }
   },
   "cell_type": "code",
   "source": [
    "# function to create the other components\n",
    "def createTheANNnet(learningRate=0.01, epochStep=10, gamma=1/2):\n",
    "    model = ANN()\n",
    "    lossfunc = nn.NLLLoss()\n",
    "    optimizer = torch.optim.Adam(model.parameters(), lr=learningRate)\n",
    "\n",
    "    step_size = len(train_loader) * epochStep\n",
    "    scheduler = torch.optim.lr_scheduler.StepLR(optimizer, step_size=step_size, gamma=gamma)\n",
    "\n",
    "    return model, lossfunc, optimizer, scheduler"
   ],
   "id": "dc8ec096278554d0",
   "outputs": [],
   "execution_count": 19
  },
  {
   "metadata": {
    "id": "178f1679af2adb3a"
   },
   "cell_type": "markdown",
   "source": [
    "### Test the model"
   ],
   "id": "178f1679af2adb3a"
  },
  {
   "metadata": {
    "colab": {
     "base_uri": "https://localhost:8080/"
    },
    "id": "6b66e11ec7ea46c1",
    "executionInfo": {
     "status": "ok",
     "timestamp": 1747382868819,
     "user_tz": -60,
     "elapsed": 6754,
     "user": {
      "displayName": "Yoke Fei Pang",
      "userId": "01227211428198676453"
     }
    },
    "outputId": "e2e4d519-cdf1-4e59-9db4-6a4a34d6af73",
    "ExecuteTime": {
     "end_time": "2025-05-17T20:37:33.098843Z",
     "start_time": "2025-05-17T20:37:32.599341Z"
    }
   },
   "cell_type": "code",
   "source": [
    "# test the model with one batch\n",
    "model, lossfunc, optimizer, scheduler= createTheANNnet(learningRate=0.01, epochStep=5, gamma=1/2)\n",
    "\n",
    "X, y = next(iter(train_loader))\n",
    "yhat = model(X)\n",
    "\n",
    "loss = lossfunc(yhat, y)\n",
    "print(loss)\n",
    "\n",
    "# the results:\n",
    "# tensor(2.2816, grad_fn=<NllLossBackward0>)"
   ],
   "id": "6b66e11ec7ea46c1",
   "outputs": [
    {
     "name": "stdout",
     "output_type": "stream",
     "text": [
      "tensor(2.3288, grad_fn=<NllLossBackward0>)\n"
     ]
    }
   ],
   "execution_count": 20
  },
  {
   "metadata": {
    "colab": {
     "base_uri": "https://localhost:8080/"
    },
    "id": "36144c0bddab8388",
    "executionInfo": {
     "status": "ok",
     "timestamp": 1747382868865,
     "user_tz": -60,
     "elapsed": 48,
     "user": {
      "displayName": "Yoke Fei Pang",
      "userId": "01227211428198676453"
     }
    },
    "outputId": "ab19aeaa-59b3-4330-825a-199f4efe6b36",
    "ExecuteTime": {
     "end_time": "2025-05-17T20:37:33.133803Z",
     "start_time": "2025-05-17T20:37:33.113688Z"
    }
   },
   "cell_type": "code",
   "source": [
    "# Backward pass to compute gradients\n",
    "loss.backward()\n",
    "\n",
    "# Now, let's inspect gradients for some parameters\n",
    "for name, param in model.named_parameters():\n",
    "    if param.requires_grad:\n",
    "        print(f\"{name} grad shape: {param.grad.shape}\")\n",
    "        print(f\"{name} grad sample:\\n{param.grad[:2]}\\n\")  # show just first 2 rows/values"
   ],
   "id": "36144c0bddab8388",
   "outputs": [
    {
     "name": "stdout",
     "output_type": "stream",
     "text": [
      "input.weight grad shape: torch.Size([64, 784])\n",
      "input.weight grad sample:\n",
      "tensor([[0., 0., 0.,  ..., 0., 0., 0.],\n",
      "        [0., 0., 0.,  ..., 0., 0., 0.]])\n",
      "\n",
      "input.bias grad shape: torch.Size([64])\n",
      "input.bias grad sample:\n",
      "tensor([ 0.0002, -0.0005])\n",
      "\n",
      "hidden1.weight grad shape: torch.Size([32, 64])\n",
      "hidden1.weight grad sample:\n",
      "tensor([[ 0.0000e+00,  0.0000e+00,  0.0000e+00,  0.0000e+00,  0.0000e+00,\n",
      "          0.0000e+00,  0.0000e+00,  0.0000e+00,  0.0000e+00,  0.0000e+00,\n",
      "          0.0000e+00,  0.0000e+00,  0.0000e+00,  0.0000e+00,  0.0000e+00,\n",
      "          0.0000e+00,  0.0000e+00,  0.0000e+00,  0.0000e+00,  0.0000e+00,\n",
      "          0.0000e+00,  0.0000e+00,  0.0000e+00,  0.0000e+00,  0.0000e+00,\n",
      "          0.0000e+00,  0.0000e+00,  0.0000e+00,  0.0000e+00,  0.0000e+00,\n",
      "          0.0000e+00,  0.0000e+00,  0.0000e+00,  0.0000e+00,  0.0000e+00,\n",
      "          0.0000e+00,  0.0000e+00,  0.0000e+00,  0.0000e+00,  0.0000e+00,\n",
      "          0.0000e+00,  0.0000e+00,  0.0000e+00,  0.0000e+00,  0.0000e+00,\n",
      "          0.0000e+00,  0.0000e+00,  0.0000e+00,  0.0000e+00,  0.0000e+00,\n",
      "          0.0000e+00,  0.0000e+00,  0.0000e+00,  0.0000e+00,  0.0000e+00,\n",
      "          0.0000e+00,  0.0000e+00,  0.0000e+00,  0.0000e+00,  0.0000e+00,\n",
      "          0.0000e+00,  0.0000e+00,  0.0000e+00,  0.0000e+00],\n",
      "        [ 4.7354e-04, -6.8200e-04,  1.4946e-03,  7.0200e-05,  5.4173e-06,\n",
      "          5.9175e-04, -9.9244e-04,  2.2474e-04,  5.3985e-04,  4.2009e-04,\n",
      "          1.3980e-04, -2.2349e-03,  6.0700e-04,  1.6894e-03, -7.9909e-04,\n",
      "         -1.1167e-03, -2.5824e-03, -1.2393e-03, -9.2419e-04, -2.2936e-04,\n",
      "         -2.0302e-04,  7.0677e-04, -1.1649e-03, -3.4602e-04, -1.1704e-03,\n",
      "          2.5395e-04,  1.8755e-04, -5.5662e-05,  7.1707e-04,  3.6475e-04,\n",
      "          1.1486e-05,  5.3306e-04,  7.0318e-04, -5.8211e-05,  3.6169e-04,\n",
      "         -2.2494e-03, -1.2253e-04,  2.5738e-04, -6.0445e-04, -2.1035e-03,\n",
      "          2.1759e-04, -2.0707e-04,  3.2476e-04, -9.4959e-04,  1.6041e-03,\n",
      "          7.7649e-04, -6.2536e-05, -3.5157e-03, -1.7376e-03, -3.7741e-04,\n",
      "          5.2778e-04, -2.0020e-03, -5.9057e-04, -4.9296e-04,  4.6010e-04,\n",
      "         -1.1174e-03, -6.4859e-04, -5.8777e-04, -2.8240e-03, -8.6157e-04,\n",
      "          3.5387e-04, -6.7846e-04, -3.8592e-03, -2.9828e-03]])\n",
      "\n",
      "hidden1.bias grad shape: torch.Size([32])\n",
      "hidden1.bias grad sample:\n",
      "tensor([0.0000, 0.0004])\n",
      "\n",
      "hidden2.weight grad shape: torch.Size([32, 32])\n",
      "hidden2.weight grad sample:\n",
      "tensor([[ 0.0000e+00,  3.8297e-03, -1.5186e-04, -1.0282e-04,  2.3696e-04,\n",
      "          0.0000e+00, -5.7621e-04,  0.0000e+00,  3.6177e-03, -5.3313e-04,\n",
      "          5.5705e-04,  1.5112e-04, -8.7585e-04, -3.0788e-04, -6.8116e-04,\n",
      "         -3.0962e-04, -4.4545e-04, -3.4058e-04,  3.7118e-03,  0.0000e+00,\n",
      "          3.5014e-03, -1.0918e-03,  0.0000e+00,  1.1467e-03, -6.6499e-05,\n",
      "          3.2525e-03,  1.8404e-04,  0.0000e+00,  2.5191e-03, -1.3351e-03,\n",
      "          6.1905e-05, -3.3746e-04],\n",
      "        [ 0.0000e+00,  3.4543e-03,  6.7286e-04,  1.5944e-04,  1.2385e-04,\n",
      "          0.0000e+00,  1.6219e-04,  0.0000e+00,  1.8139e-03,  6.2271e-04,\n",
      "          2.9245e-03,  2.9096e-04, -7.6037e-04, -6.2934e-04, -8.8641e-04,\n",
      "          1.8115e-04, -1.3751e-03,  5.9529e-04,  4.4138e-03,  0.0000e+00,\n",
      "          1.6927e-03, -8.7094e-04,  0.0000e+00,  1.8544e-03, -2.9054e-04,\n",
      "          6.2316e-03,  8.1280e-05,  0.0000e+00,  1.4148e-03,  1.3037e-03,\n",
      "          1.2008e-04,  6.0857e-05]])\n",
      "\n",
      "hidden2.bias grad shape: torch.Size([32])\n",
      "hidden2.bias grad sample:\n",
      "tensor([0.0147, 0.0111])\n",
      "\n",
      "output.weight grad shape: torch.Size([10, 32])\n",
      "output.weight grad sample:\n",
      "tensor([[ 0.0019,  0.0032,  0.0007,  0.0040,  0.0000,  0.0000,  0.0050,  0.0022,\n",
      "         -0.0003,  0.0047,  0.0032,  0.0000,  0.0050,  0.0000, -0.0032,  0.0000,\n",
      "          0.0040,  0.0024,  0.0000,  0.0000,  0.0025,  0.0036, -0.0011,  0.0011,\n",
      "          0.0000,  0.0002,  0.0023,  0.0000, -0.0007,  0.0023, -0.0007,  0.0012],\n",
      "        [ 0.0041,  0.0044, -0.0003,  0.0023,  0.0000,  0.0000,  0.0098,  0.0065,\n",
      "          0.0074,  0.0054,  0.0069,  0.0000,  0.0076,  0.0000,  0.0007,  0.0000,\n",
      "          0.0057,  0.0045,  0.0000,  0.0000,  0.0055,  0.0079,  0.0007,  0.0009,\n",
      "          0.0000,  0.0002,  0.0026,  0.0000,  0.0018,  0.0031,  0.0083,  0.0024]])\n",
      "\n",
      "output.bias grad shape: torch.Size([10])\n",
      "output.bias grad sample:\n",
      "tensor([0.0228, 0.0430])\n",
      "\n"
     ]
    }
   ],
   "execution_count": 21
  },
  {
   "metadata": {
    "id": "ffb6c6f4e699eb88"
   },
   "cell_type": "markdown",
   "source": [
    "## Create a function that trains the model"
   ],
   "id": "ffb6c6f4e699eb88"
  },
  {
   "metadata": {
    "id": "762d3eb66f244ed2",
    "executionInfo": {
     "status": "ok",
     "timestamp": 1747382868872,
     "user_tz": -60,
     "elapsed": 4,
     "user": {
      "displayName": "Yoke Fei Pang",
      "userId": "01227211428198676453"
     }
    },
    "ExecuteTime": {
     "end_time": "2025-05-17T20:37:33.152970Z",
     "start_time": "2025-05-17T20:37:33.149110Z"
    }
   },
   "cell_type": "code",
   "source": [
    "def trainModel(train_loader, test_loader, numepochs=100, toggleDynamicLR=True):\n",
    "    # define the empty dataframe\n",
    "    training_progress = pl.DataFrame(\n",
    "        schema=[\n",
    "            ('iteration', pl.Int64),\n",
    "            ('epoch', pl.Int64),\n",
    "            ('train_loss', pl.Float64),\n",
    "            ('train_acc', pl.Float64),\n",
    "            ('test_loss', pl.Float64),\n",
    "            ('test_acc', pl.Float64),\n",
    "            ('learning_rate', pl.Float64)\n",
    "        ]\n",
    "    )\n",
    "\n",
    "    iteration = 0\n",
    "    # create the ANN net\n",
    "    model, lossfunc, optimizer, scheduler = createTheANNnet(learningRate=0.01, epochStep=5, gamma=1/2)\n",
    "\n",
    "    # Get test data once (since we're using a test_loader that loads all data at once)\n",
    "    X_testTL, y_testTL = next(iter(test_loader))\n",
    "\n",
    "    for epoch in range(numepochs):\n",
    "        # Epoch training mode\n",
    "        model.train()\n",
    "\n",
    "        epoch_train_loss = 0\n",
    "        epoch_train_acc = 0\n",
    "        num_batches = 0\n",
    "\n",
    "        # Iterate through training batches\n",
    "        for X_trainTL, y_trainTL in train_loader:\n",
    "            yhat_train = model(X_trainTL)\n",
    "            train_loss = lossfunc(yhat_train, y_trainTL)\n",
    "\n",
    "            optimizer.zero_grad()\n",
    "            train_loss.backward()\n",
    "            optimizer.step()\n",
    "\n",
    "            if toggleDynamicLR:\n",
    "                scheduler.step()\n",
    "                current_lrs = scheduler.get_last_lr()[0]\n",
    "            else:\n",
    "                current_lrs = optimizer.param_groups[0]['lr']\n",
    "\n",
    "            # Accuracy\n",
    "            train_matches = (torch.argmax(yhat_train, axis=1) == y_trainTL).float()\n",
    "            train_acc = 100 * torch.mean(train_matches)\n",
    "\n",
    "            # num_batches = This is simply a counter for how many batches were processed in the epoch.\n",
    "            # epoch_train_loss = This is a running total of the training loss for all batches in the current epoch.\n",
    "            # epoch_train_loss / num_batches computes the average training loss per batch during the epoch.\n",
    "            epoch_train_loss += train_loss.item()\n",
    "            epoch_train_acc += train_acc.item()\n",
    "\n",
    "            num_batches += 1\n",
    "\n",
    "        # End of epoch: evaluate test set ONCE\n",
    "        model.eval()\n",
    "        with torch.no_grad():\n",
    "            yhat_test = model(X_testTL)\n",
    "            test_loss = lossfunc(yhat_test, y_testTL)\n",
    "            test_matches = (torch.argmax(yhat_test, axis=1) == y_testTL).float()\n",
    "            test_acc = 100 * torch.mean(test_matches)\n",
    "\n",
    "        # Log single row per epoch\n",
    "        new_row = pl.DataFrame([{\n",
    "            'iteration': iteration,\n",
    "            'epoch': epoch,\n",
    "            'train_loss': epoch_train_loss / num_batches,\n",
    "            'train_acc': epoch_train_acc / num_batches,\n",
    "            'test_loss': test_loss.item(),\n",
    "            'test_acc': test_acc.item(),\n",
    "            'learning_rate': current_lrs\n",
    "        }])\n",
    "\n",
    "        training_progress = pl.concat([training_progress, new_row])\n",
    "        iteration += 1\n",
    "\n",
    "        if epoch % 10 == 0 or epoch == numepochs - 1:\n",
    "            print(\n",
    "                f\"Epoch {epoch+1}/{numepochs} - \"\n",
    "                f\"Training: Loss={epoch_train_loss / num_batches:.4f}, \"\n",
    "                f\"Accuracy={epoch_train_acc / num_batches:.2f}% | \"\n",
    "                f\"Testing: Loss={test_loss.item():.4f}, \"\n",
    "                f\"Accuracy={test_acc.item():.2f}% | \"\n",
    "                f\"Learning Rate: {current_lrs:.6f}\"\n",
    "            )\n",
    "\n",
    "    return training_progress, model\n",
    "\n",
    "\n"
   ],
   "id": "762d3eb66f244ed2",
   "outputs": [],
   "execution_count": 22
  },
  {
   "metadata": {
    "colab": {
     "base_uri": "https://localhost:8080/"
    },
    "id": "ef6cafaab7a56f39",
    "executionInfo": {
     "status": "ok",
     "timestamp": 1747382916988,
     "user_tz": -60,
     "elapsed": 48113,
     "user": {
      "displayName": "Yoke Fei Pang",
      "userId": "01227211428198676453"
     }
    },
    "outputId": "2a11e5b4-d862-4360-8d6d-61950991d38a",
    "ExecuteTime": {
     "end_time": "2025-05-17T20:37:38.435124Z",
     "start_time": "2025-05-17T20:37:33.166096Z"
    }
   },
   "cell_type": "code",
   "source": [
    "# test the model\n",
    "training_progress, model = trainModel(train_loader=train_loader, test_loader=test_loader, numepochs=30, toggleDynamicLR=True)"
   ],
   "id": "ef6cafaab7a56f39",
   "outputs": [
    {
     "name": "stdout",
     "output_type": "stream",
     "text": [
      "Epoch 1/30 - Training: Loss=0.4671, Accuracy=85.37% | Testing: Loss=0.2661, Accuracy=92.45% | Learning Rate: 0.010000\n",
      "Epoch 11/30 - Training: Loss=0.0285, Accuracy=99.12% | Testing: Loss=0.1917, Accuracy=96.15% | Learning Rate: 0.002500\n",
      "Epoch 21/30 - Training: Loss=0.0022, Accuracy=99.92% | Testing: Loss=0.2875, Accuracy=96.25% | Learning Rate: 0.000625\n",
      "Epoch 30/30 - Training: Loss=0.0006, Accuracy=99.99% | Testing: Loss=0.3583, Accuracy=96.07% | Learning Rate: 0.000156\n"
     ]
    }
   ],
   "execution_count": 23
  },
  {
   "metadata": {
    "id": "bce444c5558f5eb8",
    "executionInfo": {
     "status": "ok",
     "timestamp": 1747382917016,
     "user_tz": -60,
     "elapsed": 25,
     "user": {
      "displayName": "Yoke Fei Pang",
      "userId": "01227211428198676453"
     }
    },
    "ExecuteTime": {
     "end_time": "2025-05-17T20:37:38.452202Z",
     "start_time": "2025-05-17T20:37:38.448399Z"
    }
   },
   "cell_type": "code",
   "source": [
    "# group to get the average of per epoch\n",
    "import polars.selectors as cs\n",
    "\n",
    "epoch_avg = (\n",
    "    training_progress\n",
    "    .group_by('epoch')\n",
    "    .agg(\n",
    "        cs.numeric().mean().name.prefix('mean_')\n",
    "    )\n",
    ")"
   ],
   "id": "bce444c5558f5eb8",
   "outputs": [],
   "execution_count": 24
  },
  {
   "metadata": {
    "colab": {
     "base_uri": "https://localhost:8080/",
     "height": 607
    },
    "id": "1db6c65beee65ae",
    "executionInfo": {
     "status": "ok",
     "timestamp": 1747382917452,
     "user_tz": -60,
     "elapsed": 432,
     "user": {
      "displayName": "Yoke Fei Pang",
      "userId": "01227211428198676453"
     }
    },
    "outputId": "fa182c75-6c40-4426-946d-e715509ccbd3",
    "ExecuteTime": {
     "end_time": "2025-05-17T20:37:38.764589Z",
     "start_time": "2025-05-17T20:37:38.467391Z"
    }
   },
   "cell_type": "code",
   "source": [
    "# Plot training progress\n",
    "import matplotlib.pyplot as plt\n",
    "\n",
    "# Create figure with two y-axes\n",
    "fig, ax1 = plt.subplots(figsize=(10, 6))\n",
    "ax2 = ax1.twinx()\n",
    "\n",
    "# Plot losses on left axis - using your grouped data\n",
    "ax1.plot(epoch_avg['epoch'].to_numpy(), epoch_avg['mean_train_loss'].to_numpy(), 'b-', label='Train Loss')\n",
    "ax1.plot(epoch_avg['epoch'].to_numpy(), epoch_avg['mean_test_loss'].to_numpy(), 'r-', label='Test Loss')\n",
    "ax1.set_xlabel('Epoch')\n",
    "ax1.set_ylabel('Loss', color='b')\n",
    "ax1.tick_params(axis='y', labelcolor='b')\n",
    "\n",
    "# Plot accuracies on right axis\n",
    "ax2.plot(epoch_avg['epoch'].to_numpy(), epoch_avg['mean_train_acc'].to_numpy(), 'b--', label='Train Acc')\n",
    "ax2.plot(epoch_avg['epoch'].to_numpy(), epoch_avg['mean_test_acc'].to_numpy(), 'r--', label='Test Acc')\n",
    "ax2.set_ylabel('Accuracy (%)', color='r')\n",
    "ax2.tick_params(axis='y', labelcolor='r')\n",
    "\n",
    "# Add legend\n",
    "lines1, labels1 = ax1.get_legend_handles_labels()\n",
    "lines2, labels2 = ax2.get_legend_handles_labels()\n",
    "ax1.legend(lines1 + lines2, labels1 + labels2, loc='upper right')\n",
    "\n",
    "plt.title('Training Progress')\n",
    "plt.tight_layout()\n",
    "plt.show()"
   ],
   "id": "1db6c65beee65ae",
   "outputs": [
    {
     "data": {
      "text/plain": [
       "<Figure size 1000x600 with 2 Axes>"
      ],
      "image/png": "[encoded data removed]"
     },
     "metadata": {},
     "output_type": "display_data"
    }
   ],
   "execution_count": 25
  },
  {
   "metadata": {
    "colab": {
     "base_uri": "https://localhost:8080/"
    },
    "id": "e01ffb0992901568",
    "executionInfo": {
     "status": "ok",
     "timestamp": 1747382917579,
     "user_tz": -60,
     "elapsed": 123,
     "user": {
      "displayName": "Yoke Fei Pang",
      "userId": "01227211428198676453"
     }
    },
    "outputId": "9ee46eb1-1840-47c2-f507-18146b568d2b",
    "ExecuteTime": {
     "end_time": "2025-05-17T20:37:38.862388Z",
     "start_time": "2025-05-17T20:37:38.794709Z"
    }
   },
   "cell_type": "code",
   "source": [
    "# Final model evaluation\n",
    "model.eval()\n",
    "with torch.no_grad():\n",
    "    X_testTL, y_testTL = next(iter(test_loader))\n",
    "    yhat_test = model(X_testTL)\n",
    "    test_loss = lossfunc(yhat_test, y_testTL)\n",
    "\n",
    "    # Calculate test accuracy\n",
    "    test_matches = (torch.argmax(yhat_test, axis=1) == y_testTL).float()\n",
    "    test_acc = 100 * torch.mean(test_matches)\n",
    "\n",
    "    print(f\"\\nFinal model performance - Test Loss: {test_loss:.4f}, Test Accuracy: {test_acc:.2f}%\")"
   ],
   "id": "e01ffb0992901568",
   "outputs": [
    {
     "name": "stdout",
     "output_type": "stream",
     "text": [
      "\n",
      "Final model performance - Test Loss: 0.3583, Test Accuracy: 96.07%\n"
     ]
    }
   ],
   "execution_count": 26
  },
  {
   "metadata": {
    "colab": {
     "base_uri": "https://localhost:8080/"
    },
    "id": "8e91bcb6f4916575",
    "executionInfo": {
     "status": "ok",
     "timestamp": 1747382917595,
     "user_tz": -60,
     "elapsed": 12,
     "user": {
      "displayName": "Yoke Fei Pang",
      "userId": "01227211428198676453"
     }
    },
    "outputId": "f88ec3ce-075b-4009-af88-fae5ffef019e",
    "ExecuteTime": {
     "end_time": "2025-05-17T20:37:38.930513Z",
     "start_time": "2025-05-17T20:37:38.927807Z"
    }
   },
   "cell_type": "code",
   "source": [
    "# this is the softmax function\n",
    "yhat_test[123]"
   ],
   "id": "8e91bcb6f4916575",
   "outputs": [
    {
     "data": {
      "text/plain": [
       "tensor([-46.4768, -32.6952, -38.4149, -50.3046,   0.0000, -37.3915, -43.2132,\n",
       "        -29.4055, -42.8673, -29.6677])"
      ]
     },
     "execution_count": 27,
     "metadata": {},
     "output_type": "execute_result"
    }
   ],
   "execution_count": 27
  },
  {
   "metadata": {
    "colab": {
     "base_uri": "https://localhost:8080/",
     "height": 542
    },
    "id": "650f72a5ed81aa7e",
    "executionInfo": {
     "status": "ok",
     "timestamp": 1747382919740,
     "user_tz": -60,
     "elapsed": 2142,
     "user": {
      "displayName": "Yoke Fei Pang",
      "userId": "01227211428198676453"
     }
    },
    "outputId": "42b62f17-64ef-48ce-94e5-89162eca5932",
    "ExecuteTime": {
     "end_time": "2025-05-17T20:38:17.063045Z",
     "start_time": "2025-05-17T20:38:17.003562Z"
    }
   },
   "cell_type": "code",
   "source": [
    "# inspect the numbers from one sample\n",
    "# use the exponent to reverse the effect log softmax\n",
    "px.bar(x=range(10), y=torch.exp(yhat_test[34])).show(renderer='svg')"
   ],
   "id": "650f72a5ed81aa7e",
   "outputs": [
    {
     "data": {
      "image/svg+xml": "<svg class=\"main-svg\" xmlns=\"http://www.w3.org/2000/svg\" xmlns:xlink=\"http://www.w3.org/1999/xlink\" width=\"700\" height=\"500\" style=\"\" viewBox=\"0 0 700 500\"><rect x=\"0\" y=\"0\" width=\"700\" height=\"500\" style=\"fill: rgb(255, 255, 255); fill-opacity: 1;\"/><defs id=\"defs-10bb48\"><g class=\"clips\"><clipPath id=\"clip10bb48xyplot\" class=\"plotclip\"><rect width=\"540\" height=\"360\"/></clipPath><clipPath class=\"axesclip\" id=\"clip10bb48x\"><rect x=\"80\" y=\"0\" width=\"540\" height=\"500\"/></clipPath><clipPath class=\"axesclip\" id=\"clip10bb48y\"><rect x=\"0\" y=\"60\" width=\"700\" height=\"360\"/></clipPath><clipPath class=\"axesclip\" id=\"clip10bb48xy\"><rect x=\"80\" y=\"60\" width=\"540\" height=\"360\"/></clipPath></g><g class=\"gradients\"/><g class=\"patterns\"/></defs><g class=\"bglayer\"><rect class=\"bg\" x=\"80\" y=\"60\" width=\"540\" height=\"360\" style=\"fill: rgb(229, 236, 246); fill-opacity: 1; stroke-width: 0;\"/></g><g class=\"layer-below\"><g class=\"imagelayer\"/><g class=\"shapelayer\"/></g><g class=\"cartesianlayer\"><g class=\"subplot xy\"><g class=\"layer-subplot\"><g class=\"shapelayer\"/><g class=\"imagelayer\"/></g><g class=\"minor-gridlayer\"><g class=\"x\"/><g class=\"y\"/></g><g class=\"gridlayer\"><g class=\"x\"/><g class=\"y\"><path class=\"ygrid crisp\" transform=\"translate(0,351.6)\" d=\"M80,0h540\" style=\"stroke: rgb(255, 255, 255); stroke-opacity: 1; stroke-width: 1px;\"/><path class=\"ygrid crisp\" transform=\"translate(0,283.2)\" d=\"M80,0h540\" style=\"stroke: rgb(255, 255, 255); stroke-opacity: 1; stroke-width: 1px;\"/><path class=\"ygrid crisp\" transform=\"translate(0,214.8)\" d=\"M80,0h540\" style=\"stroke: rgb(255, 255, 255); stroke-opacity: 1; stroke-width: 1px;\"/><path class=\"ygrid crisp\" transform=\"translate(0,146.4)\" d=\"M80,0h540\" style=\"stroke: rgb(255, 255, 255); stroke-opacity: 1; stroke-width: 1px;\"/><path class=\"ygrid crisp\" transform=\"translate(0,78)\" d=\"M80,0h540\" style=\"stroke: rgb(255, 255, 255); stroke-opacity: 1; stroke-width: 1px;\"/></g></g><g class=\"zerolinelayer\"><path class=\"yzl zl crisp\" transform=\"translate(0,420)\" d=\"M80,0h540\" style=\"stroke: rgb(255, 255, 255); stroke-opacity: 1; stroke-width: 2px;\"/></g><g class=\"layer-between\"><g class=\"shapelayer\"/><g class=\"imagelayer\"/></g><path class=\"xlines-below\"/><path class=\"ylines-below\"/><g class=\"overlines-below\"/><g class=\"xaxislayer-below\"/><g class=\"yaxislayer-below\"/><g class=\"overaxes-below\"/><g class=\"overplot\"><g class=\"xy\" transform=\"translate(80,60)\" clip-path=\"url(#clip10bb48xyplot)\"><g class=\"barlayer mlayer\"><g class=\"trace bars\" style=\"opacity: 1;\"><g class=\"points\"><g class=\"point\"><path d=\"M5.4,360V360H48.6V360Z\" style=\"vector-effect: none; opacity: 1; stroke-width: 0.5px; fill: rgb(99, 110, 250); fill-opacity: 1; stroke: rgb(229, 236, 246); stroke-opacity: 1;\"/></g><g class=\"point\"><path d=\"M59.4,360V360H102.6V360Z\" style=\"vector-effect: none; opacity: 1; stroke-width: 0.5px; fill: rgb(99, 110, 250); fill-opacity: 1; stroke: rgb(229, 236, 246); stroke-opacity: 1;\"/></g><g class=\"point\"><path d=\"M113.4,360V360H156.6V360Z\" style=\"vector-effect: none; opacity: 1; stroke-width: 0.5px; fill: rgb(99, 110, 250); fill-opacity: 1; stroke: rgb(229, 236, 246); stroke-opacity: 1;\"/></g><g class=\"point\"><path d=\"M167.4,360V360H210.6V360Z\" style=\"vector-effect: none; opacity: 1; stroke-width: 0.5px; fill: rgb(99, 110, 250); fill-opacity: 1; stroke: rgb(229, 236, 246); stroke-opacity: 1;\"/></g><g class=\"point\"><path d=\"M221.4,360V18H264.6V360Z\" style=\"vector-effect: none; opacity: 1; stroke-width: 0.5px; fill: rgb(99, 110, 250); fill-opacity: 1; stroke: rgb(229, 236, 246); stroke-opacity: 1;\"/></g><g class=\"point\"><path d=\"M275.4,360V360H318.6V360Z\" style=\"vector-effect: none; opacity: 1; stroke-width: 0.5px; fill: rgb(99, 110, 250); fill-opacity: 1; stroke: rgb(229, 236, 246); stroke-opacity: 1;\"/></g><g class=\"point\"><path d=\"M329.4,360V360H372.6V360Z\" style=\"vector-effect: none; opacity: 1; stroke-width: 0.5px; fill: rgb(99, 110, 250); fill-opacity: 1; stroke: rgb(229, 236, 246); stroke-opacity: 1;\"/></g><g class=\"point\"><path d=\"M383.4,360V360H426.6V360Z\" style=\"vector-effect: none; opacity: 1; stroke-width: 0.5px; fill: rgb(99, 110, 250); fill-opacity: 1; stroke: rgb(229, 236, 246); stroke-opacity: 1;\"/></g><g class=\"point\"><path d=\"M437.4,360V360H480.6V360Z\" style=\"vector-effect: none; opacity: 1; stroke-width: 0.5px; fill: rgb(99, 110, 250); fill-opacity: 1; stroke: rgb(229, 236, 246); stroke-opacity: 1;\"/></g><g class=\"point\"><path d=\"M491.4,360V360H534.6V360Z\" style=\"vector-effect: none; opacity: 1; stroke-width: 0.5px; fill: rgb(99, 110, 250); fill-opacity: 1; stroke: rgb(229, 236, 246); stroke-opacity: 1;\"/></g></g></g></g></g></g><path class=\"xlines-above crisp\" d=\"M0,0\" style=\"fill: none;\"/><path class=\"ylines-above crisp\" d=\"M0,0\" style=\"fill: none;\"/><g class=\"overlines-above\"/><g class=\"xaxislayer-above\"><g class=\"xtick\"><text text-anchor=\"middle\" x=\"0\" y=\"433\" transform=\"translate(107,0)\" style=\"font-family: 'Open Sans', verdana, arial, sans-serif; font-size: 12px; fill: rgb(42, 63, 95); fill-opacity: 1; white-space: pre; opacity: 1;\">0</text></g><g class=\"xtick\"><text text-anchor=\"middle\" x=\"0\" y=\"433\" style=\"font-family: 'Open Sans', verdana, arial, sans-serif; font-size: 12px; fill: rgb(42, 63, 95); fill-opacity: 1; white-space: pre; opacity: 1;\" transform=\"translate(215,0)\">2</text></g><g class=\"xtick\"><text text-anchor=\"middle\" x=\"0\" y=\"433\" style=\"font-family: 'Open Sans', verdana, arial, sans-serif; font-size: 12px; fill: rgb(42, 63, 95); fill-opacity: 1; white-space: pre; opacity: 1;\" transform=\"translate(323,0)\">4</text></g><g class=\"xtick\"><text text-anchor=\"middle\" x=\"0\" y=\"433\" style=\"font-family: 'Open Sans', verdana, arial, sans-serif; font-size: 12px; fill: rgb(42, 63, 95); fill-opacity: 1; white-space: pre; opacity: 1;\" transform=\"translate(431,0)\">6</text></g><g class=\"xtick\"><text text-anchor=\"middle\" x=\"0\" y=\"433\" style=\"font-family: 'Open Sans', verdana, arial, sans-serif; font-size: 12px; fill: rgb(42, 63, 95); fill-opacity: 1; white-space: pre; opacity: 1;\" transform=\"translate(539,0)\">8</text></g></g><g class=\"yaxislayer-above\"><g class=\"ytick\"><text text-anchor=\"end\" x=\"79\" y=\"4.199999999999999\" transform=\"translate(0,420)\" style=\"font-family: 'Open Sans', verdana, arial, sans-serif; font-size: 12px; fill: rgb(42, 63, 95); fill-opacity: 1; white-space: pre; opacity: 1;\">0</text></g><g class=\"ytick\"><text text-anchor=\"end\" x=\"79\" y=\"4.199999999999999\" style=\"font-family: 'Open Sans', verdana, arial, sans-serif; font-size: 12px; fill: rgb(42, 63, 95); fill-opacity: 1; white-space: pre; opacity: 1;\" transform=\"translate(0,351.6)\">0.2</text></g><g class=\"ytick\"><text text-anchor=\"end\" x=\"79\" y=\"4.199999999999999\" style=\"font-family: 'Open Sans', verdana, arial, sans-serif; font-size: 12px; fill: rgb(42, 63, 95); fill-opacity: 1; white-space: pre; opacity: 1;\" transform=\"translate(0,283.2)\">0.4</text></g><g class=\"ytick\"><text text-anchor=\"end\" x=\"79\" y=\"4.199999999999999\" style=\"font-family: 'Open Sans', verdana, arial, sans-serif; font-size: 12px; fill: rgb(42, 63, 95); fill-opacity: 1; white-space: pre; opacity: 1;\" transform=\"translate(0,214.8)\">0.6</text></g><g class=\"ytick\"><text text-anchor=\"end\" x=\"79\" y=\"4.199999999999999\" style=\"font-family: 'Open Sans', verdana, arial, sans-serif; font-size: 12px; fill: rgb(42, 63, 95); fill-opacity: 1; white-space: pre; opacity: 1;\" transform=\"translate(0,146.4)\">0.8</text></g><g class=\"ytick\"><text text-anchor=\"end\" x=\"79\" y=\"4.199999999999999\" style=\"font-family: 'Open Sans', verdana, arial, sans-serif; font-size: 12px; fill: rgb(42, 63, 95); fill-opacity: 1; white-space: pre; opacity: 1;\" transform=\"translate(0,78)\">1</text></g></g><g class=\"overaxes-above\"/></g></g><g class=\"polarlayer\"/><g class=\"smithlayer\"/><g class=\"ternarylayer\"/><g class=\"geolayer\"/><g class=\"funnelarealayer\"/><g class=\"pielayer\"/><g class=\"iciclelayer\"/><g class=\"treemaplayer\"/><g class=\"sunburstlayer\"/><g class=\"glimages\"/><defs id=\"topdefs-10bb48\"><g class=\"clips\"/></defs><g class=\"layer-above\"><g class=\"imagelayer\"/><g class=\"shapelayer\"/></g><g class=\"infolayer\"><g class=\"g-gtitle\"/><g class=\"g-xtitle\"><text class=\"xtitle\" x=\"350\" y=\"459.8\" text-anchor=\"middle\" style=\"opacity: 1; font-family: 'Open Sans', verdana, arial, sans-serif; font-size: 14px; fill: rgb(42, 63, 95); fill-opacity: 1; white-space: pre;\">x</text></g><g class=\"g-ytitle\"><text class=\"ytitle\" transform=\"rotate(-90,39.975,240)\" x=\"39.975\" y=\"240\" text-anchor=\"middle\" style=\"opacity: 1; font-family: 'Open Sans', verdana, arial, sans-serif; font-size: 14px; fill: rgb(42, 63, 95); fill-opacity: 1; white-space: pre;\">y</text></g></g></svg>"
     },
     "metadata": {},
     "output_type": "display_data"
    }
   ],
   "execution_count": 40
  },
  {
   "metadata": {
    "colab": {
     "base_uri": "https://localhost:8080/"
    },
    "id": "fc04cf1e2ad0dd6",
    "executionInfo": {
     "status": "ok",
     "timestamp": 1747382919784,
     "user_tz": -60,
     "elapsed": 37,
     "user": {
      "displayName": "Yoke Fei Pang",
      "userId": "01227211428198676453"
     }
    },
    "outputId": "66611702-9a2b-4e58-faff-397e9e3d3d7a",
    "ExecuteTime": {
     "end_time": "2025-05-17T20:37:39.316497Z",
     "start_time": "2025-05-17T20:37:39.312777Z"
    }
   },
   "cell_type": "code",
   "source": [
    "# check what is the real answer\n",
    "y_testTL[34]"
   ],
   "id": "fc04cf1e2ad0dd6",
   "outputs": [
    {
     "data": {
      "text/plain": [
       "tensor(9)"
      ]
     },
     "execution_count": 29,
     "metadata": {},
     "output_type": "execute_result"
    }
   ],
   "execution_count": 29
  },
  {
   "metadata": {
    "id": "4fab24d723606d0e",
    "executionInfo": {
     "status": "ok",
     "timestamp": 1747382919786,
     "user_tz": -60,
     "elapsed": 8,
     "user": {
      "displayName": "Yoke Fei Pang",
      "userId": "01227211428198676453"
     }
    },
    "ExecuteTime": {
     "end_time": "2025-05-17T20:37:39.360587Z",
     "start_time": "2025-05-17T20:37:39.357035Z"
    }
   },
   "cell_type": "code",
   "source": [
    "# find the errors\n",
    "# errors = np.where( torch.max(yhat_test,axis=1)[1] != y )[0]\n",
    "# print(errors)"
   ],
   "id": "4fab24d723606d0e",
   "outputs": [],
   "execution_count": 30
  },
  {
   "cell_type": "code",
   "source": [
    "yhat_test[34]"
   ],
   "metadata": {
    "colab": {
     "base_uri": "https://localhost:8080/"
    },
    "id": "RWeljbKse-ug",
    "executionInfo": {
     "status": "ok",
     "timestamp": 1747382919799,
     "user_tz": -60,
     "elapsed": 11,
     "user": {
      "displayName": "Yoke Fei Pang",
      "userId": "01227211428198676453"
     }
    },
    "outputId": "85e52cc4-ab89-4349-8bbf-565cab4aeccb",
    "ExecuteTime": {
     "end_time": "2025-05-17T20:37:39.413306Z",
     "start_time": "2025-05-17T20:37:39.408402Z"
    }
   },
   "id": "RWeljbKse-ug",
   "outputs": [
    {
     "data": {
      "text/plain": [
       "tensor([-1.9914e+01, -1.6639e+01, -1.7053e+01, -1.9480e+01, -5.8412e-06,\n",
       "        -1.5624e+01, -1.8767e+01, -1.3238e+01, -1.7544e+01, -1.2482e+01])"
      ]
     },
     "execution_count": 31,
     "metadata": {},
     "output_type": "execute_result"
    }
   ],
   "execution_count": 31
  },
  {
   "metadata": {
    "colab": {
     "base_uri": "https://localhost:8080/"
    },
    "id": "c65a8e5b0f934389",
    "executionInfo": {
     "status": "ok",
     "timestamp": 1747382919814,
     "user_tz": -60,
     "elapsed": 12,
     "user": {
      "displayName": "Yoke Fei Pang",
      "userId": "01227211428198676453"
     }
    },
    "outputId": "e40a26da-473d-4c5a-ecda-cc0714aae1c8",
    "ExecuteTime": {
     "end_time": "2025-05-17T20:37:39.434087Z",
     "start_time": "2025-05-17T20:37:39.431230Z"
    }
   },
   "cell_type": "code",
   "source": [
    "np.argmax(yhat_test.numpy(), axis=1)[34]"
   ],
   "id": "c65a8e5b0f934389",
   "outputs": [
    {
     "data": {
      "text/plain": [
       "np.int64(4)"
      ]
     },
     "execution_count": 32,
     "metadata": {},
     "output_type": "execute_result"
    }
   ],
   "execution_count": 32
  },
  {
   "metadata": {
    "colab": {
     "base_uri": "https://localhost:8080/"
    },
    "id": "8238bf5a3250c692",
    "executionInfo": {
     "status": "ok",
     "timestamp": 1747382919852,
     "user_tz": -60,
     "elapsed": 35,
     "user": {
      "displayName": "Yoke Fei Pang",
      "userId": "01227211428198676453"
     }
    },
    "outputId": "15effa35-7cf6-4162-80b8-04388728ea38",
    "ExecuteTime": {
     "end_time": "2025-05-17T20:37:39.472976Z",
     "start_time": "2025-05-17T20:37:39.468701Z"
    }
   },
   "cell_type": "code",
   "source": [
    "(yhat_test[43])"
   ],
   "id": "8238bf5a3250c692",
   "outputs": [
    {
     "data": {
      "text/plain": [
       "tensor([-1.7638e+01, -1.6444e+01, -2.1826e+01, -9.4165e+00, -6.4778e+00,\n",
       "        -1.4498e+01, -3.5756e+01, -1.0292e+01, -1.5296e+01, -1.6547e-03])"
      ]
     },
     "execution_count": 33,
     "metadata": {},
     "output_type": "execute_result"
    }
   ],
   "execution_count": 33
  },
  {
   "metadata": {
    "colab": {
     "base_uri": "https://localhost:8080/"
    },
    "id": "a1f09fdd5f433b33",
    "executionInfo": {
     "status": "ok",
     "timestamp": 1747382919872,
     "user_tz": -60,
     "elapsed": 17,
     "user": {
      "displayName": "Yoke Fei Pang",
      "userId": "01227211428198676453"
     }
    },
    "outputId": "28a1b001-3748-4949-dbc3-e019273e22a5",
    "ExecuteTime": {
     "end_time": "2025-05-17T20:37:39.518552Z",
     "start_time": "2025-05-17T20:37:39.513712Z"
    }
   },
   "cell_type": "code",
   "source": [
    "np.exp(yhat_test[43])"
   ],
   "id": "a1f09fdd5f433b33",
   "outputs": [
    {
     "name": "stderr",
     "output_type": "stream",
     "text": [
      "/var/folders/f8/vcqysvdd39j1b3z4bt0ttjt40000gn/T/ipykernel_25547/843111899.py:1: DeprecationWarning:\n",
      "\n",
      "__array_wrap__ must accept context and return_scalar arguments (positionally) in the future. (Deprecated NumPy 2.0)\n",
      "\n"
     ]
    },
    {
     "data": {
      "text/plain": [
       "tensor([2.1875e-08, 7.2173e-08, 3.3211e-10, 8.1374e-05, 1.5371e-03, 5.0533e-07,\n",
       "        2.9613e-16, 3.3915e-05, 2.2753e-07, 9.9835e-01])"
      ]
     },
     "execution_count": 34,
     "metadata": {},
     "output_type": "execute_result"
    }
   ],
   "execution_count": 34
  },
  {
   "metadata": {
    "colab": {
     "base_uri": "https://localhost:8080/",
     "height": 443
    },
    "id": "a27b9e060d673bdd",
    "executionInfo": {
     "status": "ok",
     "timestamp": 1747382919883,
     "user_tz": -60,
     "elapsed": 7,
     "user": {
      "displayName": "Yoke Fei Pang",
      "userId": "01227211428198676453"
     }
    },
    "outputId": "c678a384-a823-469c-bb5d-055a678de416",
    "ExecuteTime": {
     "end_time": "2025-05-17T20:37:39.552495Z",
     "start_time": "2025-05-17T20:37:39.548745Z"
    }
   },
   "cell_type": "code",
   "source": [
    "# The index of the maximum value corresponds to the predicted class label\n",
    "wrong_predictions = pl.DataFrame({\n",
    "    'true_label': y_testTL.numpy(),\n",
    "    'predicted_label' : np.argmax(yhat_test.numpy(), axis=1)\n",
    "})\n",
    "\n",
    "wrong_predictions"
   ],
   "id": "a27b9e060d673bdd",
   "outputs": [
    {
     "data": {
      "text/plain": [
       "shape: (4_000, 2)\n",
       "┌────────────┬─────────────────┐\n",
       "│ true_label ┆ predicted_label │\n",
       "│ ---        ┆ ---             │\n",
       "│ i64        ┆ i64             │\n",
       "╞════════════╪═════════════════╡\n",
       "│ 7          ┆ 7               │\n",
       "│ 7          ┆ 7               │\n",
       "│ 0          ┆ 0               │\n",
       "│ 9          ┆ 9               │\n",
       "│ 4          ┆ 4               │\n",
       "│ …          ┆ …               │\n",
       "│ 7          ┆ 7               │\n",
       "│ 0          ┆ 9               │\n",
       "│ 6          ┆ 6               │\n",
       "│ 3          ┆ 3               │\n",
       "│ 8          ┆ 8               │\n",
       "└────────────┴─────────────────┘"
      ],
      "text/html": [
       "<div><style>\n",
       ".dataframe > thead > tr,\n",
       ".dataframe > tbody > tr {\n",
       "  text-align: right;\n",
       "  white-space: pre-wrap;\n",
       "}\n",
       "</style>\n",
       "<small>shape: (4_000, 2)</small><table border=\"1\" class=\"dataframe\"><thead><tr><th>true_label</th><th>predicted_label</th></tr><tr><td>i64</td><td>i64</td></tr></thead><tbody><tr><td>7</td><td>7</td></tr><tr><td>7</td><td>7</td></tr><tr><td>0</td><td>0</td></tr><tr><td>9</td><td>9</td></tr><tr><td>4</td><td>4</td></tr><tr><td>&hellip;</td><td>&hellip;</td></tr><tr><td>7</td><td>7</td></tr><tr><td>0</td><td>9</td></tr><tr><td>6</td><td>6</td></tr><tr><td>3</td><td>3</td></tr><tr><td>8</td><td>8</td></tr></tbody></table></div>"
      ]
     },
     "execution_count": 35,
     "metadata": {},
     "output_type": "execute_result"
    }
   ],
   "execution_count": 35
  },
  {
   "metadata": {
    "colab": {
     "base_uri": "https://localhost:8080/",
     "height": 443
    },
    "id": "aa0dbd68c46c4d8b",
    "executionInfo": {
     "status": "ok",
     "timestamp": 1747382919921,
     "user_tz": -60,
     "elapsed": 36,
     "user": {
      "displayName": "Yoke Fei Pang",
      "userId": "01227211428198676453"
     }
    },
    "outputId": "8cc49526-53de-49db-8e4a-e30df608f836",
    "ExecuteTime": {
     "end_time": "2025-05-17T20:37:39.593845Z",
     "start_time": "2025-05-17T20:37:39.589473Z"
    }
   },
   "cell_type": "code",
   "source": [
    "# find all the rows with wrong predictions\n",
    "(\n",
    "    wrong_predictions\n",
    "    .with_row_index(name='index')\n",
    "    .filter(pl.col('true_label') != pl.col('predicted_label'))\n",
    ")"
   ],
   "id": "aa0dbd68c46c4d8b",
   "outputs": [
    {
     "data": {
      "text/plain": [
       "shape: (157, 3)\n",
       "┌───────┬────────────┬─────────────────┐\n",
       "│ index ┆ true_label ┆ predicted_label │\n",
       "│ ---   ┆ ---        ┆ ---             │\n",
       "│ u32   ┆ i64        ┆ i64             │\n",
       "╞═══════╪════════════╪═════════════════╡\n",
       "│ 34    ┆ 9          ┆ 4               │\n",
       "│ 159   ┆ 5          ┆ 6               │\n",
       "│ 172   ┆ 4          ┆ 8               │\n",
       "│ 179   ┆ 3          ┆ 7               │\n",
       "│ 197   ┆ 9          ┆ 5               │\n",
       "│ …     ┆ …          ┆ …               │\n",
       "│ 3915  ┆ 9          ┆ 3               │\n",
       "│ 3932  ┆ 8          ┆ 5               │\n",
       "│ 3966  ┆ 5          ┆ 6               │\n",
       "│ 3967  ┆ 2          ┆ 4               │\n",
       "│ 3996  ┆ 0          ┆ 9               │\n",
       "└───────┴────────────┴─────────────────┘"
      ],
      "text/html": [
       "<div><style>\n",
       ".dataframe > thead > tr,\n",
       ".dataframe > tbody > tr {\n",
       "  text-align: right;\n",
       "  white-space: pre-wrap;\n",
       "}\n",
       "</style>\n",
       "<small>shape: (157, 3)</small><table border=\"1\" class=\"dataframe\"><thead><tr><th>index</th><th>true_label</th><th>predicted_label</th></tr><tr><td>u32</td><td>i64</td><td>i64</td></tr></thead><tbody><tr><td>34</td><td>9</td><td>4</td></tr><tr><td>159</td><td>5</td><td>6</td></tr><tr><td>172</td><td>4</td><td>8</td></tr><tr><td>179</td><td>3</td><td>7</td></tr><tr><td>197</td><td>9</td><td>5</td></tr><tr><td>&hellip;</td><td>&hellip;</td><td>&hellip;</td></tr><tr><td>3915</td><td>9</td><td>3</td></tr><tr><td>3932</td><td>8</td><td>5</td></tr><tr><td>3966</td><td>5</td><td>6</td></tr><tr><td>3967</td><td>2</td><td>4</td></tr><tr><td>3996</td><td>0</td><td>9</td></tr></tbody></table></div>"
      ]
     },
     "execution_count": 36,
     "metadata": {},
     "output_type": "execute_result"
    }
   ],
   "execution_count": 36
  },
  {
   "metadata": {
    "colab": {
     "base_uri": "https://localhost:8080/"
    },
    "id": "b0c2659e8e2e437",
    "executionInfo": {
     "status": "ok",
     "timestamp": 1747382919955,
     "user_tz": -60,
     "elapsed": 31,
     "user": {
      "displayName": "Yoke Fei Pang",
      "userId": "01227211428198676453"
     }
    },
    "outputId": "6d4ed7ba-3ece-45ed-8bdd-7150a545b783",
    "ExecuteTime": {
     "end_time": "2025-05-17T20:37:39.736400Z",
     "start_time": "2025-05-17T20:37:39.731114Z"
    }
   },
   "cell_type": "code",
   "source": [
    "# reshaping the row of pixels\n",
    "np.reshape(data[52, :], (28,28))"
   ],
   "id": "b0c2659e8e2e437",
   "outputs": [
    {
     "data": {
      "text/plain": [
       "array([[  0,   0,   0,   0,   0,   0,   0,   0,   0,   0,   0,   0,   0,\n",
       "          0,   0,   0,   0,   0,   0,   0,   0,   0,   0,   0,   0,   0,\n",
       "          0,   0],\n",
       "       [  0,   0,   0,   0,   0,   0,   0,   0,   0,   0,   0,   0,   0,\n",
       "          0,   0,   0,   0,   0,   0,   0,   0,   0,   0,   0,   0,   0,\n",
       "          0,   0],\n",
       "       [  0,   0,   0,   0,   0,   0,   0,   0,   0,   0,   0,   0,   0,\n",
       "          0,   0,   0,   0,   0,   0,   0,   0,   0,   0,   0,   0,   0,\n",
       "          0,   0],\n",
       "       [  0,   0,   0,   0,   0,   0,   0,   0,   0,   0,   0,   0,   0,\n",
       "          0,   0,   0,   0,   0,   0,   0,   0,   0,   0,   0,   0,   0,\n",
       "          0,   0],\n",
       "       [  0,   0,   0,   0,   0,   0,   0,   0,   0,   0,   0,   0,   0,\n",
       "          0,   0,   0,   0,   0,   0,   0,   0,   0,   0,   0,   0,   0,\n",
       "          0,   0],\n",
       "       [  0,   0,   0,   0,   0,   0,   0,   0,   0,   0,   0,   0,   0,\n",
       "          0,   0,   0,   0,   0,   0,   0,   0,   0,   0,   0,   0,   0,\n",
       "          0,   0],\n",
       "       [  0,   0,   0,   0,   0,   0,   0,   0,   0,   0,   0,  11,  65,\n",
       "        190, 255, 242,  57,   0,   0,   0,   0,   0,   0,   0,   0,   0,\n",
       "          0,   0],\n",
       "       [  0,   0,   0,   0,   0,   0,   0,   0,   0,   0,  49, 237, 252,\n",
       "        252, 253, 252, 237,  60,   0,   0,   0,   0,   0,   0,   0,   0,\n",
       "          0,   0],\n",
       "       [  0,   0,   0,   0,   0,   0,   0,   0,   0,  46, 189, 252, 252,\n",
       "        252, 253, 231, 238, 234,  71,  37,  25,   0,   0,   0,   0,   0,\n",
       "          0,   0],\n",
       "       [  0,   0,   0,   0,   0,   0,   0,   0,  12, 164, 252, 252, 231,\n",
       "        146,  84,  36,  70, 236, 252, 252, 184,   7,   0,   0,   0,   0,\n",
       "          0,   0],\n",
       "       [  0,   0,   0,   0,   0,   0,   0,  12, 164, 252, 252, 200,  52,\n",
       "          0,   0,   0,  27, 229, 252, 252, 252,  36,   0,   0,   0,   0,\n",
       "          0,   0],\n",
       "       [  0,   0,   0,   0,   0,   0,   0,  84, 252, 252, 228,  25,   0,\n",
       "          0,   0,   0,  37, 252, 252, 252, 228,  25,   0,   0,   0,   0,\n",
       "          0,   0],\n",
       "       [  0,   0,   0,   0,   0,   0,  30, 237, 252, 228,  54,   0,   0,\n",
       "          0,   0,  49, 166, 252, 252, 252, 128,   0,   0,   0,   0,   0,\n",
       "          0,   0],\n",
       "       [  0,   0,   0,   0,   0,   0,   6, 134, 252, 207,  19,   0,  42,\n",
       "         97, 160, 237, 252, 252, 252, 224,  30,   0,   0,   0,   0,   0,\n",
       "          0,   0],\n",
       "       [  0,   0,   0,   0,   0,   0,   0,  49, 252, 252, 233, 229, 239,\n",
       "        252, 253, 252, 252, 252, 252, 128,   0,   0,   0,   0,   0,   0,\n",
       "          0,   0],\n",
       "       [  0,   0,   0,   0,   0,   0,   0,   3, 127, 252, 252, 252, 252,\n",
       "        252, 253, 252, 252, 252, 252,  60,   0,   0,   0,   0,   0,   0,\n",
       "          0,   0],\n",
       "       [  0,   0,   0,   0,   0,   0,   0,   0,   0,  35, 121, 121, 121,\n",
       "        121,  70, 253, 253, 253, 129,   0,   0,   0,   0,   0,   0,   0,\n",
       "          0,   0],\n",
       "       [  0,   0,   0,   0,   0,   0,   0,   0,   0,   0,   0,   0,   0,\n",
       "          0, 150, 252, 252, 247,  65,   0,   0,   0,   0,   0,   0,   0,\n",
       "          0,   0],\n",
       "       [  0,   0,   0,   0,   0,   0,   0,   0,   0,   0,   0,   0,   0,\n",
       "          0, 253, 252, 252, 186,   0,   0,   0,   0,   0,   0,   0,   0,\n",
       "          0,   0],\n",
       "       [  0,   0,   0,   0,   0,   0,   0,   0,   0,   0,   0,   0,   0,\n",
       "         24, 253, 252, 245,  68,   0,   0,   0,   0,   0,   0,   0,   0,\n",
       "          0,   0],\n",
       "       [  0,   0,   0,   0,   0,   0,   0,   0,   0,   0,   0,   0,   0,\n",
       "        149, 253, 252, 187,   0,   0,   0,   0,   0,   0,   0,   0,   0,\n",
       "          0,   0],\n",
       "       [  0,   0,   0,   0,   0,   0,   0,   0,   0,   0,   0,   0,  32,\n",
       "        244, 253, 252,  96,   0,   0,   0,   0,   0,   0,   0,   0,   0,\n",
       "          0,   0],\n",
       "       [  0,   0,   0,   0,   0,   0,   0,   0,   0,   0,   0,   0, 109,\n",
       "        252, 253, 244,  64,   0,   0,   0,   0,   0,   0,   0,   0,   0,\n",
       "          0,   0],\n",
       "       [  0,   0,   0,   0,   0,   0,   0,   0,   0,   0,   0,   0, 212,\n",
       "        252, 253, 125,   0,   0,   0,   0,   0,   0,   0,   0,   0,   0,\n",
       "          0,   0],\n",
       "       [  0,   0,   0,   0,   0,   0,   0,   0,   0,   0,   0,   0, 229,\n",
       "        252, 248,  62,   0,   0,   0,   0,   0,   0,   0,   0,   0,   0,\n",
       "          0,   0],\n",
       "       [  0,   0,   0,   0,   0,   0,   0,   0,   0,   0,   0,   0, 171,\n",
       "        252, 183,   0,   0,   0,   0,   0,   0,   0,   0,   0,   0,   0,\n",
       "          0,   0],\n",
       "       [  0,   0,   0,   0,   0,   0,   0,   0,   0,   0,   0,   0,   0,\n",
       "          0,   0,   0,   0,   0,   0,   0,   0,   0,   0,   0,   0,   0,\n",
       "          0,   0],\n",
       "       [  0,   0,   0,   0,   0,   0,   0,   0,   0,   0,   0,   0,   0,\n",
       "          0,   0,   0,   0,   0,   0,   0,   0,   0,   0,   0,   0,   0,\n",
       "          0,   0]])"
      ]
     },
     "execution_count": 37,
     "metadata": {},
     "output_type": "execute_result"
    }
   ],
   "execution_count": 37
  },
  {
   "metadata": {
    "colab": {
     "base_uri": "https://localhost:8080/",
     "height": 542
    },
    "id": "75f2b06e7f25376a",
    "executionInfo": {
     "status": "ok",
     "timestamp": 1747382920002,
     "user_tz": -60,
     "elapsed": 52,
     "user": {
      "displayName": "Yoke Fei Pang",
      "userId": "01227211428198676453"
     }
    },
    "outputId": "2c2542b5-6641-4043-a47e-ceb2b6cec30c",
    "ExecuteTime": {
     "end_time": "2025-05-17T20:38:04.920093Z",
     "start_time": "2025-05-17T20:38:02.962869Z"
    }
   },
   "cell_type": "code",
   "source": [
    "# check a wrong prediction\n",
    "px.imshow(\n",
    "    np.reshape(X_test[34, :], (28,28))\n",
    ").show(renderer='svg')"
   ],
   "id": "75f2b06e7f25376a",
   "outputs": [
    {
     "data": {
      "image/svg+xml": "<svg class=\"main-svg\" xmlns=\"http://www.w3.org/2000/svg\" xmlns:xlink=\"http://www.w3.org/1999/xlink\" width=\"700\" height=\"500\" style=\"\" viewBox=\"0 0 700 500\"><rect x=\"0\" y=\"0\" width=\"700\" height=\"500\" style=\"fill: rgb(255, 255, 255); fill-opacity: 1;\"/><defs id=\"defs-7ff9ea\"><g class=\"clips\"><clipPath id=\"clip7ff9eaxyplot\" class=\"plotclip\"><rect width=\"360.00000000000006\" height=\"360\"/></clipPath><clipPath class=\"axesclip\" id=\"clip7ff9eax\"><rect x=\"164\" y=\"0\" width=\"360.00000000000006\" height=\"500\"/></clipPath><clipPath class=\"axesclip\" id=\"clip7ff9eay\"><rect x=\"0\" y=\"60\" width=\"700\" height=\"360\"/></clipPath><clipPath class=\"axesclip\" id=\"clip7ff9eaxy\"><rect x=\"164\" y=\"60\" width=\"360.00000000000006\" height=\"360\"/></clipPath></g><g class=\"gradients\"><linearGradient x1=\"0\" y1=\"1\" x2=\"0\" y2=\"0\" gradientUnits=\"objectBoundingBox\" id=\"g7ff9ea-cbcoloraxis\"><stop offset=\"0%\" stop-color=\"rgb(13, 8, 135)\" stop-opacity=\"1\"/><stop offset=\"11.111111%\" stop-color=\"rgb(70, 3, 159)\" stop-opacity=\"1\"/><stop offset=\"22.222222%\" stop-color=\"rgb(114, 1, 168)\" stop-opacity=\"1\"/><stop offset=\"33.333333%\" stop-color=\"rgb(156, 23, 158)\" stop-opacity=\"1\"/><stop offset=\"44.444444%\" stop-color=\"rgb(189, 55, 134)\" stop-opacity=\"1\"/><stop offset=\"55.555556%\" stop-color=\"rgb(216, 87, 107)\" stop-opacity=\"1\"/><stop offset=\"66.666667%\" stop-color=\"rgb(237, 121, 83)\" stop-opacity=\"1\"/><stop offset=\"77.777778%\" stop-color=\"rgb(251, 159, 58)\" stop-opacity=\"1\"/><stop offset=\"88.888889%\" stop-color=\"rgb(253, 202, 38)\" stop-opacity=\"1\"/><stop offset=\"100%\" stop-color=\"rgb(240, 249, 33)\" stop-opacity=\"1\"/></linearGradient></g><g class=\"patterns\"/></defs><g class=\"bglayer\"><rect class=\"bg\" x=\"164\" y=\"60\" width=\"360.00000000000006\" height=\"360\" style=\"fill: rgb(229, 236, 246); fill-opacity: 1; stroke-width: 0;\"/></g><g class=\"layer-below\"><g class=\"imagelayer\"/><g class=\"shapelayer\"/></g><g class=\"cartesianlayer\"><g class=\"subplot xy\"><g class=\"layer-subplot\"><g class=\"shapelayer\"/><g class=\"imagelayer\"/></g><g class=\"minor-gridlayer\"><g class=\"x\"/><g class=\"y\"/></g><g class=\"gridlayer\"><g class=\"x\"><path class=\"xgrid crisp\" transform=\"translate(299,0)\" d=\"M0,60v360\" style=\"stroke: rgb(255, 255, 255); stroke-opacity: 1; stroke-width: 1px;\"/><path class=\"xgrid crisp\" transform=\"translate(427.57,0)\" d=\"M0,60v360\" style=\"stroke: rgb(255, 255, 255); stroke-opacity: 1; stroke-width: 1px;\"/></g><g class=\"y\"><path class=\"ygrid crisp\" transform=\"translate(0,387.86)\" d=\"M164,0h360.00000000000006\" style=\"stroke: rgb(255, 255, 255); stroke-opacity: 1; stroke-width: 1px;\"/><path class=\"ygrid crisp\" transform=\"translate(0,323.57)\" d=\"M164,0h360.00000000000006\" style=\"stroke: rgb(255, 255, 255); stroke-opacity: 1; stroke-width: 1px;\"/><path class=\"ygrid crisp\" transform=\"translate(0,259.28999999999996)\" d=\"M164,0h360.00000000000006\" style=\"stroke: rgb(255, 255, 255); stroke-opacity: 1; stroke-width: 1px;\"/><path class=\"ygrid crisp\" transform=\"translate(0,195)\" d=\"M164,0h360.00000000000006\" style=\"stroke: rgb(255, 255, 255); stroke-opacity: 1; stroke-width: 1px;\"/><path class=\"ygrid crisp\" transform=\"translate(0,130.70999999999998)\" d=\"M164,0h360.00000000000006\" style=\"stroke: rgb(255, 255, 255); stroke-opacity: 1; stroke-width: 1px;\"/></g></g><g class=\"zerolinelayer\"><path class=\"xzl zl crisp\" transform=\"translate(170.43,0)\" d=\"M0,60v360\" style=\"stroke: rgb(255, 255, 255); stroke-opacity: 1; stroke-width: 2px;\"/><path class=\"yzl zl crisp\" transform=\"translate(0,66.43)\" d=\"M164,0h360.00000000000006\" style=\"stroke: rgb(255, 255, 255); stroke-opacity: 1; stroke-width: 2px;\"/></g><g class=\"layer-between\"><g class=\"shapelayer\"/><g class=\"imagelayer\"/></g><path class=\"xlines-below\"/><path class=\"ylines-below\"/><g class=\"overlines-below\"/><g class=\"xaxislayer-below\"/><g class=\"yaxislayer-below\"/><g class=\"overaxes-below\"/><g class=\"overplot\"><g class=\"xy\" transform=\"translate(164,60)\" clip-path=\"url(#clip7ff9eaxyplot)\"><g class=\"heatmaplayer mlayer\"><g class=\"hm\"><image xmlns=\"http://www.w3.org/2000/svg\" preserveAspectRatio=\"none\" height=\"360\" width=\"360\" x=\"0\" y=\"0\" xlink:href=\"data:image/png;base64,iVBORw0KGgoAAAANSUhEUgAAABwAAAAcCAYAAAByDd+UAAABjElEQVRIS2Pk5Wj/z0BHwDhqIbVDe2gEqcNvKYZW3wsM+w8aMNR8f0ZSIJDlw6vxNxk4+b4xKE02JMkykGKSLTT6I8qw6VMrw2rFWobCjy9pb+GZgMcMSv5nGBQSwhlKOEUY9DWeMPhfYCLaYpJ9+HbKVoZdkwIZIm/9YriZdoVBsOgkg5hGMm0sjPwlz9DzvoahRqCVYSnbY4aXK1Yy/Db8SDsL369fwfDzuhiDTJULA8d/Zobrn6YysD9npp2FL2/NYehUa2LoY3jEoPVHiGHn1w4G3nNsDAKOCbQJUpCFjUotDNNYHjCsUGdlsD41leFZjA+D+WYp2lt4J/siA3vbSdpb2KLczKAg+JMh6koLwx/+f7S18P3WpQyMzP8Z/v9mYvhi9wUcjBeckhh8z7LQJkg9fkkzLN/ZzfDtjCzDq+syDCKzdzNkcDYxbGV7QhsLkU2FJZpRC9HDmuSyFGbAyAnSXTrFDMmPP9M+lRb8l2OomTyDITMjg2E12yPaW0i0DWgKyU40Q8ZCAIMbyRE8T9/uAAAAAElFTkSuQmCC\" style=\"image-rendering: pixelated; opacity: 1;\"/></g></g></g></g><path class=\"xlines-above crisp\" d=\"M0,0\" style=\"fill: none;\"/><path class=\"ylines-above crisp\" d=\"M0,0\" style=\"fill: none;\"/><g class=\"overlines-above\"/><g class=\"xaxislayer-above\"><g class=\"xtick\"><text text-anchor=\"middle\" x=\"0\" y=\"433\" transform=\"translate(170.43,0)\" style=\"font-family: 'Open Sans', verdana, arial, sans-serif; font-size: 12px; fill: rgb(42, 63, 95); fill-opacity: 1; white-space: pre; opacity: 1;\">0</text></g><g class=\"xtick\"><text text-anchor=\"middle\" x=\"0\" y=\"433\" style=\"font-family: 'Open Sans', verdana, arial, sans-serif; font-size: 12px; fill: rgb(42, 63, 95); fill-opacity: 1; white-space: pre; opacity: 1;\" transform=\"translate(299,0)\">10</text></g><g class=\"xtick\"><text text-anchor=\"middle\" x=\"0\" y=\"433\" style=\"font-family: 'Open Sans', verdana, arial, sans-serif; font-size: 12px; fill: rgb(42, 63, 95); fill-opacity: 1; white-space: pre; opacity: 1;\" transform=\"translate(427.57,0)\">20</text></g></g><g class=\"yaxislayer-above\"><g class=\"ytick\"><text text-anchor=\"end\" x=\"163\" y=\"4.199999999999999\" transform=\"translate(0,387.86)\" style=\"font-family: 'Open Sans', verdana, arial, sans-serif; font-size: 12px; fill: rgb(42, 63, 95); fill-opacity: 1; white-space: pre; opacity: 1;\">25</text></g><g class=\"ytick\"><text text-anchor=\"end\" x=\"163\" y=\"4.199999999999999\" style=\"font-family: 'Open Sans', verdana, arial, sans-serif; font-size: 12px; fill: rgb(42, 63, 95); fill-opacity: 1; white-space: pre; opacity: 1;\" transform=\"translate(0,323.57)\">20</text></g><g class=\"ytick\"><text text-anchor=\"end\" x=\"163\" y=\"4.199999999999999\" style=\"font-family: 'Open Sans', verdana, arial, sans-serif; font-size: 12px; fill: rgb(42, 63, 95); fill-opacity: 1; white-space: pre; opacity: 1;\" transform=\"translate(0,259.28999999999996)\">15</text></g><g class=\"ytick\"><text text-anchor=\"end\" x=\"163\" y=\"4.199999999999999\" style=\"font-family: 'Open Sans', verdana, arial, sans-serif; font-size: 12px; fill: rgb(42, 63, 95); fill-opacity: 1; white-space: pre; opacity: 1;\" transform=\"translate(0,195)\">10</text></g><g class=\"ytick\"><text text-anchor=\"end\" x=\"163\" y=\"4.199999999999999\" style=\"font-family: 'Open Sans', verdana, arial, sans-serif; font-size: 12px; fill: rgb(42, 63, 95); fill-opacity: 1; white-space: pre; opacity: 1;\" transform=\"translate(0,130.70999999999998)\">5</text></g><g class=\"ytick\"><text text-anchor=\"end\" x=\"163\" y=\"4.199999999999999\" style=\"font-family: 'Open Sans', verdana, arial, sans-serif; font-size: 12px; fill: rgb(42, 63, 95); fill-opacity: 1; white-space: pre; opacity: 1;\" transform=\"translate(0,66.43)\">0</text></g></g><g class=\"overaxes-above\"/></g></g><g class=\"polarlayer\"/><g class=\"smithlayer\"/><g class=\"ternarylayer\"/><g class=\"geolayer\"/><g class=\"funnelarealayer\"/><g class=\"pielayer\"/><g class=\"iciclelayer\"/><g class=\"treemaplayer\"/><g class=\"sunburstlayer\"/><g class=\"glimages\"/><defs id=\"topdefs-7ff9ea\"><g class=\"clips\"/></defs><g class=\"layer-above\"><g class=\"imagelayer\"/><g class=\"shapelayer\"/></g><g class=\"infolayer\"><g class=\"cbcoloraxis colorbar\" transform=\"translate(80,60)\"><rect class=\"cbbg\" x=\"539\" y=\"0\" width=\"69.640625\" height=\"360\" style=\"fill: rgb(0, 0, 0); fill-opacity: 0; stroke: rgb(68, 68, 68); stroke-opacity: 1; stroke-width: 0;\"/><g class=\"cbfills\" transform=\"translate(0,10)\"><rect class=\"cbfill gradient_filled\" style=\"fill: url('#g7ff9ea-cbcoloraxis');\" x=\"549\" y=\"0\" width=\"30\" height=\"340\"/></g><g class=\"cblines\" transform=\"translate(0,10)\"/><g class=\"cbaxis crisp\" transform=\"translate(0,-60)\"><g class=\"ycbcoloraxistick\"><text text-anchor=\"start\" x=\"581.9\" y=\"4.199999999999999\" transform=\"translate(0,410)\" style=\"font-family: 'Open Sans', verdana, arial, sans-serif; font-size: 12px; fill: rgb(42, 63, 95); fill-opacity: 1; white-space: pre; opacity: 1;\">0</text></g><g class=\"ycbcoloraxistick\"><text text-anchor=\"start\" x=\"581.9\" y=\"4.199999999999999\" style=\"font-family: 'Open Sans', verdana, arial, sans-serif; font-size: 12px; fill: rgb(42, 63, 95); fill-opacity: 1; white-space: pre; opacity: 1;\" transform=\"translate(0,341.73)\">0.2</text></g><g class=\"ycbcoloraxistick\"><text text-anchor=\"start\" x=\"581.9\" y=\"4.199999999999999\" style=\"font-family: 'Open Sans', verdana, arial, sans-serif; font-size: 12px; fill: rgb(42, 63, 95); fill-opacity: 1; white-space: pre; opacity: 1;\" transform=\"translate(0,273.46000000000004)\">0.4</text></g><g class=\"ycbcoloraxistick\"><text text-anchor=\"start\" x=\"581.9\" y=\"4.199999999999999\" style=\"font-family: 'Open Sans', verdana, arial, sans-serif; font-size: 12px; fill: rgb(42, 63, 95); fill-opacity: 1; white-space: pre; opacity: 1;\" transform=\"translate(0,205.2)\">0.6</text></g><g class=\"ycbcoloraxistick\"><text text-anchor=\"start\" x=\"581.9\" y=\"4.199999999999999\" style=\"font-family: 'Open Sans', verdana, arial, sans-serif; font-size: 12px; fill: rgb(42, 63, 95); fill-opacity: 1; white-space: pre; opacity: 1;\" transform=\"translate(0,136.93)\">0.8</text></g></g><g class=\"cbtitleunshift\" transform=\"translate(-80,-60)\"><g class=\"cbtitle\"/></g><rect class=\"cboutline\" x=\"549\" y=\"10\" width=\"30\" height=\"340\" style=\"stroke: rgb(68, 68, 68); stroke-opacity: 1; fill: none; stroke-width: 0;\"/></g><g class=\"g-gtitle\"/><g class=\"g-xtitle\"/><g class=\"g-ytitle\"/></g></svg>"
     },
     "metadata": {},
     "output_type": "display_data"
    }
   ],
   "execution_count": 39
  }
 ],
 "metadata": {
  "kernelspec": {
   "display_name": "Python 3",
   "language": "python",
   "name": "python3"
  },
  "language_info": {
   "codemirror_mode": {
    "name": "ipython",
    "version": 2
   },
   "file_extension": ".py",
   "mimetype": "text/x-python",
   "name": "python",
   "nbconvert_exporter": "python",
   "pygments_lexer": "ipython2",
   "version": "2.7.6"
  },
  "colab": {
   "provenance": []
  }
 },
 "nbformat": 4,
 "nbformat_minor": 5
}
